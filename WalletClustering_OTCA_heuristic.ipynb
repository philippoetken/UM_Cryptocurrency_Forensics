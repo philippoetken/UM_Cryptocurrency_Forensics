{
 "cells": [
  {
   "cell_type": "markdown",
   "metadata": {},
   "source": [
    "# install packages"
   ]
  },
  {
   "cell_type": "code",
   "execution_count": null,
   "metadata": {},
   "outputs": [],
   "source": [
    "pip install nbformat"
   ]
  },
  {
   "cell_type": "markdown",
   "metadata": {},
   "source": [
    "# execute WalletClustering_AddressIdentification notebook"
   ]
  },
  {
   "cell_type": "code",
   "execution_count": null,
   "metadata": {},
   "outputs": [],
   "source": [
    "%run ./WalletClustering_AddressIdentification.ipynb # includes list creation of addresses\n",
    "# methods & variables of notebook can be referenced"
   ]
  },
  {
   "cell_type": "code",
   "execution_count": null,
   "metadata": {},
   "outputs": [],
   "source": [
    "# only to remember lists\n",
    "terrorAddressList # list of extracted flagged terror addresses\n",
    "blacklistAddresses # list of exchange wallet addresses\n",
    "addressesToCluster # list of flagged terror addresses without blacklist addresses"
   ]
  },
  {
   "cell_type": "markdown",
   "metadata": {},
   "source": [
    "# cluster wallets"
   ]
  },
  {
   "cell_type": "code",
   "execution_count": null,
   "metadata": {},
   "outputs": [],
   "source": [
    "#one time change address examples: 3CJNYYeJa4GMN19nLx4rdUjW5hzXXKR8xB,\n",
    "# attempt to recreate the one time change address heuristic\n",
    "#WITH * WHERE result = 0\n",
    "\"\"\"\n",
    "Match (i:Address {isTerrorMultiInput: True})\n",
    "//There is no address among the outputs that also appears in the inputs (self-change address);\n",
    "CALL{\n",
    "    with i\n",
    "    Match (i:Address ) -[:SENDS]-> (t:Transaction)-[:RECEIVES]->(o:Address)\n",
    "    with i.address as inputAddresses,o.address as outputAddresses\n",
    "    return \n",
    "    sum(case when inputAddresses in outputAddresses then 1 else 0 end) as result\n",
    "}\n",
    "WITH * WHERE result = 0\n",
    "return i.address\n",
    "limit 5\n",
    "\n",
    "\"\"\"\n",
    "\"\"\" \n",
    "Match (o:Address)\n",
    "//There is no address among the outputs that also appears in the inputs (self-change address);\n",
    "CALL{\n",
    "    with o\n",
    "    Match (i:address) -[:SENDS]-> (t:Transaction)-[:RECEIVES]->(o)\n",
    "    with i.address as inputAddresses,o.address as outputAddresses\n",
    "    return \n",
    "    sum(case when inputAddresses in outputAddresses then 1 else 0 end) as frequencyInOutput\n",
    "}\n",
    "CALL{\n",
    "    //Not solved yet\n",
    "    //This is the first appearance of address O\n",
    "    //(4) The output addresses other than O do not satisfy condition above.\n",
    "    with o\n",
    "    Match   (o)<-[:Receives]-(t:Transaction),\n",
    "            (a:address)<-[:Receives]-(t)\n",
    "    return count(t.txid) as firstAppearance, count(a.address) as anotherTransaction\n",
    "}\n",
    "WITH * WHERE frequencyInOutput = 0 and firstAppearance = 1 //and anotherTransaction > 1\n",
    "return o.address\n",
    "limit 5\n",
    "\n",
    "//The transaction t is not coin generation; Not finished yet but shouldn't be a problem\n",
    "Match   (o:Address {address: \"112cXA686grivLWLurd1AuAMAghP8hcdjJ\"})<-[:RECEIVES]-(t:Transaction),\n",
    "            (a:Address)<-[:RECEIVES]-(t)\n",
    "return count(t.txid) as firstAppearance, count(a.address) as anotherTransaction\n",
    "limit 10\n",
    "\n",
    "Match (b:Block {hash: \"000000000019d6689c085ae165831e934ff763ae46a2a6c172b3f1b60a8ce26f\"})\n",
    "return b\n",
    "limit 5\n",
    "\"\"\""
   ]
  }
 ],
 "metadata": {
  "interpreter": {
   "hash": "2a953444f3f6a7370568067c59d527322362a757e3663a1ed7da44db03711d09"
  },
  "kernelspec": {
   "display_name": "Python 3.10.4 64-bit",
   "language": "python",
   "name": "python3"
  },
  "language_info": {
   "codemirror_mode": {
    "name": "ipython",
    "version": 3
   },
   "file_extension": ".py",
   "mimetype": "text/x-python",
   "name": "python",
   "nbconvert_exporter": "python",
   "pygments_lexer": "ipython3",
   "version": "3.10.4"
  },
  "orig_nbformat": 4
 },
 "nbformat": 4,
 "nbformat_minor": 2
}
