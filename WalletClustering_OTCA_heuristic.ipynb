{
 "cells": [
  {
   "cell_type": "markdown",
   "source": [
    "# install packages"
   ],
   "metadata": {}
  },
  {
   "cell_type": "code",
   "execution_count": 1,
   "source": [
    "from neo4j import GraphDatabase\r\n",
    "import multiprocessing as mp\r\n",
    "import pandas as pd"
   ],
   "outputs": [],
   "metadata": {}
  },
  {
   "cell_type": "markdown",
   "source": [
    "# define connector"
   ],
   "metadata": {}
  },
  {
   "cell_type": "code",
   "execution_count": 3,
   "source": [
    "class Neo4jConnection:\r\n",
    "    \r\n",
    "    def __init__(self, uri, user, pwd):\r\n",
    "        self.__uri = uri\r\n",
    "        self.__user = user\r\n",
    "        self.__pwd = pwd\r\n",
    "        self.__driver = None\r\n",
    "        try:\r\n",
    "            self.__driver = GraphDatabase.driver(self.__uri, auth=(self.__user, self.__pwd))\r\n",
    "        except Exception as e:\r\n",
    "            print(\"Failed to create the driver:\", e)\r\n",
    "        \r\n",
    "    def close(self):\r\n",
    "        if self.__driver is not None:\r\n",
    "            self.__driver.close()\r\n",
    "        \r\n",
    "    def query(self, query, db=None):\r\n",
    "        assert self.__driver is not None, \"Driver not initialized!\"\r\n",
    "        session = None\r\n",
    "        response = None\r\n",
    "        try: \r\n",
    "            session = self.__driver.session(database=db) if db is not None else self.__driver.session() \r\n",
    "            response = list(session.run(query))\r\n",
    "        except Exception as e:\r\n",
    "            print(\"Query failed:\", e)\r\n",
    "        finally: \r\n",
    "            if session is not None:\r\n",
    "                session.close()\r\n",
    "        return response\r\n",
    "\r\n",
    "conn = Neo4jConnection(uri=\"neo4j://127.0.0.1:7687\", user=\"team\", pwd=\"F0110wTh€M0n€y\")"
   ],
   "outputs": [],
   "metadata": {}
  },
  {
   "cell_type": "markdown",
   "source": [
    "# query terror addresses"
   ],
   "metadata": {}
  },
  {
   "cell_type": "code",
   "execution_count": 4,
   "source": [
    "#The below code is returning a list of all the addresses that are marked as terror addresses.\r\n",
    "#Query takes around 10 min\r\n",
    "def returnTerrorAddresses():\r\n",
    "\r\n",
    "    query_string = '''\r\n",
    "    MATCH (a:Address {isTerror: True})\r\n",
    "    Return a.address\r\n",
    "    '''\r\n",
    "\r\n",
    "    response = conn.query(query_string, db='neo4j')\r\n",
    "    terrorAddresses = [r[0] for r in response]\r\n",
    "    return terrorAddresses"
   ],
   "outputs": [],
   "metadata": {}
  },
  {
   "cell_type": "markdown",
   "source": [
    "# cluster wallets"
   ],
   "metadata": {}
  },
  {
   "cell_type": "code",
   "execution_count": 5,
   "source": [
    "mihTemplate = '''\r\n",
    "MATCH (:Address{address:\"%s\"})-[:SENDS]->(t:Transaction),\r\n",
    "(walletMember:Address)-[:SENDS]->(t:Transaction)\r\n",
    "//where t.outDegree <= 1\r\n",
    "RETURN DISTINCT walletMember.address\r\n",
    "'''"
   ],
   "outputs": [],
   "metadata": {}
  },
  {
   "cell_type": "code",
   "execution_count": 6,
   "source": [
    "def multiInputClustering(address, walletAddresses):\r\n",
    "    response = conn.query(mihTemplate % address, db='neo4j')\r\n",
    "    newAddresses = [r[0] for r in response]\r\n",
    "    newAddresses = [a for a in newAddresses if a not in walletAddresses]\r\n",
    "    walletAddresses += newAddresses\r\n",
    "    for a in newAddresses:\r\n",
    "        walletAddresses += multiInputClustering(a, walletAddresses)\r\n",
    "    return list(set(walletAddresses))"
   ],
   "outputs": [],
   "metadata": {}
  },
  {
   "cell_type": "code",
   "execution_count": 10,
   "source": [
    "\r\n",
    "#same logic as Jochen's code; However, extremly large bitcoin wallets get excluded sofar because\r\n",
    "#they take too long to be clustered. Example address: 13iQsrwBYdrLpnitG5EV79o3PeHjH8XUBc has more than 137k\r\n",
    "#addresses in the wallet according to walletexplorer.com\r\n",
    "#What should we do with them? I tried to solve it with multiprocessing but didn't help\r\n",
    "def iterMultiInputClustering(address, walletIndex):\r\n",
    "    walletString = \"Terror-wallet ID\"\r\n",
    "    walletAddresses = []\r\n",
    "    response = conn.query(mihTemplate % address, db='neo4j')\r\n",
    "    newAddresses = [r[0] for r in response]\r\n",
    "    walletAddresses = [newAddresses, walletString +str(walletIndex)]\r\n",
    "    for walletAddress in walletAddresses[0]:\r\n",
    "        if(len(walletAddresses[0])) >1000:\r\n",
    "            return [address , \"Too many results\"];\r\n",
    "        response = conn.query(mihTemplate % walletAddress, db='neo4j')\r\n",
    "        newAddresses = [r[0] for r in response]\r\n",
    "        newAddresses = [a for a in newAddresses if a not in walletAddresses[0]]\r\n",
    "        walletAddresses[0] += newAddresses\r\n",
    "    return walletAddresses\r\n",
    "\r\n",
    "\r\n",
    "\r\n",
    "#walletIndex = 1\r\n",
    "#wallets = iterMultiInputClustering(\"13iQsrwBYdrLpnitG5EV79o3PeHjH8XUBc\", walletIndex)\r\n",
    "#1EYya5dfNvuYDwpeboGKBtkXzJcEHMCQXR\r\n",
    "#wallets\r\n"
   ],
   "outputs": [],
   "metadata": {}
  },
  {
   "cell_type": "code",
   "execution_count": 12,
   "source": [
    "def callInputClustering():\r\n",
    "    index = 0\r\n",
    "    walletIndex = 1\r\n",
    "    terrorAddresses = returnTerrorAddresses()\r\n",
    "    #[\"1EYya5dfNvuYDwpeboGKBtkXzJcEHMCQXR\", \"13iQsrwBYdrLpnitG5EV79o3PeHjH8XUBc\", \"1MMaU5nTrFdPZotfwdbv1wWnFjLCTFbpPY\", \"17QAWGVpFV4gZ25NQug46e5mBho4uDP6MD\"]\r\n",
    "    \r\n",
    "    terrorCluster = []\r\n",
    "    while index < len(terrorAddresses):\r\n",
    "        terrorCluster +=iterMultiInputClustering(terrorAddresses[index], walletIndex)\r\n",
    "        index +=1 \r\n",
    "        walletIndex +=1\r\n",
    "    return terrorCluster"
   ],
   "outputs": [],
   "metadata": {}
  },
  {
   "cell_type": "code",
   "execution_count": 13,
   "source": [
    "input = callInputClustering()\r\n",
    "\r\n",
    "def flagAdditionalTerrorAdresses(input):\r\n",
    "    query = \"\"\"\r\n",
    "    MATCH (a:Address {address: \"%s\"})\r\n",
    "    set a.isTerrorMultiInput = True,\r\n",
    "    a.terrorWallet = \"%s\"\r\n",
    "    Return a.address\r\n",
    "    \"\"\"\r\n",
    "    indexWallets = 0\r\n",
    "    while indexWallets < len(input):\r\n",
    "        for address in input[indexWallets]:\r\n",
    "            walletID = input[indexWallets+1]\r\n",
    "            conn.query(query % (address, walletID), db='neo4j')\r\n",
    "        indexWallets += 2\r\n",
    "flagAdditionalTerrorAdresses(input)\r\n",
    "\r\n"
   ],
   "outputs": [],
   "metadata": {}
  },
  {
   "cell_type": "code",
   "execution_count": null,
   "source": [
    "#one time change address examples: 3CJNYYeJa4GMN19nLx4rdUjW5hzXXKR8xB,\r\n",
    "# attempt to recreate the one time change address heuristic\r\n",
    "#WITH * WHERE result = 0\r\n",
    "\"\"\"\r\n",
    "Match (i:Address {isTerrorMultiInput: True})\r\n",
    "//There is no address among the outputs that also appears in the inputs (self-change address);\r\n",
    "CALL{\r\n",
    "    with i\r\n",
    "    Match (i:Address ) -[:SENDS]-> (t:Transaction)-[:RECEIVES]->(o:Address)\r\n",
    "    with i.address as inputAddresses,o.address as outputAddresses\r\n",
    "    return \r\n",
    "    sum(case when inputAddresses in outputAddresses then 1 else 0 end) as result\r\n",
    "}\r\n",
    "WITH * WHERE result = 0\r\n",
    "return i.address\r\n",
    "limit 5\r\n",
    "\r\n",
    "\"\"\"\r\n",
    "\"\"\" \r\n",
    "Match (o:Address)\r\n",
    "//There is no address among the outputs that also appears in the inputs (self-change address);\r\n",
    "CALL{\r\n",
    "    with o\r\n",
    "    Match (i:address) -[:SENDS]-> (t:Transaction)-[:RECEIVES]->(o)\r\n",
    "    with i.address as inputAddresses,o.address as outputAddresses\r\n",
    "    return \r\n",
    "    sum(case when inputAddresses in outputAddresses then 1 else 0 end) as frequencyInOutput\r\n",
    "}\r\n",
    "CALL{\r\n",
    "    //Not solved yet\r\n",
    "    //This is the first appearance of address O\r\n",
    "    //(4) The output addresses other than O do not satisfy condition above.\r\n",
    "    with o\r\n",
    "    Match   (o)<-[:Receives]-(t:Transaction),\r\n",
    "            (a:address)<-[:Receives]-(t)\r\n",
    "    return count(t.txid) as firstAppearance, count(a.address) as anotherTransaction\r\n",
    "}\r\n",
    "WITH * WHERE frequencyInOutput = 0 and firstAppearance = 1 //and anotherTransaction > 1\r\n",
    "return o.address\r\n",
    "limit 5\r\n",
    "\r\n",
    "//The transaction t is not coin generation; Not finished yet but shouldn't be a problem\r\n",
    "Match   (o:Address {address: \"112cXA686grivLWLurd1AuAMAghP8hcdjJ\"})<-[:RECEIVES]-(t:Transaction),\r\n",
    "            (a:Address)<-[:RECEIVES]-(t)\r\n",
    "return count(t.txid) as firstAppearance, count(a.address) as anotherTransaction\r\n",
    "limit 10\r\n",
    "\r\n",
    "Match (b:Block {hash: \"000000000019d6689c085ae165831e934ff763ae46a2a6c172b3f1b60a8ce26f\"})\r\n",
    "return b\r\n",
    "limit 5\r\n",
    "\"\"\""
   ],
   "outputs": [],
   "metadata": {}
  }
 ],
 "metadata": {
  "interpreter": {
   "hash": "2a953444f3f6a7370568067c59d527322362a757e3663a1ed7da44db03711d09"
  },
  "kernelspec": {
   "display_name": "Python 3.10.4 64-bit",
   "language": "python",
   "name": "python3"
  },
  "language_info": {
   "codemirror_mode": {
    "name": "ipython",
    "version": 3
   },
   "file_extension": ".py",
   "mimetype": "text/x-python",
   "name": "python",
   "nbconvert_exporter": "python",
   "pygments_lexer": "ipython3",
   "version": "3.10.4"
  },
  "orig_nbformat": 4
 },
 "nbformat": 4,
 "nbformat_minor": 2
}