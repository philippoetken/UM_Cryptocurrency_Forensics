{
 "cells": [
  {
   "cell_type": "markdown",
   "metadata": {},
   "source": [
    "# install packages"
   ]
  },
  {
   "cell_type": "code",
   "execution_count": null,
   "metadata": {},
   "outputs": [],
   "source": [
    "pip install nbformat"
   ]
  },
  {
   "cell_type": "markdown",
   "metadata": {},
   "source": [
    "# execute WalletClustering_AddressIdentification notebook"
   ]
  },
  {
   "cell_type": "code",
   "execution_count": null,
   "metadata": {},
   "outputs": [],
   "source": [
    "%run ./WalletClustering_AddressIdentification.ipynb # includes list creation of addresses\n",
    "# methods & variables of notebook can be referenced"
   ]
  },
  {
   "cell_type": "code",
   "execution_count": null,
   "metadata": {},
   "outputs": [],
   "source": [
    "# only to remember lists\n",
    "terrorAddressList = terrorAddressList # list of extracted flagged terror addresses\n",
    "blacklistAddresses = blacklistAddresses # list of exchange wallet addresses\n",
    "addressesToCluster = addressesToCluster # list of flagged terror addresses without blacklist addresses"
   ]
  },
  {
   "cell_type": "markdown",
   "metadata": {},
   "source": [
    "# cluster wallets"
   ]
  },
  {
   "cell_type": "code",
   "execution_count": null,
   "metadata": {},
   "outputs": [],
   "source": [
    "mihTemplate = '''\n",
    "MATCH (:Address{address:\"%s\"})-[:SENDS]->(t:Transaction),\n",
    "(walletMember:Address)-[:SENDS]->(t:Transaction)\n",
    "//where t.outDegree <= 1\n",
    "RETURN DISTINCT walletMember.address\n",
    "'''"
   ]
  },
  {
   "cell_type": "code",
   "execution_count": null,
   "metadata": {},
   "outputs": [],
   "source": [
    "def multiInputClustering(address, walletAddresses):\n",
    "    response = conn.query(mihTemplate % address, db='neo4j')\n",
    "    newAddresses = [r[0] for r in response]\n",
    "    newAddresses = [a for a in newAddresses if a not in walletAddresses]\n",
    "    walletAddresses += newAddresses\n",
    "    for a in newAddresses:\n",
    "        walletAddresses += multiInputClustering(a, walletAddresses)\n",
    "    return list(set(walletAddresses))"
   ]
  },
  {
   "cell_type": "code",
   "execution_count": null,
   "metadata": {},
   "outputs": [],
   "source": [
    "#same logic as Jochen's code; However, extremly large bitcoin wallets get excluded sofar because\n",
    "#they take too long to be clustered. Example address: 13iQsrwBYdrLpnitG5EV79o3PeHjH8XUBc has more than 137k\n",
    "#addresses in the wallet according to walletexplorer.com\n",
    "#What should we do with them? I tried to solve it with multiprocessing but didn't help\n",
    "\n",
    "def iterMultiInputClustering(address, walletIndex):\n",
    "    walletString = \"Terror-wallet ID\"\n",
    "    walletAddresses = []\n",
    "    response = conn.query(mihTemplate % address, db='neo4j')\n",
    "    newAddresses = [r[0] for r in response]\n",
    "    walletAddresses = [newAddresses, walletString +str(walletIndex)]\n",
    "    for walletAddress in walletAddresses[0]:\n",
    "        if(len(walletAddresses[0])) >1000:\n",
    "            return [address , \"Too many results\"];\n",
    "        response = conn.query(mihTemplate % walletAddress, db='neo4j')\n",
    "        newAddresses = [r[0] for r in response]\n",
    "        newAddresses = [a for a in newAddresses if a not in walletAddresses[0]]\n",
    "        walletAddresses[0] += newAddresses\n",
    "    return walletAddresses\n",
    "\n",
    "#walletIndex = 1\n",
    "#wallets = iterMultiInputClustering(\"13iQsrwBYdrLpnitG5EV79o3PeHjH8XUBc\", walletIndex)\n",
    "#1EYya5dfNvuYDwpeboGKBtkXzJcEHMCQXR\n",
    "#wallets\n"
   ]
  },
  {
   "cell_type": "code",
   "execution_count": null,
   "metadata": {},
   "outputs": [],
   "source": [
    "def callInputClustering():\n",
    "    index = 0\n",
    "    walletIndex = 1\n",
    "    #[\"1EYya5dfNvuYDwpeboGKBtkXzJcEHMCQXR\", \"13iQsrwBYdrLpnitG5EV79o3PeHjH8XUBc\", \"1MMaU5nTrFdPZotfwdbv1wWnFjLCTFbpPY\", \"17QAWGVpFV4gZ25NQug46e5mBho4uDP6MD\"]\n",
    "    \n",
    "    terrorCluster = []\n",
    "    while index < len(addressesToCluster):\n",
    "        terrorCluster +=iterMultiInputClustering(addressesToCluster[index], walletIndex)\n",
    "        index +=1 \n",
    "        walletIndex +=1\n",
    "    return terrorCluster"
   ]
  },
  {
   "cell_type": "code",
   "execution_count": null,
   "metadata": {},
   "outputs": [],
   "source": []
  }
 ],
 "metadata": {
  "interpreter": {
   "hash": "2a953444f3f6a7370568067c59d527322362a757e3663a1ed7da44db03711d09"
  },
  "kernelspec": {
   "display_name": "Python 3.10.4 64-bit",
   "language": "python",
   "name": "python3"
  },
  "language_info": {
   "codemirror_mode": {
    "name": "ipython",
    "version": 3
   },
   "file_extension": ".py",
   "mimetype": "text/x-python",
   "name": "python",
   "nbconvert_exporter": "python",
   "pygments_lexer": "ipython3",
   "version": "3.10.4"
  },
  "orig_nbformat": 4
 },
 "nbformat": 4,
 "nbformat_minor": 2
}
