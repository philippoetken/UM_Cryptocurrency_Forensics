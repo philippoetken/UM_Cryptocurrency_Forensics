{
 "cells": [
  {
   "cell_type": "markdown",
   "metadata": {},
   "source": [
    "# install packages"
   ]
  },
  {
   "cell_type": "code",
   "execution_count": 1,
   "metadata": {},
   "outputs": [
    {
     "name": "stdout",
     "output_type": "stream",
     "text": [
      "Requirement already satisfied: nbformat in c:\\users\\info\\appdata\\local\\programs\\python\\python310\\lib\\site-packages (5.4.0)\n",
      "Requirement already satisfied: jupyter-core in c:\\users\\info\\appdata\\roaming\\python\\python310\\site-packages (from nbformat) (4.10.0)\n",
      "Requirement already satisfied: fastjsonschema in c:\\users\\info\\appdata\\local\\programs\\python\\python310\\lib\\site-packages (from nbformat) (2.15.3)\n",
      "Requirement already satisfied: jsonschema>=2.6 in c:\\users\\info\\appdata\\local\\programs\\python\\python310\\lib\\site-packages (from nbformat) (4.5.1)\n",
      "Requirement already satisfied: traitlets>=5.1 in c:\\users\\info\\appdata\\roaming\\python\\python310\\site-packages (from nbformat) (5.2.1.post0)\n",
      "Requirement already satisfied: attrs>=17.4.0 in c:\\users\\info\\appdata\\local\\programs\\python\\python310\\lib\\site-packages (from jsonschema>=2.6->nbformat) (21.4.0)\n",
      "Requirement already satisfied: pyrsistent!=0.17.0,!=0.17.1,!=0.17.2,>=0.14.0 in c:\\users\\info\\appdata\\local\\programs\\python\\python310\\lib\\site-packages (from jsonschema>=2.6->nbformat) (0.18.1)\n",
      "Requirement already satisfied: pywin32>=1.0 in c:\\users\\info\\appdata\\roaming\\python\\python310\\site-packages (from jupyter-core->nbformat) (304)\n",
      "Note: you may need to restart the kernel to use updated packages.\n"
     ]
    },
    {
     "name": "stderr",
     "output_type": "stream",
     "text": [
      "WARNING: You are using pip version 22.0.4; however, version 22.1 is available.\n",
      "You should consider upgrading via the 'c:\\Users\\info\\AppData\\Local\\Programs\\Python\\Python310\\python.exe -m pip install --upgrade pip' command.\n"
     ]
    }
   ],
   "source": [
    "pip install nbformat"
   ]
  },
  {
   "cell_type": "code",
   "execution_count": 2,
   "metadata": {},
   "outputs": [
    {
     "name": "stdout",
     "output_type": "stream",
     "text": [
      "Requirement already satisfied: pandas in c:\\users\\info\\appdata\\local\\programs\\python\\python310\\lib\\site-packages (1.4.2)\n",
      "Requirement already satisfied: numpy>=1.21.0 in c:\\users\\info\\appdata\\local\\programs\\python\\python310\\lib\\site-packages (from pandas) (1.22.3)\n",
      "Requirement already satisfied: pytz>=2020.1 in c:\\users\\info\\appdata\\local\\programs\\python\\python310\\lib\\site-packages (from pandas) (2022.1)\n",
      "Requirement already satisfied: python-dateutil>=2.8.1 in c:\\users\\info\\appdata\\roaming\\python\\python310\\site-packages (from pandas) (2.8.2)\n",
      "Requirement already satisfied: six>=1.5 in c:\\users\\info\\appdata\\roaming\\python\\python310\\site-packages (from python-dateutil>=2.8.1->pandas) (1.16.0)\n",
      "Note: you may need to restart the kernel to use updated packages.\n"
     ]
    },
    {
     "name": "stderr",
     "output_type": "stream",
     "text": [
      "WARNING: You are using pip version 22.0.4; however, version 22.1 is available.\n",
      "You should consider upgrading via the 'c:\\Users\\info\\AppData\\Local\\Programs\\Python\\Python310\\python.exe -m pip install --upgrade pip' command.\n"
     ]
    }
   ],
   "source": [
    "pip install pandas"
   ]
  },
  {
   "cell_type": "code",
   "execution_count": 3,
   "metadata": {},
   "outputs": [],
   "source": [
    "import pandas as pd\n",
    "import os\n",
    "import pickle"
   ]
  },
  {
   "cell_type": "code",
   "execution_count": 4,
   "metadata": {},
   "outputs": [
    {
     "name": "stdout",
     "output_type": "stream",
     "text": [
      "Requirement already satisfied: neo4j in c:\\users\\info\\appdata\\local\\programs\\python\\python310\\lib\\site-packages (4.4.3)\n",
      "Requirement already satisfied: pytz in c:\\users\\info\\appdata\\local\\programs\\python\\python310\\lib\\site-packages (from neo4j) (2022.1)\n",
      "Note: you may need to restart the kernel to use updated packages.\n"
     ]
    },
    {
     "name": "stderr",
     "output_type": "stream",
     "text": [
      "WARNING: You are using pip version 22.0.4; however, version 22.1 is available.\n",
      "You should consider upgrading via the 'c:\\Users\\info\\AppData\\Local\\Programs\\Python\\Python310\\python.exe -m pip install --upgrade pip' command.\n"
     ]
    }
   ],
   "source": [
    "%run ./WalletClustering_neo4jConnect.ipynb # includes Neo4J connector\n",
    "# methods & variables of notebook can be referenced"
   ]
  },
  {
   "cell_type": "markdown",
   "metadata": {},
   "source": [
    "# query terror addresses"
   ]
  },
  {
   "cell_type": "code",
   "execution_count": 5,
   "metadata": {},
   "outputs": [],
   "source": [
    "#The below code is returning a list of all the addresses that are marked as terror addresses.\n",
    "#Query takes around 10 min\n",
    "def returnTerrorAddresses():\n",
    "\n",
    "    query_string = '''\n",
    "    MATCH (a:Address {isTerror: True})\n",
    "    Return a.address\n",
    "    '''\n",
    "\n",
    "    response = conn.query(query_string, db='neo4j')\n",
    "    terrorAddresses = [r[0] for r in response]\n",
    "    return terrorAddresses"
   ]
  },
  {
   "cell_type": "code",
   "execution_count": 6,
   "metadata": {},
   "outputs": [],
   "source": [
    "# comment out entire block if old terrorAddressList saved as pickle should be used\n",
    "def createTerrorAddressList():\n",
    "    terrorAddressList = returnTerrorAddresses()\n",
    "\n",
    "    # save terrorAddressList to file\n",
    "    with open('terrorAddressList.pickle', 'wb') as export:\n",
    "        pickle.dump(terrorAddressList, export)"
   ]
  },
  {
   "cell_type": "code",
   "execution_count": 7,
   "metadata": {},
   "outputs": [],
   "source": [
    "# use existing blacklist if exists\n",
    "if not os.path.exists('terrorAddressList.pickle'):\n",
    "    createTerrorAddressList()\n",
    "\n",
    "terrorAddressList = pickle.load(open('terrorAddressList.pickle', 'rb'))"
   ]
  },
  {
   "cell_type": "markdown",
   "metadata": {},
   "source": [
    "# remove unwanted addresses"
   ]
  },
  {
   "cell_type": "code",
   "execution_count": 8,
   "metadata": {},
   "outputs": [],
   "source": [
    "# # allows blacklist of addresses in json format. json file retrieved with https://github.com/nicotom/walletexplorer_scrapy\n",
    "# \n",
    "# def createBlacklist():\n",
    "#   dirname = os.path.dirname(os.path.realpath('__file__'))\n",
    "#   folder = os.path.join(dirname, 'exchange_addresses\\\\json\\\\')\n",
    "#   \n",
    "#   def flatten(t):\n",
    "#       return [item for sublist in t for item in sublist]\n",
    "#   \n",
    "#   blacklistAddresses = []\n",
    "#   \n",
    "#   # iterate over collection of exchange addresses in csv format to create blacklist\n",
    "#   # attention, lists are not complete yet!\n",
    "#   \n",
    "#   for file in os.listdir(folder):\n",
    "#       df = pd.read_json(os.path.join(folder, file))\n",
    "#       blacklistAddresses.append(df['addresses'].tolist())\n",
    "#       continue\n",
    "#   \n",
    "#   flatten(flatten(blacklistAddresses))"
   ]
  },
  {
   "cell_type": "code",
   "execution_count": 9,
   "metadata": {},
   "outputs": [],
   "source": [
    "# flattens list of lists\n",
    "def flatten(list):\n",
    "    return [item for sublist in list for item in sublist]"
   ]
  },
  {
   "cell_type": "code",
   "execution_count": 10,
   "metadata": {},
   "outputs": [],
   "source": [
    "# allows blacklist of addresses in csv format\n",
    "blacklistAddresses = []\n",
    "def createBlacklist():\n",
    "    dirname = os.path.dirname(os.path.realpath('__file__'))\n",
    "    folder = os.path.join(dirname, 'exchange_addresses\\\\csv\\\\')\n",
    "   \n",
    "    # iterate over collection of exchange addresses in csv format to create blacklist\n",
    "    # attention, lists are not complete yet!\n",
    "    for file in os.listdir(folder):\n",
    "        df = pd.read_csv(os.path.join(folder, file), header=0)\n",
    "        blacklistAddresses.append(df['hashAdd'].tolist())\n",
    "        continue\n",
    "    \n",
    "    flatten(blacklistAddresses)\n",
    "\n",
    "    # append known exchange addresses outside large dataset\n",
    "    # remember to delete blacklistAddresses.pickle after adding addresses to recompute blacklist\n",
    "    blacklistAddresses.append('13iQsrwBYdrLpnitG5EV79o3PeHjH8XUBc')\n",
    "    blacklistAddresses.append('1EP391qsP7QUfqhnziAiFgY8pMDtvmB9i6')\n",
    "    blacklistAddresses.append('1FGhgLbMzrUV5mgwX9nkEeqHbKbUK29nbQ')\n",
    "    blacklistAddresses.append('19ckaZLPDzn7s2EcFtsjLobu71eAqWFDD8')\n",
    "    \n",
    "    \n",
    "    #export blacklistAddresses to file\n",
    "    with open('blacklistAddresses.pickle', 'wb') as export:\n",
    "        pickle.dump(blacklistAddresses, export)"
   ]
  },
  {
   "cell_type": "code",
   "execution_count": 11,
   "metadata": {},
   "outputs": [],
   "source": [
    "# use existing blacklist if exists\n",
    "if not os.path.exists('blacklistAddresses.pickle'):\n",
    "    createBlacklist()\n",
    "\n",
    "blacklistAddresses = pickle.load(open('blacklistAddresses.pickle', 'rb'))"
   ]
  },
  {
   "cell_type": "code",
   "execution_count": 12,
   "metadata": {},
   "outputs": [],
   "source": [
    "# to be used for removal of exchange addresses\n",
    "def addressCleanUp(addressList, blacklist):\n",
    "    interestingAddresses = []\n",
    "    for address in addressList:\n",
    "        if address not in blacklist:\n",
    "            interestingAddresses.append(address)\n",
    "    return interestingAddresses"
   ]
  },
  {
   "cell_type": "code",
   "execution_count": 13,
   "metadata": {},
   "outputs": [],
   "source": [
    "def createAddressesToClusterList():\n",
    "    addressesToCluster = addressCleanUp(terrorAddressList, blacklistAddresses)\n",
    "\n",
    "    # save addressesToCluster to file\n",
    "    with open('addressesToCluster.pickle', 'wb') as export:\n",
    "        pickle.dump(addressesToCluster, export)"
   ]
  },
  {
   "cell_type": "code",
   "execution_count": 14,
   "metadata": {},
   "outputs": [],
   "source": [
    "# load addressesToCluster if exists\n",
    "if not os.path.exists('addressesToCluster.pickle'):\n",
    "    createAddressesToClusterList()\n",
    "\n",
    "addressesToCluster = pickle.load(open('addressesToCluster.pickle', 'rb'))"
   ]
  }
 ],
 "metadata": {
  "interpreter": {
   "hash": "1d06fc9ed4b774328ae1669b976a7de461f6c6282277a8a3bb34b5a87421f7ca"
  },
  "kernelspec": {
   "display_name": "Python 3.10.4 64-bit",
   "language": "python",
   "name": "python3"
  },
  "language_info": {
   "codemirror_mode": {
    "name": "ipython",
    "version": 3
   },
   "file_extension": ".py",
   "mimetype": "text/x-python",
   "name": "python",
   "nbconvert_exporter": "python",
   "pygments_lexer": "ipython3",
   "version": "3.10.4"
  },
  "orig_nbformat": 4
 },
 "nbformat": 4,
 "nbformat_minor": 2
}
