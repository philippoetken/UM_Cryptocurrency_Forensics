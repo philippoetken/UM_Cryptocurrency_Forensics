{
 "cells": [
  {
   "cell_type": "markdown",
   "metadata": {},
   "source": [
    "# install packages"
   ]
  },
  {
   "cell_type": "code",
   "execution_count": 1,
   "metadata": {},
   "outputs": [],
   "source": [
    "from neo4j import GraphDatabase\n",
    "import multiprocessing as mp\n",
    "import pandas as pd"
   ]
  },
  {
   "cell_type": "markdown",
   "metadata": {},
   "source": [
    "# define connector"
   ]
  },
  {
   "cell_type": "code",
   "execution_count": 3,
   "metadata": {},
   "outputs": [],
   "source": [
    "class Neo4jConnection:\n",
    "    \n",
    "    def __init__(self, uri, user, pwd):\n",
    "        self.__uri = uri\n",
    "        self.__user = user\n",
    "        self.__pwd = pwd\n",
    "        self.__driver = None\n",
    "        try:\n",
    "            self.__driver = GraphDatabase.driver(self.__uri, auth=(self.__user, self.__pwd))\n",
    "        except Exception as e:\n",
    "            print(\"Failed to create the driver:\", e)\n",
    "        \n",
    "    def close(self):\n",
    "        if self.__driver is not None:\n",
    "            self.__driver.close()\n",
    "        \n",
    "    def query(self, query, db=None):\n",
    "        assert self.__driver is not None, \"Driver not initialized!\"\n",
    "        session = None\n",
    "        response = None\n",
    "        try: \n",
    "            session = self.__driver.session(database=db) if db is not None else self.__driver.session() \n",
    "            response = list(session.run(query))\n",
    "        except Exception as e:\n",
    "            print(\"Query failed:\", e)\n",
    "        finally: \n",
    "            if session is not None:\n",
    "                session.close()\n",
    "        return response\n",
    "\n",
    "conn = Neo4jConnection(uri=\"neo4j://127.0.0.1:7687\", user=\"team\", pwd=\"F0110wTh€M0n€y\")"
   ]
  },
  {
   "cell_type": "markdown",
   "metadata": {},
   "source": [
    "# query terror addresses"
   ]
  },
  {
   "cell_type": "code",
   "execution_count": 4,
   "metadata": {},
   "outputs": [],
   "source": [
    "#The below code is returning a list of all the addresses that are marked as terror addresses.\n",
    "#Query takes around 10 min\n",
    "def returnTerrorAddresses():\n",
    "\n",
    "    query_string = '''\n",
    "    MATCH (a:Address {isTerror: True})\n",
    "    Return a.address\n",
    "    '''\n",
    "\n",
    "    response = conn.query(query_string, db='neo4j')\n",
    "    terrorAddresses = [r[0] for r in response]\n",
    "    return terrorAddresses"
   ]
  },
  {
   "cell_type": "markdown",
   "metadata": {},
   "source": [
    "# cluster wallets"
   ]
  },
  {
   "cell_type": "code",
   "execution_count": 5,
   "metadata": {},
   "outputs": [],
   "source": [
    "mihTemplate = '''\n",
    "MATCH (:Address{address:\"%s\"})-[:SENDS]->(t:Transaction),\n",
    "(walletMember:Address)-[:SENDS]->(t:Transaction)\n",
    "//where t.outDegree <= 1\n",
    "RETURN DISTINCT walletMember.address\n",
    "'''"
   ]
  },
  {
   "cell_type": "code",
   "execution_count": 6,
   "metadata": {},
   "outputs": [],
   "source": [
    "def multiInputClustering(address, walletAddresses):\n",
    "    response = conn.query(mihTemplate % address, db='neo4j')\n",
    "    newAddresses = [r[0] for r in response]\n",
    "    newAddresses = [a for a in newAddresses if a not in walletAddresses]\n",
    "    walletAddresses += newAddresses\n",
    "    for a in newAddresses:\n",
    "        walletAddresses += multiInputClustering(a, walletAddresses)\n",
    "    return list(set(walletAddresses))"
   ]
  },
  {
   "cell_type": "code",
   "execution_count": 10,
   "metadata": {},
   "outputs": [],
   "source": [
    "\n",
    "#same logic as Jochen's code; However, extremly large bitcoin wallets get excluded sofar because\n",
    "#they take too long to be clustered. Example address: 13iQsrwBYdrLpnitG5EV79o3PeHjH8XUBc has more than 137k\n",
    "#addresses in the wallet according to walletexplorer.com\n",
    "#What should we do with them? I tried to solve it with multiprocessing but didn't help\n",
    "def iterMultiInputClustering(address, walletIndex):\n",
    "    walletString = \"Terror-wallet ID\"\n",
    "    walletAddresses = []\n",
    "    response = conn.query(mihTemplate % address, db='neo4j')\n",
    "    newAddresses = [r[0] for r in response]\n",
    "    walletAddresses = [newAddresses, walletString +str(walletIndex)]\n",
    "    for walletAddress in walletAddresses[0]:\n",
    "        if(len(walletAddresses[0])) >1000:\n",
    "            return [address , \"Too many results\"];\n",
    "        response = conn.query(mihTemplate % walletAddress, db='neo4j')\n",
    "        newAddresses = [r[0] for r in response]\n",
    "        newAddresses = [a for a in newAddresses if a not in walletAddresses[0]]\n",
    "        walletAddresses[0] += newAddresses\n",
    "    return walletAddresses\n",
    "\n",
    "\n",
    "\n",
    "#walletIndex = 1\n",
    "#wallets = iterMultiInputClustering(\"13iQsrwBYdrLpnitG5EV79o3PeHjH8XUBc\", walletIndex)\n",
    "#1EYya5dfNvuYDwpeboGKBtkXzJcEHMCQXR\n",
    "#wallets\n"
   ]
  },
  {
   "cell_type": "code",
   "execution_count": 12,
   "metadata": {},
   "outputs": [],
   "source": [
    "def callInputClustering():\n",
    "    index = 0\n",
    "    walletIndex = 1\n",
    "    terrorAddresses = returnTerrorAddresses()\n",
    "    #[\"1EYya5dfNvuYDwpeboGKBtkXzJcEHMCQXR\", \"13iQsrwBYdrLpnitG5EV79o3PeHjH8XUBc\", \"1MMaU5nTrFdPZotfwdbv1wWnFjLCTFbpPY\", \"17QAWGVpFV4gZ25NQug46e5mBho4uDP6MD\"]\n",
    "    \n",
    "    terrorCluster = []\n",
    "    while index < len(terrorAddresses):\n",
    "        terrorCluster +=iterMultiInputClustering(terrorAddresses[index], walletIndex)\n",
    "        index +=1 \n",
    "        walletIndex +=1\n",
    "    return terrorCluster"
   ]
  },
  {
   "cell_type": "code",
   "execution_count": 13,
   "metadata": {},
   "outputs": [],
   "source": [
    "input = callInputClustering()\n",
    "\n",
    "def flagAdditionalTerrorAdresses(input):\n",
    "    query = \"\"\"\n",
    "    MATCH (a:Address {address: \"%s\"})\n",
    "    set a.isTerrorMultiInput = True,\n",
    "    a.terrorWallet = \"%s\"\n",
    "    Return a.address\n",
    "    \"\"\"\n",
    "    indexWallets = 0\n",
    "    while indexWallets < len(input):\n",
    "        for address in input[indexWallets]:\n",
    "            walletID = input[indexWallets+1]\n",
    "            conn.query(query % (address, walletID), db='neo4j')\n",
    "        indexWallets += 2\n",
    "flagAdditionalTerrorAdresses(input)\n",
    "\n"
   ]
  },
  {
   "cell_type": "code",
   "execution_count": 1,
   "metadata": {
    "collapsed": true
   },
   "outputs": [
    {
     "data": {
      "text/plain": [
       "' \\nMatch (o:Address)\\n//There is no address among the outputs that also appears in the inputs (self-change address);\\nCALL{\\n    with o\\n    Match (i:address) -[:SENDS]-> (t:Transaction)-[:RECEIVES]->(o)\\n    with i.address as inputAddresses,o.address as outputAddresses\\n    return \\n    sum(case when inputAddresses in outputAddresses then 1 else 0 end) as frequencyInOutput\\n}\\nCALL{\\n    //Not solved yet\\n    //This is the first appearance of address O\\n    //(4) The output addresses other than O do not satisfy condition above.\\n    with o\\n    Match   (o)<-[:Receives]-(t:Transaction),\\n            (a:address)<-[:Receives]-(t)\\n    return count(t.txid) as firstAppearance, count(a.address) as anotherTransaction\\n}\\nWITH * WHERE frequencyInOutput = 0 and firstAppearance = 1 //and anotherTransaction > 1\\nreturn o.address\\nlimit 5\\n\\n//The transaction t is not coin generation; Not finished yet but shouldn\\'t be a problem\\n//coinbase transactions examples: 854d97911c4e92d61e09a2b04e55f6ce5b089fd49df43718e84450c6ef40156f, 3db8001236397c9250532f1163d565ceeec389580468e7b67fedddcf2b4cb162\\nMatch   (o:Address {address: \"112cXA686grivLWLurd1AuAMAghP8hcdjJ\"})<-[:RECEIVES]-(t:Transaction),\\n            (a:Address)<-[:RECEIVES]-(t)\\nreturn count(t.txid) as firstAppearance, count(a.address) as anotherTransaction\\nlimit 10\\n\\nMatch (b:Block {hash: \"000000000019d6689c085ae165831e934ff763ae46a2a6c172b3f1b60a8ce26f\"})\\nreturn b\\nlimit 5\\n'"
      ]
     },
     "execution_count": 1,
     "metadata": {},
     "output_type": "execute_result"
    }
   ],
   "source": [
    "#one time change address examples: 3CJNYYeJa4GMN19nLx4rdUjW5hzXXKR8xB,\n",
    "# attempt to recreate the one time change address heuristic\n",
    "#WITH * WHERE result = 0\n",
    "\"\"\"\n",
    "Match (i:Address {isTerrorMultiInput: True})\n",
    "//There is no address among the outputs that also appears in the inputs (self-change address);\n",
    "CALL{\n",
    "    with i\n",
    "    Match (i:Address ) -[:SENDS]-> (t:Transaction)-[:RECEIVES]->(o:Address)\n",
    "    with i.address as inputAddresses,o.address as outputAddresses\n",
    "    return \n",
    "    sum(case when inputAddresses in outputAddresses then 1 else 0 end) as result\n",
    "}\n",
    "WITH * WHERE result = 0\n",
    "return i.address\n",
    "limit 5\n",
    "\n",
    "\"\"\"\n",
    "\"\"\" \n",
    "Match (i:Address) -[:SENDS]-> (t:Transaction)-[:RECEIVES]->(o:Address)\n",
    "//There is no address among the outputs that also appears in the inputs (self-change address);\n",
    "CALL{   \n",
    "    with i,o\n",
    "    with i.address as inputAddresses,o.address as outputAddresses\n",
    "    return \n",
    "    sum(case when inputAddresses in outputAddresses then 1 else 0 end) as frequencyInOutput\n",
    "}\n",
    "    \n",
    "    //This is the first appearance of address O -> solved\n",
    "    //good starting point: \"1MMaU5nTrFdPZotfwdbv1wWnFjLCTFbpPY\" because it has 20 transactions\n",
    "    //(4) The output addresses other than O do not satisfy condition above -> not solved, need to ask Jochen about it\n",
    "    //,    (o)-[:SENDS]->(:Transaction)-[:RECEIVES]->(o2:Address)\n",
    "Call{\n",
    "    with t\n",
    "    return min(t.date) as firstAppOfInputAddress}\n",
    "Call{\n",
    "    with o\n",
    "    Match (o)-[]-(t2:Transaction)\n",
    "    return min(t2.date) as firstAppOfOutputAddress}\n",
    "Call{\n",
    "    with firstAppOfOutputAddress, firstAppOfInputAddress\n",
    "    return min(firstAppOfOutputAddress) = min(firstAppOfInputAddress) as compApp\n",
    "}\n",
    "    //The transaction t is not coin generation -> solved\n",
    "Call{\n",
    "    with t\n",
    "    return t.inSum = t.outSum as isCoinbase\n",
    "}\n",
    "WITH * WHERE frequencyInOutput = 0 and compApp = True and isCoinbase = False\n",
    "return o.address\n",
    "limit 5\n",
    "\n",
    "//The transaction t is not coin generation; Not finished yet but shouldn't be a problem\n",
    "//if inSum = outSum -> coinbase\n",
    "//coinbase transactions examples: 854d97911c4e92d61e09a2b04e55f6ce5b089fd49df43718e84450c6ef40156f, \n",
    "3db8001236397c9250532f1163d565ceeec389580468e7b67fedddcf2b4cb162, \n",
    "30383977fab45e347c8575cd4fe858467289c4679e95b6543bd1d333c4474f83,\n",
    "a6a209251058d083762053773085c943987b25eb8ce19d73a14bbc7ff318382d\n",
    "Match   (o:Address {address: \"112cXA686grivLWLurd1AuAMAghP8hcdjJ\"})<-[:RECEIVES]-(t:Transaction),\n",
    "            (a:Address)<-[:RECEIVES]-(t)\n",
    "return count(t.txid) as firstAppearance, count(a.address) as anotherTransaction\n",
    "limit 10\n",
    "\n",
    "Match (b:Block {hash: \"000000000019d6689c085ae165831e934ff763ae46a2a6c172b3f1b60a8ce26f\"})\n",
    "return b\n",
    "limit 5\n",
    "\"\"\""
   ]
  },
  {
   "cell_type": "code",
   "execution_count": null,
   "metadata": {},
   "outputs": [],
   "source": []
  }
 ],
 "metadata": {
  "interpreter": {
   "hash": "2a953444f3f6a7370568067c59d527322362a757e3663a1ed7da44db03711d09"
  },
  "kernelspec": {
   "display_name": "Python 3 (ipykernel)",
   "language": "python",
   "name": "python3"
  },
  "language_info": {
   "codemirror_mode": {
    "name": "ipython",
    "version": 3
   },
   "file_extension": ".py",
   "mimetype": "text/x-python",
   "name": "python",
   "nbconvert_exporter": "python",
   "pygments_lexer": "ipython3",
   "version": "3.9.12"
  }
 },
 "nbformat": 4,
 "nbformat_minor": 2
}
