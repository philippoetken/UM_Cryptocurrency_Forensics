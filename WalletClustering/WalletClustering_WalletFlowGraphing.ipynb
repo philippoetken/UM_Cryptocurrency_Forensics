{
 "cells": [
  {
   "cell_type": "markdown",
   "metadata": {},
   "source": [
    "# INSTALL: packages"
   ]
  },
  {
   "cell_type": "code",
   "execution_count": 21,
   "metadata": {},
   "outputs": [
    {
     "name": "stdout",
     "output_type": "stream",
     "text": [
      "Requirement already satisfied: ipynb in c:\\users\\rankl\\appdata\\local\\programs\\python\\python310\\lib\\site-packages (0.5.1)\n",
      "Note: you may need to restart the kernel to use updated packages.\n"
     ]
    },
    {
     "name": "stderr",
     "output_type": "stream",
     "text": [
      "WARNING: You are using pip version 22.0.4; however, version 22.1.2 is available.\n",
      "You should consider upgrading via the 'c:\\Users\\rankl\\AppData\\Local\\Programs\\Python\\Python310\\python.exe -m pip install --upgrade pip' command.\n"
     ]
    }
   ],
   "source": [
    "pip install ipynb"
   ]
  },
  {
   "cell_type": "code",
   "execution_count": 22,
   "metadata": {},
   "outputs": [
    {
     "name": "stdout",
     "output_type": "stream",
     "text": [
      "Requirement already satisfied: graphviz in c:\\users\\rankl\\appdata\\local\\programs\\python\\python310\\lib\\site-packages (0.20)\n",
      "Note: you may need to restart the kernel to use updated packages.\n"
     ]
    },
    {
     "name": "stderr",
     "output_type": "stream",
     "text": [
      "WARNING: You are using pip version 22.0.4; however, version 22.1.2 is available.\n",
      "You should consider upgrading via the 'c:\\Users\\rankl\\AppData\\Local\\Programs\\Python\\Python310\\python.exe -m pip install --upgrade pip' command.\n"
     ]
    }
   ],
   "source": [
    "pip install graphviz"
   ]
  },
  {
   "cell_type": "code",
   "execution_count": 2,
   "metadata": {},
   "outputs": [],
   "source": [
    "import os\n",
    "import pickle\n",
    "#from ipynb.fs.full.new_WalletClustering_MIH_fast import iterMultiInputClustering\n",
    "from WalletClustering_MIH import iterMultiInputClustering_chunks\n",
    "from graphviz import Digraph\n",
    "import pandas as pd"
   ]
  },
  {
   "cell_type": "markdown",
   "metadata": {},
   "source": [
    "# EXECUTE: WalletClustering_AddressIdentification notebook"
   ]
  },
  {
   "cell_type": "code",
   "execution_count": 3,
   "metadata": {},
   "outputs": [
    {
     "name": "stdout",
     "output_type": "stream",
     "text": [
      "Requirement already satisfied: nbformat in c:\\users\\rankl\\appdata\\local\\programs\\python\\python310\\lib\\site-packages (5.4.0)\n",
      "Requirement already satisfied: fastjsonschema in c:\\users\\rankl\\appdata\\local\\programs\\python\\python310\\lib\\site-packages (from nbformat) (2.15.3)\n",
      "Requirement already satisfied: jsonschema>=2.6 in c:\\users\\rankl\\appdata\\local\\programs\\python\\python310\\lib\\site-packages (from nbformat) (4.6.0)\n",
      "Requirement already satisfied: traitlets>=5.1 in c:\\users\\rankl\\appdata\\local\\programs\\python\\python310\\lib\\site-packages (from nbformat) (5.1.1)\n",
      "Requirement already satisfied: jupyter-core in c:\\users\\rankl\\appdata\\local\\programs\\python\\python310\\lib\\site-packages (from nbformat) (4.10.0)\n",
      "Requirement already satisfied: pyrsistent!=0.17.0,!=0.17.1,!=0.17.2,>=0.14.0 in c:\\users\\rankl\\appdata\\local\\programs\\python\\python310\\lib\\site-packages (from jsonschema>=2.6->nbformat) (0.18.1)\n",
      "Requirement already satisfied: attrs>=17.4.0 in c:\\users\\rankl\\appdata\\local\\programs\\python\\python310\\lib\\site-packages (from jsonschema>=2.6->nbformat) (21.4.0)\n",
      "Requirement already satisfied: pywin32>=1.0 in c:\\users\\rankl\\appdata\\local\\programs\\python\\python310\\lib\\site-packages (from jupyter-core->nbformat) (304)\n",
      "Note: you may need to restart the kernel to use updated packages.\n"
     ]
    },
    {
     "name": "stderr",
     "output_type": "stream",
     "text": [
      "WARNING: You are using pip version 22.0.4; however, version 22.1.2 is available.\n",
      "You should consider upgrading via the 'c:\\Users\\rankl\\AppData\\Local\\Programs\\Python\\Python310\\python.exe -m pip install --upgrade pip' command.\n"
     ]
    },
    {
     "name": "stdout",
     "output_type": "stream",
     "text": [
      "Requirement already satisfied: pandas in c:\\users\\rankl\\appdata\\local\\programs\\python\\python310\\lib\\site-packages (1.4.2)\n",
      "Requirement already satisfied: numpy>=1.21.0 in c:\\users\\rankl\\appdata\\local\\programs\\python\\python310\\lib\\site-packages (from pandas) (1.22.3)\n",
      "Requirement already satisfied: python-dateutil>=2.8.1 in c:\\users\\rankl\\appdata\\local\\programs\\python\\python310\\lib\\site-packages (from pandas) (2.8.2)\n",
      "Requirement already satisfied: pytz>=2020.1 in c:\\users\\rankl\\appdata\\local\\programs\\python\\python310\\lib\\site-packages (from pandas) (2022.1)\n",
      "Requirement already satisfied: six>=1.5 in c:\\users\\rankl\\appdata\\local\\programs\\python\\python310\\lib\\site-packages (from python-dateutil>=2.8.1->pandas) (1.16.0)\n",
      "Note: you may need to restart the kernel to use updated packages.\n"
     ]
    },
    {
     "name": "stderr",
     "output_type": "stream",
     "text": [
      "WARNING: You are using pip version 22.0.4; however, version 22.1.2 is available.\n",
      "You should consider upgrading via the 'c:\\Users\\rankl\\AppData\\Local\\Programs\\Python\\Python310\\python.exe -m pip install --upgrade pip' command.\n",
      "WARNING: You are using pip version 22.0.4; however, version 22.1.2 is available.\n",
      "You should consider upgrading via the 'c:\\Users\\rankl\\AppData\\Local\\Programs\\Python\\Python310\\python.exe -m pip install --upgrade pip' command.\n"
     ]
    },
    {
     "name": "stdout",
     "output_type": "stream",
     "text": [
      "Requirement already satisfied: neo4j in c:\\users\\rankl\\appdata\\local\\programs\\python\\python310\\lib\\site-packages (4.4.3)\n",
      "Requirement already satisfied: pytz in c:\\users\\rankl\\appdata\\local\\programs\\python\\python310\\lib\\site-packages (from neo4j) (2022.1)\n",
      "Note: you may need to restart the kernel to use updated packages.\n",
      "                                     address              association\n",
      "0         19hx1B4pTDsBAYJJYYrj1t6bcVw1e9omuH                huobi.com\n",
      "1         16vyeuwbuNz9PKPs4VqqGLsVRJ2G6uJj39                huobi.com\n",
      "2         12uuCfvuxeyGhWaEU1sHTbkCN7eWMT7qFp                huobi.com\n",
      "3         1NMbcRqggWu75DG5AqZtin5kecdHoDVs3b                huobi.com\n",
      "4         1DgcQFeaCQBo41oxtzUuV3caW5TNjXvhLZ                huobi.com\n",
      "...                                      ...                      ...\n",
      "13943141  1JiTqsNvfjkGSYVHMKHpWbNwEfN2LUhjKM  unknown_large_wallet_03\n",
      "13943142  1HoNkBpNPkcznGWe6nUeLqffeLQN1TwhFJ  unknown_large_wallet_03\n",
      "13943143  1BmvAcQPLcFve9KpNigfF591PyQnZwNDyQ  unknown_large_wallet_03\n",
      "13943144  1GNw9S6hSzVQ83gUkP36ypjyrH3d6YZRm7  unknown_large_wallet_03\n",
      "13943145  1McAmDN95SGxaTMmymaN8QzzTGJADM3aZy  unknown_large_wallet_03\n",
      "\n",
      "[13933603 rows x 2 columns]\n",
      "['12sDU3FyYJXc2oRzE6XXuuhVHCBJvaoCC8', '1348ThkNoDupq1bws95diMiL8haGs61K7M', '13Pcmh4dKJE8Aqrhq4ZZwmM1sbKFcMQEEV', '15K9Zj1AU2hjT3ebZMtWqDsMv3fFxTNwpf', '164fawNZVwsR5SamAJypvCMtkMx4Xv1B3f', '179bzhS4FY7qLDza9YjuorhWyXVVYZu2YH', '17QAWGVpFV4gZ25NQug46e5mBho4uDP6MD', '17UUXDzPGkMwWrabhtk7YCha88tSoua2Vr', '19D1iGzDr7FyAdiy3ZZdxMd6ttHj1kj6WW', '19XVEDZCGVMA9WCF1qUayxtnjUnyD7zDDQ', '1BPf9qr7M5xUgNHUYtrQtEKvUKcyERzXao', '1C6hetVWVXZnS6P2BYBNu5Y1ZJ57JyXGac', '1DrhHEkv42JVwiDQNi28JFdSuiSGgPNXwP', '1EDcKCRypUTFoTZbxDWF9MBAT4W7XUGB32', '1EfmRn6Bp3cjrTBubaH8MzRRc2ikSjNGXw', '1EnX6BuJiGWydqXJT9BN5dSvfLg3QW4Mdz', '1EVTZmTMqZPMzGxsug9TXBtvPJZH8dXSCK', '1EYya5dfNvuYDwpeboGKBtkXzJcEHMCQXR', '1GALPyvUDDXqA6H2eHQ9Y1yidfQ6T1Drvn', '1GC2SjzCyCwxo1uxTi28oqn9L3mJj7bLPs', '1Gg25VzQkqCizXHNSNet4RoysLEe19su4s', '1JpSBaUwrZaEgmsYka7mzm9t3Z4syyaw7A', '1LhRW1msre1cFgT7fBY2BRrZ4ANMPwVj9u', '1Lm9BCDUKoBUk888DCXewM5p8bJyr83cEp', '1LPTaRfyoNwvwAtmYzcetZLjBfUxVkJrr4', '1MMaU5nTrFdPZotfwdbv1wWnFjLCTFbpPY', '1uLdz4wXrcXjCy2CqLWuJUiE85Y7SJ1ge', '1ULEqcd5te8AWqFpH7HD4KvJZ1AKcJPam', '31yqH1jVEPDJ7x9L648Ec5umM2G3zNDoe5', '3422VtS7UtCvXYxoXMVp6eZupR252z85oC', '3FWSkG5NmyXF3rqMav7piXiJUDYzKpgFRT', '3HQJ9ta7TmYNRjkbY3nbMGdHzNCCiXs3Ui', '3MhdvQccMd5zAh92WrW7SpcHXwfW1uiamD', '3PajPWymUexhewHPczmLQ8CMYatKAGNj3y', 'bc1qg9h7s7hn4t9m7uw26gnwfm7xfxk77fkj878sg3']\n"
     ]
    }
   ],
   "source": [
    "%run WalletClustering_AddressIdentification.ipynb # also includes running WalletClustering_neo4jConnect notebook\n",
    "# methods & variables of notebook can be referenced"
   ]
  },
  {
   "cell_type": "markdown",
   "metadata": {},
   "source": [
    "# DEFINE: Make graph of flows"
   ]
  },
  {
   "cell_type": "markdown",
   "metadata": {},
   "source": [
    "## create blacklist of associations"
   ]
  },
  {
   "cell_type": "code",
   "execution_count": 4,
   "metadata": {},
   "outputs": [],
   "source": [
    "def createAssocBlacklist():\n",
    "    # use existing assocBlacklist if exists\n",
    "    if not os.path.exists('output\\\\assocBlacklist.pickle'):\n",
    "        assocBlacklistDf = pickle.load(open('output\\\\blacklistAddresses.pickle', 'rb'))\n",
    "        assocBlacklistDf = assocBlacklistDf.drop_duplicates('association', keep='first')\n",
    "        assocBlacklist = assocBlacklistDf['association'].tolist()\n",
    "\n",
    "        with open('output\\\\assocBlacklist.pickle', 'wb') as export:\n",
    "            pickle.dump(set(assocBlacklist), export)\n",
    "\n",
    "    assocBlacklist = pickle.load(open('output\\\\assocBlacklist.pickle', 'rb'))\n",
    "\n",
    "    # this line is necessary to fix unhashable type list in assocBlacklistCheck function\n",
    "    # See here: http://net-informations.com/python/iq/unhashable.htm\n",
    "    tuple_assocBlacklist = tuple(assocBlacklist)\n",
    "    return tuple_assocBlacklist\n"
   ]
  },
  {
   "cell_type": "markdown",
   "metadata": {},
   "source": [
    "## check for blacklisted association"
   ]
  },
  {
   "cell_type": "code",
   "execution_count": 5,
   "metadata": {},
   "outputs": [],
   "source": [
    "#check if association is part of blacklisted associations\n",
    "def assocBlacklistCheck(association, assocBlacklist):\n",
    "    if association in assocBlacklist:\n",
    "        return True\n",
    "    else:\n",
    "        return False"
   ]
  },
  {
   "cell_type": "markdown",
   "metadata": {},
   "source": [
    "## query for input address association"
   ]
  },
  {
   "cell_type": "code",
   "execution_count": 6,
   "metadata": {},
   "outputs": [
    {
     "data": {
      "text/plain": [
       "'YdMaeT9z9LUl3d2kaKvKuwCBhxnlKh3Z'"
      ]
     },
     "execution_count": 6,
     "metadata": {},
     "output_type": "execute_result"
    }
   ],
   "source": [
    "def getAssoc(address):\n",
    "    # return association of input address\n",
    "    assocTemplate = '''\n",
    "    MATCH (a:Address {address: \"%s\"})\n",
    "    RETURN a.association\n",
    "    '''\n",
    "\n",
    "    association = conn.query(assocTemplate % address, db='neo4j')\n",
    "    \n",
    "    if association[0][0] is None:\n",
    "        # run MI heuristic on address and query again\n",
    "        addresses, association = iterMultiInputClustering_chunks(address) #should also flag new association in neo4J\n",
    "        return association\n",
    "\n",
    "    else:\n",
    "        assocBlacklist = createAssocBlacklist()\n",
    "        if assocBlacklistCheck(association, assocBlacklist):\n",
    "            #throw exception in case association is blacklisted\n",
    "            raise Exception('Blacklist')\n",
    "        else:\n",
    "            return association[0][0]\n",
    "\n",
    "getAssoc(\"1348ThkNoDupq1bws95diMiL8haGs61K7M\")"
   ]
  },
  {
   "cell_type": "markdown",
   "metadata": {},
   "source": [
    "## gather input and output addresses to association"
   ]
  },
  {
   "cell_type": "code",
   "execution_count": 7,
   "metadata": {},
   "outputs": [],
   "source": [
    "def get_Inputs(query_Input):\n",
    "    response = conn.query(query_Input, db='neo4j')\n",
    "    rows_list = []\n",
    "    for record in response:\n",
    "        dict1 = {}\n",
    "        new_row = {'InputAddresses':record[0]._properties[\"address\"],\n",
    "        'Value_Received_from_Inp':record[1], 'Value_Send_from_Inp':record[2], \n",
    "        'Transaction_ID':record[3], 'Association':record[4]}\n",
    "        dict1.update(new_row)\n",
    "        rows_list.append(dict1)\n",
    "    input_df = pd.DataFrame(rows_list) \n",
    "    return input_df  "
   ]
  },
  {
   "cell_type": "code",
   "execution_count": 8,
   "metadata": {},
   "outputs": [],
   "source": [
    "def get_Outputs(query_Output):\n",
    "    response = conn.query(query_Output, db='neo4j')\n",
    "    rows_list = []\n",
    "    for record in response:\n",
    "        dict1 = {}\n",
    "        new_row = {'Output_Addresses':record[0]._properties[\"address\"],\n",
    "        'Value_send_to_Outp':record[1], 'Value_rec_from_Outp':record[2],\n",
    "        'Transaction_ID':record[3], 'Association':record[4]}\n",
    "        dict1.update(new_row)\n",
    "        rows_list.append(dict1)\n",
    "    output_df = pd.DataFrame(rows_list) \n",
    "    return output_df"
   ]
  },
  {
   "cell_type": "code",
   "execution_count": 9,
   "metadata": {},
   "outputs": [],
   "source": [
    "#get all addresses and their associations that are either output or input to an association (user)\n",
    "def getInputs_Outputs(association):\n",
    "    \n",
    "    query_for_Outputs = \"\"\"\n",
    "    Match (a:Address {association: \"%s\"})-[send:SENDS]->(t:Transaction)-[r:RECEIVES]->(out:Address)\n",
    "    return out as Output_Addresses, send.value as Value_send_to_Outp,r.value as Value_rec_from_Outp,\n",
    "     t.txid as Transaction_ID, out.association as Association\"\"\"\n",
    "\n",
    "    userOutput = get_Outputs(query_for_Outputs % association)\n",
    "\n",
    "    query_for_Inputs = \"\"\"\n",
    "    Match (input:Address)-[s:SENDS]->(t:Transaction)-[r:RECEIVES]->(a:Address {association: \"%s\"})\n",
    "    return input as Input_Addresses, r.value as Value_Received_from_Inp,s.value as Value_Send_from_Inp,\n",
    "    t.txid as Transaction_ID, input.association as Association\"\"\"\n",
    "\n",
    "    \n",
    "    userInput = get_Inputs(query_for_Inputs % association)\n",
    "\n",
    "    return userOutput, userInput"
   ]
  },
  {
   "cell_type": "markdown",
   "metadata": {},
   "source": [
    "## query for input and output address asociations"
   ]
  },
  {
   "cell_type": "code",
   "execution_count": 10,
   "metadata": {},
   "outputs": [
    {
     "name": "stdout",
     "output_type": "stream",
     "text": [
      "['iLm67R8GEIeSjj1drSyimSOzhQAGxvPV', 'AEct34Ei6JL7Ci19Z3QoMji50KpjBtC2', 'SilkRoadMarketplace', '7WRWfNC5XdSsc6gGrPaehrHACD97hr7U', 'SilkRoadMarketplace', '7WRWfNC5XdSsc6gGrPaehrHACD97hr7U']\n",
      "Updating ... 1M6yHKPHgpTpUCjQiJBRnHVkGCxTLnwLRb, with size 2: ISd7isFSnX3k13czLf0Nj7l9Lh4QJxtP\n",
      "Updating ... 1Kpvq3yqj54gUv9iMaoevDaZr2z8CY68fn, with size 2: fpkrart9vVwtwTpADIUvNAPwhFWJpko9\n"
     ]
    }
   ],
   "source": [
    "def buildFlowGraph(inputAddress):\n",
    "    try:\n",
    "        association = getAssoc(inputAddress)\n",
    "    except:\n",
    "        raise Exception('FU') # adjust to use case\n",
    "\n",
    "    outputs, inputs = getInputs_Outputs(association)\n",
    "    #print(outputs)\n",
    "   \n",
    "    outputAssocs = []\n",
    "    for index, o in outputs.iterrows():\n",
    "        if o['Association'] is not None:\n",
    "            outputAssocs.append(o['Association'])\n",
    "        else:\n",
    "           outputAssocs.append(getAssoc(o['Output_Addresses']))\n",
    "    print(outputAssocs)\n",
    "    \n",
    "    inputAssocs = []\n",
    "    for index, i in inputs.iterrows():\n",
    "        if i['Association'] is not None:\n",
    "            inputAssocs.append(i['Association'])\n",
    "        else:\n",
    "            inputAssocs.append(getAssoc(i['InputAddresses']))\n",
    "    inputAssocs = set(inputAssocs)\n",
    "\n",
    "    # build graph (adjust to use case)\n",
    "    dot = Digraph()\n",
    "    dot.node(association, association)\n",
    "        \n",
    "    for outNode in outputAssocs:\n",
    "        dot.node(outNode, outNode)\n",
    "        dot.edge(association, outNode)\n",
    "\n",
    "    for inNode in inputAssocs:\n",
    "        dot.node(inNode, inNode)\n",
    "        dot.edge(inNode, association)\n",
    "        \n",
    "    return dot\n",
    "buildFlowGraph(\"13Pcmh4dKJE8Aqrhq4ZZwmM1sbKFcMQEEV\")\n",
    "# 1AzBbi1iRsSWUkektm8KnuAvPx66JRtE4N gehört zu dem Silkroad Darknet Market :O"
   ]
  },
  {
   "cell_type": "markdown",
   "metadata": {},
   "source": [
    "## include transaction information in graph"
   ]
  },
  {
   "cell_type": "code",
   "execution_count": 15,
   "metadata": {},
   "outputs": [],
   "source": [
    "def getUserTransactionData(association, outputNodes, inputNodes):\n",
    "    userOutputTransactionDataTemplate = '''\n",
    "        MATCH (u:Address{association:\"%s\"})-[:SENDS]->(t:Transaction)-[:SENDS]->(o:Address{association:\"%s\"}),\n",
    "        (u:Address)-[:SENDS]->(t:Transaction)-[:SENDS]->(o:Address)\n",
    "        RETURN DISTINCT o\n",
    "        ''' "
   ]
  },
  {
   "cell_type": "markdown",
   "metadata": {},
   "source": [
    "# RUN: Make graph of flows"
   ]
  },
  {
   "cell_type": "code",
   "execution_count": 16,
   "metadata": {},
   "outputs": [],
   "source": [
    "inputAddress = ''\n",
    "getAssoc(\"12sDU3FyYJXc2oRzE6XXuuhVHCBJvaoCC8\")\n",
    "getInputs_Outputs(\"yYiOdGN2a2TGR8GBwrMtk1CkMAFUcaan\")"
   ]
  },
  {
   "cell_type": "code",
   "execution_count": 17,
   "metadata": {},
   "outputs": [
    {
     "ename": "Exception",
     "evalue": "FU",
     "output_type": "error",
     "traceback": [
      "\u001b[1;31m---------------------------------------------------------------------------\u001b[0m",
      "\u001b[1;31mFileNotFoundError\u001b[0m                         Traceback (most recent call last)",
      "\u001b[1;32mc:\\Users\\Simon\\Documents\\3. term BI\\Crypto Currency and Forensics\\Development\\Backup\\WalletClustering_WalletFlowGraphing.ipynb Cell 18'\u001b[0m in \u001b[0;36mbuildFlowGraph\u001b[1;34m(inputAddress)\u001b[0m\n\u001b[0;32m      <a href='vscode-notebook-cell:/c%3A/Users/Simon/Documents/3.%20term%20BI/Crypto%20Currency%20and%20Forensics/Development/Backup/WalletClustering_WalletFlowGraphing.ipynb#ch0000016?line=1'>2</a>\u001b[0m \u001b[39mtry\u001b[39;00m:\n\u001b[1;32m----> <a href='vscode-notebook-cell:/c%3A/Users/Simon/Documents/3.%20term%20BI/Crypto%20Currency%20and%20Forensics/Development/Backup/WalletClustering_WalletFlowGraphing.ipynb#ch0000016?line=2'>3</a>\u001b[0m     association \u001b[39m=\u001b[39m getAssoc(inputAddress)\n\u001b[0;32m      <a href='vscode-notebook-cell:/c%3A/Users/Simon/Documents/3.%20term%20BI/Crypto%20Currency%20and%20Forensics/Development/Backup/WalletClustering_WalletFlowGraphing.ipynb#ch0000016?line=3'>4</a>\u001b[0m \u001b[39mexcept\u001b[39;00m:\n",
      "\u001b[1;32mc:\\Users\\Simon\\Documents\\3. term BI\\Crypto Currency and Forensics\\Development\\Backup\\WalletClustering_WalletFlowGraphing.ipynb Cell 14'\u001b[0m in \u001b[0;36mgetAssoc\u001b[1;34m(address)\u001b[0m\n\u001b[0;32m     <a href='vscode-notebook-cell:/c%3A/Users/Simon/Documents/3.%20term%20BI/Crypto%20Currency%20and%20Forensics/Development/Backup/WalletClustering_WalletFlowGraphing.ipynb#ch0000012?line=15'>16</a>\u001b[0m \u001b[39melse\u001b[39;00m:\n\u001b[1;32m---> <a href='vscode-notebook-cell:/c%3A/Users/Simon/Documents/3.%20term%20BI/Crypto%20Currency%20and%20Forensics/Development/Backup/WalletClustering_WalletFlowGraphing.ipynb#ch0000012?line=16'>17</a>\u001b[0m     assocBlacklist \u001b[39m=\u001b[39m createAssocBlacklist()\n\u001b[0;32m     <a href='vscode-notebook-cell:/c%3A/Users/Simon/Documents/3.%20term%20BI/Crypto%20Currency%20and%20Forensics/Development/Backup/WalletClustering_WalletFlowGraphing.ipynb#ch0000012?line=17'>18</a>\u001b[0m     \u001b[39mif\u001b[39;00m assocBlacklistCheck(association, assocBlacklist):\n\u001b[0;32m     <a href='vscode-notebook-cell:/c%3A/Users/Simon/Documents/3.%20term%20BI/Crypto%20Currency%20and%20Forensics/Development/Backup/WalletClustering_WalletFlowGraphing.ipynb#ch0000012?line=18'>19</a>\u001b[0m         \u001b[39m#throw exception in case association is blacklisted\u001b[39;00m\n",
      "\u001b[1;32mc:\\Users\\Simon\\Documents\\3. term BI\\Crypto Currency and Forensics\\Development\\Backup\\WalletClustering_WalletFlowGraphing.ipynb Cell 10'\u001b[0m in \u001b[0;36mcreateAssocBlacklist\u001b[1;34m()\u001b[0m\n\u001b[0;32m     <a href='vscode-notebook-cell:/c%3A/Users/Simon/Documents/3.%20term%20BI/Crypto%20Currency%20and%20Forensics/Development/Backup/WalletClustering_WalletFlowGraphing.ipynb#ch0000008?line=23'>24</a>\u001b[0m         \u001b[39mcontinue\u001b[39;00m\n\u001b[1;32m---> <a href='vscode-notebook-cell:/c%3A/Users/Simon/Documents/3.%20term%20BI/Crypto%20Currency%20and%20Forensics/Development/Backup/WalletClustering_WalletFlowGraphing.ipynb#ch0000008?line=25'>26</a>\u001b[0m \u001b[39mwith\u001b[39;00m \u001b[39mopen\u001b[39;49m(\u001b[39m'\u001b[39;49m\u001b[39moutput\u001b[39;49m\u001b[39m\\\\\u001b[39;49;00m\u001b[39massocBlacklist.pickle\u001b[39;49m\u001b[39m'\u001b[39;49m, \u001b[39m'\u001b[39;49m\u001b[39mwb\u001b[39;49m\u001b[39m'\u001b[39;49m) \u001b[39mas\u001b[39;00m export:\n\u001b[0;32m     <a href='vscode-notebook-cell:/c%3A/Users/Simon/Documents/3.%20term%20BI/Crypto%20Currency%20and%20Forensics/Development/Backup/WalletClustering_WalletFlowGraphing.ipynb#ch0000008?line=26'>27</a>\u001b[0m     pickle\u001b[39m.\u001b[39mdump(\u001b[39mset\u001b[39m(assocBlacklist), export)\n",
      "\u001b[1;31mFileNotFoundError\u001b[0m: [Errno 2] No such file or directory: 'output\\\\assocBlacklist.pickle'",
      "\nDuring handling of the above exception, another exception occurred:\n",
      "\u001b[1;31mException\u001b[0m                                 Traceback (most recent call last)",
      "\u001b[1;32mc:\\Users\\Simon\\Documents\\3. term BI\\Crypto Currency and Forensics\\Development\\Backup\\WalletClustering_WalletFlowGraphing.ipynb Cell 23'\u001b[0m in \u001b[0;36m<cell line: 1>\u001b[1;34m()\u001b[0m\n\u001b[1;32m----> <a href='vscode-notebook-cell:/c%3A/Users/Simon/Documents/3.%20term%20BI/Crypto%20Currency%20and%20Forensics/Development/Backup/WalletClustering_WalletFlowGraphing.ipynb#ch0000021?line=0'>1</a>\u001b[0m graph \u001b[39m=\u001b[39m buildFlowGraph(inputAddress)\n\u001b[0;32m      <a href='vscode-notebook-cell:/c%3A/Users/Simon/Documents/3.%20term%20BI/Crypto%20Currency%20and%20Forensics/Development/Backup/WalletClustering_WalletFlowGraphing.ipynb#ch0000021?line=1'>2</a>\u001b[0m graph\u001b[39m.\u001b[39mrender(view\u001b[39m=\u001b[39m\u001b[39mTrue\u001b[39;00m)\n",
      "\u001b[1;32mc:\\Users\\Simon\\Documents\\3. term BI\\Crypto Currency and Forensics\\Development\\Backup\\WalletClustering_WalletFlowGraphing.ipynb Cell 18'\u001b[0m in \u001b[0;36mbuildFlowGraph\u001b[1;34m(inputAddress)\u001b[0m\n\u001b[0;32m      <a href='vscode-notebook-cell:/c%3A/Users/Simon/Documents/3.%20term%20BI/Crypto%20Currency%20and%20Forensics/Development/Backup/WalletClustering_WalletFlowGraphing.ipynb#ch0000016?line=2'>3</a>\u001b[0m     association \u001b[39m=\u001b[39m getAssoc(inputAddress)\n\u001b[0;32m      <a href='vscode-notebook-cell:/c%3A/Users/Simon/Documents/3.%20term%20BI/Crypto%20Currency%20and%20Forensics/Development/Backup/WalletClustering_WalletFlowGraphing.ipynb#ch0000016?line=3'>4</a>\u001b[0m \u001b[39mexcept\u001b[39;00m:\n\u001b[1;32m----> <a href='vscode-notebook-cell:/c%3A/Users/Simon/Documents/3.%20term%20BI/Crypto%20Currency%20and%20Forensics/Development/Backup/WalletClustering_WalletFlowGraphing.ipynb#ch0000016?line=4'>5</a>\u001b[0m     \u001b[39mraise\u001b[39;00m \u001b[39mException\u001b[39;00m(\u001b[39m'\u001b[39m\u001b[39mFU\u001b[39m\u001b[39m'\u001b[39m) \u001b[39m# adjust to use case\u001b[39;00m\n\u001b[0;32m      <a href='vscode-notebook-cell:/c%3A/Users/Simon/Documents/3.%20term%20BI/Crypto%20Currency%20and%20Forensics/Development/Backup/WalletClustering_WalletFlowGraphing.ipynb#ch0000016?line=6'>7</a>\u001b[0m outputs, inputs \u001b[39m=\u001b[39m getUserTransactions(association)\n\u001b[0;32m      <a href='vscode-notebook-cell:/c%3A/Users/Simon/Documents/3.%20term%20BI/Crypto%20Currency%20and%20Forensics/Development/Backup/WalletClustering_WalletFlowGraphing.ipynb#ch0000016?line=8'>9</a>\u001b[0m outputAssocs \u001b[39m=\u001b[39m []\n",
      "\u001b[1;31mException\u001b[0m: FU"
     ]
    }
   ],
   "source": [
    "graph = buildFlowGraph(inputAddress)\n",
    "graph.render(view=True)"
   ]
  }
 ],
 "metadata": {
  "kernelspec": {
   "display_name": "Python 3.10.4 64-bit",
   "language": "python",
   "name": "python3"
  },
  "language_info": {
   "codemirror_mode": {
    "name": "ipython",
    "version": 3
   },
   "file_extension": ".py",
   "mimetype": "text/x-python",
   "name": "python",
   "nbconvert_exporter": "python",
   "pygments_lexer": "ipython3",
   "version": "3.10.4"
  },
  "orig_nbformat": 4,
  "vscode": {
   "interpreter": {
    "hash": "2a953444f3f6a7370568067c59d527322362a757e3663a1ed7da44db03711d09"
   }
  }
 },
 "nbformat": 4,
 "nbformat_minor": 2
}
