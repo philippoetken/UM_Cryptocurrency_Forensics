{
 "cells": [
  {
   "cell_type": "markdown",
   "metadata": {},
   "source": [
    "# INSTALL: packages"
   ]
  },
  {
   "cell_type": "code",
   "execution_count": 21,
   "metadata": {},
   "outputs": [
    {
     "name": "stdout",
     "output_type": "stream",
     "text": [
      "Requirement already satisfied: ipynb in c:\\users\\rankl\\appdata\\local\\programs\\python\\python310\\lib\\site-packages (0.5.1)\n",
      "Note: you may need to restart the kernel to use updated packages.\n"
     ]
    },
    {
     "name": "stderr",
     "output_type": "stream",
     "text": [
      "WARNING: You are using pip version 22.0.4; however, version 22.1.2 is available.\n",
      "You should consider upgrading via the 'c:\\Users\\rankl\\AppData\\Local\\Programs\\Python\\Python310\\python.exe -m pip install --upgrade pip' command.\n"
     ]
    }
   ],
   "source": [
    "pip install ipynb"
   ]
  },
  {
   "cell_type": "code",
   "execution_count": 22,
   "metadata": {},
   "outputs": [
    {
     "name": "stdout",
     "output_type": "stream",
     "text": [
      "Requirement already satisfied: graphviz in c:\\users\\rankl\\appdata\\local\\programs\\python\\python310\\lib\\site-packages (0.20)\n",
      "Note: you may need to restart the kernel to use updated packages.\n"
     ]
    },
    {
     "name": "stderr",
     "output_type": "stream",
     "text": [
      "WARNING: You are using pip version 22.0.4; however, version 22.1.2 is available.\n",
      "You should consider upgrading via the 'c:\\Users\\rankl\\AppData\\Local\\Programs\\Python\\Python310\\python.exe -m pip install --upgrade pip' command.\n"
     ]
    }
   ],
   "source": [
    "pip install graphviz"
   ]
  },
  {
   "cell_type": "code",
   "execution_count": 10,
   "metadata": {},
   "outputs": [],
   "source": [
    "import os\n",
    "import pickle\n",
    "#from ipynb.fs.full.new_WalletClustering_MIH_fast import iterMultiInputClustering\n",
    "from WalletClustering_MIH import iterMultiInputClustering_chunks\n",
    "from graphviz import Digraph\n",
    "import pandas as pd"
   ]
  },
  {
   "cell_type": "markdown",
   "metadata": {},
   "source": [
    "# EXECUTE: WalletClustering_AddressIdentification notebook"
   ]
  },
  {
   "cell_type": "code",
   "execution_count": null,
   "metadata": {},
   "outputs": [],
   "source": [
    "%run WalletClustering_AddressIdentification.ipynb # also includes running WalletClustering_neo4jConnect notebook\n",
    "# methods & variables of notebook can be referenced"
   ]
  },
  {
   "cell_type": "markdown",
   "metadata": {},
   "source": [
    "# DEFINE: Make graph of flows"
   ]
  },
  {
   "cell_type": "markdown",
   "metadata": {},
   "source": [
    "## create blacklist of associations"
   ]
  },
  {
   "cell_type": "code",
   "execution_count": 11,
   "metadata": {},
   "outputs": [],
   "source": [
    "def createAssocBlacklist():\n",
    "    # use existing assocBlacklist if exists\n",
    "    if not os.path.exists('output\\\\assocBlacklist.pickle'):\n",
    "        assocBlacklistDf = pickle.load(open('output\\\\blacklistAddresses.pickle', 'rb'))\n",
    "        assocBlacklistDf = assocBlacklistDf.drop_duplicates('association', keep='first')\n",
    "        assocBlacklist = assocBlacklistDf['association'].tolist()\n",
    "\n",
    "        with open('output\\\\assocBlacklist.pickle', 'wb') as export:\n",
    "            pickle.dump(set(assocBlacklist), export)\n",
    "\n",
    "    assocBlacklist = pickle.load(open('output\\\\assocBlacklist.pickle', 'rb'))\n",
    "\n",
    "    # this line is necessary to fix unhashable type list in assocBlacklistCheck function\n",
    "    # See here: http://net-informations.com/python/iq/unhashable.htm\n",
    "    tuple_assocBlacklist = tuple(assocBlacklist)\n",
    "    return tuple_assocBlacklist\n"
   ]
  },
  {
   "cell_type": "markdown",
   "metadata": {},
   "source": [
    "## check for blacklisted association"
   ]
  },
  {
   "cell_type": "code",
   "execution_count": 12,
   "metadata": {},
   "outputs": [],
   "source": [
    "#check if association is part of blacklisted associations\n",
    "def assocBlacklistCheck(association, assocBlacklist):\n",
    "    if association in assocBlacklist:\n",
    "        return True\n",
    "    else:\n",
    "        return False"
   ]
  },
  {
   "cell_type": "markdown",
   "metadata": {},
   "source": [
    "## query for input address association"
   ]
  },
  {
   "cell_type": "code",
   "execution_count": 13,
   "metadata": {},
   "outputs": [
    {
     "data": {
      "text/plain": [
       "'YdMaeT9z9LUl3d2kaKvKuwCBhxnlKh3Z'"
      ]
     },
     "execution_count": 13,
     "metadata": {},
     "output_type": "execute_result"
    }
   ],
   "source": [
    "def getAssoc(address):\n",
    "    # return association of input address\n",
    "    assocTemplate = '''\n",
    "    MATCH (a:Address {address: \"%s\"})\n",
    "    RETURN a.association\n",
    "    '''\n",
    "\n",
    "    association = conn.query(assocTemplate % address, db='neo4j')\n",
    "    \n",
    "    if association[0][0] is None:\n",
    "        # run MI heuristic on address and query again\n",
    "        addresses, association = iterMultiInputClustering_chunks(address) #should also flag new association in neo4J\n",
    "        return association\n",
    "\n",
    "    else:\n",
    "        assocBlacklist = createAssocBlacklist()\n",
    "        if assocBlacklistCheck(association, assocBlacklist):\n",
    "            #throw exception in case association is blacklisted\n",
    "            raise Exception('Blacklist')\n",
    "        else:\n",
    "            return association[0][0]\n",
    "\n",
    "getAssoc(\"1348ThkNoDupq1bws95diMiL8haGs61K7M\")"
   ]
  },
  {
   "cell_type": "markdown",
   "metadata": {},
   "source": [
    "## gather input and output addresses to association"
   ]
  },
  {
   "cell_type": "code",
   "execution_count": 14,
   "metadata": {},
   "outputs": [],
   "source": [
    "def get_Inputs(query_Input):\n",
    "    response = conn.query(query_Input, db='neo4j')\n",
    "    rows_list = []\n",
    "    for record in response:\n",
    "        dict1 = {}\n",
    "        new_row = {'InputAddresses':record[0]._properties[\"address\"],\n",
    "        'Value_Received_from_Inp':record[1], 'Value_Send_from_Inp':record[2], \n",
    "        'Transaction_ID':record[3], 'Association':record[4]}\n",
    "        dict1.update(new_row)\n",
    "        rows_list.append(dict1)\n",
    "    input_df = pd.DataFrame(rows_list) \n",
    "    return input_df  "
   ]
  },
  {
   "cell_type": "code",
   "execution_count": 15,
   "metadata": {},
   "outputs": [],
   "source": [
    "def get_Outputs(query_Output):\n",
    "    response = conn.query(query_Output, db='neo4j')\n",
    "    rows_list = []\n",
    "    for record in response:\n",
    "        dict1 = {}\n",
    "        new_row = {'Output_Addresses':record[0]._properties[\"address\"],\n",
    "        'Value_send_to_Outp':record[1], 'Value_rec_from_Outp':record[2],\n",
    "        'Transaction_ID':record[3], 'Association':record[4]}\n",
    "        dict1.update(new_row)\n",
    "        rows_list.append(dict1)\n",
    "    output_df = pd.DataFrame(rows_list) \n",
    "    return output_df"
   ]
  },
  {
   "cell_type": "code",
   "execution_count": 16,
   "metadata": {},
   "outputs": [],
   "source": [
    "#get all addresses and their associations that are either output or input to an association (user)\n",
    "def getInputs_Outputs(association):\n",
    "    \n",
    "    query_for_Outputs = \"\"\"\n",
    "    Match (a:Address {association: \"%s\"})-[send:SENDS]->(t:Transaction)-[r:RECEIVES]->(out:Address)\n",
    "    return out as Output_Addresses, send.value as Value_send_to_Outp,r.value as Value_rec_from_Outp,\n",
    "     t.txid as Transaction_ID, out.association as Association\"\"\"\n",
    "\n",
    "    userOutput = get_Outputs(query_for_Outputs % association)\n",
    "\n",
    "    query_for_Inputs = \"\"\"\n",
    "    Match (input:Address)-[s:SENDS]->(t:Transaction)-[r:RECEIVES]->(a:Address {association: \"%s\"})\n",
    "    return input as Input_Addresses, r.value as Value_Received_from_Inp,s.value as Value_Send_from_Inp,\n",
    "    t.txid as Transaction_ID, input.association as Association\"\"\"\n",
    "\n",
    "    \n",
    "    userInput = get_Inputs(query_for_Inputs % association)\n",
    "\n",
    "    return userOutput, userInput"
   ]
  },
  {
   "cell_type": "markdown",
   "metadata": {},
   "source": [
    "## query for input and output address asociations"
   ]
  },
  {
   "cell_type": "code",
   "execution_count": 18,
   "metadata": {},
   "outputs": [
    {
     "name": "stdout",
     "output_type": "stream",
     "text": [
      "['iLm67R8GEIeSjj1drSyimSOzhQAGxvPV', 'AEct34Ei6JL7Ci19Z3QoMji50KpjBtC2', 'tDpjijTwy39Hqt2tjNZHN0vMtgf49mE3', '7WRWfNC5XdSsc6gGrPaehrHACD97hr7U', 'tDpjijTwy39Hqt2tjNZHN0vMtgf49mE3', '7WRWfNC5XdSsc6gGrPaehrHACD97hr7U']\n"
     ]
    },
    {
     "data": {
      "image/svg+xml": "<?xml version=\"1.0\" encoding=\"UTF-8\" standalone=\"no\"?>\n<!DOCTYPE svg PUBLIC \"-//W3C//DTD SVG 1.1//EN\"\n \"http://www.w3.org/Graphics/SVG/1.1/DTD/svg11.dtd\">\n<!-- Generated by graphviz version 5.0.0 (20220707.1540)\n -->\n<!-- Pages: 1 -->\n<svg width=\"1356pt\" height=\"116pt\"\n viewBox=\"0.00 0.00 1356.27 116.00\" xmlns=\"http://www.w3.org/2000/svg\" xmlns:xlink=\"http://www.w3.org/1999/xlink\">\n<g id=\"graph0\" class=\"graph\" transform=\"scale(1 1) rotate(0) translate(4 112)\">\n<polygon fill=\"white\" stroke=\"transparent\" points=\"-4,4 -4,-112 1352.27,-112 1352.27,4 -4,4\"/>\n<!-- rCQWH2mPNDb24AvEqPn5K5HhQKzPavvw -->\n<g id=\"node1\" class=\"node\">\n<title>rCQWH2mPNDb24AvEqPn5K5HhQKzPavvw</title>\n<ellipse fill=\"none\" stroke=\"black\" cx=\"826.44\" cy=\"-90\" rx=\"182.77\" ry=\"18\"/>\n<text text-anchor=\"middle\" x=\"826.44\" y=\"-86.3\" font-family=\"Times New Roman,serif\" font-size=\"14.00\">rCQWH2mPNDb24AvEqPn5K5HhQKzPavvw</text>\n</g>\n<!-- iLm67R8GEIeSjj1drSyimSOzhQAGxvPV -->\n<g id=\"node2\" class=\"node\">\n<title>iLm67R8GEIeSjj1drSyimSOzhQAGxvPV</title>\n<ellipse fill=\"none\" stroke=\"black\" cx=\"164.44\" cy=\"-18\" rx=\"164.37\" ry=\"18\"/>\n<text text-anchor=\"middle\" x=\"164.44\" y=\"-14.3\" font-family=\"Times New Roman,serif\" font-size=\"14.00\">iLm67R8GEIeSjj1drSyimSOzhQAGxvPV</text>\n</g>\n<!-- rCQWH2mPNDb24AvEqPn5K5HhQKzPavvw&#45;&gt;iLm67R8GEIeSjj1drSyimSOzhQAGxvPV -->\n<g id=\"edge1\" class=\"edge\">\n<title>rCQWH2mPNDb24AvEqPn5K5HhQKzPavvw&#45;&gt;iLm67R8GEIeSjj1drSyimSOzhQAGxvPV</title>\n<path fill=\"none\" stroke=\"black\" d=\"M703.93,-76.61C584.68,-64.2 404.58,-45.16 285.74,-32.4\"/>\n<polygon fill=\"black\" stroke=\"black\" points=\"285.82,-28.89 275.51,-31.3 285.08,-35.85 285.82,-28.89\"/>\n</g>\n<!-- AEct34Ei6JL7Ci19Z3QoMji50KpjBtC2 -->\n<g id=\"node3\" class=\"node\">\n<title>AEct34Ei6JL7Ci19Z3QoMji50KpjBtC2</title>\n<ellipse fill=\"none\" stroke=\"black\" cx=\"500.44\" cy=\"-18\" rx=\"154.07\" ry=\"18\"/>\n<text text-anchor=\"middle\" x=\"500.44\" y=\"-14.3\" font-family=\"Times New Roman,serif\" font-size=\"14.00\">AEct34Ei6JL7Ci19Z3QoMji50KpjBtC2</text>\n</g>\n<!-- rCQWH2mPNDb24AvEqPn5K5HhQKzPavvw&#45;&gt;AEct34Ei6JL7Ci19Z3QoMji50KpjBtC2 -->\n<g id=\"edge2\" class=\"edge\">\n<title>rCQWH2mPNDb24AvEqPn5K5HhQKzPavvw&#45;&gt;AEct34Ei6JL7Ci19Z3QoMji50KpjBtC2</title>\n<path fill=\"none\" stroke=\"black\" d=\"M749.19,-73.64C696.81,-62.67 627.97,-47.91 575.95,-36.49\"/>\n<polygon fill=\"black\" stroke=\"black\" points=\"576.63,-33.06 566.12,-34.33 575.13,-39.89 576.63,-33.06\"/>\n</g>\n<!-- tDpjijTwy39Hqt2tjNZHN0vMtgf49mE3 -->\n<g id=\"node4\" class=\"node\">\n<title>tDpjijTwy39Hqt2tjNZHN0vMtgf49mE3</title>\n<ellipse fill=\"none\" stroke=\"black\" cx=\"826.44\" cy=\"-18\" rx=\"154.07\" ry=\"18\"/>\n<text text-anchor=\"middle\" x=\"826.44\" y=\"-14.3\" font-family=\"Times New Roman,serif\" font-size=\"14.00\">tDpjijTwy39Hqt2tjNZHN0vMtgf49mE3</text>\n</g>\n<!-- rCQWH2mPNDb24AvEqPn5K5HhQKzPavvw&#45;&gt;tDpjijTwy39Hqt2tjNZHN0vMtgf49mE3 -->\n<g id=\"edge3\" class=\"edge\">\n<title>rCQWH2mPNDb24AvEqPn5K5HhQKzPavvw&#45;&gt;tDpjijTwy39Hqt2tjNZHN0vMtgf49mE3</title>\n<path fill=\"none\" stroke=\"black\" d=\"M814.6,-71.7C813.01,-63.98 812.56,-54.71 813.24,-46.11\"/>\n<polygon fill=\"black\" stroke=\"black\" points=\"816.73,-46.49 814.65,-36.1 809.79,-45.52 816.73,-46.49\"/>\n</g>\n<!-- rCQWH2mPNDb24AvEqPn5K5HhQKzPavvw&#45;&gt;tDpjijTwy39Hqt2tjNZHN0vMtgf49mE3 -->\n<g id=\"edge5\" class=\"edge\">\n<title>rCQWH2mPNDb24AvEqPn5K5HhQKzPavvw&#45;&gt;tDpjijTwy39Hqt2tjNZHN0vMtgf49mE3</title>\n<path fill=\"none\" stroke=\"black\" d=\"M826.44,-71.7C826.44,-63.98 826.44,-54.71 826.44,-46.11\"/>\n<polygon fill=\"black\" stroke=\"black\" points=\"829.94,-46.1 826.44,-36.1 822.94,-46.1 829.94,-46.1\"/>\n</g>\n<!-- 7WRWfNC5XdSsc6gGrPaehrHACD97hr7U -->\n<g id=\"node5\" class=\"node\">\n<title>7WRWfNC5XdSsc6gGrPaehrHACD97hr7U</title>\n<ellipse fill=\"none\" stroke=\"black\" cx=\"1173.44\" cy=\"-18\" rx=\"174.67\" ry=\"18\"/>\n<text text-anchor=\"middle\" x=\"1173.44\" y=\"-14.3\" font-family=\"Times New Roman,serif\" font-size=\"14.00\">7WRWfNC5XdSsc6gGrPaehrHACD97hr7U</text>\n</g>\n<!-- rCQWH2mPNDb24AvEqPn5K5HhQKzPavvw&#45;&gt;7WRWfNC5XdSsc6gGrPaehrHACD97hr7U -->\n<g id=\"edge4\" class=\"edge\">\n<title>rCQWH2mPNDb24AvEqPn5K5HhQKzPavvw&#45;&gt;7WRWfNC5XdSsc6gGrPaehrHACD97hr7U</title>\n<path fill=\"none\" stroke=\"black\" d=\"M893.24,-73.2C946.01,-62.03 1020.04,-47.09 1078.85,-35.72\"/>\n<polygon fill=\"black\" stroke=\"black\" points=\"1079.74,-39.11 1088.9,-33.78 1078.42,-32.24 1079.74,-39.11\"/>\n</g>\n<!-- rCQWH2mPNDb24AvEqPn5K5HhQKzPavvw&#45;&gt;7WRWfNC5XdSsc6gGrPaehrHACD97hr7U -->\n<g id=\"edge6\" class=\"edge\">\n<title>rCQWH2mPNDb24AvEqPn5K5HhQKzPavvw&#45;&gt;7WRWfNC5XdSsc6gGrPaehrHACD97hr7U</title>\n<path fill=\"none\" stroke=\"black\" d=\"M902.59,-73.64C957.26,-62.61 1031,-47.73 1087.73,-36.29\"/>\n<polygon fill=\"black\" stroke=\"black\" points=\"1088.65,-39.67 1097.76,-34.27 1087.27,-32.81 1088.65,-39.67\"/>\n</g>\n<!-- iLm67R8GEIeSjj1drSyimSOzhQAGxvPV&#45;&gt;rCQWH2mPNDb24AvEqPn5K5HhQKzPavvw -->\n<g id=\"edge10\" class=\"edge\">\n<title>iLm67R8GEIeSjj1drSyimSOzhQAGxvPV&#45;&gt;rCQWH2mPNDb24AvEqPn5K5HhQKzPavvw</title>\n<path fill=\"none\" stroke=\"black\" d=\"M280.79,-30.75C398.23,-42.97 579.01,-62.07 699.94,-75.04\"/>\n<polygon fill=\"black\" stroke=\"black\" points=\"699.68,-78.53 710,-76.12 700.43,-71.57 699.68,-78.53\"/>\n</g>\n<!-- AEct34Ei6JL7Ci19Z3QoMji50KpjBtC2&#45;&gt;rCQWH2mPNDb24AvEqPn5K5HhQKzPavvw -->\n<g id=\"edge7\" class=\"edge\">\n<title>AEct34Ei6JL7Ci19Z3QoMji50KpjBtC2&#45;&gt;rCQWH2mPNDb24AvEqPn5K5HhQKzPavvw</title>\n<path fill=\"none\" stroke=\"black\" d=\"M574.91,-33.78C626.86,-44.65 695.99,-59.46 748.65,-71.01\"/>\n<polygon fill=\"black\" stroke=\"black\" points=\"748.1,-74.48 758.62,-73.2 749.6,-67.64 748.1,-74.48\"/>\n</g>\n<!-- tDpjijTwy39Hqt2tjNZHN0vMtgf49mE3&#45;&gt;rCQWH2mPNDb24AvEqPn5K5HhQKzPavvw -->\n<g id=\"edge9\" class=\"edge\">\n<title>tDpjijTwy39Hqt2tjNZHN0vMtgf49mE3&#45;&gt;rCQWH2mPNDb24AvEqPn5K5HhQKzPavvw</title>\n<path fill=\"none\" stroke=\"black\" d=\"M838.23,-36.1C839.84,-43.79 840.31,-53.05 839.64,-61.67\"/>\n<polygon fill=\"black\" stroke=\"black\" points=\"836.16,-61.31 838.27,-71.7 843.09,-62.27 836.16,-61.31\"/>\n</g>\n<!-- 7WRWfNC5XdSsc6gGrPaehrHACD97hr7U&#45;&gt;rCQWH2mPNDb24AvEqPn5K5HhQKzPavvw -->\n<g id=\"edge8\" class=\"edge\">\n<title>7WRWfNC5XdSsc6gGrPaehrHACD97hr7U&#45;&gt;rCQWH2mPNDb24AvEqPn5K5HhQKzPavvw</title>\n<path fill=\"none\" stroke=\"black\" d=\"M1107.1,-34.7C1054.53,-45.83 980.66,-60.75 921.8,-72.13\"/>\n<polygon fill=\"black\" stroke=\"black\" points=\"920.9,-68.74 911.74,-74.07 922.23,-75.61 920.9,-68.74\"/>\n</g>\n</g>\n</svg>\n",
      "text/plain": [
       "<graphviz.graphs.Digraph at 0x2bc28a3d600>"
      ]
     },
     "execution_count": 18,
     "metadata": {},
     "output_type": "execute_result"
    }
   ],
   "source": [
    "def buildFlowGraph(inputAddress):\n",
    "    try:\n",
    "        association = getAssoc(inputAddress)\n",
    "    except:\n",
    "        raise Exception('FU') # adjust to use case\n",
    "\n",
    "    outputs, inputs = getInputs_Outputs(association)\n",
    "    #print(outputs)\n",
    "   \n",
    "    outputAssocs = []\n",
    "    for index, o in outputs.iterrows():\n",
    "        if o['Association'] is not None:\n",
    "            outputAssocs.append(o['Association'])\n",
    "        else:\n",
    "           outputAssocs.append(getAssoc(o['Output_Addresses']))\n",
    "    print(outputAssocs)\n",
    "    \n",
    "    inputAssocs = []\n",
    "    for index, i in outputs.iterrows():\n",
    "        if i['Association'] is not None:\n",
    "            inputAssocs.append(i['Association'])\n",
    "        else:\n",
    "            inputAssocs.append(getAssoc(i['Input_Addresses']))\n",
    "    inputAssocs = set(inputAssocs)\n",
    "\n",
    "    # build graph (adjust to use case)\n",
    "    dot = Digraph()\n",
    "    dot.node(association, association)\n",
    "        \n",
    "    for outNode in outputAssocs:\n",
    "        dot.node(outNode, outNode)\n",
    "        dot.edge(association, outNode)\n",
    "\n",
    "    for inNode in inputAssocs:\n",
    "        dot.node(inNode, inNode)\n",
    "        dot.edge(inNode, association)\n",
    "        \n",
    "    return dot\n",
    "buildFlowGraph(\"13Pcmh4dKJE8Aqrhq4ZZwmM1sbKFcMQEEV\")\n",
    "# 1AzBbi1iRsSWUkektm8KnuAvPx66JRtE4N gehört zu dem Silkroad Darknet Market :O"
   ]
  },
  {
   "cell_type": "markdown",
   "metadata": {},
   "source": [
    "## include transaction information in graph"
   ]
  },
  {
   "cell_type": "code",
   "execution_count": 15,
   "metadata": {},
   "outputs": [],
   "source": [
    "def getUserTransactionData(association, outputNodes, inputNodes):\n",
    "    userOutputTransactionDataTemplate = '''\n",
    "        MATCH (u:Address{association:\"%s\"})-[:SENDS]->(t:Transaction)-[:SENDS]->(o:Address{association:\"%s\"}),\n",
    "        (u:Address)-[:SENDS]->(t:Transaction)-[:SENDS]->(o:Address)\n",
    "        RETURN DISTINCT o\n",
    "        ''' "
   ]
  },
  {
   "cell_type": "markdown",
   "metadata": {},
   "source": [
    "# RUN: Make graph of flows"
   ]
  },
  {
   "cell_type": "code",
   "execution_count": 16,
   "metadata": {},
   "outputs": [],
   "source": [
    "inputAddress = ''\n",
    "getAssoc(\"12sDU3FyYJXc2oRzE6XXuuhVHCBJvaoCC8\")\n",
    "getInputs_Outputs(\"yYiOdGN2a2TGR8GBwrMtk1CkMAFUcaan\")"
   ]
  },
  {
   "cell_type": "code",
   "execution_count": 17,
   "metadata": {},
   "outputs": [
    {
     "ename": "Exception",
     "evalue": "FU",
     "output_type": "error",
     "traceback": [
      "\u001b[1;31m---------------------------------------------------------------------------\u001b[0m",
      "\u001b[1;31mFileNotFoundError\u001b[0m                         Traceback (most recent call last)",
      "\u001b[1;32mc:\\Users\\Simon\\Documents\\3. term BI\\Crypto Currency and Forensics\\Development\\Backup\\WalletClustering_WalletFlowGraphing.ipynb Cell 18'\u001b[0m in \u001b[0;36mbuildFlowGraph\u001b[1;34m(inputAddress)\u001b[0m\n\u001b[0;32m      <a href='vscode-notebook-cell:/c%3A/Users/Simon/Documents/3.%20term%20BI/Crypto%20Currency%20and%20Forensics/Development/Backup/WalletClustering_WalletFlowGraphing.ipynb#ch0000016?line=1'>2</a>\u001b[0m \u001b[39mtry\u001b[39;00m:\n\u001b[1;32m----> <a href='vscode-notebook-cell:/c%3A/Users/Simon/Documents/3.%20term%20BI/Crypto%20Currency%20and%20Forensics/Development/Backup/WalletClustering_WalletFlowGraphing.ipynb#ch0000016?line=2'>3</a>\u001b[0m     association \u001b[39m=\u001b[39m getAssoc(inputAddress)\n\u001b[0;32m      <a href='vscode-notebook-cell:/c%3A/Users/Simon/Documents/3.%20term%20BI/Crypto%20Currency%20and%20Forensics/Development/Backup/WalletClustering_WalletFlowGraphing.ipynb#ch0000016?line=3'>4</a>\u001b[0m \u001b[39mexcept\u001b[39;00m:\n",
      "\u001b[1;32mc:\\Users\\Simon\\Documents\\3. term BI\\Crypto Currency and Forensics\\Development\\Backup\\WalletClustering_WalletFlowGraphing.ipynb Cell 14'\u001b[0m in \u001b[0;36mgetAssoc\u001b[1;34m(address)\u001b[0m\n\u001b[0;32m     <a href='vscode-notebook-cell:/c%3A/Users/Simon/Documents/3.%20term%20BI/Crypto%20Currency%20and%20Forensics/Development/Backup/WalletClustering_WalletFlowGraphing.ipynb#ch0000012?line=15'>16</a>\u001b[0m \u001b[39melse\u001b[39;00m:\n\u001b[1;32m---> <a href='vscode-notebook-cell:/c%3A/Users/Simon/Documents/3.%20term%20BI/Crypto%20Currency%20and%20Forensics/Development/Backup/WalletClustering_WalletFlowGraphing.ipynb#ch0000012?line=16'>17</a>\u001b[0m     assocBlacklist \u001b[39m=\u001b[39m createAssocBlacklist()\n\u001b[0;32m     <a href='vscode-notebook-cell:/c%3A/Users/Simon/Documents/3.%20term%20BI/Crypto%20Currency%20and%20Forensics/Development/Backup/WalletClustering_WalletFlowGraphing.ipynb#ch0000012?line=17'>18</a>\u001b[0m     \u001b[39mif\u001b[39;00m assocBlacklistCheck(association, assocBlacklist):\n\u001b[0;32m     <a href='vscode-notebook-cell:/c%3A/Users/Simon/Documents/3.%20term%20BI/Crypto%20Currency%20and%20Forensics/Development/Backup/WalletClustering_WalletFlowGraphing.ipynb#ch0000012?line=18'>19</a>\u001b[0m         \u001b[39m#throw exception in case association is blacklisted\u001b[39;00m\n",
      "\u001b[1;32mc:\\Users\\Simon\\Documents\\3. term BI\\Crypto Currency and Forensics\\Development\\Backup\\WalletClustering_WalletFlowGraphing.ipynb Cell 10'\u001b[0m in \u001b[0;36mcreateAssocBlacklist\u001b[1;34m()\u001b[0m\n\u001b[0;32m     <a href='vscode-notebook-cell:/c%3A/Users/Simon/Documents/3.%20term%20BI/Crypto%20Currency%20and%20Forensics/Development/Backup/WalletClustering_WalletFlowGraphing.ipynb#ch0000008?line=23'>24</a>\u001b[0m         \u001b[39mcontinue\u001b[39;00m\n\u001b[1;32m---> <a href='vscode-notebook-cell:/c%3A/Users/Simon/Documents/3.%20term%20BI/Crypto%20Currency%20and%20Forensics/Development/Backup/WalletClustering_WalletFlowGraphing.ipynb#ch0000008?line=25'>26</a>\u001b[0m \u001b[39mwith\u001b[39;00m \u001b[39mopen\u001b[39;49m(\u001b[39m'\u001b[39;49m\u001b[39moutput\u001b[39;49m\u001b[39m\\\\\u001b[39;49;00m\u001b[39massocBlacklist.pickle\u001b[39;49m\u001b[39m'\u001b[39;49m, \u001b[39m'\u001b[39;49m\u001b[39mwb\u001b[39;49m\u001b[39m'\u001b[39;49m) \u001b[39mas\u001b[39;00m export:\n\u001b[0;32m     <a href='vscode-notebook-cell:/c%3A/Users/Simon/Documents/3.%20term%20BI/Crypto%20Currency%20and%20Forensics/Development/Backup/WalletClustering_WalletFlowGraphing.ipynb#ch0000008?line=26'>27</a>\u001b[0m     pickle\u001b[39m.\u001b[39mdump(\u001b[39mset\u001b[39m(assocBlacklist), export)\n",
      "\u001b[1;31mFileNotFoundError\u001b[0m: [Errno 2] No such file or directory: 'output\\\\assocBlacklist.pickle'",
      "\nDuring handling of the above exception, another exception occurred:\n",
      "\u001b[1;31mException\u001b[0m                                 Traceback (most recent call last)",
      "\u001b[1;32mc:\\Users\\Simon\\Documents\\3. term BI\\Crypto Currency and Forensics\\Development\\Backup\\WalletClustering_WalletFlowGraphing.ipynb Cell 23'\u001b[0m in \u001b[0;36m<cell line: 1>\u001b[1;34m()\u001b[0m\n\u001b[1;32m----> <a href='vscode-notebook-cell:/c%3A/Users/Simon/Documents/3.%20term%20BI/Crypto%20Currency%20and%20Forensics/Development/Backup/WalletClustering_WalletFlowGraphing.ipynb#ch0000021?line=0'>1</a>\u001b[0m graph \u001b[39m=\u001b[39m buildFlowGraph(inputAddress)\n\u001b[0;32m      <a href='vscode-notebook-cell:/c%3A/Users/Simon/Documents/3.%20term%20BI/Crypto%20Currency%20and%20Forensics/Development/Backup/WalletClustering_WalletFlowGraphing.ipynb#ch0000021?line=1'>2</a>\u001b[0m graph\u001b[39m.\u001b[39mrender(view\u001b[39m=\u001b[39m\u001b[39mTrue\u001b[39;00m)\n",
      "\u001b[1;32mc:\\Users\\Simon\\Documents\\3. term BI\\Crypto Currency and Forensics\\Development\\Backup\\WalletClustering_WalletFlowGraphing.ipynb Cell 18'\u001b[0m in \u001b[0;36mbuildFlowGraph\u001b[1;34m(inputAddress)\u001b[0m\n\u001b[0;32m      <a href='vscode-notebook-cell:/c%3A/Users/Simon/Documents/3.%20term%20BI/Crypto%20Currency%20and%20Forensics/Development/Backup/WalletClustering_WalletFlowGraphing.ipynb#ch0000016?line=2'>3</a>\u001b[0m     association \u001b[39m=\u001b[39m getAssoc(inputAddress)\n\u001b[0;32m      <a href='vscode-notebook-cell:/c%3A/Users/Simon/Documents/3.%20term%20BI/Crypto%20Currency%20and%20Forensics/Development/Backup/WalletClustering_WalletFlowGraphing.ipynb#ch0000016?line=3'>4</a>\u001b[0m \u001b[39mexcept\u001b[39;00m:\n\u001b[1;32m----> <a href='vscode-notebook-cell:/c%3A/Users/Simon/Documents/3.%20term%20BI/Crypto%20Currency%20and%20Forensics/Development/Backup/WalletClustering_WalletFlowGraphing.ipynb#ch0000016?line=4'>5</a>\u001b[0m     \u001b[39mraise\u001b[39;00m \u001b[39mException\u001b[39;00m(\u001b[39m'\u001b[39m\u001b[39mFU\u001b[39m\u001b[39m'\u001b[39m) \u001b[39m# adjust to use case\u001b[39;00m\n\u001b[0;32m      <a href='vscode-notebook-cell:/c%3A/Users/Simon/Documents/3.%20term%20BI/Crypto%20Currency%20and%20Forensics/Development/Backup/WalletClustering_WalletFlowGraphing.ipynb#ch0000016?line=6'>7</a>\u001b[0m outputs, inputs \u001b[39m=\u001b[39m getUserTransactions(association)\n\u001b[0;32m      <a href='vscode-notebook-cell:/c%3A/Users/Simon/Documents/3.%20term%20BI/Crypto%20Currency%20and%20Forensics/Development/Backup/WalletClustering_WalletFlowGraphing.ipynb#ch0000016?line=8'>9</a>\u001b[0m outputAssocs \u001b[39m=\u001b[39m []\n",
      "\u001b[1;31mException\u001b[0m: FU"
     ]
    }
   ],
   "source": [
    "graph = buildFlowGraph(inputAddress)\n",
    "graph.render(view=True)"
   ]
  }
 ],
 "metadata": {
  "kernelspec": {
   "display_name": "Python 3.10.4 64-bit",
   "language": "python",
   "name": "python3"
  },
  "language_info": {
   "codemirror_mode": {
    "name": "ipython",
    "version": 3
   },
   "file_extension": ".py",
   "mimetype": "text/x-python",
   "name": "python",
   "nbconvert_exporter": "python",
   "pygments_lexer": "ipython3",
   "version": "3.10.4"
  },
  "orig_nbformat": 4,
  "vscode": {
   "interpreter": {
    "hash": "2a953444f3f6a7370568067c59d527322362a757e3663a1ed7da44db03711d09"
   }
  }
 },
 "nbformat": 4,
 "nbformat_minor": 2
}
