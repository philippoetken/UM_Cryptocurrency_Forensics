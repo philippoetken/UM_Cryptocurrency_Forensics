{
 "cells": [
  {
   "cell_type": "markdown",
   "metadata": {},
   "source": [
    "# INSTALL: packages"
   ]
  },
  {
   "cell_type": "code",
   "execution_count": null,
   "metadata": {},
   "outputs": [],
   "source": [
    "pip install ipynb"
   ]
  },
  {
   "cell_type": "code",
   "execution_count": null,
   "metadata": {},
   "outputs": [],
   "source": [
    "pip install graphviz"
   ]
  },
  {
   "cell_type": "code",
   "execution_count": 1,
   "metadata": {},
   "outputs": [],
   "source": [
    "import os\n",
    "import pickle\n",
    "from ipynb.fs.full.new-WalletClustering_MIH_fast import iterMultiInputClustering\n",
    "from graphviz import Digraph"
   ]
  },
  {
   "cell_type": "markdown",
   "metadata": {},
   "source": [
    "# EXECUTE: WalletClustering_neo4jConnect notebook"
   ]
  },
  {
   "cell_type": "code",
   "execution_count": 2,
   "metadata": {},
   "outputs": [
    {
     "name": "stderr",
     "output_type": "stream",
     "text": [
      "WARNING: You are using pip version 22.0.4; however, version 22.1.2 is available.\n",
      "You should consider upgrading via the 'c:\\Users\\info\\AppData\\Local\\Programs\\Python\\Python310\\python.exe -m pip install --upgrade pip' command.\n"
     ]
    },
    {
     "name": "stdout",
     "output_type": "stream",
     "text": [
      "Requirement already satisfied: neo4j in c:\\users\\info\\appdata\\local\\programs\\python\\python310\\lib\\site-packages (4.4.3)\n",
      "Requirement already satisfied: pytz in c:\\users\\info\\appdata\\local\\programs\\python\\python310\\lib\\site-packages (from neo4j) (2022.1)\n",
      "Note: you may need to restart the kernel to use updated packages.\n"
     ]
    }
   ],
   "source": [
    "%run ./WalletClustering_neo4jConnect.ipynb # includes Neo4J connector\n",
    "# methods & variables of notebook can be referenced"
   ]
  },
  {
   "cell_type": "markdown",
   "metadata": {},
   "source": [
    "# DEFINE: Make graph of flows"
   ]
  },
  {
   "cell_type": "markdown",
   "metadata": {},
   "source": [
    "## create blacklist of associations"
   ]
  },
  {
   "cell_type": "code",
   "execution_count": 10,
   "metadata": {},
   "outputs": [],
   "source": [
    "def createAssocBlacklist():\n",
    "    # use existing assocBlacklist if exists\n",
    "    if not os.path.exists('output\\\\assocBlacklist.pickle'):\n",
    "        assocBlacklist = []\n",
    "        dirname = os.path.dirname(os.path.realpath('__file__'))\n",
    "  \n",
    "        # iterate scraped blacklist folders to get blacklisted associations\n",
    "        if os.path.isdir('..\\\\WalletExplorerScraper\\\\Output\\\\exchange\\\\'):\n",
    "            outputScrapeExchangeFolder = os.path.join(dirname, '..\\\\WalletExplorerScraper\\\\Output\\\\exchange\\\\')\n",
    "            for subfolder in os.listdir(outputScrapeExchangeFolder):\n",
    "                assocBlacklist.append(subfolder.split(\"_\",1)[1])\n",
    "                continue\n",
    "          \n",
    "        if os.path.isdir('..\\\\WalletExplorerScraper\\\\Output\\\\mixer\\\\'):\n",
    "            outputScrapeMixerFolder = os.path.join(dirname, '..\\\\WalletExplorerScraper\\\\Output\\\\mixer\\\\')\n",
    "            for subfolder in os.listdir(outputScrapeMixerFolder):\n",
    "                assocBlacklist.append(subfolder.split(\"_\",1)[1])\n",
    "                continue\n",
    "\n",
    "        if os.path.isdir('..\\\\WalletExplorerScraper\\\\Output\\\\giant_wallet\\\\'):\n",
    "            outputScrapeGiantWalletFolder = os.path.join(dirname, '..\\\\WalletExplorerScraper\\\\Output\\\\giant_wallet\\\\')\n",
    "            for subfolder in os.listdir(outputScrapeGiantWalletFolder):\n",
    "                assocBlacklist.append(subfolder.split(\"_\",1)[1])\n",
    "                continue\n",
    "\n",
    "        with open('output\\\\assocBlacklist.pickle', 'wb') as export:\n",
    "            pickle.dump(set(assocBlacklist), export)\n",
    "\n",
    "    assocBlacklist = pickle.load(open('output\\\\assocBlacklist.pickle', 'rb'))\n",
    "    return assocBlacklist"
   ]
  },
  {
   "cell_type": "markdown",
   "metadata": {},
   "source": [
    "## check for blacklisted association"
   ]
  },
  {
   "cell_type": "code",
   "execution_count": null,
   "metadata": {},
   "outputs": [],
   "source": [
    "#check if association is part of blacklisted associations\n",
    "def assocBlacklistCheck(association, assocBlacklist):\n",
    "    if association in assocBlacklist:\n",
    "        return True\n",
    "    else:\n",
    "        return False"
   ]
  },
  {
   "cell_type": "markdown",
   "metadata": {},
   "source": [
    "## query for input address association"
   ]
  },
  {
   "cell_type": "code",
   "execution_count": null,
   "metadata": {},
   "outputs": [],
   "source": [
    "def getAssoc(address):\n",
    "    # return association of input address\n",
    "    assocTemplate = '''\n",
    "    MATCH (a:Address {address: \"%s\"})\n",
    "    RETURN a.association\n",
    "    '''\n",
    "\n",
    "    association = conn.query(assocTemplate % address, db='neo4j')\n",
    "    \n",
    "    if association is None:\n",
    "        # run MI heuristic on address and query again\n",
    "        iterMultiInputClustering(address) #should also flag new association in neo4J\n",
    "        association = conn.query(assocTemplate % address, db='neo4j')\n",
    "        return association\n",
    "\n",
    "    else:\n",
    "        assocBlacklist = createAssocBlacklist()\n",
    "        if assocBlacklistCheck(association, assocBlacklist):\n",
    "            #throw exception in case association is blacklisted\n",
    "            raise Exception('Blacklist')\n",
    "        else:\n",
    "            return association   "
   ]
  },
  {
   "cell_type": "markdown",
   "metadata": {},
   "source": [
    "## gather input and output addresses to association"
   ]
  },
  {
   "cell_type": "code",
   "execution_count": null,
   "metadata": {},
   "outputs": [],
   "source": [
    "#get all transactions that are either output or input to an association (user)\n",
    "def getUserTransactions(association):\n",
    "    userOutputTransactionsTemplate = '''\n",
    "    MATCH (u:Address{association:\"%s\"})-[:SENDS]->(t:Transaction)-[:SENDS]->(o:Address),\n",
    "    (u:Address)-[:SENDS]->(t:Transaction)-[:SENDS]->(o:Address)\n",
    "    RETURN DISTINCT o\n",
    "    '''\n",
    "    outputResponse = conn.query(userOutputTransactionsTemplate % association, db='neo4j')\n",
    "    userOutput = [oR[0] for oR in outputResponse]\n",
    "\n",
    "    userInputTransactionsTemplate = '''\n",
    "    MATCH (u:Address{association:\"%s\"})<-[:RECEIVES]-(t:Transaction)<-[:RECEIVES]->(i:Address),\n",
    "    (u:Address)<-[:RECEIVES]-(t:Transaction)<-[:RECEIVES]-(i:Address)\n",
    "    RETURN DISTINCT i\n",
    "    '''\n",
    "    inputResponse = conn.query(userInputTransactionsTemplate % association, db='neo4j')\n",
    "    userInput = [iR[0] for iR in inputResponse]\n",
    "\n",
    "    return userOutput, userInput"
   ]
  },
  {
   "cell_type": "markdown",
   "metadata": {},
   "source": [
    "## query for input and output address asociations"
   ]
  },
  {
   "cell_type": "code",
   "execution_count": null,
   "metadata": {},
   "outputs": [],
   "source": [
    "def buildFlowGraph(inputAddress):\n",
    "    try:\n",
    "        association = getAssoc(inputAddress)\n",
    "    except:\n",
    "        raise Exception('FU') # adjust to use case\n",
    "\n",
    "    outputs, inputs = getUserTransactions(association)\n",
    "    \n",
    "    outputAssocs = []\n",
    "    for o in outputs:\n",
    "        outputAssocs.append(getAssoc(o))\n",
    "    outputAssocs = set(outputAssocs)\n",
    "    \n",
    "    inputAssocs = []\n",
    "    for i in inputs:\n",
    "        inputAssocs.append(getAssoc(i))\n",
    "    inputAssocs = set(inputAssocs)\n",
    "\n",
    "    # build graph (adjust to use case)\n",
    "    dot = Digraph()\n",
    "    dot.node(association, association)\n",
    "        \n",
    "    for outNode in outputAssocs:\n",
    "        dot.note(outNode, outNode)\n",
    "        dot.edge(association, outNode)\n",
    "\n",
    "    for inNode in inputAssocs:\n",
    "        dot.note(inNode, inNode)\n",
    "        dot.edge(inNode, association)\n",
    "        \n",
    "    return dot"
   ]
  },
  {
   "cell_type": "markdown",
   "metadata": {},
   "source": [
    "# RUN: Make graph of flows"
   ]
  },
  {
   "cell_type": "code",
   "execution_count": 11,
   "metadata": {},
   "outputs": [
    {
     "name": "stdout",
     "output_type": "stream",
     "text": [
      "{'helix', 'bittrex.com', 'huobi.com'}\n"
     ]
    }
   ],
   "source": [
    "inputAddress = ''"
   ]
  },
  {
   "cell_type": "code",
   "execution_count": 16,
   "metadata": {},
   "outputs": [
    {
     "name": "stdout",
     "output_type": "stream",
     "text": [
      "True\n"
     ]
    }
   ],
   "source": [
    "graph = buildFlowGraph(inputAddress)\n",
    "graph.render(view=True)"
   ]
  }
 ],
 "metadata": {
  "kernelspec": {
   "display_name": "Python 3.10.4 64-bit",
   "language": "python",
   "name": "python3"
  },
  "language_info": {
   "codemirror_mode": {
    "name": "ipython",
    "version": 3
   },
   "file_extension": ".py",
   "mimetype": "text/x-python",
   "name": "python",
   "nbconvert_exporter": "python",
   "pygments_lexer": "ipython3",
   "version": "3.10.4"
  },
  "orig_nbformat": 4,
  "vscode": {
   "interpreter": {
    "hash": "1d06fc9ed4b774328ae1669b976a7de461f6c6282277a8a3bb34b5a87421f7ca"
   }
  }
 },
 "nbformat": 4,
 "nbformat_minor": 2
}
