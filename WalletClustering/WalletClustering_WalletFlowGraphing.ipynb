{
 "cells": [
  {
   "cell_type": "markdown",
   "metadata": {},
   "source": [
    "# INSTALL: packages"
   ]
  },
  {
   "cell_type": "code",
   "execution_count": 1,
   "metadata": {},
   "outputs": [
    {
     "name": "stdout",
     "output_type": "stream",
     "text": [
      "Requirement already satisfied: ipynb in c:\\users\\info\\appdata\\local\\programs\\python\\python310\\lib\\site-packages (0.5.1)\n",
      "Note: you may need to restart the kernel to use updated packages.\n"
     ]
    },
    {
     "name": "stderr",
     "output_type": "stream",
     "text": [
      "WARNING: You are using pip version 22.0.4; however, version 22.2 is available.\n",
      "You should consider upgrading via the 'c:\\Users\\info\\AppData\\Local\\Programs\\Python\\Python310\\python.exe -m pip install --upgrade pip' command.\n"
     ]
    }
   ],
   "source": [
    "pip install ipynb"
   ]
  },
  {
   "cell_type": "code",
   "execution_count": 2,
   "metadata": {},
   "outputs": [
    {
     "name": "stdout",
     "output_type": "stream",
     "text": [
      "Requirement already satisfied: graphviz in c:\\users\\info\\appdata\\local\\programs\\python\\python310\\lib\\site-packages (0.20)\n",
      "Note: you may need to restart the kernel to use updated packages.\n"
     ]
    },
    {
     "name": "stderr",
     "output_type": "stream",
     "text": [
      "WARNING: You are using pip version 22.0.4; however, version 22.2 is available.\n",
      "You should consider upgrading via the 'c:\\Users\\info\\AppData\\Local\\Programs\\Python\\Python310\\python.exe -m pip install --upgrade pip' command.\n"
     ]
    }
   ],
   "source": [
    "pip install graphviz"
   ]
  },
  {
   "cell_type": "code",
   "execution_count": 3,
   "metadata": {},
   "outputs": [],
   "source": [
    "import os\n",
    "import pickle\n",
    "from WalletClustering_MIH import iterMultiInputClustering_chunks\n",
    "from graphviz import Digraph\n",
    "import pandas as pd"
   ]
  },
  {
   "cell_type": "markdown",
   "metadata": {},
   "source": [
    "# EXECUTE: WalletClustering_AddressIdentification notebook"
   ]
  },
  {
   "cell_type": "code",
   "execution_count": 4,
   "metadata": {},
   "outputs": [
    {
     "name": "stdout",
     "output_type": "stream",
     "text": [
      "Requirement already satisfied: nbformat in c:\\users\\info\\appdata\\local\\programs\\python\\python310\\lib\\site-packages (5.4.0)\n",
      "Requirement already satisfied: traitlets>=5.1 in c:\\users\\info\\appdata\\roaming\\python\\python310\\site-packages (from nbformat) (5.2.1.post0)\n",
      "Requirement already satisfied: jupyter-core in c:\\users\\info\\appdata\\roaming\\python\\python310\\site-packages (from nbformat) (4.10.0)\n",
      "Requirement already satisfied: jsonschema>=2.6 in c:\\users\\info\\appdata\\local\\programs\\python\\python310\\lib\\site-packages (from nbformat) (4.5.1)\n",
      "Requirement already satisfied: fastjsonschema in c:\\users\\info\\appdata\\local\\programs\\python\\python310\\lib\\site-packages (from nbformat) (2.15.3)\n",
      "Requirement already satisfied: pyrsistent!=0.17.0,!=0.17.1,!=0.17.2,>=0.14.0 in c:\\users\\info\\appdata\\local\\programs\\python\\python310\\lib\\site-packages (from jsonschema>=2.6->nbformat) (0.18.1)\n",
      "Requirement already satisfied: attrs>=17.4.0 in c:\\users\\info\\appdata\\local\\programs\\python\\python310\\lib\\site-packages (from jsonschema>=2.6->nbformat) (21.4.0)\n",
      "Requirement already satisfied: pywin32>=1.0 in c:\\users\\info\\appdata\\roaming\\python\\python310\\site-packages (from jupyter-core->nbformat) (304)\n",
      "Note: you may need to restart the kernel to use updated packages.\n"
     ]
    },
    {
     "name": "stderr",
     "output_type": "stream",
     "text": [
      "WARNING: You are using pip version 22.0.4; however, version 22.2 is available.\n",
      "You should consider upgrading via the 'c:\\Users\\info\\AppData\\Local\\Programs\\Python\\Python310\\python.exe -m pip install --upgrade pip' command.\n",
      "WARNING: You are using pip version 22.0.4; however, version 22.2 is available.\n",
      "You should consider upgrading via the 'c:\\Users\\info\\AppData\\Local\\Programs\\Python\\Python310\\python.exe -m pip install --upgrade pip' command.\n"
     ]
    },
    {
     "name": "stdout",
     "output_type": "stream",
     "text": [
      "Requirement already satisfied: pandas in c:\\users\\info\\appdata\\local\\programs\\python\\python310\\lib\\site-packages (1.4.2)\n",
      "Requirement already satisfied: pytz>=2020.1 in c:\\users\\info\\appdata\\local\\programs\\python\\python310\\lib\\site-packages (from pandas) (2022.1)\n",
      "Requirement already satisfied: python-dateutil>=2.8.1 in c:\\users\\info\\appdata\\roaming\\python\\python310\\site-packages (from pandas) (2.8.2)\n",
      "Requirement already satisfied: numpy>=1.21.0 in c:\\users\\info\\appdata\\local\\programs\\python\\python310\\lib\\site-packages (from pandas) (1.22.3)\n",
      "Requirement already satisfied: six>=1.5 in c:\\users\\info\\appdata\\roaming\\python\\python310\\site-packages (from python-dateutil>=2.8.1->pandas) (1.16.0)\n",
      "Note: you may need to restart the kernel to use updated packages.\n",
      "['12sDU3FyYJXc2oRzE6XXuuhVHCBJvaoCC8', '1348ThkNoDupq1bws95diMiL8haGs61K7M', '13iQsrwBYdrLpnitG5EV79o3PeHjH8XUBc', '13Pcmh4dKJE8Aqrhq4ZZwmM1sbKFcMQEEV', '15K9Zj1AU2hjT3ebZMtWqDsMv3fFxTNwpf', '15soXrE3NJBMkkQhrccXonTT9bpjpPvE67', '164fawNZVwsR5SamAJypvCMtkMx4Xv1B3f', '179bzhS4FY7qLDza9YjuorhWyXVVYZu2YH', '17QAWGVpFV4gZ25NQug46e5mBho4uDP6MD', '17UUXDzPGkMwWrabhtk7YCha88tSoua2Vr', '19D1iGzDr7FyAdiy3ZZdxMd6ttHj1kj6WW', '19XVEDZCGVMA9WCF1qUayxtnjUnyD7zDDQ', '1A7pDH1EdrkH9YZtsPnc8uzirBFnAN9Eay', '1BPf9qr7M5xUgNHUYtrQtEKvUKcyERzXao', '1C6hetVWVXZnS6P2BYBNu5Y1ZJ57JyXGac', '1DrhHEkv42JVwiDQNi28JFdSuiSGgPNXwP', '1EDcKCRypUTFoTZbxDWF9MBAT4W7XUGB32', '1EfmRn6Bp3cjrTBubaH8MzRRc2ikSjNGXw', '1EnX6BuJiGWydqXJT9BN5dSvfLg3QW4Mdz', '1EVTZmTMqZPMzGxsug9TXBtvPJZH8dXSCK', '1EYya5dfNvuYDwpeboGKBtkXzJcEHMCQXR', '1GALPyvUDDXqA6H2eHQ9Y1yidfQ6T1Drvn', '1GC2SjzCyCwxo1uxTi28oqn9L3mJj7bLPs', '1Gg25VzQkqCizXHNSNet4RoysLEe19su4s', '1JpSBaUwrZaEgmsYka7mzm9t3Z4syyaw7A', '1LhRW1msre1cFgT7fBY2BRrZ4ANMPwVj9u', '1Lm9BCDUKoBUk888DCXewM5p8bJyr83cEp', '1LPTaRfyoNwvwAtmYzcetZLjBfUxVkJrr4', '1MMaU5nTrFdPZotfwdbv1wWnFjLCTFbpPY', '1QH9hfeSSb2iftcVpgpQp3NsFD174crFoW', '1uLdz4wXrcXjCy2CqLWuJUiE85Y7SJ1ge', '1ULEqcd5te8AWqFpH7HD4KvJZ1AKcJPam', '31yqH1jVEPDJ7x9L648Ec5umM2G3zNDoe5', '3422VtS7UtCvXYxoXMVp6eZupR252z85oC', '3FWSkG5NmyXF3rqMav7piXiJUDYzKpgFRT', '3HQJ9ta7TmYNRjkbY3nbMGdHzNCCiXs3Ui', '3MhdvQccMd5zAh92WrW7SpcHXwfW1uiamD', '3PajPWymUexhewHPczmLQ8CMYatKAGNj3y', 'bc1qg9h7s7hn4t9m7uw26gnwfm7xfxk77fkj878sg3']\n",
      "                                     address  association\n",
      "1         1CrhRvGShwmQkrGcqFzDDwDDBiEhKpHAqF   anxpro.com\n",
      "2         1AbH5pFqocUYVhRqPAtJruVr5DMAxEANmn   anxpro.com\n",
      "4         1FM8vDXinj2N5LoTXX5J4MSGTCn2pPkqRm   anxpro.com\n",
      "7         18g2RSp4MxzkyNkigpYDejP2jMgkJ2Po9A   anxpro.com\n",
      "18        195rycdSmRf1tQDztryRkZWKaFgFwM1PPG  bittrex.com\n",
      "...                                      ...          ...\n",
      "21616496   1zFCx8MQEx34Jaw1b25vZUsf1ojVVtwaF    epay.info\n",
      "21616497  1HkmSR4vdZuYPEdBWHDpHeQe51aXenvHnK    epay.info\n",
      "21616498  1CyHtTtHNBGabRbDrdf5t8Nij4TNJN7hi4    epay.info\n",
      "21616499  1BqciLwW1rm7GVWPyqgkhqtqYdhy1sSgtK    epay.info\n",
      "21616500  12D5aJQQ7JsRdh42wdMwBFLYVLSFmh2RY2    epay.info\n",
      "\n",
      "[13993053 rows x 2 columns]\n",
      "['coinurl.com', 'bitcoinp2p.com.br', 'unknown_large_wallet_02', 'coinjar.com', 'cryptopay.me', 'orderbook.net', 'anonibet.com', 'coinmkt.com', 'haobtc.com', 'bitlaunder.com', 'bleutrade.com', 'paxful.com', 'btc38.com', 'antpool.com', 'cannabisroadmarket', 'betcoin.tm', 'bitnz.com', 'coinhako.com', 'coinbox.me', 'yobit.net', 'blackbankmarket', 'btcguild.com', 'btcc.com', 'btcmarkets.net', 'updown.bt', 'masterxchange.com', 'okcoin.com', 'bit-x.com', 'coinomat.com', 'bitoex.com', 'coingaming.io', 'coinkite.com', 'bitcoinica.com', 'bitoomba.com', 'hitbtc.com', 'securevpn.to', 'btcoracle.com', 'bitmillions.com', 'chainroll.com', 'coinroyale.com', 'satoshimines.com', 'bitcoinvietnam.com.vn', 'betchain.com', 'virwox.com', 'coinvault', 'bitvc.com', 'btcexchange.ro', 'btcst.com', 'everydice.com', 'crimenetwork.cc', 'oklink.com', 'campbx.com', 'diceoin.io', 'silkroad2market', 'satoshicircle.com', 'bitcoin-roulette.com', 'coinmate.io', 'sealswithclubs.eu', 'just-dice.com', 'playt.in', 'crimenetwork.biz', 'brawker.com', 'bitfinex.com', 'bitstarz.com', 'bityes.com', 'bitpay.com', 'crypto-games.net', 'pocketrocketscasino.eu', 'pandoraopenmarket', 'cloudhashing.com', 'vircurex.com', 'cloudbet.com', 'vip72.com', 'doctordmarket', 'birwo.com', 'chbtc.com', 'btccpool', 'btclend.org', 'bitmit.net', 'telco214', 'coinimal.com', 'blocktrades.us', 'ponzicoin.co', '796.com', 'allcrypt.com', 'igot.com', 'vaultoro.com', 'simplecoin.cz', 'btcjam.com', 'rollin.io', 'bitelfin.com', 'dicebitco.in', 'cavirtex.com', 'kraken.com', 'cryptorush.in', 'coinbroker.io', 'kano.is', 'holytransaction.com', 'comkort.com', 'admiralcoin.com', 'bitbargain.co.uk', 'zyado.com', 'bitcash.cz', 'gatecoin.com', 'hashnest.com', '10xbitco.in', 'ice-dice.com', 'coinarch.com', 'exchangemycoins.com', 'bitcoinpokertables.com', 'ccedk.com', 'unknown_large_wallet_03', 'mcxnow.com', 'loanbase.com', 'dagensia.eu', 'slushpool.com', 'cubits.com', 'exchange-credit.ru', 'abraxasmarket', 'satoshidice.com', 'agoramarket', 'diceoncrack.com', 'bittrex.com', 'bx.in.th', 'pocketdice.io', 'coinmotion.com', 'blueskymarketplace', 'peerbet.org', 'coinworker.com', 'bitcoinwebank.com', 'satoshiroulette.com', 'bitso.com', 'cryptsy.com', 'cryptonator.com', 'satoshibet.com', 'deepbit.net', 'coins-e.com', 'crimenet.biz', 'poloniex.com', 'alphabaymarket', 'spectrocoin.com', 'crimenetwork.co', 'bitcoinvideocasino.com', 'btct.com', 'moonbit.co.in', 'banx.io', 'leancy.com', 'changetip.com', 'unknown_large_wallet_01', 'coin-sweeper.com', 'bitfury.org', 'mercadobitcoin.com.br', 'vic-socks.to', 'betmoose.com', 'quadrigacx.com', 'justcoin.com', 'cryptonit.net', 'btctrade.com', 'fybsg.com', 'bylls.com', 'foxbit.com.br', '777coin.com', 'primedice.com', 'cex.io', 'bitzillions.com', 'usecryptos.com', 'bitcoin.de', 'mpex.co', 'korbit.co.kr', 'indacoin.com', 'bitstamp.net', 'bitbay.net', 'exchanging.ir', 'allcoin.com', 'actioncrypto.com', 'lakebtc.com', 'mintpal.com', 'dadice.com', 'bitcoinfog', 'luno.com', 'nucleusmarket', 'bitclix.com', 'bitaces.me', 'minefield.bitcoinlab.org', 'instawallet.org', 'betcoins.net', 'btradeaustralia.com', 'safedice.com', 'coin.mx', 'cryptobounty.com', 'betcoindice.tm', 'epay.info', 'secondstrade.com', 'middleearthmarketplace', 'matbea.com', 'genesis-mining.com', 'c-cex.com', 'cryptostocks.com', 'luckyb.it', 'bter.com', 'exmo.com', 'greenroadmarket', 'bitzino.com', 'coinapult.com', 'urdubit.com', 'paymium.com', 'ghash.io', 'coin-swap.net', 'cointrader.net', 'helix', 'localbitcoins.com', 'pinballcoin.com', 'gocelery.com', 'fortunejack.com', 'europex.eu', 'dicenow.com', 'binance.com', 'germanplazamarket', 'watchmybit.com', 'bitcurex.com', 'coinchimp.com', 'coinspot.com.au', 'therocktrading.com', 'happycoins.com', 'empoex.com', '999dice.com', 'nitrogensports.eu', 'swcpoker.eu', 'btcdice.com', 'jetwin.com', 'sheepmarketplace', '50btc.com', 'babylonmarket', 'suzukidice.com', '1coin.com', 'bitminter.com', 'coincafe.com', 'cryptolocker', 'evolutionmarket', 'vaultofsatoshi.com', 'xapo.com', 'purse.io', 'anxpro.com', 'fairproof.com', 'eligius.st', 'bitkonan.com', 'yabtcl.com', 'faucetbox.com', 'bitzlato.com', 'mexbt.com', 'dgex.com', 'eclipsemc.com', 'bitcoinwallet.com', 'bw.com', 'huobi.com', 'btcpop.co', 'crypto-trade.com', 'clevercoin.com', 'bitbond.com', 'satoshi-karoshi.com', 'maicoin.com', 'bitcoin-24.com', 'coingi.com', 'coinichiwa.com', 'strongcoin.com-fee', 'litebit.eu', 'kncminer.com', 'betcoin.ag', 'betsofbitco.in', 'coinroll.com', 'inputs.io', 'btc-e.com']\n",
      "['12sDU3FyYJXc2oRzE6XXuuhVHCBJvaoCC8', '1348ThkNoDupq1bws95diMiL8haGs61K7M', '13Pcmh4dKJE8Aqrhq4ZZwmM1sbKFcMQEEV', '15K9Zj1AU2hjT3ebZMtWqDsMv3fFxTNwpf', '164fawNZVwsR5SamAJypvCMtkMx4Xv1B3f', '179bzhS4FY7qLDza9YjuorhWyXVVYZu2YH', '17QAWGVpFV4gZ25NQug46e5mBho4uDP6MD', '17UUXDzPGkMwWrabhtk7YCha88tSoua2Vr', '19D1iGzDr7FyAdiy3ZZdxMd6ttHj1kj6WW', '19XVEDZCGVMA9WCF1qUayxtnjUnyD7zDDQ', '1BPf9qr7M5xUgNHUYtrQtEKvUKcyERzXao', '1C6hetVWVXZnS6P2BYBNu5Y1ZJ57JyXGac', '1DrhHEkv42JVwiDQNi28JFdSuiSGgPNXwP', '1EDcKCRypUTFoTZbxDWF9MBAT4W7XUGB32', '1EfmRn6Bp3cjrTBubaH8MzRRc2ikSjNGXw', '1EnX6BuJiGWydqXJT9BN5dSvfLg3QW4Mdz', '1EVTZmTMqZPMzGxsug9TXBtvPJZH8dXSCK', '1EYya5dfNvuYDwpeboGKBtkXzJcEHMCQXR', '1GALPyvUDDXqA6H2eHQ9Y1yidfQ6T1Drvn', '1GC2SjzCyCwxo1uxTi28oqn9L3mJj7bLPs', '1Gg25VzQkqCizXHNSNet4RoysLEe19su4s', '1JpSBaUwrZaEgmsYka7mzm9t3Z4syyaw7A', '1LhRW1msre1cFgT7fBY2BRrZ4ANMPwVj9u', '1Lm9BCDUKoBUk888DCXewM5p8bJyr83cEp', '1LPTaRfyoNwvwAtmYzcetZLjBfUxVkJrr4', '1MMaU5nTrFdPZotfwdbv1wWnFjLCTFbpPY', '1uLdz4wXrcXjCy2CqLWuJUiE85Y7SJ1ge', '1ULEqcd5te8AWqFpH7HD4KvJZ1AKcJPam', '31yqH1jVEPDJ7x9L648Ec5umM2G3zNDoe5', '3422VtS7UtCvXYxoXMVp6eZupR252z85oC', '3FWSkG5NmyXF3rqMav7piXiJUDYzKpgFRT', '3HQJ9ta7TmYNRjkbY3nbMGdHzNCCiXs3Ui', '3MhdvQccMd5zAh92WrW7SpcHXwfW1uiamD', '3PajPWymUexhewHPczmLQ8CMYatKAGNj3y', 'bc1qg9h7s7hn4t9m7uw26gnwfm7xfxk77fkj878sg3']\n"
     ]
    }
   ],
   "source": [
    "%run WalletClustering_AddressIdentification.ipynb # also includes running WalletClustering_neo4jConnect notebook\n",
    "# methods & variables of notebook can be referenced"
   ]
  },
  {
   "cell_type": "code",
   "execution_count": 5,
   "metadata": {},
   "outputs": [],
   "source": [
    "# only to remember lists\n",
    "assocBlacklist = pickle.load(open('output\\\\assocBlacklist.pickle', 'rb'))"
   ]
  },
  {
   "cell_type": "markdown",
   "metadata": {},
   "source": [
    "# DEFINE: Make graph of flows"
   ]
  },
  {
   "cell_type": "markdown",
   "metadata": {},
   "source": [
    "## check for blacklisted association"
   ]
  },
  {
   "cell_type": "code",
   "execution_count": 6,
   "metadata": {},
   "outputs": [],
   "source": [
    "#check if association is part of blacklisted associations\n",
    "def assocBlacklistCheck(association, blacklistToCheckAgainst = assocBlacklist):\n",
    "    if association in assocBlacklist:\n",
    "        return True\n",
    "    else:\n",
    "        return False"
   ]
  },
  {
   "cell_type": "markdown",
   "metadata": {},
   "source": [
    "## query for input address association"
   ]
  },
  {
   "cell_type": "code",
   "execution_count": 7,
   "metadata": {},
   "outputs": [],
   "source": [
    "def getAssoc(address, blacklistCheck = 'on'):\n",
    "    # return association of input address\n",
    "    assocTemplate = '''\n",
    "    MATCH (a:Address {address: \"%s\"})\n",
    "    RETURN a.association\n",
    "    '''\n",
    "\n",
    "    association = conn.query(assocTemplate % address, db='neo4j')\n",
    "    \n",
    "    if association[0][0] is None:\n",
    "        # run MI heuristic on address and query again\n",
    "        addresses, association = iterMultiInputClustering_chunks(address) #should also flag new association in neo4J\n",
    "        return association\n",
    "\n",
    "    else:\n",
    "        if blacklistCheck == 'on':\n",
    "            if assocBlacklistCheck(association, assocBlacklist):\n",
    "                #throw exception in case association is blacklisted\n",
    "                raise Exception('Blacklist')\n",
    "            else:\n",
    "                return association[0][0]\n",
    "        else:\n",
    "            return association[0][0]"
   ]
  },
  {
   "cell_type": "markdown",
   "metadata": {},
   "source": [
    "## gather input and output addresses to association"
   ]
  },
  {
   "cell_type": "code",
   "execution_count": 8,
   "metadata": {},
   "outputs": [],
   "source": [
    "def get_Inputs(query_Input):\n",
    "    response = conn.query(query_Input, db='neo4j')\n",
    "    rows_list = []\n",
    "    for record in response:\n",
    "        dict1 = {}\n",
    "        new_row = {'Input_Addresses':record[0]._properties[\"address\"],\n",
    "        'Value_Received_from_Inp':record[1], 'Value_Send_from_Inp':record[2], \n",
    "        'Transaction_ID':record[3], 'Association':record[4]}\n",
    "        dict1.update(new_row)\n",
    "        rows_list.append(dict1)\n",
    "    input_df = pd.DataFrame(rows_list) \n",
    "    return input_df  "
   ]
  },
  {
   "cell_type": "code",
   "execution_count": 9,
   "metadata": {},
   "outputs": [],
   "source": [
    "def get_Outputs(query_Output):\n",
    "    response = conn.query(query_Output, db='neo4j')\n",
    "    rows_list = []\n",
    "    for record in response:\n",
    "        dict1 = {}\n",
    "        new_row = {'Output_Addresses':record[0]._properties[\"address\"],\n",
    "        'Value_send_to_Outp':record[1], 'Value_rec_from_Outp':record[2],\n",
    "        'Transaction_ID':record[3], 'Association':record[4]}\n",
    "        dict1.update(new_row)\n",
    "        rows_list.append(dict1)\n",
    "    output_df = pd.DataFrame(rows_list) \n",
    "    return output_df"
   ]
  },
  {
   "cell_type": "code",
   "execution_count": 10,
   "metadata": {},
   "outputs": [],
   "source": [
    "#get all addresses and their associations that are either output or input to an association (user)\n",
    "def getInputs_Outputs(association):\n",
    "    \n",
    "    query_for_Outputs = \"\"\"\n",
    "    Match (a:Address {association: \"%s\"})-[send:SENDS]->(t:Transaction)-[r:RECEIVES]->(out:Address)\n",
    "    return out as Output_Addresses, send.value as Value_send_to_Outp,r.value as Value_rec_from_Outp,\n",
    "     t.txid as Transaction_ID, out.association as Association\"\"\"\n",
    "\n",
    "    userOutput = get_Outputs(query_for_Outputs % association)\n",
    "\n",
    "    query_for_Inputs = \"\"\"\n",
    "    Match (input:Address)-[s:SENDS]->(t:Transaction)-[r:RECEIVES]->(a:Address {association: \"%s\"})\n",
    "    return input as Input_Addresses, r.value as Value_Received_from_Inp,s.value as Value_Send_from_Inp,\n",
    "    t.txid as Transaction_ID, input.association as Association\"\"\"\n",
    "\n",
    "    \n",
    "    userInput = get_Inputs(query_for_Inputs % association)\n",
    "\n",
    "    return userOutput, userInput"
   ]
  },
  {
   "cell_type": "markdown",
   "metadata": {},
   "source": [
    "## query for input and output address asociations"
   ]
  },
  {
   "cell_type": "code",
   "execution_count": 11,
   "metadata": {},
   "outputs": [],
   "source": [
    "def buildFlowGraph(queryInput, queryType):\n",
    "    if queryType == 'Address':\n",
    "        print('Queried address: '+queryInput)\n",
    "        try:\n",
    "            association = getAssoc(queryInput)\n",
    "            print('Association of queried address: '+association)\n",
    "        except:\n",
    "            raise Exception('Association of queried address is blacklisted.')\n",
    "    elif queryType == 'Association':\n",
    "        print('Queried association: '+queryInput)\n",
    "        if not assocBlacklistCheck(queryInput, assocBlacklist):\n",
    "            association = queryInput\n",
    "        else:\n",
    "            raise Exception('Queried association is blacklisted.') \n",
    "    else:\n",
    "        raise Exception('Define query type \"Address\" or \"Association\".') \n",
    "    \n",
    "    nodes = []\n",
    "    nodes.append(association)\n",
    "\n",
    "    outputs, inputs = getInputs_Outputs(association)\n",
    "    print(outputs)\n",
    "   \n",
    "    outputAssocs = []\n",
    "    for index, o in outputs.iterrows():\n",
    "        if o['Association'] is not None:\n",
    "            outputAssocs.append(o['Association'])\n",
    "        else:\n",
    "           outputAssocs.append(getAssoc(o['Output_Addresses'], 'Blacklist_allowed')) #allows blacklisted associations to be shown as receiving nodes. \n",
    "    outputAssocs = list(set(outputAssocs))\n",
    "    print('Receiving associations of outgoing transactions:')   \n",
    "    print(outputAssocs)\n",
    "    nodes.append(outputAssocs)\n",
    "    \n",
    "    inputAssocs = []\n",
    "    for index, i in inputs.iterrows():\n",
    "        if i['Association'] is not None:\n",
    "            inputAssocs.append(i['Association'])\n",
    "        else:\n",
    "            inputAssocs.append(getAssoc(i['Input_Addresses'], 'Blacklist_allowed')) #allows blacklisted associations to be shown as sending nodes.\n",
    "    inputAssocs = list(set(inputAssocs))\n",
    "    print('Sending associations of incoming transactions:')\n",
    "    print(inputAssocs)\n",
    "    nodes.append(inputAssocs)\n",
    "\n",
    "    #export nodes to file for dahsboard\n",
    "    with open('output\\\\flowGraph_nodes.pickle', 'wb') as export:\n",
    "        pickle.dump(nodes, export)\n",
    "\n",
    "    outputEdges, inputEdges = getInputs_Outputs(association)\n",
    "    \n",
    "    #export input edges to file for dashboard\n",
    "    with open('output\\\\flowGraph_inEdges.pickle', 'wb') as export:\n",
    "        pickle.dump(inputEdges, export)\n",
    "    \n",
    "    #export output edges to file for dashboard\n",
    "    with open('output\\\\flowGraph_outEdges.pickle', 'wb') as export:\n",
    "        pickle.dump(outputEdges, export)\n",
    "\n",
    "    print(outputs)\n",
    "    print(inputs)\n",
    "\n",
    "    # build graph (adjust to use case)\n",
    "    dot = Digraph()\n",
    "    dot.node(association, association)\n",
    "        \n",
    "    for outNode in outputAssocs:\n",
    "        dot.node(outNode, outNode)\n",
    "        dot.edge(association, outNode)\n",
    "\n",
    "    for inNode in inputAssocs:\n",
    "        dot.node(inNode, inNode)\n",
    "        dot.edge(inNode, association)\n",
    "        \n",
    "    return dot"
   ]
  },
  {
   "cell_type": "markdown",
   "metadata": {},
   "source": [
    "## include transaction information in graph"
   ]
  },
  {
   "cell_type": "code",
   "execution_count": 12,
   "metadata": {},
   "outputs": [],
   "source": [
    "def getUserTransactionData(association, outputNodes, inputNodes):\n",
    "    userOutputTransactionDataTemplate = '''\n",
    "        MATCH (u:Address{association:\"%s\"})-[:SENDS]->(t:Transaction)-[:SENDS]->(o:Address{association:\"%s\"}),\n",
    "        (u:Address)-[:SENDS]->(t:Transaction)-[:SENDS]->(o:Address)\n",
    "        RETURN DISTINCT o\n",
    "        ''' "
   ]
  },
  {
   "cell_type": "markdown",
   "metadata": {},
   "source": [
    "# RUN: Make graph of flows"
   ]
  },
  {
   "cell_type": "code",
   "execution_count": 13,
   "metadata": {},
   "outputs": [],
   "source": [
    "queriedAddress = '12sDU3FyYJXc2oRzE6XXuuhVHCBJvaoCC8'\n",
    "queriedAssociation = 'ze3ws3ckYylbZwpXj6xNRXSBeRkenIzY'\n"
   ]
  },
  {
   "cell_type": "code",
   "execution_count": 14,
   "metadata": {},
   "outputs": [
    {
     "name": "stdout",
     "output_type": "stream",
     "text": [
      "Queried address: 12sDU3FyYJXc2oRzE6XXuuhVHCBJvaoCC8\n",
      "Association of queried address: yYiOdGN2a2TGR8GBwrMtk1CkMAFUcaan\n",
      "                     Output_Addresses  Value_send_to_Outp  \\\n",
      "0  1FoWyxwPXuj4C6abqwhjDWdz6D4PZgYRjA              500000   \n",
      "1  12sDU3FyYJXc2oRzE6XXuuhVHCBJvaoCC8              500000   \n",
      "2  1FoWyxwPXuj4C6abqwhjDWdz6D4PZgYRjA              494281   \n",
      "3  12sDU3FyYJXc2oRzE6XXuuhVHCBJvaoCC8              494281   \n",
      "4  1FoWyxwPXuj4C6abqwhjDWdz6D4PZgYRjA              489847   \n",
      "5  12sDU3FyYJXc2oRzE6XXuuhVHCBJvaoCC8              489847   \n",
      "6  1FoWyxwPXuj4C6abqwhjDWdz6D4PZgYRjA              485413   \n",
      "7  12sDU3FyYJXc2oRzE6XXuuhVHCBJvaoCC8              485413   \n",
      "8  1FoWyxwPXuj4C6abqwhjDWdz6D4PZgYRjA              478028   \n",
      "9  12sDU3FyYJXc2oRzE6XXuuhVHCBJvaoCC8              478028   \n",
      "\n",
      "   Value_rec_from_Outp                                     Transaction_ID  \\\n",
      "0                  546  3a785a153bfd7d77bdf7b8dcce6ba24feeb9b1bffdb723...   \n",
      "1               494281  3a785a153bfd7d77bdf7b8dcce6ba24feeb9b1bffdb723...   \n",
      "2                  546  1b1be7bab9f905ffcf083e3483705f0e621a9518930b69...   \n",
      "3               489847  1b1be7bab9f905ffcf083e3483705f0e621a9518930b69...   \n",
      "4                  546  6da7a5d3797a1457a7910804128b53b82640a621d848ce...   \n",
      "5               485413  6da7a5d3797a1457a7910804128b53b82640a621d848ce...   \n",
      "6                  546  4e143d01a5febf5b7085dc393114c176594b580ce26bb2...   \n",
      "7               478028  4e143d01a5febf5b7085dc393114c176594b580ce26bb2...   \n",
      "8                  546  9252559abd14106761c92b0e14489e9018365882fe12f6...   \n",
      "9               470643  9252559abd14106761c92b0e14489e9018365882fe12f6...   \n",
      "\n",
      "                        Association  \n",
      "0  ze3ws3ckYylbZwpXj6xNRXSBeRkenIzY  \n",
      "1  yYiOdGN2a2TGR8GBwrMtk1CkMAFUcaan  \n",
      "2  ze3ws3ckYylbZwpXj6xNRXSBeRkenIzY  \n",
      "3  yYiOdGN2a2TGR8GBwrMtk1CkMAFUcaan  \n",
      "4  ze3ws3ckYylbZwpXj6xNRXSBeRkenIzY  \n",
      "5  yYiOdGN2a2TGR8GBwrMtk1CkMAFUcaan  \n",
      "6  ze3ws3ckYylbZwpXj6xNRXSBeRkenIzY  \n",
      "7  yYiOdGN2a2TGR8GBwrMtk1CkMAFUcaan  \n",
      "8  ze3ws3ckYylbZwpXj6xNRXSBeRkenIzY  \n",
      "9  yYiOdGN2a2TGR8GBwrMtk1CkMAFUcaan  \n",
      "Receiving associations of outgoing transactions:\n",
      "['ze3ws3ckYylbZwpXj6xNRXSBeRkenIzY', 'yYiOdGN2a2TGR8GBwrMtk1CkMAFUcaan']\n",
      "Sending associations of incoming transactions:\n",
      "['ze3ws3ckYylbZwpXj6xNRXSBeRkenIzY', 'yYiOdGN2a2TGR8GBwrMtk1CkMAFUcaan', '6LjxlCvzxnVaAMo3QuvCyAuyG3fyCyHD', 'FMKb71RPmguLvGGijceGfTeZJWIyYdFI']\n",
      "                     Output_Addresses  Value_send_to_Outp  \\\n",
      "0  1FoWyxwPXuj4C6abqwhjDWdz6D4PZgYRjA              500000   \n",
      "1  12sDU3FyYJXc2oRzE6XXuuhVHCBJvaoCC8              500000   \n",
      "2  1FoWyxwPXuj4C6abqwhjDWdz6D4PZgYRjA              494281   \n",
      "3  12sDU3FyYJXc2oRzE6XXuuhVHCBJvaoCC8              494281   \n",
      "4  1FoWyxwPXuj4C6abqwhjDWdz6D4PZgYRjA              489847   \n",
      "5  12sDU3FyYJXc2oRzE6XXuuhVHCBJvaoCC8              489847   \n",
      "6  1FoWyxwPXuj4C6abqwhjDWdz6D4PZgYRjA              485413   \n",
      "7  12sDU3FyYJXc2oRzE6XXuuhVHCBJvaoCC8              485413   \n",
      "8  1FoWyxwPXuj4C6abqwhjDWdz6D4PZgYRjA              478028   \n",
      "9  12sDU3FyYJXc2oRzE6XXuuhVHCBJvaoCC8              478028   \n",
      "\n",
      "   Value_rec_from_Outp                                     Transaction_ID  \\\n",
      "0                  546  3a785a153bfd7d77bdf7b8dcce6ba24feeb9b1bffdb723...   \n",
      "1               494281  3a785a153bfd7d77bdf7b8dcce6ba24feeb9b1bffdb723...   \n",
      "2                  546  1b1be7bab9f905ffcf083e3483705f0e621a9518930b69...   \n",
      "3               489847  1b1be7bab9f905ffcf083e3483705f0e621a9518930b69...   \n",
      "4                  546  6da7a5d3797a1457a7910804128b53b82640a621d848ce...   \n",
      "5               485413  6da7a5d3797a1457a7910804128b53b82640a621d848ce...   \n",
      "6                  546  4e143d01a5febf5b7085dc393114c176594b580ce26bb2...   \n",
      "7               478028  4e143d01a5febf5b7085dc393114c176594b580ce26bb2...   \n",
      "8                  546  9252559abd14106761c92b0e14489e9018365882fe12f6...   \n",
      "9               470643  9252559abd14106761c92b0e14489e9018365882fe12f6...   \n",
      "\n",
      "                        Association  \n",
      "0  ze3ws3ckYylbZwpXj6xNRXSBeRkenIzY  \n",
      "1  yYiOdGN2a2TGR8GBwrMtk1CkMAFUcaan  \n",
      "2  ze3ws3ckYylbZwpXj6xNRXSBeRkenIzY  \n",
      "3  yYiOdGN2a2TGR8GBwrMtk1CkMAFUcaan  \n",
      "4  ze3ws3ckYylbZwpXj6xNRXSBeRkenIzY  \n",
      "5  yYiOdGN2a2TGR8GBwrMtk1CkMAFUcaan  \n",
      "6  ze3ws3ckYylbZwpXj6xNRXSBeRkenIzY  \n",
      "7  yYiOdGN2a2TGR8GBwrMtk1CkMAFUcaan  \n",
      "8  ze3ws3ckYylbZwpXj6xNRXSBeRkenIzY  \n",
      "9  yYiOdGN2a2TGR8GBwrMtk1CkMAFUcaan  \n",
      "                       Input_Addresses  Value_Received_from_Inp  \\\n",
      "0   1FoWyxwPXuj4C6abqwhjDWdz6D4PZgYRjA                      546   \n",
      "1   1L1WzDvXjMJVXJPijVVZQ2nLDKM5iqCqap                   500000   \n",
      "2   1JwNMGo72d2hxBHQh1XyNr1yB4Gt6fx95U                   500000   \n",
      "3   1AwzkRiEgnPeRfv9U6uWbuJAF8tMvVxibE                   500000   \n",
      "4   19ZCrdhDBGJBiiriEvknhADpBAWJQYZMcV                   500000   \n",
      "5   1FoWyxwPXuj4C6abqwhjDWdz6D4PZgYRjA                      546   \n",
      "6   12sDU3FyYJXc2oRzE6XXuuhVHCBJvaoCC8                   470643   \n",
      "7   1FoWyxwPXuj4C6abqwhjDWdz6D4PZgYRjA                      546   \n",
      "8   12sDU3FyYJXc2oRzE6XXuuhVHCBJvaoCC8                   485413   \n",
      "9   1DUb2YYbQA1jjaNYzVXLZ7ZioEhLXtbUru                      546   \n",
      "10  12sDU3FyYJXc2oRzE6XXuuhVHCBJvaoCC8                   478028   \n",
      "11  12sDU3FyYJXc2oRzE6XXuuhVHCBJvaoCC8                   494281   \n",
      "12  1FoWyxwPXuj4C6abqwhjDWdz6D4PZgYRjA                      546   \n",
      "13  1FoWyxwPXuj4C6abqwhjDWdz6D4PZgYRjA                      546   \n",
      "14  12sDU3FyYJXc2oRzE6XXuuhVHCBJvaoCC8                   489847   \n",
      "\n",
      "    Value_Send_from_Inp                                     Transaction_ID  \\\n",
      "0               1043357  ee083ed94b8239d8694d5cddf2bded70bf26fc9a001ec9...   \n",
      "1                  3000  b6eeee4e46b685058783a34479b6e205c675fd2bf691e9...   \n",
      "2              14042800  b6eeee4e46b685058783a34479b6e205c675fd2bf691e9...   \n",
      "3                438000  b6eeee4e46b685058783a34479b6e205c675fd2bf691e9...   \n",
      "4                 43815  b6eeee4e46b685058783a34479b6e205c675fd2bf691e9...   \n",
      "5               6029078  b2433176574d478781cdb8c52efaa52d9a66e3b1a00b18...   \n",
      "6                478028  9252559abd14106761c92b0e14489e9018365882fe12f6...   \n",
      "7               6593862  8cda03cb732f60d2272d017bd1caf6877eaf73223097ca...   \n",
      "8                489847  6da7a5d3797a1457a7910804128b53b82640a621d848ce...   \n",
      "9              27466181  6c66e83950fd7cac2b3ea0ededea41f02f4fee177dc373...   \n",
      "10               485413  4e143d01a5febf5b7085dc393114c176594b580ce26bb2...   \n",
      "11               500000  3a785a153bfd7d77bdf7b8dcce6ba24feeb9b1bffdb723...   \n",
      "12              1235766  235b665b4efd07e32a7343f4082211225aa0b5599057d4...   \n",
      "13              5976418  1eb84c1c9c0ad5b36161a748a65c52f5b518e0aad39290...   \n",
      "14               494281  1b1be7bab9f905ffcf083e3483705f0e621a9518930b69...   \n",
      "\n",
      "                         Association  \n",
      "0   ze3ws3ckYylbZwpXj6xNRXSBeRkenIzY  \n",
      "1   FMKb71RPmguLvGGijceGfTeZJWIyYdFI  \n",
      "2   FMKb71RPmguLvGGijceGfTeZJWIyYdFI  \n",
      "3   FMKb71RPmguLvGGijceGfTeZJWIyYdFI  \n",
      "4   FMKb71RPmguLvGGijceGfTeZJWIyYdFI  \n",
      "5   ze3ws3ckYylbZwpXj6xNRXSBeRkenIzY  \n",
      "6   yYiOdGN2a2TGR8GBwrMtk1CkMAFUcaan  \n",
      "7   ze3ws3ckYylbZwpXj6xNRXSBeRkenIzY  \n",
      "8   yYiOdGN2a2TGR8GBwrMtk1CkMAFUcaan  \n",
      "9   6LjxlCvzxnVaAMo3QuvCyAuyG3fyCyHD  \n",
      "10  yYiOdGN2a2TGR8GBwrMtk1CkMAFUcaan  \n",
      "11  yYiOdGN2a2TGR8GBwrMtk1CkMAFUcaan  \n",
      "12  ze3ws3ckYylbZwpXj6xNRXSBeRkenIzY  \n",
      "13  ze3ws3ckYylbZwpXj6xNRXSBeRkenIzY  \n",
      "14  yYiOdGN2a2TGR8GBwrMtk1CkMAFUcaan  \n"
     ]
    },
    {
     "data": {
      "text/plain": [
       "'Digraph.gv.pdf'"
      ]
     },
     "execution_count": 14,
     "metadata": {},
     "output_type": "execute_result"
    }
   ],
   "source": [
    "graph = buildFlowGraph(queriedAddress,'Address')\n",
    "graph.render(view=True)"
   ]
  },
  {
   "cell_type": "code",
   "execution_count": 16,
   "metadata": {},
   "outputs": [
    {
     "name": "stdout",
     "output_type": "stream",
     "text": [
      "Queried association: ze3ws3ckYylbZwpXj6xNRXSBeRkenIzY\n"
     ]
    }
   ],
   "source": [
    "graph = buildFlowGraph(queriedAssociation,'Association')\n",
    "graph.render(view=True)"
   ]
  }
 ],
 "metadata": {
  "kernelspec": {
   "display_name": "Python 3.10.4 64-bit",
   "language": "python",
   "name": "python3"
  },
  "language_info": {
   "codemirror_mode": {
    "name": "ipython",
    "version": 3
   },
   "file_extension": ".py",
   "mimetype": "text/x-python",
   "name": "python",
   "nbconvert_exporter": "python",
   "pygments_lexer": "ipython3",
   "version": "3.10.4"
  },
  "orig_nbformat": 4,
  "vscode": {
   "interpreter": {
    "hash": "1d06fc9ed4b774328ae1669b976a7de461f6c6282277a8a3bb34b5a87421f7ca"
   }
  }
 },
 "nbformat": 4,
 "nbformat_minor": 2
}
