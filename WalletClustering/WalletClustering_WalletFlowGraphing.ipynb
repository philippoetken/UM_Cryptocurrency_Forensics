{
 "cells": [
  {
   "cell_type": "markdown",
   "metadata": {},
   "source": [
    "# INSTALL: packages"
   ]
  },
  {
   "cell_type": "code",
   "execution_count": 1,
   "metadata": {},
   "outputs": [
    {
     "name": "stdout",
     "output_type": "stream",
     "text": [
      "Requirement already satisfied: ipynb in c:\\users\\info\\appdata\\local\\programs\\python\\python310\\lib\\site-packages (0.5.1)\n",
      "Note: you may need to restart the kernel to use updated packages.\n"
     ]
    },
    {
     "name": "stderr",
     "output_type": "stream",
     "text": [
      "WARNING: You are using pip version 22.0.4; however, version 22.2 is available.\n",
      "You should consider upgrading via the 'c:\\Users\\info\\AppData\\Local\\Programs\\Python\\Python310\\python.exe -m pip install --upgrade pip' command.\n"
     ]
    }
   ],
   "source": [
    "pip install ipynb"
   ]
  },
  {
   "cell_type": "code",
   "execution_count": 2,
   "metadata": {},
   "outputs": [
    {
     "name": "stdout",
     "output_type": "stream",
     "text": [
      "Requirement already satisfied: graphviz in c:\\users\\info\\appdata\\local\\programs\\python\\python310\\lib\\site-packages (0.20)\n",
      "Note: you may need to restart the kernel to use updated packages.\n"
     ]
    },
    {
     "name": "stderr",
     "output_type": "stream",
     "text": [
      "WARNING: You are using pip version 22.0.4; however, version 22.2 is available.\n",
      "You should consider upgrading via the 'c:\\Users\\info\\AppData\\Local\\Programs\\Python\\Python310\\python.exe -m pip install --upgrade pip' command.\n"
     ]
    }
   ],
   "source": [
    "pip install graphviz"
   ]
  },
  {
   "cell_type": "code",
   "execution_count": 3,
   "metadata": {},
   "outputs": [],
   "source": [
    "import os\n",
    "import pickle\n",
    "from WalletClustering_MIH import iterMultiInputClustering_chunks\n",
    "from graphviz import Digraph\n",
    "import pandas as pd"
   ]
  },
  {
   "cell_type": "markdown",
   "metadata": {},
   "source": [
    "# EXECUTE: WalletClustering_AddressIdentification notebook"
   ]
  },
  {
   "cell_type": "code",
   "execution_count": 4,
   "metadata": {},
   "outputs": [],
   "source": [
    "%run WalletClustering_AddressIdentification.ipynb # also includes running WalletClustering_neo4jConnect notebook\n",
    "# methods & variables of notebook can be referenced"
   ]
  },
  {
   "cell_type": "code",
   "execution_count": null,
   "metadata": {},
   "outputs": [],
   "source": [
    "# only to remember lists\n",
    "assocBlacklist = pickle.load(open('output\\\\assocBlacklist.pickle', 'rb'))"
   ]
  },
  {
   "cell_type": "markdown",
   "metadata": {},
   "source": [
    "# DEFINE: Make graph of flows"
   ]
  },
  {
   "cell_type": "markdown",
   "metadata": {},
   "source": [
    "## check for blacklisted association"
   ]
  },
  {
   "cell_type": "code",
   "execution_count": null,
   "metadata": {},
   "outputs": [],
   "source": [
    "#check if association is part of blacklisted associations\n",
    "def assocBlacklistCheck(association, blacklistToCheckAgainst = assocBlacklist):\n",
    "    if association in assocBlacklist:\n",
    "        return True\n",
    "    else:\n",
    "        return False"
   ]
  },
  {
   "cell_type": "markdown",
   "metadata": {},
   "source": [
    "## query for input address association"
   ]
  },
  {
   "cell_type": "code",
   "execution_count": null,
   "metadata": {},
   "outputs": [],
   "source": [
    "def getAssoc(address, blacklistCheck = 'on'):\n",
    "    # return association of input address\n",
    "    assocTemplate = '''\n",
    "    MATCH (a:Address {address: \"%s\"})\n",
    "    RETURN a.association\n",
    "    '''\n",
    "\n",
    "    association = conn.query(assocTemplate % address, db='neo4j')\n",
    "    \n",
    "    if association[0][0] is None:\n",
    "        # run MI heuristic on address and query again\n",
    "        addresses, association = iterMultiInputClustering_chunks(address) #should also flag new association in neo4J\n",
    "        return association\n",
    "\n",
    "    else:\n",
    "        if blacklistCheck == 'on':\n",
    "            if assocBlacklistCheck(association, assocBlacklist):\n",
    "                #throw exception in case association is blacklisted\n",
    "                raise Exception('Blacklist')\n",
    "            else:\n",
    "                return association[0][0]\n",
    "        else:\n",
    "            return association[0][0]"
   ]
  },
  {
   "cell_type": "markdown",
   "metadata": {},
   "source": [
    "## gather input and output addresses to association"
   ]
  },
  {
   "cell_type": "code",
   "execution_count": null,
   "metadata": {},
   "outputs": [],
   "source": [
    "def get_Inputs(query_Input):\n",
    "    response = conn.query(query_Input, db='neo4j')\n",
    "    rows_list = []\n",
    "    for record in response:\n",
    "        dict1 = {}\n",
    "        new_row = {'Input_Addresses':record[0]._properties[\"address\"],\n",
    "        'Value_Received_from_Inp':record[1], 'Value_Send_from_Inp':record[2], \n",
    "        'Transaction_ID':record[3], 'Association':record[4]}\n",
    "        dict1.update(new_row)\n",
    "        rows_list.append(dict1)\n",
    "    input_df = pd.DataFrame(rows_list) \n",
    "    return input_df  "
   ]
  },
  {
   "cell_type": "code",
   "execution_count": null,
   "metadata": {},
   "outputs": [],
   "source": [
    "def get_Outputs(query_Output):\n",
    "    response = conn.query(query_Output, db='neo4j')\n",
    "    rows_list = []\n",
    "    for record in response:\n",
    "        dict1 = {}\n",
    "        new_row = {'Output_Addresses':record[0]._properties[\"address\"],\n",
    "        'Value_send_to_Outp':record[1], 'Value_rec_from_Outp':record[2],\n",
    "        'Transaction_ID':record[3], 'Association':record[4]}\n",
    "        dict1.update(new_row)\n",
    "        rows_list.append(dict1)\n",
    "    output_df = pd.DataFrame(rows_list) \n",
    "    return output_df"
   ]
  },
  {
   "cell_type": "code",
   "execution_count": null,
   "metadata": {},
   "outputs": [],
   "source": [
    "#get all addresses and their associations that are either output or input to an association (user)\n",
    "def getInputs_Outputs(association):\n",
    "    \n",
    "    query_for_Outputs = \"\"\"\n",
    "    Match (a:Address {association: \"%s\"})-[send:SENDS]->(t:Transaction)-[r:RECEIVES]->(out:Address)\n",
    "    return out as Output_Addresses, send.value as Value_send_to_Outp,r.value as Value_rec_from_Outp,\n",
    "     t.txid as Transaction_ID, out.association as Association\"\"\"\n",
    "\n",
    "    userOutput = get_Outputs(query_for_Outputs % association)\n",
    "\n",
    "    query_for_Inputs = \"\"\"\n",
    "    Match (input:Address)-[s:SENDS]->(t:Transaction)-[r:RECEIVES]->(a:Address {association: \"%s\"})\n",
    "    return input as Input_Addresses, r.value as Value_Received_from_Inp,s.value as Value_Send_from_Inp,\n",
    "    t.txid as Transaction_ID, input.association as Association\"\"\"\n",
    "\n",
    "    \n",
    "    userInput = get_Inputs(query_for_Inputs % association)\n",
    "\n",
    "    return userOutput, userInput"
   ]
  },
  {
   "cell_type": "markdown",
   "metadata": {},
   "source": [
    "## query for input and output address asociations"
   ]
  },
  {
   "cell_type": "code",
   "execution_count": null,
   "metadata": {},
   "outputs": [],
   "source": [
    "def buildFlowGraph(queryInput, queryType):\n",
    "    if queryType == 'Address':\n",
    "        print('Queried address: '+queryInput)\n",
    "        try:\n",
    "            association = getAssoc(queryInput)\n",
    "            print('Association of queried address: '+association)\n",
    "        except:\n",
    "            raise Exception('Association of queried address is blacklisted.')\n",
    "    elif queryType == 'Association':\n",
    "        print('Queried association: '+queryInput)\n",
    "        if not assocBlacklistCheck(queryInput, assocBlacklist):\n",
    "            association = queryInput\n",
    "        else:\n",
    "            raise Exception('Queried association is blacklisted.') \n",
    "    else:\n",
    "        raise Exception('Define query type \"Address\" or \"Association\".') \n",
    "    \n",
    "    nodes = []\n",
    "    nodes.append(association)\n",
    "\n",
    "    outputs, inputs = getInputs_Outputs(association)\n",
    "    \n",
    "    # drop duplicates to avoid running MIH multiple times on same address\n",
    "    outputs = outputs.drop_duplicates('Output_Addresses', keep='first')\n",
    "    inputs = inputs.drop_duplicates('Input_Addresses', keep='first')\n",
    "    print(outputs)\n",
    "    print(inputs) \n",
    "   \n",
    "    outputAssocs = []\n",
    "    for index, o in outputs.iterrows():\n",
    "        if o['Association'] is not None:\n",
    "            outputAssocs.append(o['Association'])\n",
    "        else:\n",
    "           outputAssocs.append(getAssoc(o['Output_Addresses'], 'Blacklist_allowed')) #allows blacklisted associations to be shown as receiving nodes. \n",
    "    outputAssocs = list(set(outputAssocs))\n",
    "    print('Receiving associations of outgoing transactions:')   \n",
    "    print(outputAssocs)\n",
    "    nodes.append(outputAssocs)\n",
    "    \n",
    "    inputAssocs = []\n",
    "    for index, i in inputs.iterrows():\n",
    "        if i['Association'] is not None:\n",
    "            inputAssocs.append(i['Association'])\n",
    "        else:\n",
    "            inputAssocs.append(getAssoc(i['Input_Addresses'], 'Blacklist_allowed')) #allows blacklisted associations to be shown as sending nodes.\n",
    "    inputAssocs = list(set(inputAssocs))\n",
    "    print('Sending associations of incoming transactions:')\n",
    "    print(inputAssocs)\n",
    "    nodes.append(inputAssocs)\n",
    "\n",
    "    #export nodes to file for dahsboard\n",
    "    with open('output\\\\flowGraph_nodes.pickle', 'wb') as export:\n",
    "        pickle.dump(nodes, export)\n",
    "\n",
    "    outputEdges, inputEdges = getInputs_Outputs(association)\n",
    "    \n",
    "    #export input edges to file for dashboard\n",
    "    with open('output\\\\flowGraph_inEdges.pickle', 'wb') as export:\n",
    "        pickle.dump(inputEdges, export)\n",
    "    \n",
    "    #export output edges to file for dashboard\n",
    "    with open('output\\\\flowGraph_outEdges.pickle', 'wb') as export:\n",
    "        pickle.dump(outputEdges, export)\n",
    "\n",
    "    print(outputs)\n",
    "    print(inputs)\n",
    "\n",
    "    # build graph (adjust to use case)\n",
    "    dot = Digraph()\n",
    "    dot.node(association, association)\n",
    "        \n",
    "    for outNode in outputAssocs:\n",
    "        dot.node(outNode, outNode)\n",
    "        dot.edge(association, outNode)\n",
    "\n",
    "    for inNode in inputAssocs:\n",
    "        dot.node(inNode, inNode)\n",
    "        dot.edge(inNode, association)\n",
    "        \n",
    "    return dot"
   ]
  },
  {
   "cell_type": "markdown",
   "metadata": {},
   "source": [
    "# RUN: Make graph of flows"
   ]
  },
  {
   "cell_type": "code",
   "execution_count": null,
   "metadata": {},
   "outputs": [],
   "source": [
    "# queriedAddress = '12sDU3FyYJXc2oRzE6XXuuhVHCBJvaoCC8'\n",
    "# queriedAssociation = 'yYiOdGN2a2TGR8GBwrMtk1CkMAFUcaan'\n",
    "\n",
    "queriedAddress = '1DMcUNysqADX5hJ3naTsEM64GnSpe3nf7y'\n",
    "# queriedAssociation = 'ze3ws3ckYylbZwpXj6xNRXSBeRkenIzY'\n",
    "\n",
    "# queriedAddress = '37sSxTNWhMTN17zAXUzT1fu3sdM9qf1vhm'\n"
   ]
  },
  {
   "cell_type": "code",
   "execution_count": null,
   "metadata": {},
   "outputs": [
    {
     "name": "stdout",
     "output_type": "stream",
     "text": [
      "Queried address: 1DMcUNysqADX5hJ3naTsEM64GnSpe3nf7y\n",
      "Association of queried address: ze3ws3ckYylbZwpXj6xNRXSBeRkenIzY\n",
      "                           Output_Addresses  Value_send_to_Outp  \\\n",
      "0        1FoWyxwPXuj4C6abqwhjDWdz6D4PZgYRjA                 888   \n",
      "1        1PzCxZWHQBYkevm3khCfqNUPgc4R8Hqhmc                 888   \n",
      "2        1DMcUNysqADX5hJ3naTsEM64GnSpe3nf7y           500000000   \n",
      "1753     1KXByq2NKKgjJPVHSs6uztrVM7LYVQkYWe             2000000   \n",
      "1754     1KHRNxJz2sTdJuWHxHAxp8c21SAP8Sj5dr             2000000   \n",
      "...                                     ...                 ...   \n",
      "1860499  1CnGv7bA5LrD22paaxNJAWatzndv1fpzro            10466467   \n",
      "1860509  1EQ98M9Y9ZzXrsptLZTbWZZURGrmKSWhmU             1046635   \n",
      "1860515  1KK1yzW1UPxZRGshQhyjyrYD4cZ15NNdAU            10466258   \n",
      "1860541  1Nf53LhGzj6cae5ZoGXnyoaeFemp8hFE6r            10465922   \n",
      "1860547  39bcLK519ke6xQPjgNkJwiZEQQPCobUpRA            10465892   \n",
      "\n",
      "         Value_rec_from_Outp  \\\n",
      "0                      50000   \n",
      "1                    1000024   \n",
      "2                  499992975   \n",
      "1753               499000000   \n",
      "1754                 1000001   \n",
      "...                      ...   \n",
      "1860499                  546   \n",
      "1860509                  546   \n",
      "1860515                  546   \n",
      "1860541                  546   \n",
      "1860547                  540   \n",
      "\n",
      "                                            Transaction_ID  \\\n",
      "0        ebf02c611b01cd3d485642873d720d07c2fcd5d0dc9210...   \n",
      "1        ebf02c611b01cd3d485642873d720d07c2fcd5d0dc9210...   \n",
      "2        c900d05814c1d935e376ddccc7ca74d88c0154dba97716...   \n",
      "1753     bd1a8173d80890e9703a3360ea6fad652a60134bf80edf...   \n",
      "1754     bd1a8173d80890e9703a3360ea6fad652a60134bf80edf...   \n",
      "...                                                    ...   \n",
      "1860499  71ce2621d61a619f7ff32a8655427682145c39e592c0ba...   \n",
      "1860509  456e2f7c1f9204e5e14f0d091e7d8ae455b0e7034db7df...   \n",
      "1860515  5c042adad1cf1f038771b599bdf690b214a8146be77417...   \n",
      "1860541  216b48d3417a75d4d987f7acfc874e52d3b0c18b93cd08...   \n",
      "1860547  d3da1caf779364875defcfb060fc00a441d2633104802b...   \n",
      "\n",
      "                              Association  \n",
      "0        ze3ws3ckYylbZwpXj6xNRXSBeRkenIzY  \n",
      "1        Z1szVL7sqoeaqpLKwvwZOpsHCpxk28VC  \n",
      "2        ze3ws3ckYylbZwpXj6xNRXSBeRkenIzY  \n",
      "1753              unknown_large_wallet_02  \n",
      "1754     ze3ws3ckYylbZwpXj6xNRXSBeRkenIzY  \n",
      "...                                   ...  \n",
      "1860499  NJZdPlHk8EbJqttvvIjQjPyEf5Nmyvyd  \n",
      "1860509  2B48sPP4gxwKdOaNccWJFWB37zVJY7G5  \n",
      "1860515                              None  \n",
      "1860541                              None  \n",
      "1860547                              None  \n",
      "\n",
      "[378699 rows x 5 columns]\n",
      "                            Input_Addresses  Value_Received_from_Inp  \\\n",
      "0        1DMcUNysqADX5hJ3naTsEM64GnSpe3nf7y                493403525   \n",
      "180      1BestMixVhna91MkP7pKRtjej3bFq6Ze46                      888   \n",
      "2257     1BpZivL2owyUkqFXbc834T2T8FP5qY1UUk                  2000000   \n",
      "2258     14MS72FgWMqQmqGfqEVuh73efqZTzisQx2                  2000000   \n",
      "3474     1NDyJtNTjmwk5xPNhjgAMu4HDHigtobu1s                500000000   \n",
      "...                                     ...                      ...   \n",
      "1775920  1DNQeUsSe9fFvKEPKLRs3ZUG3711oeSVzn                      546   \n",
      "1775927  17uQhhuTzUyTpNBFnGMuh452aaWXcS7hTg                      546   \n",
      "1775930  12EiEKPYaV6ShLy3C2nhP1RYBUUrnVhh73                      546   \n",
      "1775934  1NTuTwoTPSho4LEEvjHSYvpSto7SzEphdw                      546   \n",
      "1775953  1MSS57oC5oGVGNG4979VSov1b97Z6nL379                      546   \n",
      "\n",
      "         Value_Send_from_Inp  \\\n",
      "0                  493410550   \n",
      "180                  1105678   \n",
      "2257               246174200   \n",
      "2258               284941200   \n",
      "3474               785182905   \n",
      "...                      ...   \n",
      "1775920               500000   \n",
      "1775927               500000   \n",
      "1775930               500000   \n",
      "1775934               500000   \n",
      "1775953               500000   \n",
      "\n",
      "                                            Transaction_ID  \\\n",
      "0        ffd1e66e2bf687ce1768c1949705f544c8ceaa5fc8ae00...   \n",
      "180      f39f63281e7df15f418e999bbd8e42c96fe7e06d7c6b7a...   \n",
      "2257     62ad9b413543440c5a0c17968fc6568ef438a832a329be...   \n",
      "2258     62ad9b413543440c5a0c17968fc6568ef438a832a329be...   \n",
      "3474     2d83a62722a31387b4ad4d76390eb0e96bdeaf37258f25...   \n",
      "...                                                    ...   \n",
      "1775920  00082f4697182eb6ee81f13a148380c085bb27f60cd0c7...   \n",
      "1775927  000088100a9c2bec4857320fd547e9991883dc57538f24...   \n",
      "1775930  000085bbbb4105602f2b75e6641e23ad797a756b8b625c...   \n",
      "1775934  0004dec45d88630e3cae703332ec87a04a912d2975a0b1...   \n",
      "1775953  0006e9caee69b037feca6471390fbfb5d311fa0f017f58...   \n",
      "\n",
      "                              Association  \n",
      "0        ze3ws3ckYylbZwpXj6xNRXSBeRkenIzY  \n",
      "180                                  None  \n",
      "2257                                 None  \n",
      "2258                                 None  \n",
      "3474                          binance.com  \n",
      "...                                   ...  \n",
      "1775920                              None  \n",
      "1775927                              None  \n",
      "1775930                              None  \n",
      "1775934                              None  \n",
      "1775953                              None  \n",
      "\n",
      "[207085 rows x 5 columns]\n"
     ]
    }
   ],
   "source": [
    "if queriedAddress:\n",
    "    graph = buildFlowGraph(queriedAddress,'Address')\n",
    "    graph.render(view=True)\n",
    "elif queriedAssociation:\n",
    "    graph = buildFlowGraph(queriedAssociation,'Association')\n",
    "    graph.render(view=True)\n",
    "else:\n",
    "    raise Exception('Please insert address or association to query.')"
   ]
  }
 ],
 "metadata": {
  "kernelspec": {
   "display_name": "Python 3.10.4 64-bit",
   "language": "python",
   "name": "python3"
  },
  "language_info": {
   "codemirror_mode": {
    "name": "ipython",
    "version": 3
   },
   "file_extension": ".py",
   "mimetype": "text/x-python",
   "name": "python",
   "nbconvert_exporter": "python",
   "pygments_lexer": "ipython3",
   "version": "3.10.4"
  },
  "orig_nbformat": 4,
  "vscode": {
   "interpreter": {
    "hash": "1d06fc9ed4b774328ae1669b976a7de461f6c6282277a8a3bb34b5a87421f7ca"
   }
  }
 },
 "nbformat": 4,
 "nbformat_minor": 2
}
