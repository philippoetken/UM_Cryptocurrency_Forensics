{
 "cells": [
  {
   "cell_type": "markdown",
   "metadata": {},
   "source": [
    "# INSTALL: packages"
   ]
  },
  {
   "cell_type": "code",
   "execution_count": 15,
   "metadata": {},
   "outputs": [
    {
     "name": "stdout",
     "output_type": "stream",
     "text": [
      "Requirement already satisfied: ipynb in c:\\users\\info\\appdata\\local\\programs\\python\\python310\\lib\\site-packages (0.5.1)\n",
      "Note: you may need to restart the kernel to use updated packages.\n"
     ]
    },
    {
     "name": "stderr",
     "output_type": "stream",
     "text": [
      "WARNING: You are using pip version 22.0.4; however, version 22.1.2 is available.\n",
      "You should consider upgrading via the 'c:\\Users\\info\\AppData\\Local\\Programs\\Python\\Python310\\python.exe -m pip install --upgrade pip' command.\n"
     ]
    }
   ],
   "source": [
    "pip install ipynb"
   ]
  },
  {
   "cell_type": "code",
   "execution_count": 16,
   "metadata": {},
   "outputs": [
    {
     "name": "stdout",
     "output_type": "stream",
     "text": [
      "Requirement already satisfied: graphviz in c:\\users\\info\\appdata\\local\\programs\\python\\python310\\lib\\site-packages (0.20)Note: you may need to restart the kernel to use updated packages.\n",
      "\n"
     ]
    },
    {
     "name": "stderr",
     "output_type": "stream",
     "text": [
      "WARNING: You are using pip version 22.0.4; however, version 22.1.2 is available.\n",
      "You should consider upgrading via the 'c:\\Users\\info\\AppData\\Local\\Programs\\Python\\Python310\\python.exe -m pip install --upgrade pip' command.\n"
     ]
    }
   ],
   "source": [
    "pip install graphviz"
   ]
  },
  {
   "cell_type": "code",
   "execution_count": 5,
   "metadata": {},
   "outputs": [
    {
     "name": "stdout",
     "output_type": "stream",
     "text": [
      "['12sDU3FyYJXc2oRzE6XXuuhVHCBJvaoCC8', '1348ThkNoDupq1bws95diMiL8haGs61K7M', '13iQsrwBYdrLpnitG5EV79o3PeHjH8XUBc', '13Pcmh4dKJE8Aqrhq4ZZwmM1sbKFcMQEEV', '15K9Zj1AU2hjT3ebZMtWqDsMv3fFxTNwpf', '15soXrE3NJBMkkQhrccXonTT9bpjpPvE67', '164fawNZVwsR5SamAJypvCMtkMx4Xv1B3f', '179bzhS4FY7qLDza9YjuorhWyXVVYZu2YH', '17QAWGVpFV4gZ25NQug46e5mBho4uDP6MD', '17UUXDzPGkMwWrabhtk7YCha88tSoua2Vr', '19D1iGzDr7FyAdiy3ZZdxMd6ttHj1kj6WW', '19XVEDZCGVMA9WCF1qUayxtnjUnyD7zDDQ', '1A7pDH1EdrkH9YZtsPnc8uzirBFnAN9Eay', '1BPf9qr7M5xUgNHUYtrQtEKvUKcyERzXao', '1C6hetVWVXZnS6P2BYBNu5Y1ZJ57JyXGac', '1DrhHEkv42JVwiDQNi28JFdSuiSGgPNXwP', '1EDcKCRypUTFoTZbxDWF9MBAT4W7XUGB32', '1EfmRn6Bp3cjrTBubaH8MzRRc2ikSjNGXw', '1EnX6BuJiGWydqXJT9BN5dSvfLg3QW4Mdz', '1EVTZmTMqZPMzGxsug9TXBtvPJZH8dXSCK', '1EYya5dfNvuYDwpeboGKBtkXzJcEHMCQXR', '1GALPyvUDDXqA6H2eHQ9Y1yidfQ6T1Drvn', '1GC2SjzCyCwxo1uxTi28oqn9L3mJj7bLPs', '1Gg25VzQkqCizXHNSNet4RoysLEe19su4s', '1JpSBaUwrZaEgmsYka7mzm9t3Z4syyaw7A', '1LhRW1msre1cFgT7fBY2BRrZ4ANMPwVj9u', '1Lm9BCDUKoBUk888DCXewM5p8bJyr83cEp', '1LPTaRfyoNwvwAtmYzcetZLjBfUxVkJrr4', '1MMaU5nTrFdPZotfwdbv1wWnFjLCTFbpPY', '1QH9hfeSSb2iftcVpgpQp3NsFD174crFoW', '1uLdz4wXrcXjCy2CqLWuJUiE85Y7SJ1ge', '1ULEqcd5te8AWqFpH7HD4KvJZ1AKcJPam', '31yqH1jVEPDJ7x9L648Ec5umM2G3zNDoe5', '3422VtS7UtCvXYxoXMVp6eZupR252z85oC', '3FWSkG5NmyXF3rqMav7piXiJUDYzKpgFRT', '3HQJ9ta7TmYNRjkbY3nbMGdHzNCCiXs3Ui', '3MhdvQccMd5zAh92WrW7SpcHXwfW1uiamD', '3PajPWymUexhewHPczmLQ8CMYatKAGNj3y', 'bc1qg9h7s7hn4t9m7uw26gnwfm7xfxk77fkj878sg3']\n"
     ]
    }
   ],
   "source": [
    "import os\n",
    "import pickle\n",
    "#from ipynb.fs.full.new_WalletClustering_MIH_fast import iterMultiInputClustering\n",
    "from python_functions import iterMultiInputClustering_chunks\n",
    "from graphviz import Digraph\n",
    "import pandas as pd"
   ]
  },
  {
   "cell_type": "code",
   "execution_count": 6,
   "metadata": {},
   "outputs": [
    {
     "name": "stdout",
     "output_type": "stream",
     "text": [
      "Requirement already satisfied: neo4j in c:\\users\\rankl\\appdata\\local\\programs\\python\\python310\\lib\\site-packages (4.4.3)\n",
      "Requirement already satisfied: pytz in c:\\users\\rankl\\appdata\\local\\programs\\python\\python310\\lib\\site-packages (from neo4j) (2022.1)\n",
      "Note: you may need to restart the kernel to use updated packages.\n"
     ]
    },
    {
     "name": "stderr",
     "output_type": "stream",
     "text": [
      "WARNING: You are using pip version 22.0.4; however, version 22.1.2 is available.\n",
      "You should consider upgrading via the 'c:\\Users\\rankl\\AppData\\Local\\Programs\\Python\\Python310\\python.exe -m pip install --upgrade pip' command.\n"
     ]
    }
   ],
   "source": [
    "%run ./WalletClustering_neo4jConnect.ipynb"
   ]
  },
  {
   "cell_type": "markdown",
   "metadata": {},
   "source": [
    "# EXECUTE: WalletClustering_AddressIdentification notebook"
   ]
  },
  {
   "cell_type": "code",
   "execution_count": null,
   "metadata": {},
   "outputs": [],
   "source": [
    "%run WalletClustering_AddressIdentification.ipynb # also includes running WalletClustering_neo4jConnect notebook\n",
    "# methods & variables of notebook can be referenced"
   ]
  },
  {
   "cell_type": "markdown",
   "metadata": {},
   "source": [
    "# EXECUTE: new-WalletClustering_MIH_fast notebook"
   ]
  },
  {
   "cell_type": "code",
   "execution_count": 8,
   "metadata": {},
   "outputs": [
    {
     "name": "stdout",
     "output_type": "stream",
     "text": [
      "Requirement already satisfied: neo4j in c:\\users\\rankl\\appdata\\local\\programs\\python\\python310\\lib\\site-packages (4.4.3)\n",
      "Requirement already satisfied: pytz in c:\\users\\rankl\\appdata\\local\\programs\\python\\python310\\lib\\site-packages (from neo4j) (2022.1)\n",
      "Note: you may need to restart the kernel to use updated packages.\n",
      "['12sDU3FyYJXc2oRzE6XXuuhVHCBJvaoCC8', '1348ThkNoDupq1bws95diMiL8haGs61K7M', '13iQsrwBYdrLpnitG5EV79o3PeHjH8XUBc', '13Pcmh4dKJE8Aqrhq4ZZwmM1sbKFcMQEEV', '15K9Zj1AU2hjT3ebZMtWqDsMv3fFxTNwpf', '15soXrE3NJBMkkQhrccXonTT9bpjpPvE67', '164fawNZVwsR5SamAJypvCMtkMx4Xv1B3f', '179bzhS4FY7qLDza9YjuorhWyXVVYZu2YH', '17QAWGVpFV4gZ25NQug46e5mBho4uDP6MD', '17UUXDzPGkMwWrabhtk7YCha88tSoua2Vr', '19D1iGzDr7FyAdiy3ZZdxMd6ttHj1kj6WW', '19XVEDZCGVMA9WCF1qUayxtnjUnyD7zDDQ', '1A7pDH1EdrkH9YZtsPnc8uzirBFnAN9Eay', '1BPf9qr7M5xUgNHUYtrQtEKvUKcyERzXao', '1C6hetVWVXZnS6P2BYBNu5Y1ZJ57JyXGac', '1DrhHEkv42JVwiDQNi28JFdSuiSGgPNXwP', '1EDcKCRypUTFoTZbxDWF9MBAT4W7XUGB32', '1EfmRn6Bp3cjrTBubaH8MzRRc2ikSjNGXw', '1EnX6BuJiGWydqXJT9BN5dSvfLg3QW4Mdz', '1EVTZmTMqZPMzGxsug9TXBtvPJZH8dXSCK', '1EYya5dfNvuYDwpeboGKBtkXzJcEHMCQXR', '1GALPyvUDDXqA6H2eHQ9Y1yidfQ6T1Drvn', '1GC2SjzCyCwxo1uxTi28oqn9L3mJj7bLPs', '1Gg25VzQkqCizXHNSNet4RoysLEe19su4s', '1JpSBaUwrZaEgmsYka7mzm9t3Z4syyaw7A', '1LhRW1msre1cFgT7fBY2BRrZ4ANMPwVj9u', '1Lm9BCDUKoBUk888DCXewM5p8bJyr83cEp', '1LPTaRfyoNwvwAtmYzcetZLjBfUxVkJrr4', '1MMaU5nTrFdPZotfwdbv1wWnFjLCTFbpPY', '1QH9hfeSSb2iftcVpgpQp3NsFD174crFoW', '1uLdz4wXrcXjCy2CqLWuJUiE85Y7SJ1ge', '1ULEqcd5te8AWqFpH7HD4KvJZ1AKcJPam', '31yqH1jVEPDJ7x9L648Ec5umM2G3zNDoe5', '3422VtS7UtCvXYxoXMVp6eZupR252z85oC', '3FWSkG5NmyXF3rqMav7piXiJUDYzKpgFRT', '3HQJ9ta7TmYNRjkbY3nbMGdHzNCCiXs3Ui', '3MhdvQccMd5zAh92WrW7SpcHXwfW1uiamD', '3PajPWymUexhewHPczmLQ8CMYatKAGNj3y', 'bc1qg9h7s7hn4t9m7uw26gnwfm7xfxk77fkj878sg3']\n"
     ]
    },
    {
     "name": "stderr",
     "output_type": "stream",
     "text": [
      "WARNING: You are using pip version 22.0.4; however, version 22.1.2 is available.\n",
      "You should consider upgrading via the 'c:\\Users\\rankl\\AppData\\Local\\Programs\\Python\\Python310\\python.exe -m pip install --upgrade pip' command.\n"
     ]
    }
   ],
   "source": [
    "# first ensure that only methods are compiled!\n",
    "%run new-WalletClustering_MIH_fast.ipynb \n",
    "# methods & variables of notebook can be referenced"
   ]
  },
  {
   "cell_type": "markdown",
   "metadata": {},
   "source": [
    "# DEFINE: Make graph of flows"
   ]
  },
  {
   "cell_type": "markdown",
   "metadata": {},
   "source": [
    "## create blacklist of associations"
   ]
  },
  {
   "cell_type": "code",
   "execution_count": 11,
   "metadata": {},
   "outputs": [
    {
     "data": {
      "text/plain": [
       "('bleutrade.com',\n",
       " 'btcc.com',\n",
       " 'lakebtc.com',\n",
       " 'Coinmate.io',\n",
       " 'Ccedk.com',\n",
       " 'Coinimal.com',\n",
       " 'Coins-e.com',\n",
       " 'luno.com',\n",
       " 'QuadrigaCX.com',\n",
       " 'FYBSG.com',\n",
       " 'therocktrading.com',\n",
       " 'ChBtc.com',\n",
       " 'CoinCafe.com',\n",
       " 'SimpleCoin.cz',\n",
       " 'yobit.net',\n",
       " 'Vaultoro.com',\n",
       " 'BTradeAustralia.com',\n",
       " 'YoBit.net',\n",
       " 'bter.com',\n",
       " 'bittrex.com',\n",
       " 'TheRockTrading.com',\n",
       " 'kraken.com',\n",
       " 'bitfinex.com',\n",
       " 'CoinHako.com',\n",
       " 'Huobi.com',\n",
       " 'c-cex.com',\n",
       " 'OrderBook.net',\n",
       " 'BitBargain.co.uk',\n",
       " 'hitbtc.com',\n",
       " 'coinhako.com',\n",
       " 'Poloniex.com',\n",
       " 'CoinArch.com',\n",
       " 'happycoins.com',\n",
       " 'spectrocoin.com',\n",
       " 'Coinbroker.io',\n",
       " 'cex.io',\n",
       " 'Indacoin.com',\n",
       " 'bitbargain.co.uk',\n",
       " 'huobi.com',\n",
       " 'BitVC.com',\n",
       " 'Zyado.com',\n",
       " 'virwox.com',\n",
       " 'bitbay.net',\n",
       " 'maicoin.com',\n",
       " 'helix',\n",
       " 'bitkonan.com',\n",
       " 'LiteBit.eu',\n",
       " 'Cex.io',\n",
       " 'Exmo.com',\n",
       " 'coincafe.com',\n",
       " 'anxpro.com',\n",
       " 'CleverCoin.com',\n",
       " 'okcoin.com',\n",
       " '1Coin.com',\n",
       " 'Paxful.com',\n",
       " 'Matbea.com',\n",
       " 'cryptsy.com',\n",
       " 'quadrigacx.com',\n",
       " 'bitcoinp2p.com.br',\n",
       " 'BitBay.net',\n",
       " 'vaultoro.com',\n",
       " 'coinspot.com.au',\n",
       " 'korbit.co.kr',\n",
       " 'matbea.com',\n",
       " 'Bitstamp.net',\n",
       " 'btradeaustralia.com',\n",
       " 'BtcMarkets.net',\n",
       " 'Kraken.com',\n",
       " 'unknown_large_wallet_01',\n",
       " '796.com',\n",
       " 'MaiCoin.com',\n",
       " 'hashnest.com',\n",
       " 'bitcoin.de',\n",
       " 'Vircurex.com',\n",
       " 'Cryptsy.com',\n",
       " 'ExchangeMyCoins.com',\n",
       " 'VirWoX.com',\n",
       " 'bit-x.com',\n",
       " 'banx.io',\n",
       " 'Btc38.com',\n",
       " 'cryptonit.net',\n",
       " 'OKCoin.com',\n",
       " 'Bleutrade.com',\n",
       " 'BitcoinVietnam.com.vn',\n",
       " 'btc-e.com',\n",
       " 'MercadoBitcoin.com.br',\n",
       " 'fybsg.com',\n",
       " 'binance.com',\n",
       " 'BX.in.th',\n",
       " 'coinmotion.com',\n",
       " 'Exchange-Credit.ru',\n",
       " 'blocktrades.us',\n",
       " 'Hashnest.com',\n",
       " 'SpectroCoin.com',\n",
       " 'bitstamp.net',\n",
       " 'Cryptonit.net',\n",
       " 'bx.in.th',\n",
       " 'simplecoin.cz',\n",
       " 'BtcTrade.com',\n",
       " 'CampBX.com',\n",
       " 'unknown_large_wallet_03',\n",
       " 'Igot.com',\n",
       " 'Korbit.co.kr',\n",
       " 'Exchanging.ir',\n",
       " 'EmpoEX.com',\n",
       " 'Bit-x.com',\n",
       " 'CoinMotion.com',\n",
       " 'LocalBitcoins.com',\n",
       " 'Bitfinex.com',\n",
       " 'vircurex.com',\n",
       " 'bitcurex.com',\n",
       " 'BlockTrades.us',\n",
       " 'bitzlato.com',\n",
       " 'HappyCoins.com',\n",
       " 'Bitcurex.com',\n",
       " 'mercadobitcoin.com.br',\n",
       " 'Bittrex.com',\n",
       " 'BTCC.com',\n",
       " 'BitKonan.com',\n",
       " 'CoinChimp.com',\n",
       " 'CoinTrader.net',\n",
       " 'C-Cex.com',\n",
       " 'coinmate.io',\n",
       " 'urdubit.com',\n",
       " 'localbitcoins.com',\n",
       " 'FoxBit.com.br',\n",
       " 'foxbit.com.br',\n",
       " 'Cavirtex.com',\n",
       " 'Coinomat.com',\n",
       " 'mexbt.com',\n",
       " 'Banx.io',\n",
       " 'AnxPro.com',\n",
       " 'paxful.com',\n",
       " 'Gatecoin.com',\n",
       " 'Bitso.com',\n",
       " 'BTC-e.com',\n",
       " 'UseCryptos.com',\n",
       " 'MeXBT.com',\n",
       " 'coingi.com',\n",
       " 'Bter.com',\n",
       " 'CoinSpot.com.au',\n",
       " 'Coingi.com',\n",
       " 'Bitcoin.de',\n",
       " 'Luno.com',\n",
       " 'btctrade.com',\n",
       " 'HitBtc.com',\n",
       " 'LakeBTC.com',\n",
       " 'poloniex.com',\n",
       " 'unknown_large_wallet_02')"
      ]
     },
     "execution_count": 11,
     "metadata": {},
     "output_type": "execute_result"
    }
   ],
   "source": [
    "def createAssocBlacklist():\n",
    "    # use existing assocBlacklist if exists\n",
    "    if not os.path.exists('output\\\\assocBlacklist.pickle'):\n",
    "        assocBlacklistDf = pickle.load(open('output\\\\blacklistAddresses.pickle', 'rb'))\n",
    "        assocBlacklistDf = assocBlacklistDf.drop_duplicates('association', keep='first')\n",
    "        assocBlacklist = assocBlacklistDf['association'].tolist()\n",
    "\n",
    "        with open('output\\\\assocBlacklist.pickle', 'wb') as export:\n",
    "            pickle.dump(set(assocBlacklist), export)\n",
    "\n",
    "    assocBlacklist = pickle.load(open('output\\\\assocBlacklist.pickle', 'rb'))\n",
    "\n",
    "    # this line is necessary to fix unhashable type list in assocBlacklistCheck function\n",
    "    # See here: http://net-informations.com/python/iq/unhashable.htm\n",
    "    tuple_assocBlacklist = tuple(assocBlacklist)\n",
    "    return tuple_assocBlacklist\n",
    "createAssocBlacklist()"
   ]
  },
  {
   "cell_type": "markdown",
   "metadata": {},
   "source": [
    "## check for blacklisted association"
   ]
  },
  {
   "cell_type": "code",
   "execution_count": 9,
   "metadata": {},
   "outputs": [],
   "source": [
    "#check if association is part of blacklisted associations\n",
    "def assocBlacklistCheck(association, assocBlacklist):\n",
    "    if association in assocBlacklist:\n",
    "        return True\n",
    "    else:\n",
    "        return False"
   ]
  },
  {
   "cell_type": "markdown",
   "metadata": {},
   "source": [
    "## query for input address association"
   ]
  },
  {
   "cell_type": "code",
   "execution_count": 12,
   "metadata": {},
   "outputs": [
    {
     "data": {
      "text/plain": [
       "'YdMaeT9z9LUl3d2kaKvKuwCBhxnlKh3Z'"
      ]
     },
     "execution_count": 12,
     "metadata": {},
     "output_type": "execute_result"
    }
   ],
   "source": [
    "def getAssoc(address):\n",
    "    # return association of input address\n",
    "    assocTemplate = '''\n",
    "    MATCH (a:Address {address: \"%s\"})\n",
    "    RETURN a.association\n",
    "    '''\n",
    "\n",
    "    association = conn.query(assocTemplate % address, db='neo4j')\n",
    "    \n",
    "    if association[0][0] is None:\n",
    "        # run MI heuristic on address and query again\n",
    "        addresses, association = iterMultiInputClustering_chunks(address) #should also flag new association in neo4J\n",
    "        return association\n",
    "\n",
    "    else:\n",
    "        assocBlacklist = createAssocBlacklist()\n",
    "        if assocBlacklistCheck(association, assocBlacklist):\n",
    "            #throw exception in case association is blacklisted\n",
    "            raise Exception('Blacklist')\n",
    "        else:\n",
    "            return association[0][0]\n",
    "\n",
    "getAssoc(\"1348ThkNoDupq1bws95diMiL8haGs61K7M\")"
   ]
  },
  {
   "cell_type": "markdown",
   "metadata": {},
   "source": [
    "## gather input and output addresses to association"
   ]
  },
  {
   "cell_type": "code",
   "execution_count": 13,
   "metadata": {},
   "outputs": [],
   "source": [
    "def get_Inputs(query_Input):\n",
    "    response = conn.query(query_Input, db='neo4j')\n",
    "    rows_list = []\n",
    "    for record in response:\n",
    "        dict1 = {}\n",
    "        new_row = {'InputAddresses':record[0]._properties[\"address\"],\n",
    "        'Value_Received_from_Inp':record[1], 'Value_Send_from_Inp':record[2], \n",
    "        'Transaction_ID':record[3], 'Association':record[4]}\n",
    "        dict1.update(new_row)\n",
    "        rows_list.append(dict1)\n",
    "    input_df = pd.DataFrame(rows_list) \n",
    "    return input_df  "
   ]
  },
  {
   "cell_type": "code",
   "execution_count": 14,
   "metadata": {},
   "outputs": [],
   "source": [
    "def get_Outputs(query_Output):\n",
    "    response = conn.query(query_Output, db='neo4j')\n",
    "    rows_list = []\n",
    "    for record in response:\n",
    "        dict1 = {}\n",
    "        new_row = {'Output_Addresses':record[0]._properties[\"address\"],\n",
    "        'Value_send_to_Outp':record[1], 'Value_rec_from_Outp':record[2],\n",
    "        'Transaction_ID':record[3], 'Association':record[4]}\n",
    "        dict1.update(new_row)\n",
    "        rows_list.append(dict1)\n",
    "    output_df = pd.DataFrame(rows_list) \n",
    "    return output_df"
   ]
  },
  {
   "cell_type": "code",
   "execution_count": 15,
   "metadata": {},
   "outputs": [],
   "source": [
    "#get all addresses and their associations that are either output or input to an association (user)\n",
    "def getInputs_Outputs(association):\n",
    "    \n",
    "    query_for_Outputs = \"\"\"\n",
    "    Match (a:Address {association: \"%s\"})-[send:SENDS]->(t:Transaction)-[r:RECEIVES]->(out:Address)\n",
    "    return out as Output_Addresses, send.value as Value_send_to_Outp,r.value as Value_rec_from_Outp,\n",
    "     t.txid as Transaction_ID, out.association as Association\"\"\"\n",
    "\n",
    "    userOutput = get_Outputs(query_for_Outputs % association)\n",
    "\n",
    "    query_for_Inputs = \"\"\"\n",
    "    Match (input:Address)-[s:SENDS]->(t:Transaction)-[r:RECEIVES]->(a:Address {association: \"%s\"})\n",
    "    return input as Input_Addresses, r.value as Value_Received_from_Inp,s.value as Value_Send_from_Inp,\n",
    "    t.txid as Transaction_ID, input.association as Association\"\"\"\n",
    "\n",
    "    \n",
    "    userInput = get_Inputs(query_for_Inputs % association)\n",
    "\n",
    "    return userOutput, userInput"
   ]
  },
  {
   "cell_type": "markdown",
   "metadata": {},
   "source": [
    "## query for input and output address asociations"
   ]
  },
  {
   "cell_type": "code",
   "execution_count": 17,
   "metadata": {},
   "outputs": [
    {
     "name": "stdout",
     "output_type": "stream",
     "text": [
      "                     Output_Addresses  Value_send_to_Outp  \\\n",
      "0  1FoWyxwPXuj4C6abqwhjDWdz6D4PZgYRjA              500000   \n",
      "1  12sDU3FyYJXc2oRzE6XXuuhVHCBJvaoCC8              500000   \n",
      "2  1FoWyxwPXuj4C6abqwhjDWdz6D4PZgYRjA              494281   \n",
      "3  12sDU3FyYJXc2oRzE6XXuuhVHCBJvaoCC8              494281   \n",
      "4  1FoWyxwPXuj4C6abqwhjDWdz6D4PZgYRjA              489847   \n",
      "5  12sDU3FyYJXc2oRzE6XXuuhVHCBJvaoCC8              489847   \n",
      "6  1FoWyxwPXuj4C6abqwhjDWdz6D4PZgYRjA              485413   \n",
      "7  12sDU3FyYJXc2oRzE6XXuuhVHCBJvaoCC8              485413   \n",
      "8  1FoWyxwPXuj4C6abqwhjDWdz6D4PZgYRjA              478028   \n",
      "9  12sDU3FyYJXc2oRzE6XXuuhVHCBJvaoCC8              478028   \n",
      "\n",
      "   Value_rec_from_Outp                                     Transaction_ID  \\\n",
      "0                  546  3a785a153bfd7d77bdf7b8dcce6ba24feeb9b1bffdb723...   \n",
      "1               494281  3a785a153bfd7d77bdf7b8dcce6ba24feeb9b1bffdb723...   \n",
      "2                  546  1b1be7bab9f905ffcf083e3483705f0e621a9518930b69...   \n",
      "3               489847  1b1be7bab9f905ffcf083e3483705f0e621a9518930b69...   \n",
      "4                  546  6da7a5d3797a1457a7910804128b53b82640a621d848ce...   \n",
      "5               485413  6da7a5d3797a1457a7910804128b53b82640a621d848ce...   \n",
      "6                  546  4e143d01a5febf5b7085dc393114c176594b580ce26bb2...   \n",
      "7               478028  4e143d01a5febf5b7085dc393114c176594b580ce26bb2...   \n",
      "8                  546  9252559abd14106761c92b0e14489e9018365882fe12f6...   \n",
      "9               470643  9252559abd14106761c92b0e14489e9018365882fe12f6...   \n",
      "\n",
      "                        Association  \n",
      "0  ze3ws3ckYylbZwpXj6xNRXSBeRkenIzY  \n",
      "1  yYiOdGN2a2TGR8GBwrMtk1CkMAFUcaan  \n",
      "2  ze3ws3ckYylbZwpXj6xNRXSBeRkenIzY  \n",
      "3  yYiOdGN2a2TGR8GBwrMtk1CkMAFUcaan  \n",
      "4  ze3ws3ckYylbZwpXj6xNRXSBeRkenIzY  \n",
      "5  yYiOdGN2a2TGR8GBwrMtk1CkMAFUcaan  \n",
      "6  ze3ws3ckYylbZwpXj6xNRXSBeRkenIzY  \n",
      "7  yYiOdGN2a2TGR8GBwrMtk1CkMAFUcaan  \n",
      "8  ze3ws3ckYylbZwpXj6xNRXSBeRkenIzY  \n",
      "9  yYiOdGN2a2TGR8GBwrMtk1CkMAFUcaan  \n",
      "['ze3ws3ckYylbZwpXj6xNRXSBeRkenIzY', 'yYiOdGN2a2TGR8GBwrMtk1CkMAFUcaan', 'ze3ws3ckYylbZwpXj6xNRXSBeRkenIzY', 'yYiOdGN2a2TGR8GBwrMtk1CkMAFUcaan', 'ze3ws3ckYylbZwpXj6xNRXSBeRkenIzY', 'yYiOdGN2a2TGR8GBwrMtk1CkMAFUcaan', 'ze3ws3ckYylbZwpXj6xNRXSBeRkenIzY', 'yYiOdGN2a2TGR8GBwrMtk1CkMAFUcaan', 'ze3ws3ckYylbZwpXj6xNRXSBeRkenIzY', 'yYiOdGN2a2TGR8GBwrMtk1CkMAFUcaan']\n"
     ]
    }
   ],
   "source": [
    "def buildFlowGraph(inputAddress):\n",
    "    try:\n",
    "        association = getAssoc(inputAddress)\n",
    "    except:\n",
    "        raise Exception('FU') # adjust to use case\n",
    "\n",
    "    outputs, inputs = getInputs_Outputs(association)\n",
    "    print(outputs)\n",
    "   \n",
    "    outputAssocs = []\n",
    "    for index, o in outputs.iterrows():\n",
    "        #print(o[\"Association\"])\n",
    "        if o['Association'] is not None:\n",
    "            outputAssocs.append(o['Association'])\n",
    "        else:\n",
    "           outputAssocs.append(getAssoc(o['Output_Addresses']))\n",
    "    print(outputAssocs)\n",
    "\n",
    "buildFlowGraph(\"12sDU3FyYJXc2oRzE6XXuuhVHCBJvaoCC8\")"
   ]
  },
  {
   "cell_type": "code",
   "execution_count": 18,
   "metadata": {},
   "outputs": [
    {
     "name": "stdout",
     "output_type": "stream",
     "text": [
      "                     Output_Addresses  Value_send_to_Outp  \\\n",
      "0  1FoWyxwPXuj4C6abqwhjDWdz6D4PZgYRjA              500000   \n",
      "1  12sDU3FyYJXc2oRzE6XXuuhVHCBJvaoCC8              500000   \n",
      "2  1FoWyxwPXuj4C6abqwhjDWdz6D4PZgYRjA              494281   \n",
      "3  12sDU3FyYJXc2oRzE6XXuuhVHCBJvaoCC8              494281   \n",
      "4  1FoWyxwPXuj4C6abqwhjDWdz6D4PZgYRjA              489847   \n",
      "5  12sDU3FyYJXc2oRzE6XXuuhVHCBJvaoCC8              489847   \n",
      "6  1FoWyxwPXuj4C6abqwhjDWdz6D4PZgYRjA              485413   \n",
      "7  12sDU3FyYJXc2oRzE6XXuuhVHCBJvaoCC8              485413   \n",
      "8  1FoWyxwPXuj4C6abqwhjDWdz6D4PZgYRjA              478028   \n",
      "9  12sDU3FyYJXc2oRzE6XXuuhVHCBJvaoCC8              478028   \n",
      "\n",
      "   Value_rec_from_Outp                                     Transaction_ID  \\\n",
      "0                  546  3a785a153bfd7d77bdf7b8dcce6ba24feeb9b1bffdb723...   \n",
      "1               494281  3a785a153bfd7d77bdf7b8dcce6ba24feeb9b1bffdb723...   \n",
      "2                  546  1b1be7bab9f905ffcf083e3483705f0e621a9518930b69...   \n",
      "3               489847  1b1be7bab9f905ffcf083e3483705f0e621a9518930b69...   \n",
      "4                  546  6da7a5d3797a1457a7910804128b53b82640a621d848ce...   \n",
      "5               485413  6da7a5d3797a1457a7910804128b53b82640a621d848ce...   \n",
      "6                  546  4e143d01a5febf5b7085dc393114c176594b580ce26bb2...   \n",
      "7               478028  4e143d01a5febf5b7085dc393114c176594b580ce26bb2...   \n",
      "8                  546  9252559abd14106761c92b0e14489e9018365882fe12f6...   \n",
      "9               470643  9252559abd14106761c92b0e14489e9018365882fe12f6...   \n",
      "\n",
      "                        Association  \n",
      "0  ze3ws3ckYylbZwpXj6xNRXSBeRkenIzY  \n",
      "1  yYiOdGN2a2TGR8GBwrMtk1CkMAFUcaan  \n",
      "2  ze3ws3ckYylbZwpXj6xNRXSBeRkenIzY  \n",
      "3  yYiOdGN2a2TGR8GBwrMtk1CkMAFUcaan  \n",
      "4  ze3ws3ckYylbZwpXj6xNRXSBeRkenIzY  \n",
      "5  yYiOdGN2a2TGR8GBwrMtk1CkMAFUcaan  \n",
      "6  ze3ws3ckYylbZwpXj6xNRXSBeRkenIzY  \n",
      "7  yYiOdGN2a2TGR8GBwrMtk1CkMAFUcaan  \n",
      "8  ze3ws3ckYylbZwpXj6xNRXSBeRkenIzY  \n",
      "9  yYiOdGN2a2TGR8GBwrMtk1CkMAFUcaan  \n",
      "['ze3ws3ckYylbZwpXj6xNRXSBeRkenIzY', 'yYiOdGN2a2TGR8GBwrMtk1CkMAFUcaan', 'ze3ws3ckYylbZwpXj6xNRXSBeRkenIzY', 'yYiOdGN2a2TGR8GBwrMtk1CkMAFUcaan', 'ze3ws3ckYylbZwpXj6xNRXSBeRkenIzY', 'yYiOdGN2a2TGR8GBwrMtk1CkMAFUcaan', 'ze3ws3ckYylbZwpXj6xNRXSBeRkenIzY', 'yYiOdGN2a2TGR8GBwrMtk1CkMAFUcaan', 'ze3ws3ckYylbZwpXj6xNRXSBeRkenIzY', 'yYiOdGN2a2TGR8GBwrMtk1CkMAFUcaan']\n"
     ]
    },
    {
     "ename": "ExecutableNotFound",
     "evalue": "failed to execute WindowsPath('dot'), make sure the Graphviz executables are on your systems' PATH",
     "output_type": "error",
     "traceback": [
      "\u001b[1;31m---------------------------------------------------------------------------\u001b[0m",
      "\u001b[1;31mFileNotFoundError\u001b[0m                         Traceback (most recent call last)",
      "File \u001b[1;32mc:\\Users\\rankl\\AppData\\Local\\Programs\\Python\\Python310\\lib\\site-packages\\graphviz\\backend\\execute.py:79\u001b[0m, in \u001b[0;36mrun_check\u001b[1;34m(cmd, input_lines, encoding, quiet, **kwargs)\u001b[0m\n\u001b[0;32m     78\u001b[0m         kwargs[\u001b[39m'\u001b[39m\u001b[39mstdout\u001b[39m\u001b[39m'\u001b[39m] \u001b[39m=\u001b[39m kwargs[\u001b[39m'\u001b[39m\u001b[39mstderr\u001b[39m\u001b[39m'\u001b[39m] \u001b[39m=\u001b[39m subprocess\u001b[39m.\u001b[39mPIPE\n\u001b[1;32m---> 79\u001b[0m     proc \u001b[39m=\u001b[39m _run_input_lines(cmd, input_lines, kwargs\u001b[39m=\u001b[39;49mkwargs)\n\u001b[0;32m     80\u001b[0m \u001b[39melse\u001b[39;00m:\n",
      "File \u001b[1;32mc:\\Users\\rankl\\AppData\\Local\\Programs\\Python\\Python310\\lib\\site-packages\\graphviz\\backend\\execute.py:99\u001b[0m, in \u001b[0;36m_run_input_lines\u001b[1;34m(cmd, input_lines, kwargs)\u001b[0m\n\u001b[0;32m     98\u001b[0m \u001b[39mdef\u001b[39;00m \u001b[39m_run_input_lines\u001b[39m(cmd, input_lines, \u001b[39m*\u001b[39m, kwargs):\n\u001b[1;32m---> 99\u001b[0m     popen \u001b[39m=\u001b[39m subprocess\u001b[39m.\u001b[39mPopen(cmd, stdin\u001b[39m=\u001b[39msubprocess\u001b[39m.\u001b[39mPIPE, \u001b[39m*\u001b[39m\u001b[39m*\u001b[39mkwargs)\n\u001b[0;32m    101\u001b[0m     stdin_write \u001b[39m=\u001b[39m popen\u001b[39m.\u001b[39mstdin\u001b[39m.\u001b[39mwrite\n",
      "File \u001b[1;32mc:\\Users\\rankl\\AppData\\Local\\Programs\\Python\\Python310\\lib\\subprocess.py:966\u001b[0m, in \u001b[0;36mPopen.__init__\u001b[1;34m(self, args, bufsize, executable, stdin, stdout, stderr, preexec_fn, close_fds, shell, cwd, env, universal_newlines, startupinfo, creationflags, restore_signals, start_new_session, pass_fds, user, group, extra_groups, encoding, errors, text, umask, pipesize)\u001b[0m\n\u001b[0;32m    963\u001b[0m             \u001b[39mself\u001b[39m\u001b[39m.\u001b[39mstderr \u001b[39m=\u001b[39m io\u001b[39m.\u001b[39mTextIOWrapper(\u001b[39mself\u001b[39m\u001b[39m.\u001b[39mstderr,\n\u001b[0;32m    964\u001b[0m                     encoding\u001b[39m=\u001b[39mencoding, errors\u001b[39m=\u001b[39merrors)\n\u001b[1;32m--> 966\u001b[0m     \u001b[39mself\u001b[39;49m\u001b[39m.\u001b[39;49m_execute_child(args, executable, preexec_fn, close_fds,\n\u001b[0;32m    967\u001b[0m                         pass_fds, cwd, env,\n\u001b[0;32m    968\u001b[0m                         startupinfo, creationflags, shell,\n\u001b[0;32m    969\u001b[0m                         p2cread, p2cwrite,\n\u001b[0;32m    970\u001b[0m                         c2pread, c2pwrite,\n\u001b[0;32m    971\u001b[0m                         errread, errwrite,\n\u001b[0;32m    972\u001b[0m                         restore_signals,\n\u001b[0;32m    973\u001b[0m                         gid, gids, uid, umask,\n\u001b[0;32m    974\u001b[0m                         start_new_session)\n\u001b[0;32m    975\u001b[0m \u001b[39mexcept\u001b[39;00m:\n\u001b[0;32m    976\u001b[0m     \u001b[39m# Cleanup if the child failed starting.\u001b[39;00m\n",
      "File \u001b[1;32mc:\\Users\\rankl\\AppData\\Local\\Programs\\Python\\Python310\\lib\\subprocess.py:1435\u001b[0m, in \u001b[0;36mPopen._execute_child\u001b[1;34m(self, args, executable, preexec_fn, close_fds, pass_fds, cwd, env, startupinfo, creationflags, shell, p2cread, p2cwrite, c2pread, c2pwrite, errread, errwrite, unused_restore_signals, unused_gid, unused_gids, unused_uid, unused_umask, unused_start_new_session)\u001b[0m\n\u001b[0;32m   1434\u001b[0m \u001b[39mtry\u001b[39;00m:\n\u001b[1;32m-> 1435\u001b[0m     hp, ht, pid, tid \u001b[39m=\u001b[39m _winapi\u001b[39m.\u001b[39;49mCreateProcess(executable, args,\n\u001b[0;32m   1436\u001b[0m                              \u001b[39m# no special security\u001b[39;49;00m\n\u001b[0;32m   1437\u001b[0m                              \u001b[39mNone\u001b[39;49;00m, \u001b[39mNone\u001b[39;49;00m,\n\u001b[0;32m   1438\u001b[0m                              \u001b[39mint\u001b[39;49m(\u001b[39mnot\u001b[39;49;00m close_fds),\n\u001b[0;32m   1439\u001b[0m                              creationflags,\n\u001b[0;32m   1440\u001b[0m                              env,\n\u001b[0;32m   1441\u001b[0m                              cwd,\n\u001b[0;32m   1442\u001b[0m                              startupinfo)\n\u001b[0;32m   1443\u001b[0m \u001b[39mfinally\u001b[39;00m:\n\u001b[0;32m   1444\u001b[0m     \u001b[39m# Child is launched. Close the parent's copy of those pipe\u001b[39;00m\n\u001b[0;32m   1445\u001b[0m     \u001b[39m# handles that only the child should have open.  You need\u001b[39;00m\n\u001b[1;32m   (...)\u001b[0m\n\u001b[0;32m   1448\u001b[0m     \u001b[39m# pipe will not close when the child process exits and the\u001b[39;00m\n\u001b[0;32m   1449\u001b[0m     \u001b[39m# ReadFile will hang.\u001b[39;00m\n",
      "\u001b[1;31mFileNotFoundError\u001b[0m: [WinError 2] Das System kann die angegebene Datei nicht finden",
      "\nThe above exception was the direct cause of the following exception:\n",
      "\u001b[1;31mExecutableNotFound\u001b[0m                        Traceback (most recent call last)",
      "File \u001b[1;32mc:\\Users\\rankl\\AppData\\Local\\Programs\\Python\\Python310\\lib\\site-packages\\IPython\\core\\formatters.py:973\u001b[0m, in \u001b[0;36mMimeBundleFormatter.__call__\u001b[1;34m(self, obj, include, exclude)\u001b[0m\n\u001b[0;32m    970\u001b[0m     method \u001b[39m=\u001b[39m get_real_method(obj, \u001b[39mself\u001b[39m\u001b[39m.\u001b[39mprint_method)\n\u001b[0;32m    972\u001b[0m     \u001b[39mif\u001b[39;00m method \u001b[39mis\u001b[39;00m \u001b[39mnot\u001b[39;00m \u001b[39mNone\u001b[39;00m:\n\u001b[1;32m--> 973\u001b[0m         \u001b[39mreturn\u001b[39;00m method(include\u001b[39m=\u001b[39;49minclude, exclude\u001b[39m=\u001b[39;49mexclude)\n\u001b[0;32m    974\u001b[0m     \u001b[39mreturn\u001b[39;00m \u001b[39mNone\u001b[39;00m\n\u001b[0;32m    975\u001b[0m \u001b[39melse\u001b[39;00m:\n",
      "File \u001b[1;32mc:\\Users\\rankl\\AppData\\Local\\Programs\\Python\\Python310\\lib\\site-packages\\graphviz\\jupyter_integration.py:98\u001b[0m, in \u001b[0;36mJupyterIntegration._repr_mimebundle_\u001b[1;34m(self, include, exclude, **_)\u001b[0m\n\u001b[0;32m     96\u001b[0m include \u001b[39m=\u001b[39m \u001b[39mset\u001b[39m(include) \u001b[39mif\u001b[39;00m include \u001b[39mis\u001b[39;00m \u001b[39mnot\u001b[39;00m \u001b[39mNone\u001b[39;00m \u001b[39melse\u001b[39;00m {\u001b[39mself\u001b[39m\u001b[39m.\u001b[39m_jupyter_mimetype}\n\u001b[0;32m     97\u001b[0m include \u001b[39m-\u001b[39m\u001b[39m=\u001b[39m \u001b[39mset\u001b[39m(exclude \u001b[39mor\u001b[39;00m [])\n\u001b[1;32m---> 98\u001b[0m \u001b[39mreturn\u001b[39;00m {mimetype: \u001b[39mgetattr\u001b[39m(\u001b[39mself\u001b[39m, method_name)()\n\u001b[0;32m     99\u001b[0m         \u001b[39mfor\u001b[39;00m mimetype, method_name \u001b[39min\u001b[39;00m MIME_TYPES\u001b[39m.\u001b[39mitems()\n\u001b[0;32m    100\u001b[0m         \u001b[39mif\u001b[39;00m mimetype \u001b[39min\u001b[39;00m include}\n",
      "File \u001b[1;32mc:\\Users\\rankl\\AppData\\Local\\Programs\\Python\\Python310\\lib\\site-packages\\graphviz\\jupyter_integration.py:98\u001b[0m, in \u001b[0;36m<dictcomp>\u001b[1;34m(.0)\u001b[0m\n\u001b[0;32m     96\u001b[0m include \u001b[39m=\u001b[39m \u001b[39mset\u001b[39m(include) \u001b[39mif\u001b[39;00m include \u001b[39mis\u001b[39;00m \u001b[39mnot\u001b[39;00m \u001b[39mNone\u001b[39;00m \u001b[39melse\u001b[39;00m {\u001b[39mself\u001b[39m\u001b[39m.\u001b[39m_jupyter_mimetype}\n\u001b[0;32m     97\u001b[0m include \u001b[39m-\u001b[39m\u001b[39m=\u001b[39m \u001b[39mset\u001b[39m(exclude \u001b[39mor\u001b[39;00m [])\n\u001b[1;32m---> 98\u001b[0m \u001b[39mreturn\u001b[39;00m {mimetype: \u001b[39mgetattr\u001b[39;49m(\u001b[39mself\u001b[39;49m, method_name)()\n\u001b[0;32m     99\u001b[0m         \u001b[39mfor\u001b[39;00m mimetype, method_name \u001b[39min\u001b[39;00m MIME_TYPES\u001b[39m.\u001b[39mitems()\n\u001b[0;32m    100\u001b[0m         \u001b[39mif\u001b[39;00m mimetype \u001b[39min\u001b[39;00m include}\n",
      "File \u001b[1;32mc:\\Users\\rankl\\AppData\\Local\\Programs\\Python\\Python310\\lib\\site-packages\\graphviz\\jupyter_integration.py:112\u001b[0m, in \u001b[0;36mJupyterIntegration._repr_image_svg_xml\u001b[1;34m(self)\u001b[0m\n\u001b[0;32m    110\u001b[0m \u001b[39mdef\u001b[39;00m \u001b[39m_repr_image_svg_xml\u001b[39m(\u001b[39mself\u001b[39m) \u001b[39m-\u001b[39m\u001b[39m>\u001b[39m \u001b[39mstr\u001b[39m:\n\u001b[0;32m    111\u001b[0m     \u001b[39m\"\"\"Return the rendered graph as SVG string.\"\"\"\u001b[39;00m\n\u001b[1;32m--> 112\u001b[0m     \u001b[39mreturn\u001b[39;00m \u001b[39mself\u001b[39;49m\u001b[39m.\u001b[39;49mpipe(\u001b[39mformat\u001b[39;49m\u001b[39m=\u001b[39;49m\u001b[39m'\u001b[39;49m\u001b[39msvg\u001b[39;49m\u001b[39m'\u001b[39;49m, encoding\u001b[39m=\u001b[39;49mSVG_ENCODING)\n",
      "File \u001b[1;32mc:\\Users\\rankl\\AppData\\Local\\Programs\\Python\\Python310\\lib\\site-packages\\graphviz\\piping.py:104\u001b[0m, in \u001b[0;36mPipe.pipe\u001b[1;34m(self, format, renderer, formatter, neato_no_op, quiet, engine, encoding)\u001b[0m\n\u001b[0;32m     55\u001b[0m \u001b[39mdef\u001b[39;00m \u001b[39mpipe\u001b[39m(\u001b[39mself\u001b[39m,\n\u001b[0;32m     56\u001b[0m          \u001b[39mformat\u001b[39m: typing\u001b[39m.\u001b[39mOptional[\u001b[39mstr\u001b[39m] \u001b[39m=\u001b[39m \u001b[39mNone\u001b[39;00m,\n\u001b[0;32m     57\u001b[0m          renderer: typing\u001b[39m.\u001b[39mOptional[\u001b[39mstr\u001b[39m] \u001b[39m=\u001b[39m \u001b[39mNone\u001b[39;00m,\n\u001b[1;32m   (...)\u001b[0m\n\u001b[0;32m     61\u001b[0m          engine: typing\u001b[39m.\u001b[39mOptional[\u001b[39mstr\u001b[39m] \u001b[39m=\u001b[39m \u001b[39mNone\u001b[39;00m,\n\u001b[0;32m     62\u001b[0m          encoding: typing\u001b[39m.\u001b[39mOptional[\u001b[39mstr\u001b[39m] \u001b[39m=\u001b[39m \u001b[39mNone\u001b[39;00m) \u001b[39m-\u001b[39m\u001b[39m>\u001b[39m typing\u001b[39m.\u001b[39mUnion[\u001b[39mbytes\u001b[39m, \u001b[39mstr\u001b[39m]:\n\u001b[0;32m     63\u001b[0m     \u001b[39m\"\"\"Return the source piped through the Graphviz layout command.\u001b[39;00m\n\u001b[0;32m     64\u001b[0m \n\u001b[0;32m     65\u001b[0m \u001b[39m    Args:\u001b[39;00m\n\u001b[1;32m   (...)\u001b[0m\n\u001b[0;32m    102\u001b[0m \u001b[39m        '<?xml version='\u001b[39;00m\n\u001b[0;32m    103\u001b[0m \u001b[39m    \"\"\"\u001b[39;00m\n\u001b[1;32m--> 104\u001b[0m     \u001b[39mreturn\u001b[39;00m \u001b[39mself\u001b[39;49m\u001b[39m.\u001b[39;49m_pipe_legacy(\u001b[39mformat\u001b[39;49m,\n\u001b[0;32m    105\u001b[0m                              renderer\u001b[39m=\u001b[39;49mrenderer,\n\u001b[0;32m    106\u001b[0m                              formatter\u001b[39m=\u001b[39;49mformatter,\n\u001b[0;32m    107\u001b[0m                              neato_no_op\u001b[39m=\u001b[39;49mneato_no_op,\n\u001b[0;32m    108\u001b[0m                              quiet\u001b[39m=\u001b[39;49mquiet,\n\u001b[0;32m    109\u001b[0m                              engine\u001b[39m=\u001b[39;49mengine,\n\u001b[0;32m    110\u001b[0m                              encoding\u001b[39m=\u001b[39;49mencoding)\n",
      "File \u001b[1;32mc:\\Users\\rankl\\AppData\\Local\\Programs\\Python\\Python310\\lib\\site-packages\\graphviz\\_tools.py:171\u001b[0m, in \u001b[0;36mdeprecate_positional_args.<locals>.decorator.<locals>.wrapper\u001b[1;34m(*args, **kwargs)\u001b[0m\n\u001b[0;32m    162\u001b[0m     wanted \u001b[39m=\u001b[39m \u001b[39m'\u001b[39m\u001b[39m, \u001b[39m\u001b[39m'\u001b[39m\u001b[39m.\u001b[39mjoin(\u001b[39mf\u001b[39m\u001b[39m'\u001b[39m\u001b[39m{\u001b[39;00mname\u001b[39m}\u001b[39;00m\u001b[39m=\u001b[39m\u001b[39m{\u001b[39;00mvalue\u001b[39m!r}\u001b[39;00m\u001b[39m'\u001b[39m\n\u001b[0;32m    163\u001b[0m                        \u001b[39mfor\u001b[39;00m name, value \u001b[39min\u001b[39;00m deprecated\u001b[39m.\u001b[39mitems())\n\u001b[0;32m    164\u001b[0m     warnings\u001b[39m.\u001b[39mwarn(\u001b[39mf\u001b[39m\u001b[39m'\u001b[39m\u001b[39mThe signature of \u001b[39m\u001b[39m{\u001b[39;00mfunc\u001b[39m.\u001b[39m\u001b[39m__name__\u001b[39m\u001b[39m}\u001b[39;00m\u001b[39m will be reduced\u001b[39m\u001b[39m'\u001b[39m\n\u001b[0;32m    165\u001b[0m                   \u001b[39mf\u001b[39m\u001b[39m'\u001b[39m\u001b[39m to \u001b[39m\u001b[39m{\u001b[39;00msupported_number\u001b[39m}\u001b[39;00m\u001b[39m positional args\u001b[39m\u001b[39m'\u001b[39m\n\u001b[0;32m    166\u001b[0m                   \u001b[39mf\u001b[39m\u001b[39m'\u001b[39m\u001b[39m \u001b[39m\u001b[39m{\u001b[39;00m\u001b[39mlist\u001b[39m(supported)\u001b[39m}\u001b[39;00m\u001b[39m: pass \u001b[39m\u001b[39m{\u001b[39;00mwanted\u001b[39m}\u001b[39;00m\u001b[39m'\u001b[39m\n\u001b[0;32m    167\u001b[0m                   \u001b[39m'\u001b[39m\u001b[39m as keyword arg(s)\u001b[39m\u001b[39m'\u001b[39m,\n\u001b[0;32m    168\u001b[0m                   stacklevel\u001b[39m=\u001b[39mstacklevel,\n\u001b[0;32m    169\u001b[0m                   category\u001b[39m=\u001b[39mcategory)\n\u001b[1;32m--> 171\u001b[0m \u001b[39mreturn\u001b[39;00m func(\u001b[39m*\u001b[39margs, \u001b[39m*\u001b[39m\u001b[39m*\u001b[39mkwargs)\n",
      "File \u001b[1;32mc:\\Users\\rankl\\AppData\\Local\\Programs\\Python\\Python310\\lib\\site-packages\\graphviz\\piping.py:121\u001b[0m, in \u001b[0;36mPipe._pipe_legacy\u001b[1;34m(self, format, renderer, formatter, neato_no_op, quiet, engine, encoding)\u001b[0m\n\u001b[0;32m    112\u001b[0m \u001b[39m@_tools\u001b[39m\u001b[39m.\u001b[39mdeprecate_positional_args(supported_number\u001b[39m=\u001b[39m\u001b[39m2\u001b[39m)\n\u001b[0;32m    113\u001b[0m \u001b[39mdef\u001b[39;00m \u001b[39m_pipe_legacy\u001b[39m(\u001b[39mself\u001b[39m,\n\u001b[0;32m    114\u001b[0m                  \u001b[39mformat\u001b[39m: typing\u001b[39m.\u001b[39mOptional[\u001b[39mstr\u001b[39m] \u001b[39m=\u001b[39m \u001b[39mNone\u001b[39;00m,\n\u001b[1;32m   (...)\u001b[0m\n\u001b[0;32m    119\u001b[0m                  engine: typing\u001b[39m.\u001b[39mOptional[\u001b[39mstr\u001b[39m] \u001b[39m=\u001b[39m \u001b[39mNone\u001b[39;00m,\n\u001b[0;32m    120\u001b[0m                  encoding: typing\u001b[39m.\u001b[39mOptional[\u001b[39mstr\u001b[39m] \u001b[39m=\u001b[39m \u001b[39mNone\u001b[39;00m) \u001b[39m-\u001b[39m\u001b[39m>\u001b[39m typing\u001b[39m.\u001b[39mUnion[\u001b[39mbytes\u001b[39m, \u001b[39mstr\u001b[39m]:\n\u001b[1;32m--> 121\u001b[0m     \u001b[39mreturn\u001b[39;00m \u001b[39mself\u001b[39;49m\u001b[39m.\u001b[39;49m_pipe_future(\u001b[39mformat\u001b[39;49m,\n\u001b[0;32m    122\u001b[0m                              renderer\u001b[39m=\u001b[39;49mrenderer,\n\u001b[0;32m    123\u001b[0m                              formatter\u001b[39m=\u001b[39;49mformatter,\n\u001b[0;32m    124\u001b[0m                              neato_no_op\u001b[39m=\u001b[39;49mneato_no_op,\n\u001b[0;32m    125\u001b[0m                              quiet\u001b[39m=\u001b[39;49mquiet,\n\u001b[0;32m    126\u001b[0m                              engine\u001b[39m=\u001b[39;49mengine,\n\u001b[0;32m    127\u001b[0m                              encoding\u001b[39m=\u001b[39;49mencoding)\n",
      "File \u001b[1;32mc:\\Users\\rankl\\AppData\\Local\\Programs\\Python\\Python310\\lib\\site-packages\\graphviz\\piping.py:149\u001b[0m, in \u001b[0;36mPipe._pipe_future\u001b[1;34m(self, format, renderer, formatter, neato_no_op, quiet, engine, encoding)\u001b[0m\n\u001b[0;32m    146\u001b[0m \u001b[39mif\u001b[39;00m encoding \u001b[39mis\u001b[39;00m \u001b[39mnot\u001b[39;00m \u001b[39mNone\u001b[39;00m:\n\u001b[0;32m    147\u001b[0m     \u001b[39mif\u001b[39;00m codecs\u001b[39m.\u001b[39mlookup(encoding) \u001b[39mis\u001b[39;00m codecs\u001b[39m.\u001b[39mlookup(\u001b[39mself\u001b[39m\u001b[39m.\u001b[39mencoding):\n\u001b[0;32m    148\u001b[0m         \u001b[39m# common case: both stdin and stdout need the same encoding\u001b[39;00m\n\u001b[1;32m--> 149\u001b[0m         \u001b[39mreturn\u001b[39;00m \u001b[39mself\u001b[39m\u001b[39m.\u001b[39m_pipe_lines_string(\u001b[39m*\u001b[39margs, encoding\u001b[39m=\u001b[39mencoding, \u001b[39m*\u001b[39m\u001b[39m*\u001b[39mkwargs)\n\u001b[0;32m    150\u001b[0m     \u001b[39mtry\u001b[39;00m:\n\u001b[0;32m    151\u001b[0m         raw \u001b[39m=\u001b[39m \u001b[39mself\u001b[39m\u001b[39m.\u001b[39m_pipe_lines(\u001b[39m*\u001b[39margs, input_encoding\u001b[39m=\u001b[39m\u001b[39mself\u001b[39m\u001b[39m.\u001b[39mencoding, \u001b[39m*\u001b[39m\u001b[39m*\u001b[39mkwargs)\n",
      "File \u001b[1;32mc:\\Users\\rankl\\AppData\\Local\\Programs\\Python\\Python310\\lib\\site-packages\\graphviz\\backend\\piping.py:212\u001b[0m, in \u001b[0;36mpipe_lines_string\u001b[1;34m(engine, format, input_lines, encoding, renderer, formatter, neato_no_op, quiet)\u001b[0m\n\u001b[0;32m    206\u001b[0m cmd \u001b[39m=\u001b[39m dot_command\u001b[39m.\u001b[39mcommand(engine, \u001b[39mformat\u001b[39m,\n\u001b[0;32m    207\u001b[0m                           renderer\u001b[39m=\u001b[39mrenderer,\n\u001b[0;32m    208\u001b[0m                           formatter\u001b[39m=\u001b[39mformatter,\n\u001b[0;32m    209\u001b[0m                           neato_no_op\u001b[39m=\u001b[39mneato_no_op)\n\u001b[0;32m    210\u001b[0m kwargs \u001b[39m=\u001b[39m {\u001b[39m'\u001b[39m\u001b[39minput_lines\u001b[39m\u001b[39m'\u001b[39m: input_lines, \u001b[39m'\u001b[39m\u001b[39mencoding\u001b[39m\u001b[39m'\u001b[39m: encoding}\n\u001b[1;32m--> 212\u001b[0m proc \u001b[39m=\u001b[39m execute\u001b[39m.\u001b[39mrun_check(cmd, capture_output\u001b[39m=\u001b[39m\u001b[39mTrue\u001b[39;00m, quiet\u001b[39m=\u001b[39mquiet, \u001b[39m*\u001b[39m\u001b[39m*\u001b[39mkwargs)\n\u001b[0;32m    213\u001b[0m \u001b[39mreturn\u001b[39;00m proc\u001b[39m.\u001b[39mstdout\n",
      "File \u001b[1;32mc:\\Users\\rankl\\AppData\\Local\\Programs\\Python\\Python310\\lib\\site-packages\\graphviz\\backend\\execute.py:84\u001b[0m, in \u001b[0;36mrun_check\u001b[1;34m(cmd, input_lines, encoding, quiet, **kwargs)\u001b[0m\n\u001b[0;32m     82\u001b[0m \u001b[39mexcept\u001b[39;00m \u001b[39mOSError\u001b[39;00m \u001b[39mas\u001b[39;00m e:\n\u001b[0;32m     83\u001b[0m     \u001b[39mif\u001b[39;00m e\u001b[39m.\u001b[39merrno \u001b[39m==\u001b[39m errno\u001b[39m.\u001b[39mENOENT:\n\u001b[1;32m---> 84\u001b[0m         \u001b[39mraise\u001b[39;00m ExecutableNotFound(cmd) \u001b[39mfrom\u001b[39;00m \u001b[39me\u001b[39;00m\n\u001b[0;32m     85\u001b[0m     \u001b[39mraise\u001b[39;00m\n\u001b[0;32m     87\u001b[0m \u001b[39mif\u001b[39;00m \u001b[39mnot\u001b[39;00m quiet \u001b[39mand\u001b[39;00m proc\u001b[39m.\u001b[39mstderr:\n",
      "\u001b[1;31mExecutableNotFound\u001b[0m: failed to execute WindowsPath('dot'), make sure the Graphviz executables are on your systems' PATH"
     ]
    },
    {
     "data": {
      "text/plain": [
       "<graphviz.graphs.Digraph at 0x1b81168f670>"
      ]
     },
     "execution_count": 18,
     "metadata": {},
     "output_type": "execute_result"
    }
   ],
   "source": [
    "def buildFlowGraph(inputAddress):\n",
    "    try:\n",
    "        association = getAssoc(inputAddress)\n",
    "    except:\n",
    "        raise Exception('FU') # adjust to use case\n",
    "\n",
    "    outputs, inputs = getInputs_Outputs(association)\n",
    "    print(outputs)\n",
    "   \n",
    "    outputAssocs = []\n",
    "    for index, o in outputs.iterrows():\n",
    "        #print(o[\"Association\"])\n",
    "        if o['Association'] is not None:\n",
    "            outputAssocs.append(o['Association'])\n",
    "        else:\n",
    "           outputAssocs.append(getAssoc(o['Output_Addresses']))\n",
    "    print(outputAssocs)\n",
    "    \n",
    "    inputAssocs = []\n",
    "    for index, i in outputs.iterrows():\n",
    "        if i['Association'] is not None:\n",
    "            inputAssocs.append(i['Association'])\n",
    "        else:\n",
    "            inputAssocs.append(getAssoc(i['Input_Addresses']))\n",
    "    inputAssocs = set(inputAssocs)\n",
    "\n",
    "    # build graph (adjust to use case)\n",
    "    dot = Digraph()\n",
    "    dot.node(association, association)\n",
    "        \n",
    "    for outNode in outputAssocs:\n",
    "        dot.node(outNode, outNode)\n",
    "        dot.edge(association, outNode)\n",
    "\n",
    "    for inNode in inputAssocs:\n",
    "        dot.node(inNode, inNode)\n",
    "        dot.edge(inNode, association)\n",
    "        \n",
    "    return dot\n",
    "buildFlowGraph(\"12sDU3FyYJXc2oRzE6XXuuhVHCBJvaoCC8\")"
   ]
  },
  {
   "cell_type": "markdown",
   "metadata": {},
   "source": [
    "## include transaction information in graph"
   ]
  },
  {
   "cell_type": "code",
   "execution_count": 15,
   "metadata": {},
   "outputs": [],
   "source": [
    "def getUserTransactionData(association, outputNodes, inputNodes):\n",
    "    userOutputTransactionDataTemplate = '''\n",
    "        MATCH (u:Address{association:\"%s\"})-[:SENDS]->(t:Transaction)-[:SENDS]->(o:Address{association:\"%s\"}),\n",
    "        (u:Address)-[:SENDS]->(t:Transaction)-[:SENDS]->(o:Address)\n",
    "        RETURN DISTINCT o\n",
    "        ''' "
   ]
  },
  {
   "cell_type": "markdown",
   "metadata": {},
   "source": [
    "# RUN: Make graph of flows"
   ]
  },
  {
   "cell_type": "code",
   "execution_count": 16,
   "metadata": {},
   "outputs": [],
   "source": [
    "inputAddress = ''\n",
    "getAssoc(\"12sDU3FyYJXc2oRzE6XXuuhVHCBJvaoCC8\")\n",
    "getInputs_Outputs(\"yYiOdGN2a2TGR8GBwrMtk1CkMAFUcaan\")"
   ]
  },
  {
   "cell_type": "code",
   "execution_count": 17,
   "metadata": {},
   "outputs": [
    {
     "ename": "Exception",
     "evalue": "FU",
     "output_type": "error",
     "traceback": [
      "\u001b[1;31m---------------------------------------------------------------------------\u001b[0m",
      "\u001b[1;31mFileNotFoundError\u001b[0m                         Traceback (most recent call last)",
      "\u001b[1;32mc:\\Users\\Simon\\Documents\\3. term BI\\Crypto Currency and Forensics\\Development\\Backup\\WalletClustering_WalletFlowGraphing.ipynb Cell 18'\u001b[0m in \u001b[0;36mbuildFlowGraph\u001b[1;34m(inputAddress)\u001b[0m\n\u001b[0;32m      <a href='vscode-notebook-cell:/c%3A/Users/Simon/Documents/3.%20term%20BI/Crypto%20Currency%20and%20Forensics/Development/Backup/WalletClustering_WalletFlowGraphing.ipynb#ch0000016?line=1'>2</a>\u001b[0m \u001b[39mtry\u001b[39;00m:\n\u001b[1;32m----> <a href='vscode-notebook-cell:/c%3A/Users/Simon/Documents/3.%20term%20BI/Crypto%20Currency%20and%20Forensics/Development/Backup/WalletClustering_WalletFlowGraphing.ipynb#ch0000016?line=2'>3</a>\u001b[0m     association \u001b[39m=\u001b[39m getAssoc(inputAddress)\n\u001b[0;32m      <a href='vscode-notebook-cell:/c%3A/Users/Simon/Documents/3.%20term%20BI/Crypto%20Currency%20and%20Forensics/Development/Backup/WalletClustering_WalletFlowGraphing.ipynb#ch0000016?line=3'>4</a>\u001b[0m \u001b[39mexcept\u001b[39;00m:\n",
      "\u001b[1;32mc:\\Users\\Simon\\Documents\\3. term BI\\Crypto Currency and Forensics\\Development\\Backup\\WalletClustering_WalletFlowGraphing.ipynb Cell 14'\u001b[0m in \u001b[0;36mgetAssoc\u001b[1;34m(address)\u001b[0m\n\u001b[0;32m     <a href='vscode-notebook-cell:/c%3A/Users/Simon/Documents/3.%20term%20BI/Crypto%20Currency%20and%20Forensics/Development/Backup/WalletClustering_WalletFlowGraphing.ipynb#ch0000012?line=15'>16</a>\u001b[0m \u001b[39melse\u001b[39;00m:\n\u001b[1;32m---> <a href='vscode-notebook-cell:/c%3A/Users/Simon/Documents/3.%20term%20BI/Crypto%20Currency%20and%20Forensics/Development/Backup/WalletClustering_WalletFlowGraphing.ipynb#ch0000012?line=16'>17</a>\u001b[0m     assocBlacklist \u001b[39m=\u001b[39m createAssocBlacklist()\n\u001b[0;32m     <a href='vscode-notebook-cell:/c%3A/Users/Simon/Documents/3.%20term%20BI/Crypto%20Currency%20and%20Forensics/Development/Backup/WalletClustering_WalletFlowGraphing.ipynb#ch0000012?line=17'>18</a>\u001b[0m     \u001b[39mif\u001b[39;00m assocBlacklistCheck(association, assocBlacklist):\n\u001b[0;32m     <a href='vscode-notebook-cell:/c%3A/Users/Simon/Documents/3.%20term%20BI/Crypto%20Currency%20and%20Forensics/Development/Backup/WalletClustering_WalletFlowGraphing.ipynb#ch0000012?line=18'>19</a>\u001b[0m         \u001b[39m#throw exception in case association is blacklisted\u001b[39;00m\n",
      "\u001b[1;32mc:\\Users\\Simon\\Documents\\3. term BI\\Crypto Currency and Forensics\\Development\\Backup\\WalletClustering_WalletFlowGraphing.ipynb Cell 10'\u001b[0m in \u001b[0;36mcreateAssocBlacklist\u001b[1;34m()\u001b[0m\n\u001b[0;32m     <a href='vscode-notebook-cell:/c%3A/Users/Simon/Documents/3.%20term%20BI/Crypto%20Currency%20and%20Forensics/Development/Backup/WalletClustering_WalletFlowGraphing.ipynb#ch0000008?line=23'>24</a>\u001b[0m         \u001b[39mcontinue\u001b[39;00m\n\u001b[1;32m---> <a href='vscode-notebook-cell:/c%3A/Users/Simon/Documents/3.%20term%20BI/Crypto%20Currency%20and%20Forensics/Development/Backup/WalletClustering_WalletFlowGraphing.ipynb#ch0000008?line=25'>26</a>\u001b[0m \u001b[39mwith\u001b[39;00m \u001b[39mopen\u001b[39;49m(\u001b[39m'\u001b[39;49m\u001b[39moutput\u001b[39;49m\u001b[39m\\\\\u001b[39;49;00m\u001b[39massocBlacklist.pickle\u001b[39;49m\u001b[39m'\u001b[39;49m, \u001b[39m'\u001b[39;49m\u001b[39mwb\u001b[39;49m\u001b[39m'\u001b[39;49m) \u001b[39mas\u001b[39;00m export:\n\u001b[0;32m     <a href='vscode-notebook-cell:/c%3A/Users/Simon/Documents/3.%20term%20BI/Crypto%20Currency%20and%20Forensics/Development/Backup/WalletClustering_WalletFlowGraphing.ipynb#ch0000008?line=26'>27</a>\u001b[0m     pickle\u001b[39m.\u001b[39mdump(\u001b[39mset\u001b[39m(assocBlacklist), export)\n",
      "\u001b[1;31mFileNotFoundError\u001b[0m: [Errno 2] No such file or directory: 'output\\\\assocBlacklist.pickle'",
      "\nDuring handling of the above exception, another exception occurred:\n",
      "\u001b[1;31mException\u001b[0m                                 Traceback (most recent call last)",
      "\u001b[1;32mc:\\Users\\Simon\\Documents\\3. term BI\\Crypto Currency and Forensics\\Development\\Backup\\WalletClustering_WalletFlowGraphing.ipynb Cell 23'\u001b[0m in \u001b[0;36m<cell line: 1>\u001b[1;34m()\u001b[0m\n\u001b[1;32m----> <a href='vscode-notebook-cell:/c%3A/Users/Simon/Documents/3.%20term%20BI/Crypto%20Currency%20and%20Forensics/Development/Backup/WalletClustering_WalletFlowGraphing.ipynb#ch0000021?line=0'>1</a>\u001b[0m graph \u001b[39m=\u001b[39m buildFlowGraph(inputAddress)\n\u001b[0;32m      <a href='vscode-notebook-cell:/c%3A/Users/Simon/Documents/3.%20term%20BI/Crypto%20Currency%20and%20Forensics/Development/Backup/WalletClustering_WalletFlowGraphing.ipynb#ch0000021?line=1'>2</a>\u001b[0m graph\u001b[39m.\u001b[39mrender(view\u001b[39m=\u001b[39m\u001b[39mTrue\u001b[39;00m)\n",
      "\u001b[1;32mc:\\Users\\Simon\\Documents\\3. term BI\\Crypto Currency and Forensics\\Development\\Backup\\WalletClustering_WalletFlowGraphing.ipynb Cell 18'\u001b[0m in \u001b[0;36mbuildFlowGraph\u001b[1;34m(inputAddress)\u001b[0m\n\u001b[0;32m      <a href='vscode-notebook-cell:/c%3A/Users/Simon/Documents/3.%20term%20BI/Crypto%20Currency%20and%20Forensics/Development/Backup/WalletClustering_WalletFlowGraphing.ipynb#ch0000016?line=2'>3</a>\u001b[0m     association \u001b[39m=\u001b[39m getAssoc(inputAddress)\n\u001b[0;32m      <a href='vscode-notebook-cell:/c%3A/Users/Simon/Documents/3.%20term%20BI/Crypto%20Currency%20and%20Forensics/Development/Backup/WalletClustering_WalletFlowGraphing.ipynb#ch0000016?line=3'>4</a>\u001b[0m \u001b[39mexcept\u001b[39;00m:\n\u001b[1;32m----> <a href='vscode-notebook-cell:/c%3A/Users/Simon/Documents/3.%20term%20BI/Crypto%20Currency%20and%20Forensics/Development/Backup/WalletClustering_WalletFlowGraphing.ipynb#ch0000016?line=4'>5</a>\u001b[0m     \u001b[39mraise\u001b[39;00m \u001b[39mException\u001b[39;00m(\u001b[39m'\u001b[39m\u001b[39mFU\u001b[39m\u001b[39m'\u001b[39m) \u001b[39m# adjust to use case\u001b[39;00m\n\u001b[0;32m      <a href='vscode-notebook-cell:/c%3A/Users/Simon/Documents/3.%20term%20BI/Crypto%20Currency%20and%20Forensics/Development/Backup/WalletClustering_WalletFlowGraphing.ipynb#ch0000016?line=6'>7</a>\u001b[0m outputs, inputs \u001b[39m=\u001b[39m getUserTransactions(association)\n\u001b[0;32m      <a href='vscode-notebook-cell:/c%3A/Users/Simon/Documents/3.%20term%20BI/Crypto%20Currency%20and%20Forensics/Development/Backup/WalletClustering_WalletFlowGraphing.ipynb#ch0000016?line=8'>9</a>\u001b[0m outputAssocs \u001b[39m=\u001b[39m []\n",
      "\u001b[1;31mException\u001b[0m: FU"
     ]
    }
   ],
   "source": [
    "graph = buildFlowGraph(inputAddress)\n",
    "graph.render(view=True)"
   ]
  }
 ],
 "metadata": {
  "kernelspec": {
   "display_name": "Python 3.10.4 64-bit",
   "language": "python",
   "name": "python3"
  },
  "language_info": {
   "codemirror_mode": {
    "name": "ipython",
    "version": 3
   },
   "file_extension": ".py",
   "mimetype": "text/x-python",
   "name": "python",
   "nbconvert_exporter": "python",
   "pygments_lexer": "ipython3",
   "version": "3.10.4"
  },
  "orig_nbformat": 4,
  "vscode": {
   "interpreter": {
    "hash": "2a953444f3f6a7370568067c59d527322362a757e3663a1ed7da44db03711d09"
   }
  }
 },
 "nbformat": 4,
 "nbformat_minor": 2
}
