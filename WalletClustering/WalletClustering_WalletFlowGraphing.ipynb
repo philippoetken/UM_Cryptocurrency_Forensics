{
 "cells": [
  {
   "cell_type": "markdown",
   "metadata": {},
   "source": [
    "# INSTALL: packages"
   ]
  },
  {
   "cell_type": "code",
   "execution_count": 15,
   "metadata": {},
   "outputs": [
    {
     "name": "stdout",
     "output_type": "stream",
     "text": [
      "Requirement already satisfied: ipynb in c:\\users\\info\\appdata\\local\\programs\\python\\python310\\lib\\site-packages (0.5.1)\n",
      "Note: you may need to restart the kernel to use updated packages.\n"
     ]
    },
    {
     "name": "stderr",
     "output_type": "stream",
     "text": [
      "WARNING: You are using pip version 22.0.4; however, version 22.1.2 is available.\n",
      "You should consider upgrading via the 'c:\\Users\\info\\AppData\\Local\\Programs\\Python\\Python310\\python.exe -m pip install --upgrade pip' command.\n"
     ]
    }
   ],
   "source": [
    "pip install ipynb"
   ]
  },
  {
   "cell_type": "code",
   "execution_count": 16,
   "metadata": {},
   "outputs": [
    {
     "name": "stdout",
     "output_type": "stream",
     "text": [
      "Requirement already satisfied: graphviz in c:\\users\\info\\appdata\\local\\programs\\python\\python310\\lib\\site-packages (0.20)Note: you may need to restart the kernel to use updated packages.\n",
      "\n"
     ]
    },
    {
     "name": "stderr",
     "output_type": "stream",
     "text": [
      "WARNING: You are using pip version 22.0.4; however, version 22.1.2 is available.\n",
      "You should consider upgrading via the 'c:\\Users\\info\\AppData\\Local\\Programs\\Python\\Python310\\python.exe -m pip install --upgrade pip' command.\n"
     ]
    }
   ],
   "source": [
    "pip install graphviz"
   ]
  },
  {
   "cell_type": "code",
   "execution_count": 17,
   "metadata": {},
   "outputs": [],
   "source": [
    "import os\n",
    "import pickle\n",
    "#from ipynb.fs.full.new_WalletClustering_MIH_fast import iterMultiInputClustering\n",
    "from graphviz import Digraph\n",
    "import pandas as pd"
   ]
  },
  {
   "cell_type": "markdown",
   "metadata": {},
   "source": [
    "# EXECUTE: WalletClustering_AddressIdentification notebook"
   ]
  },
  {
   "cell_type": "code",
   "execution_count": null,
   "metadata": {},
   "outputs": [],
   "source": [
    "%run WalletClustering_AddressIdentification.ipynb # also includes running WalletClustering_neo4jConnect notebook\n",
    "# methods & variables of notebook can be referenced"
   ]
  },
  {
   "cell_type": "markdown",
   "metadata": {},
   "source": [
    "# EXECUTE: new-WalletClustering_MIH_fast notebook"
   ]
  },
  {
   "cell_type": "code",
   "execution_count": null,
   "metadata": {},
   "outputs": [],
   "source": [
    "# first ensure that only methods are compiled!\n",
    "# %run new-WalletClustering_MIH_fast.ipynb \n",
    "# methods & variables of notebook can be referenced"
   ]
  },
  {
   "cell_type": "markdown",
   "metadata": {},
   "source": [
    "# DEFINE: Make graph of flows"
   ]
  },
  {
   "cell_type": "markdown",
   "metadata": {},
   "source": [
    "## create blacklist of associations"
   ]
  },
  {
   "cell_type": "code",
   "execution_count": 19,
   "metadata": {},
   "outputs": [
    {
     "data": {
      "text/plain": [
       "('Bitcoin.de',\n",
       " 'Bleutrade.com',\n",
       " 'Bit-x.com',\n",
       " 'BitKonan.com',\n",
       " 'BitBargain.co.uk',\n",
       " 'Indacoin.com',\n",
       " 'Bitstamp.net',\n",
       " 'CoinChimp.com',\n",
       " 'Vircurex.com',\n",
       " 'bitzlato.com',\n",
       " 'luno.com',\n",
       " 'bitbargain.co.uk',\n",
       " 'TheRockTrading.com',\n",
       " 'quadrigacx.com',\n",
       " 'bitcurex.com',\n",
       " 'Bitfinex.com',\n",
       " 'Cryptsy.com',\n",
       " 'BitBay.net',\n",
       " 'lakebtc.com',\n",
       " 'Banx.io',\n",
       " 'bitcoin.de',\n",
       " 'Poloniex.com',\n",
       " 'Cex.io',\n",
       " 'SimpleCoin.cz',\n",
       " 'BitVC.com',\n",
       " 'fybsg.com',\n",
       " 'coinhako.com',\n",
       " 'SpectroCoin.com',\n",
       " 'coingi.com',\n",
       " 'bitkonan.com',\n",
       " 'LakeBTC.com',\n",
       " 'QuadrigaCX.com',\n",
       " 'BtcMarkets.net',\n",
       " 'OrderBook.net',\n",
       " 'LocalBitcoins.com',\n",
       " 'Bitso.com',\n",
       " 'Exchanging.ir',\n",
       " 'Bitcurex.com',\n",
       " 'bitbay.net',\n",
       " 'BitcoinVietnam.com.vn',\n",
       " '796.com',\n",
       " 'CampBX.com',\n",
       " 'AnxPro.com',\n",
       " 'BX.in.th',\n",
       " 'bitstamp.net',\n",
       " 'Luno.com',\n",
       " 'kraken.com',\n",
       " 'HappyCoins.com',\n",
       " 'ExchangeMyCoins.com',\n",
       " 'Cryptonit.net',\n",
       " 'mercadobitcoin.com.br',\n",
       " 'virwox.com',\n",
       " 'Paxful.com',\n",
       " 'MaiCoin.com',\n",
       " 'ChBtc.com',\n",
       " 'Ccedk.com',\n",
       " 'LiteBit.eu',\n",
       " 'bx.in.th',\n",
       " 'bleutrade.com',\n",
       " 'Zyado.com',\n",
       " 'Cavirtex.com',\n",
       " 'vaultoro.com',\n",
       " 'helix',\n",
       " 'unknown_large_wallet_02',\n",
       " 'coincafe.com',\n",
       " 'BTradeAustralia.com',\n",
       " 'bit-x.com',\n",
       " 'btctrade.com',\n",
       " 'simplecoin.cz',\n",
       " 'mexbt.com',\n",
       " 'CoinMotion.com',\n",
       " 'paxful.com',\n",
       " 'maicoin.com',\n",
       " 'Matbea.com',\n",
       " 'CoinSpot.com.au',\n",
       " 'c-cex.com',\n",
       " 'YoBit.net',\n",
       " 'BlockTrades.us',\n",
       " 'binance.com',\n",
       " 'bter.com',\n",
       " 'anxpro.com',\n",
       " 'BtcTrade.com',\n",
       " 'BTC-e.com',\n",
       " 'Bittrex.com',\n",
       " 'Exchange-Credit.ru',\n",
       " 'banx.io',\n",
       " 'urdubit.com',\n",
       " 'therocktrading.com',\n",
       " 'CoinCafe.com',\n",
       " 'yobit.net',\n",
       " 'C-Cex.com',\n",
       " 'btc-e.com',\n",
       " 'unknown_large_wallet_03',\n",
       " 'CoinArch.com',\n",
       " 'Coingi.com',\n",
       " 'UseCryptos.com',\n",
       " 'Coins-e.com',\n",
       " 'cryptonit.net',\n",
       " 'Hashnest.com',\n",
       " 'okcoin.com',\n",
       " '1Coin.com',\n",
       " 'coinmate.io',\n",
       " 'korbit.co.kr',\n",
       " 'cex.io',\n",
       " 'MeXBT.com',\n",
       " 'CoinTrader.net',\n",
       " 'CleverCoin.com',\n",
       " 'Coinimal.com',\n",
       " 'CoinHako.com',\n",
       " 'blocktrades.us',\n",
       " 'huobi.com',\n",
       " 'happycoins.com',\n",
       " 'matbea.com',\n",
       " 'Gatecoin.com',\n",
       " 'vircurex.com',\n",
       " 'VirWoX.com',\n",
       " 'btcc.com',\n",
       " 'Coinomat.com',\n",
       " 'btradeaustralia.com',\n",
       " 'coinmotion.com',\n",
       " 'MercadoBitcoin.com.br',\n",
       " 'BTCC.com',\n",
       " 'FYBSG.com',\n",
       " 'Vaultoro.com',\n",
       " 'poloniex.com',\n",
       " 'Huobi.com',\n",
       " 'foxbit.com.br',\n",
       " 'Igot.com',\n",
       " 'FoxBit.com.br',\n",
       " 'Coinbroker.io',\n",
       " 'Kraken.com',\n",
       " 'EmpoEX.com',\n",
       " 'Bter.com',\n",
       " 'Btc38.com',\n",
       " 'hashnest.com',\n",
       " 'Coinmate.io',\n",
       " 'bitfinex.com',\n",
       " 'Exmo.com',\n",
       " 'hitbtc.com',\n",
       " 'cryptsy.com',\n",
       " 'bitcoinp2p.com.br',\n",
       " 'spectrocoin.com',\n",
       " 'localbitcoins.com',\n",
       " 'unknown_large_wallet_01',\n",
       " 'HitBtc.com',\n",
       " 'Korbit.co.kr',\n",
       " 'coinspot.com.au',\n",
       " 'bittrex.com',\n",
       " 'OKCoin.com')"
      ]
     },
     "execution_count": 19,
     "metadata": {},
     "output_type": "execute_result"
    }
   ],
   "source": [
    "def createAssocBlacklist():\n",
    "    # use existing assocBlacklist if exists\n",
    "    if not os.path.exists('output\\\\assocBlacklist.pickle'):\n",
    "        assocBlacklistDf = pickle.load(open('output\\\\blacklistAddresses.pickle', 'rb'))\n",
    "        assocBlacklistDf = assocBlacklistDf.drop_duplicates('association', keep='first')\n",
    "        assocBlacklist = assocBlacklistDf['association'].tolist()\n",
    "\n",
    "        with open('output\\\\assocBlacklist.pickle', 'wb') as export:\n",
    "            pickle.dump(set(assocBlacklist), export)\n",
    "\n",
    "    assocBlacklist = pickle.load(open('output\\\\assocBlacklist.pickle', 'rb'))\n",
    "\n",
    "    # this line is necessary to fix unhashable type list in assocBlacklistCheck function\n",
    "    # See here: http://net-informations.com/python/iq/unhashable.htm\n",
    "    tuple_assocBlacklist = tuple(assocBlacklist)\n",
    "    return tuple_assocBlacklist\n",
    "createAssocBlacklist()"
   ]
  },
  {
   "cell_type": "markdown",
   "metadata": {},
   "source": [
    "## check for blacklisted association"
   ]
  },
  {
   "cell_type": "code",
   "execution_count": 5,
   "metadata": {},
   "outputs": [],
   "source": [
    "#check if association is part of blacklisted associations\n",
    "def assocBlacklistCheck(association, assocBlacklist):\n",
    "    if association in assocBlacklist:\n",
    "        return True\n",
    "    else:\n",
    "        return False"
   ]
  },
  {
   "cell_type": "markdown",
   "metadata": {},
   "source": [
    "## query for input address association"
   ]
  },
  {
   "cell_type": "code",
   "execution_count": 10,
   "metadata": {},
   "outputs": [
    {
     "data": {
      "text/plain": [
       "[<Record a.association='yYiOdGN2a2TGR8GBwrMtk1CkMAFUcaan'>]"
      ]
     },
     "execution_count": 10,
     "metadata": {},
     "output_type": "execute_result"
    }
   ],
   "source": [
    "def getAssoc(address):\n",
    "    # return association of input address\n",
    "    assocTemplate = '''\n",
    "    MATCH (a:Address {address: \"%s\"})\n",
    "    RETURN a.association\n",
    "    '''\n",
    "\n",
    "    association = conn.query(assocTemplate % address, db='neo4j')\n",
    "    \n",
    "    if association is None:\n",
    "        # run MI heuristic on address and query again\n",
    "        addresses, association = iterMultiInputClustering_chunks(address) #should also flag new association in neo4J\n",
    "        return association\n",
    "\n",
    "    else:\n",
    "        assocBlacklist = createAssocBlacklist()\n",
    "        if assocBlacklistCheck(association, assocBlacklist):\n",
    "            #throw exception in case association is blacklisted\n",
    "            raise Exception('Blacklist')\n",
    "        else:\n",
    "            return association  "
   ]
  },
  {
   "cell_type": "markdown",
   "metadata": {},
   "source": [
    "## gather input and output addresses to association"
   ]
  },
  {
   "cell_type": "code",
   "execution_count": 6,
   "metadata": {},
   "outputs": [],
   "source": [
    "def get_Inputs(query_Input):\n",
    "    response = conn.query(query_Input, db='neo4j')\n",
    "    rows_list = []\n",
    "    for record in response:\n",
    "        dict1 = {}\n",
    "        new_row = {'InputAddresses':record[0]._properties[\"address\"],\n",
    "        'Value_Received_from_Inp':record[1], 'Value_Send_from_Inp':record[2], \n",
    "        'Transaction_ID':record[3], 'Association':record[4]}\n",
    "        dict1.update(new_row)\n",
    "        rows_list.append(dict1)\n",
    "    input_df = pd.DataFrame(rows_list) \n",
    "    return input_df  "
   ]
  },
  {
   "cell_type": "code",
   "execution_count": 7,
   "metadata": {},
   "outputs": [],
   "source": [
    "def get_Outputs(query_Output):\n",
    "    response = conn.query(query_Output, db='neo4j')\n",
    "    rows_list = []\n",
    "    for record in response:\n",
    "        dict1 = {}\n",
    "        new_row = {'Output_Addresses':record[0]._properties[\"address\"],\n",
    "        'Value_send_to_Outp':record[1], 'Value_rec_from_Outp':record[2],\n",
    "        'Transaction_ID':record[3], 'Association':record[4]}\n",
    "        dict1.update(new_row)\n",
    "        rows_list.append(dict1)\n",
    "    output_df = pd.DataFrame(rows_list) \n",
    "    return output_df"
   ]
  },
  {
   "cell_type": "code",
   "execution_count": 11,
   "metadata": {},
   "outputs": [
    {
     "data": {
      "text/plain": [
       "(                     Output_Addresses  Value_send_to_Outp  \\\n",
       " 0  1FoWyxwPXuj4C6abqwhjDWdz6D4PZgYRjA              500000   \n",
       " 1  12sDU3FyYJXc2oRzE6XXuuhVHCBJvaoCC8              500000   \n",
       " 2  1FoWyxwPXuj4C6abqwhjDWdz6D4PZgYRjA              494281   \n",
       " 3  12sDU3FyYJXc2oRzE6XXuuhVHCBJvaoCC8              494281   \n",
       " 4  1FoWyxwPXuj4C6abqwhjDWdz6D4PZgYRjA              489847   \n",
       " 5  12sDU3FyYJXc2oRzE6XXuuhVHCBJvaoCC8              489847   \n",
       " 6  1FoWyxwPXuj4C6abqwhjDWdz6D4PZgYRjA              485413   \n",
       " 7  12sDU3FyYJXc2oRzE6XXuuhVHCBJvaoCC8              485413   \n",
       " 8  1FoWyxwPXuj4C6abqwhjDWdz6D4PZgYRjA              478028   \n",
       " 9  12sDU3FyYJXc2oRzE6XXuuhVHCBJvaoCC8              478028   \n",
       " \n",
       "    Value_rec_from_Outp                                     Transaction_ID  \\\n",
       " 0                  546  3a785a153bfd7d77bdf7b8dcce6ba24feeb9b1bffdb723...   \n",
       " 1               494281  3a785a153bfd7d77bdf7b8dcce6ba24feeb9b1bffdb723...   \n",
       " 2                  546  1b1be7bab9f905ffcf083e3483705f0e621a9518930b69...   \n",
       " 3               489847  1b1be7bab9f905ffcf083e3483705f0e621a9518930b69...   \n",
       " 4                  546  6da7a5d3797a1457a7910804128b53b82640a621d848ce...   \n",
       " 5               485413  6da7a5d3797a1457a7910804128b53b82640a621d848ce...   \n",
       " 6                  546  4e143d01a5febf5b7085dc393114c176594b580ce26bb2...   \n",
       " 7               478028  4e143d01a5febf5b7085dc393114c176594b580ce26bb2...   \n",
       " 8                  546  9252559abd14106761c92b0e14489e9018365882fe12f6...   \n",
       " 9               470643  9252559abd14106761c92b0e14489e9018365882fe12f6...   \n",
       " \n",
       "                         Association  \n",
       " 0                              None  \n",
       " 1  yYiOdGN2a2TGR8GBwrMtk1CkMAFUcaan  \n",
       " 2                              None  \n",
       " 3  yYiOdGN2a2TGR8GBwrMtk1CkMAFUcaan  \n",
       " 4                              None  \n",
       " 5  yYiOdGN2a2TGR8GBwrMtk1CkMAFUcaan  \n",
       " 6                              None  \n",
       " 7  yYiOdGN2a2TGR8GBwrMtk1CkMAFUcaan  \n",
       " 8                              None  \n",
       " 9  yYiOdGN2a2TGR8GBwrMtk1CkMAFUcaan  ,\n",
       "                         InputAddresses  Value_Received_from_Inp  \\\n",
       " 0   1FoWyxwPXuj4C6abqwhjDWdz6D4PZgYRjA                      546   \n",
       " 1   1L1WzDvXjMJVXJPijVVZQ2nLDKM5iqCqap                   500000   \n",
       " 2   1JwNMGo72d2hxBHQh1XyNr1yB4Gt6fx95U                   500000   \n",
       " 3   1AwzkRiEgnPeRfv9U6uWbuJAF8tMvVxibE                   500000   \n",
       " 4   19ZCrdhDBGJBiiriEvknhADpBAWJQYZMcV                   500000   \n",
       " 5   1FoWyxwPXuj4C6abqwhjDWdz6D4PZgYRjA                      546   \n",
       " 6   12sDU3FyYJXc2oRzE6XXuuhVHCBJvaoCC8                   470643   \n",
       " 7   1FoWyxwPXuj4C6abqwhjDWdz6D4PZgYRjA                      546   \n",
       " 8   12sDU3FyYJXc2oRzE6XXuuhVHCBJvaoCC8                   485413   \n",
       " 9   1DUb2YYbQA1jjaNYzVXLZ7ZioEhLXtbUru                      546   \n",
       " 10  12sDU3FyYJXc2oRzE6XXuuhVHCBJvaoCC8                   478028   \n",
       " 11  12sDU3FyYJXc2oRzE6XXuuhVHCBJvaoCC8                   494281   \n",
       " 12  1FoWyxwPXuj4C6abqwhjDWdz6D4PZgYRjA                      546   \n",
       " 13  1FoWyxwPXuj4C6abqwhjDWdz6D4PZgYRjA                      546   \n",
       " 14  12sDU3FyYJXc2oRzE6XXuuhVHCBJvaoCC8                   489847   \n",
       " \n",
       "     Value_Send_from_Inp                                     Transaction_ID  \\\n",
       " 0               1043357  ee083ed94b8239d8694d5cddf2bded70bf26fc9a001ec9...   \n",
       " 1                  3000  b6eeee4e46b685058783a34479b6e205c675fd2bf691e9...   \n",
       " 2              14042800  b6eeee4e46b685058783a34479b6e205c675fd2bf691e9...   \n",
       " 3                438000  b6eeee4e46b685058783a34479b6e205c675fd2bf691e9...   \n",
       " 4                 43815  b6eeee4e46b685058783a34479b6e205c675fd2bf691e9...   \n",
       " 5               6029078  b2433176574d478781cdb8c52efaa52d9a66e3b1a00b18...   \n",
       " 6                478028  9252559abd14106761c92b0e14489e9018365882fe12f6...   \n",
       " 7               6593862  8cda03cb732f60d2272d017bd1caf6877eaf73223097ca...   \n",
       " 8                489847  6da7a5d3797a1457a7910804128b53b82640a621d848ce...   \n",
       " 9              27466181  6c66e83950fd7cac2b3ea0ededea41f02f4fee177dc373...   \n",
       " 10               485413  4e143d01a5febf5b7085dc393114c176594b580ce26bb2...   \n",
       " 11               500000  3a785a153bfd7d77bdf7b8dcce6ba24feeb9b1bffdb723...   \n",
       " 12              1235766  235b665b4efd07e32a7343f4082211225aa0b5599057d4...   \n",
       " 13              5976418  1eb84c1c9c0ad5b36161a748a65c52f5b518e0aad39290...   \n",
       " 14               494281  1b1be7bab9f905ffcf083e3483705f0e621a9518930b69...   \n",
       " \n",
       "                          Association  \n",
       " 0                               None  \n",
       " 1   FMKb71RPmguLvGGijceGfTeZJWIyYdFI  \n",
       " 2   FMKb71RPmguLvGGijceGfTeZJWIyYdFI  \n",
       " 3   FMKb71RPmguLvGGijceGfTeZJWIyYdFI  \n",
       " 4   FMKb71RPmguLvGGijceGfTeZJWIyYdFI  \n",
       " 5                               None  \n",
       " 6   yYiOdGN2a2TGR8GBwrMtk1CkMAFUcaan  \n",
       " 7                               None  \n",
       " 8   yYiOdGN2a2TGR8GBwrMtk1CkMAFUcaan  \n",
       " 9                               None  \n",
       " 10  yYiOdGN2a2TGR8GBwrMtk1CkMAFUcaan  \n",
       " 11  yYiOdGN2a2TGR8GBwrMtk1CkMAFUcaan  \n",
       " 12                              None  \n",
       " 13                              None  \n",
       " 14  yYiOdGN2a2TGR8GBwrMtk1CkMAFUcaan  )"
      ]
     },
     "execution_count": 11,
     "metadata": {},
     "output_type": "execute_result"
    }
   ],
   "source": [
    "#get all addresses and their associations that are either output or input to an association (user)\n",
    "def getInputs_Outputs(association):\n",
    "    \n",
    "    query_for_Outputs = \"\"\"\n",
    "    Match (a:Address {association: \"%s\"})-[send:SENDS]->(t:Transaction)-[r:RECEIVES]->(out:Address)\n",
    "    return out as output_Addresses, send.value as Value_send_to_Outp,r.value as Value_rec_from_Outp,\n",
    "     t.txid as Transaction_ID, out.association as Association\"\"\"\n",
    "\n",
    "    userOutput = get_Outputs(query_for_Outputs % association)\n",
    "\n",
    "    query_for_Inputs = \"\"\"\n",
    "    Match (input:Address)-[s:SENDS]->(t:Transaction)-[r:RECEIVES]->(a:Address {association: \"%s\"})\n",
    "    return input as InputAddresses, r.value as Value_Received_from_Inp,s.value as Value_Send_from_Inp,\n",
    "    t.txid as Transaction_ID, input.association as Association\"\"\"\n",
    "\n",
    "    \n",
    "    userInput = get_Inputs(query_for_Inputs % association)\n",
    "\n",
    "    return userOutput, userInput"
   ]
  },
  {
   "cell_type": "markdown",
   "metadata": {},
   "source": [
    "## query for input and output address asociations"
   ]
  },
  {
   "cell_type": "code",
   "execution_count": 14,
   "metadata": {},
   "outputs": [],
   "source": [
    "def buildFlowGraph(inputAddress):\n",
    "    try:\n",
    "        association = getAssoc(inputAddress)\n",
    "    except:\n",
    "        raise Exception('FU') # adjust to use case\n",
    "\n",
    "    outputs, inputs = getInputs_Outputs(association)\n",
    "   \n",
    "    outputAssocs = []\n",
    "    for o in outputs.rows():\n",
    "        if o['Association'] not None:\n",
    "            outputAssocs.append(o['Association'])\n",
    "        else:\n",
    "            outputAssocs.append(getAssoc(o['OutputAddresses']))\n",
    "    outputAssocs = set(outputAssocs)\n",
    "    \n",
    "    inputAssocs = []\n",
    "    for i in inputs.rows():\n",
    "        if i['Association'] not None:\n",
    "            inputAssocs.append(i['Association'])\n",
    "        else:\n",
    "            inputAssocs.append(getAssoc(i['InputAddresses']))\n",
    "    inputAssocs = set(inputAssocs)\n",
    "\n",
    "    # build graph (adjust to use case)\n",
    "    dot = Digraph()\n",
    "    dot.node(association, association)\n",
    "        \n",
    "    for outNode in outputAssocs:\n",
    "        dot.node(outNode, outNode)\n",
    "        dot.edge(association, outNode)\n",
    "\n",
    "    for inNode in inputAssocs:\n",
    "        dot.node(inNode, inNode)\n",
    "        dot.edge(inNode, association)\n",
    "        \n",
    "    return dot"
   ]
  },
  {
   "cell_type": "markdown",
   "metadata": {},
   "source": [
    "## include transaction information in graph"
   ]
  },
  {
   "cell_type": "code",
   "execution_count": 15,
   "metadata": {},
   "outputs": [],
   "source": [
    "def getUserTransactionData(association, outputNodes, inputNodes):\n",
    "    userOutputTransactionDataTemplate = '''\n",
    "        MATCH (u:Address{association:\"%s\"})-[:SENDS]->(t:Transaction)-[:SENDS]->(o:Address{association:\"%s\"}),\n",
    "        (u:Address)-[:SENDS]->(t:Transaction)-[:SENDS]->(o:Address)\n",
    "        RETURN DISTINCT o\n",
    "        ''' "
   ]
  },
  {
   "cell_type": "markdown",
   "metadata": {},
   "source": [
    "# RUN: Make graph of flows"
   ]
  },
  {
   "cell_type": "code",
   "execution_count": 16,
   "metadata": {},
   "outputs": [],
   "source": [
    "inputAddress = ''\n",
    "getAssoc(\"12sDU3FyYJXc2oRzE6XXuuhVHCBJvaoCC8\")\n",
    "getInputs_Outputs(\"yYiOdGN2a2TGR8GBwrMtk1CkMAFUcaan\")"
   ]
  },
  {
   "cell_type": "code",
   "execution_count": 17,
   "metadata": {},
   "outputs": [
    {
     "ename": "Exception",
     "evalue": "FU",
     "output_type": "error",
     "traceback": [
      "\u001b[1;31m---------------------------------------------------------------------------\u001b[0m",
      "\u001b[1;31mFileNotFoundError\u001b[0m                         Traceback (most recent call last)",
      "\u001b[1;32mc:\\Users\\Simon\\Documents\\3. term BI\\Crypto Currency and Forensics\\Development\\Backup\\WalletClustering_WalletFlowGraphing.ipynb Cell 18'\u001b[0m in \u001b[0;36mbuildFlowGraph\u001b[1;34m(inputAddress)\u001b[0m\n\u001b[0;32m      <a href='vscode-notebook-cell:/c%3A/Users/Simon/Documents/3.%20term%20BI/Crypto%20Currency%20and%20Forensics/Development/Backup/WalletClustering_WalletFlowGraphing.ipynb#ch0000016?line=1'>2</a>\u001b[0m \u001b[39mtry\u001b[39;00m:\n\u001b[1;32m----> <a href='vscode-notebook-cell:/c%3A/Users/Simon/Documents/3.%20term%20BI/Crypto%20Currency%20and%20Forensics/Development/Backup/WalletClustering_WalletFlowGraphing.ipynb#ch0000016?line=2'>3</a>\u001b[0m     association \u001b[39m=\u001b[39m getAssoc(inputAddress)\n\u001b[0;32m      <a href='vscode-notebook-cell:/c%3A/Users/Simon/Documents/3.%20term%20BI/Crypto%20Currency%20and%20Forensics/Development/Backup/WalletClustering_WalletFlowGraphing.ipynb#ch0000016?line=3'>4</a>\u001b[0m \u001b[39mexcept\u001b[39;00m:\n",
      "\u001b[1;32mc:\\Users\\Simon\\Documents\\3. term BI\\Crypto Currency and Forensics\\Development\\Backup\\WalletClustering_WalletFlowGraphing.ipynb Cell 14'\u001b[0m in \u001b[0;36mgetAssoc\u001b[1;34m(address)\u001b[0m\n\u001b[0;32m     <a href='vscode-notebook-cell:/c%3A/Users/Simon/Documents/3.%20term%20BI/Crypto%20Currency%20and%20Forensics/Development/Backup/WalletClustering_WalletFlowGraphing.ipynb#ch0000012?line=15'>16</a>\u001b[0m \u001b[39melse\u001b[39;00m:\n\u001b[1;32m---> <a href='vscode-notebook-cell:/c%3A/Users/Simon/Documents/3.%20term%20BI/Crypto%20Currency%20and%20Forensics/Development/Backup/WalletClustering_WalletFlowGraphing.ipynb#ch0000012?line=16'>17</a>\u001b[0m     assocBlacklist \u001b[39m=\u001b[39m createAssocBlacklist()\n\u001b[0;32m     <a href='vscode-notebook-cell:/c%3A/Users/Simon/Documents/3.%20term%20BI/Crypto%20Currency%20and%20Forensics/Development/Backup/WalletClustering_WalletFlowGraphing.ipynb#ch0000012?line=17'>18</a>\u001b[0m     \u001b[39mif\u001b[39;00m assocBlacklistCheck(association, assocBlacklist):\n\u001b[0;32m     <a href='vscode-notebook-cell:/c%3A/Users/Simon/Documents/3.%20term%20BI/Crypto%20Currency%20and%20Forensics/Development/Backup/WalletClustering_WalletFlowGraphing.ipynb#ch0000012?line=18'>19</a>\u001b[0m         \u001b[39m#throw exception in case association is blacklisted\u001b[39;00m\n",
      "\u001b[1;32mc:\\Users\\Simon\\Documents\\3. term BI\\Crypto Currency and Forensics\\Development\\Backup\\WalletClustering_WalletFlowGraphing.ipynb Cell 10'\u001b[0m in \u001b[0;36mcreateAssocBlacklist\u001b[1;34m()\u001b[0m\n\u001b[0;32m     <a href='vscode-notebook-cell:/c%3A/Users/Simon/Documents/3.%20term%20BI/Crypto%20Currency%20and%20Forensics/Development/Backup/WalletClustering_WalletFlowGraphing.ipynb#ch0000008?line=23'>24</a>\u001b[0m         \u001b[39mcontinue\u001b[39;00m\n\u001b[1;32m---> <a href='vscode-notebook-cell:/c%3A/Users/Simon/Documents/3.%20term%20BI/Crypto%20Currency%20and%20Forensics/Development/Backup/WalletClustering_WalletFlowGraphing.ipynb#ch0000008?line=25'>26</a>\u001b[0m \u001b[39mwith\u001b[39;00m \u001b[39mopen\u001b[39;49m(\u001b[39m'\u001b[39;49m\u001b[39moutput\u001b[39;49m\u001b[39m\\\\\u001b[39;49;00m\u001b[39massocBlacklist.pickle\u001b[39;49m\u001b[39m'\u001b[39;49m, \u001b[39m'\u001b[39;49m\u001b[39mwb\u001b[39;49m\u001b[39m'\u001b[39;49m) \u001b[39mas\u001b[39;00m export:\n\u001b[0;32m     <a href='vscode-notebook-cell:/c%3A/Users/Simon/Documents/3.%20term%20BI/Crypto%20Currency%20and%20Forensics/Development/Backup/WalletClustering_WalletFlowGraphing.ipynb#ch0000008?line=26'>27</a>\u001b[0m     pickle\u001b[39m.\u001b[39mdump(\u001b[39mset\u001b[39m(assocBlacklist), export)\n",
      "\u001b[1;31mFileNotFoundError\u001b[0m: [Errno 2] No such file or directory: 'output\\\\assocBlacklist.pickle'",
      "\nDuring handling of the above exception, another exception occurred:\n",
      "\u001b[1;31mException\u001b[0m                                 Traceback (most recent call last)",
      "\u001b[1;32mc:\\Users\\Simon\\Documents\\3. term BI\\Crypto Currency and Forensics\\Development\\Backup\\WalletClustering_WalletFlowGraphing.ipynb Cell 23'\u001b[0m in \u001b[0;36m<cell line: 1>\u001b[1;34m()\u001b[0m\n\u001b[1;32m----> <a href='vscode-notebook-cell:/c%3A/Users/Simon/Documents/3.%20term%20BI/Crypto%20Currency%20and%20Forensics/Development/Backup/WalletClustering_WalletFlowGraphing.ipynb#ch0000021?line=0'>1</a>\u001b[0m graph \u001b[39m=\u001b[39m buildFlowGraph(inputAddress)\n\u001b[0;32m      <a href='vscode-notebook-cell:/c%3A/Users/Simon/Documents/3.%20term%20BI/Crypto%20Currency%20and%20Forensics/Development/Backup/WalletClustering_WalletFlowGraphing.ipynb#ch0000021?line=1'>2</a>\u001b[0m graph\u001b[39m.\u001b[39mrender(view\u001b[39m=\u001b[39m\u001b[39mTrue\u001b[39;00m)\n",
      "\u001b[1;32mc:\\Users\\Simon\\Documents\\3. term BI\\Crypto Currency and Forensics\\Development\\Backup\\WalletClustering_WalletFlowGraphing.ipynb Cell 18'\u001b[0m in \u001b[0;36mbuildFlowGraph\u001b[1;34m(inputAddress)\u001b[0m\n\u001b[0;32m      <a href='vscode-notebook-cell:/c%3A/Users/Simon/Documents/3.%20term%20BI/Crypto%20Currency%20and%20Forensics/Development/Backup/WalletClustering_WalletFlowGraphing.ipynb#ch0000016?line=2'>3</a>\u001b[0m     association \u001b[39m=\u001b[39m getAssoc(inputAddress)\n\u001b[0;32m      <a href='vscode-notebook-cell:/c%3A/Users/Simon/Documents/3.%20term%20BI/Crypto%20Currency%20and%20Forensics/Development/Backup/WalletClustering_WalletFlowGraphing.ipynb#ch0000016?line=3'>4</a>\u001b[0m \u001b[39mexcept\u001b[39;00m:\n\u001b[1;32m----> <a href='vscode-notebook-cell:/c%3A/Users/Simon/Documents/3.%20term%20BI/Crypto%20Currency%20and%20Forensics/Development/Backup/WalletClustering_WalletFlowGraphing.ipynb#ch0000016?line=4'>5</a>\u001b[0m     \u001b[39mraise\u001b[39;00m \u001b[39mException\u001b[39;00m(\u001b[39m'\u001b[39m\u001b[39mFU\u001b[39m\u001b[39m'\u001b[39m) \u001b[39m# adjust to use case\u001b[39;00m\n\u001b[0;32m      <a href='vscode-notebook-cell:/c%3A/Users/Simon/Documents/3.%20term%20BI/Crypto%20Currency%20and%20Forensics/Development/Backup/WalletClustering_WalletFlowGraphing.ipynb#ch0000016?line=6'>7</a>\u001b[0m outputs, inputs \u001b[39m=\u001b[39m getUserTransactions(association)\n\u001b[0;32m      <a href='vscode-notebook-cell:/c%3A/Users/Simon/Documents/3.%20term%20BI/Crypto%20Currency%20and%20Forensics/Development/Backup/WalletClustering_WalletFlowGraphing.ipynb#ch0000016?line=8'>9</a>\u001b[0m outputAssocs \u001b[39m=\u001b[39m []\n",
      "\u001b[1;31mException\u001b[0m: FU"
     ]
    }
   ],
   "source": [
    "graph = buildFlowGraph(inputAddress)\n",
    "graph.render(view=True)"
   ]
  }
 ],
 "metadata": {
  "kernelspec": {
   "display_name": "Python 3.10.4 64-bit",
   "language": "python",
   "name": "python3"
  },
  "language_info": {
   "codemirror_mode": {
    "name": "ipython",
    "version": 3
   },
   "file_extension": ".py",
   "mimetype": "text/x-python",
   "name": "python",
   "nbconvert_exporter": "python",
   "pygments_lexer": "ipython3",
   "version": "3.10.4"
  },
  "orig_nbformat": 4,
  "vscode": {
   "interpreter": {
    "hash": "1d06fc9ed4b774328ae1669b976a7de461f6c6282277a8a3bb34b5a87421f7ca"
   }
  }
 },
 "nbformat": 4,
 "nbformat_minor": 2
}
