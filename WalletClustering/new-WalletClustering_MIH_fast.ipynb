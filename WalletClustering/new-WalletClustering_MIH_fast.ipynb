{
 "cells": [
  {
   "cell_type": "markdown",
   "metadata": {},
   "source": [
    "# install packages"
   ]
  },
  {
   "cell_type": "code",
   "execution_count": 2,
   "metadata": {},
   "outputs": [],
   "source": [
    "from neo4j import GraphDatabase\n",
    "import multiprocessing as mp\n",
    "import pandas as pd\n",
    "import os\n",
    "import pickle\n",
    "import time"
   ]
  },
  {
   "cell_type": "markdown",
   "metadata": {},
   "source": [
    "# define connector"
   ]
  },
  {
   "cell_type": "code",
   "execution_count": 3,
   "metadata": {},
   "outputs": [],
   "source": [
    "class Neo4jConnection:\n",
    "    \n",
    "    def __init__(self, uri, user, pwd):\n",
    "        self.__uri = uri\n",
    "        self.__user = user\n",
    "        self.__pwd = pwd\n",
    "        self.__driver = None\n",
    "        try:\n",
    "            self.__driver = GraphDatabase.driver(self.__uri, auth=(self.__user, self.__pwd))\n",
    "        except Exception as e:\n",
    "            print(\"Failed to create the driver:\", e)\n",
    "        \n",
    "    def close(self):\n",
    "        if self.__driver is not None:\n",
    "            self.__driver.close()\n",
    "        \n",
    "    def query(self, query, db=None):\n",
    "        assert self.__driver is not None, \"Driver not initialized!\"\n",
    "        session = None\n",
    "        response = None\n",
    "        try: \n",
    "            session = self.__driver.session(database=db) if db is not None else self.__driver.session() \n",
    "            response = list(session.run(query))\n",
    "        except Exception as e:\n",
    "            print(\"Query failed:\", e)\n",
    "        finally: \n",
    "            if session is not None:\n",
    "                session.close()\n",
    "        return response\n",
    "\n",
    "conn = Neo4jConnection(uri=\"neo4j://127.0.0.1:7687\", user=\"team\", pwd=\"F0110wTh€M0n€y\")"
   ]
  },
  {
   "cell_type": "markdown",
   "metadata": {},
   "source": [
    "# cluster wallets"
   ]
  },
  {
   "cell_type": "code",
   "execution_count": 4,
   "metadata": {},
   "outputs": [],
   "source": [
    "mihTemplate = '''\n",
    "MATCH (:Address{address:\"%s\"})-[:SENDS]->(t:Transaction),\n",
    "(walletMember:Address)-[:SENDS]->(t:Transaction)\n",
    "RETURN DISTINCT walletMember\n",
    "'''\n",
    "#address"
   ]
  },
  {
   "cell_type": "code",
   "execution_count": 5,
   "metadata": {},
   "outputs": [
    {
     "data": {
      "text/plain": [
       "'MATCH (a:Address)-[:SENDS]->(t:Transaction), (walletMember:Address)-[:SENDS]->(t:Transaction) \\nwhere a.address in [\"{0}\",\"{1}\",\"{2}\",\"{3}\",\"{4}\",\"{5}\",\"{6}\",\"{7}\",\"{8}\",\"{9}\"]\\nRETURN DISTINCT walletMember'"
      ]
     },
     "execution_count": 5,
     "metadata": {},
     "output_type": "execute_result"
    }
   ],
   "source": [
    "mihWhere = \"\"\"MATCH (a:Address)-[:SENDS]->(t:Transaction), (walletMember:Address)-[:SENDS]->(t:Transaction) \n",
    "where a.address in [\\\"{0}\\\",\\\"{1}\\\",\\\"{2}\\\",\\\"{3}\\\",\\\"{4}\\\",\\\"{5}\\\",\\\"{6}\\\",\\\"{7}\\\",\\\"{8}\\\",\\\"{9}\\\"]\n",
    "RETURN DISTINCT walletMember\"\"\""
   ]
  },
  {
   "cell_type": "code",
   "execution_count": 6,
   "metadata": {},
   "outputs": [],
   "source": [
    "def updateWalletAddresses(address, walletName):\n",
    "  \n",
    "  query = \"\"\"CALL apoc.periodic.iterate( 'MATCH (a:Address {address: \"%s\"})-[:SENDS]->(t:Transaction), (walletMember:Address)-[:SENDS]->(t:Transaction) RETURN  walletMember',\n",
    "  'set walletMember.terrorWallet = \"%s\"', {batchSize:1000, parallel:true})\"\"\" % (address, walletName)\n",
    "  return query\n"
   ]
  },
  {
   "cell_type": "code",
   "execution_count": 13,
   "metadata": {},
   "outputs": [
    {
     "name": "stdout",
     "output_type": "stream",
     "text": [
      "137373\n",
      "Execution time Query: 3572.6374530792236 seconds\n",
      "Execution time inWallet: 158.30259037017822 seconds\n",
      "Execution time IF: 0.022434473037719727 seconds   | Going into statement:  2  times.\n",
      "Updating ...137373\n"
     ]
    }
   ],
   "source": [
    "# Iterating through the addresses and finding all the addresses that are connected to the input address.\n",
    "# Store all responses in a dictionary and instead of looping over every item and adding only new Addresses to the list,\n",
    "# write all records of a response into the dictionary. They addresses are the keys\n",
    "# additionally use a batched version if the amount of retrieved records is greater than 10\n",
    "def iterMultiInputClustering(address):\n",
    "\n",
    "    # create initial set of addresses\n",
    "    walletAddresses = {address: 1}\n",
    "    response = conn.query(mihTemplate % address, db='neo4j')\n",
    "\n",
    "    # store every found address as key in the dictionary, values do not matter here, so we just pass 1\n",
    "    for record in response:\n",
    "       walletAddresses [record[0]._properties[\"address\"]]= 1 \n",
    "    \n",
    "    i = 1\n",
    "    \n",
    "    while i < len(walletAddresses):\n",
    "\n",
    "        # generate a list of the keys to get an index; this is necessary for the batching\n",
    "        list_ofKeys = list(walletAddresses.keys())\n",
    "        \n",
    "        # if there are less than 10 addresses left between i and the maximum; then no batching is possible\n",
    "        if len(walletAddresses) - i <= 10 :\n",
    "\n",
    "            response = conn.query(mihTemplate % list_ofKeys[i], db='neo4j')\n",
    "            \n",
    "            # this automatically resolves duplicates. Instead of iterating over every address one by one in the list and comparing them with the existing set, \n",
    "            # this is more faster since the dictionaries are actually hash tables. So it reaches less than logarithmic runtime\n",
    "            for record in response:\n",
    "                walletAddresses [record[0]._properties[\"address\"]]= 1 \n",
    "            i += 1\n",
    "            list_ofKeys = list(walletAddresses.keys())\n",
    "        \n",
    "        \n",
    "       # batching 10 addresses at once to avoid querying every single transaction in the dictionary\n",
    "       # only possible if there are more than 10 addresses left in the dictionary\n",
    "       # question is if we can further improve this... like with 500 and a function in between that creates a string\n",
    "        while 10 < len(walletAddresses) - i:\n",
    "\n",
    "            response = conn.query(mihWhere.format(list_ofKeys[i], list_ofKeys[i+1], list_ofKeys[i+2], list_ofKeys[i+3], list_ofKeys[i+4], list_ofKeys[i+5]\n",
    "            , list_ofKeys[i+6], list_ofKeys[i+7], list_ofKeys[i+8], list_ofKeys[i+9] ), db='neo4j')\n",
    "\n",
    "            #same as above\n",
    "            for record in response:\n",
    "                walletAddresses [record[0]._properties[\"address\"]]= 1\n",
    "            list_ofKeys = list(walletAddresses.keys())\n",
    "            \n",
    "    \n",
    "    print(\"Updating ...\" + str(len(walletAddresses)))\n",
    "    \n",
    "    #for walletAddress in walletAddresses[0]:\n",
    "    #   updateWalletAddresses(walletAddress, walletString)\n",
    "    #return walletAddresses\n",
    "\n",
    "wallets = iterMultiInputClustering(\"13iQsrwBYdrLpnitG5EV79o3PeHjH8XUBc\")\n",
    "\n",
    "#output of 13iQsrwBYdrLpnitG5EV79o3PeHjH8XUBc:  \n",
    "\"\"\"137373\n",
    "Execution time Query: 3572.6374530792236 seconds\n",
    "Execution time inWallet: 158.30259037017822 seconds\n",
    "Execution time IF: 0.022434473037719727 seconds   | Going into statement:  2  times.\"\"\""
   ]
  },
  {
   "cell_type": "code",
   "execution_count": null,
   "metadata": {},
   "outputs": [],
   "source": [
    "# additional remarks and examples\n",
    "#print(len(wallets))\n",
    "#1EYya5dfNvuYDwpeboGKBtkXzJcEHMCQXR '1PeSDEMzi7nj1ah4YFcgnRmijWpgQqP3Yp' '1P963yWMBFkUouU2Me7cQ6136orZDD4gTf' '1KFiRjjvE4rtheuEYGo9VeDDBvGgmm7nRg' exchanges: Btc38.com-1CELa15H4DMzHtHnuz7LCpSFgFWf61Ra6A, \n",
    "# QuadrigaCX.com-1LQF9Suqgm4YtxY6kriiE8DJftNTPTqwAm, CoinHako.com- 3PpSAGEGfA9e995bpCkAFdKaw3fMmo8Eyw, MaiCoin.com - 1Lfktsua4x25UcsqDeuXUrXZq3jSoPpJ1b, Hashnest - 1D7JStLYKJ2ma6yfH7a7DXSom5ZPfyfNM3\n",
    "#wallets\n",
    "#no batching: 1EYya5dfNvuYDwpeboGKBtkXzJcEHMCQXR - 7sec, 13iQsrwBYdrLpnitG5EV79o3PeHjH8XUBc - cancelled after 4 hours, \n",
    "#batching with 6: 1EYya5dfNvuYDwpeboGKBtkXzJcEHMCQXR - 1.3sec, 13iQsrwBYdrLpnitG5EV79o3PeHjH8XUBc - cancelled after 6 hours"
   ]
  }
 ],
 "metadata": {
  "interpreter": {
   "hash": "2a953444f3f6a7370568067c59d527322362a757e3663a1ed7da44db03711d09"
  },
  "kernelspec": {
   "display_name": "Python 3.10.4 64-bit",
   "language": "python",
   "name": "python3"
  },
  "language_info": {
   "codemirror_mode": {
    "name": "ipython",
    "version": 3
   },
   "file_extension": ".py",
   "mimetype": "text/x-python",
   "name": "python",
   "nbconvert_exporter": "python",
   "pygments_lexer": "ipython3",
   "version": "3.10.4"
  }
 },
 "nbformat": 4,
 "nbformat_minor": 2
}
