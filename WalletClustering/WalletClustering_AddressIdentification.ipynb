{
 "cells": [
  {
   "cell_type": "markdown",
   "metadata": {},
   "source": [
    "# INSTALL: packages"
   ]
  },
  {
   "cell_type": "code",
   "execution_count": 1,
   "metadata": {},
   "outputs": [
    {
     "name": "stdout",
     "output_type": "stream",
     "text": [
      "Requirement already satisfied: nbformat in c:\\users\\info\\appdata\\local\\programs\\python\\python310\\lib\\site-packages (5.4.0)\n",
      "Requirement already satisfied: fastjsonschema in c:\\users\\info\\appdata\\local\\programs\\python\\python310\\lib\\site-packages (from nbformat) (2.15.3)\n",
      "Requirement already satisfied: jsonschema>=2.6 in c:\\users\\info\\appdata\\local\\programs\\python\\python310\\lib\\site-packages (from nbformat) (4.5.1)\n",
      "Requirement already satisfied: traitlets>=5.1 in c:\\users\\info\\appdata\\roaming\\python\\python310\\site-packages (from nbformat) (5.2.1.post0)\n",
      "Requirement already satisfied: jupyter-core in c:\\users\\info\\appdata\\roaming\\python\\python310\\site-packages (from nbformat) (4.10.0)\n",
      "Requirement already satisfied: attrs>=17.4.0 in c:\\users\\info\\appdata\\local\\programs\\python\\python310\\lib\\site-packages (from jsonschema>=2.6->nbformat) (21.4.0)\n",
      "Requirement already satisfied: pyrsistent!=0.17.0,!=0.17.1,!=0.17.2,>=0.14.0 in c:\\users\\info\\appdata\\local\\programs\\python\\python310\\lib\\site-packages (from jsonschema>=2.6->nbformat) (0.18.1)\n",
      "Requirement already satisfied: pywin32>=1.0 in c:\\users\\info\\appdata\\roaming\\python\\python310\\site-packages (from jupyter-core->nbformat) (304)\n",
      "Note: you may need to restart the kernel to use updated packages.\n"
     ]
    },
    {
     "name": "stderr",
     "output_type": "stream",
     "text": [
      "WARNING: You are using pip version 22.0.4; however, version 22.1.2 is available.\n",
      "You should consider upgrading via the 'c:\\Users\\info\\AppData\\Local\\Programs\\Python\\Python310\\python.exe -m pip install --upgrade pip' command.\n"
     ]
    }
   ],
   "source": [
    "pip install nbformat"
   ]
  },
  {
   "cell_type": "code",
   "execution_count": 2,
   "metadata": {},
   "outputs": [
    {
     "name": "stdout",
     "output_type": "stream",
     "text": [
      "Requirement already satisfied: pandas in c:\\users\\info\\appdata\\local\\programs\\python\\python310\\lib\\site-packages (1.4.2)\n",
      "Requirement already satisfied: numpy>=1.21.0 in c:\\users\\info\\appdata\\local\\programs\\python\\python310\\lib\\site-packages (from pandas) (1.22.3)\n",
      "Requirement already satisfied: python-dateutil>=2.8.1 in c:\\users\\info\\appdata\\roaming\\python\\python310\\site-packages (from pandas) (2.8.2)\n",
      "Requirement already satisfied: pytz>=2020.1 in c:\\users\\info\\appdata\\local\\programs\\python\\python310\\lib\\site-packages (from pandas) (2022.1)\n",
      "Requirement already satisfied: six>=1.5 in c:\\users\\info\\appdata\\roaming\\python\\python310\\site-packages (from python-dateutil>=2.8.1->pandas) (1.16.0)\n",
      "Note: you may need to restart the kernel to use updated packages.\n"
     ]
    },
    {
     "name": "stderr",
     "output_type": "stream",
     "text": [
      "WARNING: You are using pip version 22.0.4; however, version 22.1.2 is available.\n",
      "You should consider upgrading via the 'c:\\Users\\info\\AppData\\Local\\Programs\\Python\\Python310\\python.exe -m pip install --upgrade pip' command.\n"
     ]
    }
   ],
   "source": [
    "pip install pandas"
   ]
  },
  {
   "cell_type": "code",
   "execution_count": 3,
   "metadata": {},
   "outputs": [],
   "source": [
    "import pandas as pd\n",
    "import os\n",
    "import pickle\n",
    "import WalletClustering_neo4jConnect"
   ]
  },
  {
   "cell_type": "code",
   "execution_count": 4,
   "metadata": {},
   "outputs": [],
   "source": [
    "conn = WalletClustering_neo4jConnect.conn"
   ]
  },
  {
   "cell_type": "markdown",
   "metadata": {},
   "source": [
    "# DEFINE: other methods"
   ]
  },
  {
   "cell_type": "markdown",
   "metadata": {},
   "source": [
    "Were used in older versions of this code. Kept for consistency of other notebooks."
   ]
  },
  {
   "cell_type": "code",
   "execution_count": 5,
   "metadata": {},
   "outputs": [],
   "source": [
    "# flattens list of lists\n",
    "def flatten(list):\n",
    "    return [item for sublist in list for item in sublist]"
   ]
  },
  {
   "cell_type": "markdown",
   "metadata": {},
   "source": [
    "# DEFINE: get interesting addresses excluding blacklisted addresses"
   ]
  },
  {
   "cell_type": "markdown",
   "metadata": {},
   "source": [
    "## create output directory"
   ]
  },
  {
   "cell_type": "code",
   "execution_count": 6,
   "metadata": {},
   "outputs": [],
   "source": [
    "try:\n",
    "    os.mkdir('output')\n",
    "except:\n",
    "    pass"
   ]
  },
  {
   "cell_type": "markdown",
   "metadata": {},
   "source": [
    "## query terror addresses"
   ]
  },
  {
   "cell_type": "code",
   "execution_count": 7,
   "metadata": {},
   "outputs": [],
   "source": [
    "#The below code is returning a list of all the addresses that are marked as terror addresses.\n",
    "#Query takes around 10 min\n",
    "def returnTerrorAddresses():\n",
    "\n",
    "    query_string = '''\n",
    "    MATCH (a:Address {isTerror: True})\n",
    "    Return a.address\n",
    "    '''\n",
    "\n",
    "    response = conn.query(query_string, db='neo4j')\n",
    "    terrorAddresses = [r[0] for r in response]\n",
    "    return terrorAddresses"
   ]
  },
  {
   "cell_type": "code",
   "execution_count": 8,
   "metadata": {},
   "outputs": [],
   "source": [
    "# comment out entire block if old terrorAddressList saved as pickle should be used\n",
    "def createTerrorAddressList():\n",
    "    terrorAddressList = returnTerrorAddresses()\n",
    "  \n",
    "    # save terrorAddressList to file\n",
    "    with open('output\\\\terrorAddressList.pickle', 'wb') as export:\n",
    "        pickle.dump(terrorAddressList, export)"
   ]
  },
  {
   "cell_type": "markdown",
   "metadata": {},
   "source": [
    "## create blacklist from csv"
   ]
  },
  {
   "cell_type": "code",
   "execution_count": 9,
   "metadata": {},
   "outputs": [],
   "source": [
    "# allows blacklist of addresses in json format\n",
    "def createBlacklistCSV():\n",
    "    blacklistAddresses = pd.DataFrame(columns =['address', 'association'])\n",
    "\n",
    "    dirname = os.path.dirname(os.path.realpath('__file__'))\n",
    "\n",
    "    if os.path.isdir('..\\\\EntityAddressBitcoin\\\\'):        \n",
    "        df = pd.read_csv(os.path.join(os.path.join(dirname, '..\\\\EntityAddressBitcoin\\\\'), 'Exchanges_full_detailed.csv'), usecols=['association', 'hashAdd'])[['hashAdd', 'association']]\n",
    "        df.columns=['address', 'association']\n",
    "        blacklistAddresses = blacklistAddresses.append(df, ignore_index=True)\n",
    "\n",
    "    #export blacklistAddresses to file\n",
    "    with open('output\\\\blacklistAddresses.pickle', 'wb') as export:\n",
    "        pickle.dump(blacklistAddresses, export)"
   ]
  },
  {
   "cell_type": "markdown",
   "metadata": {},
   "source": [
    "## create blacklist from json"
   ]
  },
  {
   "cell_type": "code",
   "execution_count": 10,
   "metadata": {},
   "outputs": [],
   "source": [
    "# allows blacklist of addresses in json format\n",
    "def createBlacklist():\n",
    "  \n",
    "  # first create CSV blacklist, then append JSON\n",
    "  createBlacklistCSV()\n",
    "  \n",
    "  if os.path.exists('output\\\\blacklistAddresses.pickle'):\n",
    "    blacklistAddresses = pickle.load(open('output\\\\blacklistAddresses.pickle', 'rb'))\n",
    "  else:\n",
    "    blacklistAddresses = pd.DataFrame(columns =['address', 'association'])\n",
    "  \n",
    "  dirname = os.path.dirname(os.path.realpath('__file__'))\n",
    "  \n",
    "  # iterate over collection of exchange addresses in json format to create blacklist\n",
    "  if os.path.isdir('..\\\\WalletExplorerScraper\\\\Output\\\\exchange\\\\'):\n",
    "    outputScrapeExchangeFolder = os.path.join(dirname, '..\\\\WalletExplorerScraper\\\\Output\\\\exchange\\\\')\n",
    "    for subfolder in os.listdir(outputScrapeExchangeFolder):\n",
    "        print(subfolder)\n",
    "        df = pd.read_json(os.path.join(outputScrapeExchangeFolder, subfolder, 'scraped_addresses.json'))\n",
    "        df.columns=['address']\n",
    "        df['association'] = subfolder.split(\"_\",1)[1]\n",
    "        blacklistAddresses = blacklistAddresses.append(df, ignore_index=True)\n",
    "        continue\n",
    "  \n",
    "  if os.path.isdir('..\\\\WalletExplorerScraper\\\\Output\\\\mixer\\\\'):\n",
    "    outputScrapeMixerFolder = os.path.join(dirname, '..\\\\WalletExplorerScraper\\\\Output\\\\mixer\\\\')\n",
    "    for subfolder in os.listdir(outputScrapeMixerFolder):\n",
    "        print(subfolder)\n",
    "        df = pd.read_json(os.path.join(outputScrapeMixerFolder, subfolder, 'scraped_addresses.json'))\n",
    "        df.columns=['address']\n",
    "        df['association'] = subfolder.split(\"_\",1)[1]\n",
    "        blacklistAddresses = blacklistAddresses.append(df, ignore_index=True)\n",
    "        continue\n",
    "\n",
    "  if os.path.isdir('..\\\\WalletExplorerScraper\\\\Output\\\\giant_wallet\\\\'):\n",
    "    outputScrapeGiantWalletFolder = os.path.join(dirname, '..\\\\WalletExplorerScraper\\\\Output\\\\giant_wallet\\\\')\n",
    "    for subfolder in os.listdir(outputScrapeGiantWalletFolder):\n",
    "        print(subfolder)\n",
    "        df = pd.read_json(os.path.join(outputScrapeGiantWalletFolder, subfolder, 'scraped_addresses.json'))\n",
    "        df.columns=['address']\n",
    "        df['association'] = subfolder.split(\"_\",1)[1]\n",
    "        blacklistAddresses = blacklistAddresses.append(df, ignore_index=True)\n",
    "        continue\n",
    "      \n",
    "  blacklistAddresses['association'] = blacklistAddresses['association'].str.lower()\n",
    "  blacklistAddresses = blacklistAddresses.drop_duplicates('address', keep='last')\n",
    "\n",
    "  #export blacklistAddresses to file\n",
    "  with open('output\\\\blacklistAddresses.pickle', 'wb') as export:\n",
    "    pickle.dump(blacklistAddresses, export)"
   ]
  },
  {
   "cell_type": "markdown",
   "metadata": {},
   "source": [
    "## create list of blacklisted associations"
   ]
  },
  {
   "cell_type": "code",
   "execution_count": 17,
   "metadata": {},
   "outputs": [],
   "source": [
    "def createAssocBlacklist():\n",
    "    assocBlacklistDf = pickle.load(open('output\\\\blacklistAddresses.pickle', 'rb'))\n",
    "    assocBlacklistDf = assocBlacklistDf.drop_duplicates('association', keep='first')\n",
    "    assocBlacklist = assocBlacklistDf['association'].tolist()\n",
    "    \n",
    "    otherServicesListDf = pickle.load(open('output/blacklistAddressesOSMIH.pickle', 'rb')) # list of other services addresses that have been clustered with MIH\n",
    "    otherServicesListDf = otherServicesListDf.drop_duplicates('otherService', keep='last')\n",
    "    otherServicesList = otherServicesListDf['otherService'].tolist()\n",
    "    assocBlacklist.extend(otherServicesList)\n",
    "\n",
    "    with open('output\\\\assocBlacklist.pickle', 'wb') as export:\n",
    "        pickle.dump(list(set(assocBlacklist)), export)\n"
   ]
  },
  {
   "cell_type": "markdown",
   "metadata": {},
   "source": [
    "## remove blacklisted addresses from addresses of interest"
   ]
  },
  {
   "cell_type": "code",
   "execution_count": 12,
   "metadata": {},
   "outputs": [],
   "source": [
    "# to be used for removal of exchange addresses\n",
    "def addressCleanUp(addressList, blacklist):\n",
    "    interestingAddresses = []\n",
    "    for address in addressList:\n",
    "        if not blacklist['address'].str.contains(address).any():\n",
    "            interestingAddresses.append(address)\n",
    "    return interestingAddresses"
   ]
  },
  {
   "cell_type": "code",
   "execution_count": 13,
   "metadata": {},
   "outputs": [],
   "source": [
    "def createAddressesToClusterList():\n",
    "    addressesToCluster = addressCleanUp(terrorAddressList, blacklistAddresses)\n",
    "\n",
    "    # save addressesToCluster to file\n",
    "    with open('output\\\\addressesToCluster.pickle', 'wb') as export:\n",
    "        pickle.dump(addressesToCluster, export)"
   ]
  },
  {
   "cell_type": "markdown",
   "metadata": {},
   "source": [
    "# EXECUTE: get interesting addresses excluding blacklisted addresses"
   ]
  },
  {
   "cell_type": "code",
   "execution_count": 14,
   "metadata": {},
   "outputs": [
    {
     "name": "stdout",
     "output_type": "stream",
     "text": [
      "['12sDU3FyYJXc2oRzE6XXuuhVHCBJvaoCC8', '1348ThkNoDupq1bws95diMiL8haGs61K7M', '13iQsrwBYdrLpnitG5EV79o3PeHjH8XUBc', '13Pcmh4dKJE8Aqrhq4ZZwmM1sbKFcMQEEV', '15K9Zj1AU2hjT3ebZMtWqDsMv3fFxTNwpf', '15soXrE3NJBMkkQhrccXonTT9bpjpPvE67', '164fawNZVwsR5SamAJypvCMtkMx4Xv1B3f', '179bzhS4FY7qLDza9YjuorhWyXVVYZu2YH', '17QAWGVpFV4gZ25NQug46e5mBho4uDP6MD', '17UUXDzPGkMwWrabhtk7YCha88tSoua2Vr', '19D1iGzDr7FyAdiy3ZZdxMd6ttHj1kj6WW', '19XVEDZCGVMA9WCF1qUayxtnjUnyD7zDDQ', '1A7pDH1EdrkH9YZtsPnc8uzirBFnAN9Eay', '1BPf9qr7M5xUgNHUYtrQtEKvUKcyERzXao', '1C6hetVWVXZnS6P2BYBNu5Y1ZJ57JyXGac', '1DrhHEkv42JVwiDQNi28JFdSuiSGgPNXwP', '1EDcKCRypUTFoTZbxDWF9MBAT4W7XUGB32', '1EfmRn6Bp3cjrTBubaH8MzRRc2ikSjNGXw', '1EnX6BuJiGWydqXJT9BN5dSvfLg3QW4Mdz', '1EVTZmTMqZPMzGxsug9TXBtvPJZH8dXSCK', '1EYya5dfNvuYDwpeboGKBtkXzJcEHMCQXR', '1GALPyvUDDXqA6H2eHQ9Y1yidfQ6T1Drvn', '1GC2SjzCyCwxo1uxTi28oqn9L3mJj7bLPs', '1Gg25VzQkqCizXHNSNet4RoysLEe19su4s', '1JpSBaUwrZaEgmsYka7mzm9t3Z4syyaw7A', '1LhRW1msre1cFgT7fBY2BRrZ4ANMPwVj9u', '1Lm9BCDUKoBUk888DCXewM5p8bJyr83cEp', '1LPTaRfyoNwvwAtmYzcetZLjBfUxVkJrr4', '1MMaU5nTrFdPZotfwdbv1wWnFjLCTFbpPY', '1QH9hfeSSb2iftcVpgpQp3NsFD174crFoW', '1uLdz4wXrcXjCy2CqLWuJUiE85Y7SJ1ge', '1ULEqcd5te8AWqFpH7HD4KvJZ1AKcJPam', '31yqH1jVEPDJ7x9L648Ec5umM2G3zNDoe5', '3422VtS7UtCvXYxoXMVp6eZupR252z85oC', '3FWSkG5NmyXF3rqMav7piXiJUDYzKpgFRT', '3HQJ9ta7TmYNRjkbY3nbMGdHzNCCiXs3Ui', '3MhdvQccMd5zAh92WrW7SpcHXwfW1uiamD', '3PajPWymUexhewHPczmLQ8CMYatKAGNj3y', 'bc1qg9h7s7hn4t9m7uw26gnwfm7xfxk77fkj878sg3']\n"
     ]
    }
   ],
   "source": [
    "# use existing terrorAddressList if exists\n",
    "if not os.path.exists('output\\\\terrorAddressList.pickle'):\n",
    "    createTerrorAddressList()\n",
    "\n",
    "terrorAddressList = pickle.load(open('output\\\\terrorAddressList.pickle', 'rb'))\n",
    "print(terrorAddressList)"
   ]
  },
  {
   "cell_type": "code",
   "execution_count": 15,
   "metadata": {},
   "outputs": [
    {
     "name": "stdout",
     "output_type": "stream",
     "text": [
      "                                     address              association\n",
      "1         1CrhRvGShwmQkrGcqFzDDwDDBiEhKpHAqF               anxpro.com\n",
      "2         1AbH5pFqocUYVhRqPAtJruVr5DMAxEANmn               anxpro.com\n",
      "4         1FM8vDXinj2N5LoTXX5J4MSGTCn2pPkqRm               anxpro.com\n",
      "7         18g2RSp4MxzkyNkigpYDejP2jMgkJ2Po9A               anxpro.com\n",
      "18        195rycdSmRf1tQDztryRkZWKaFgFwM1PPG              bittrex.com\n",
      "...                                      ...                      ...\n",
      "21606795  1JiTqsNvfjkGSYVHMKHpWbNwEfN2LUhjKM  unknown_large_wallet_03\n",
      "21606796  1HoNkBpNPkcznGWe6nUeLqffeLQN1TwhFJ  unknown_large_wallet_03\n",
      "21606797  1BmvAcQPLcFve9KpNigfF591PyQnZwNDyQ  unknown_large_wallet_03\n",
      "21606798  1GNw9S6hSzVQ83gUkP36ypjyrH3d6YZRm7  unknown_large_wallet_03\n",
      "21606799  1McAmDN95SGxaTMmymaN8QzzTGJADM3aZy  unknown_large_wallet_03\n",
      "\n",
      "[13983352 rows x 2 columns]\n"
     ]
    }
   ],
   "source": [
    "# use existing blacklist if exists\n",
    "if not os.path.exists('output\\\\blacklistAddresses.pickle'):\n",
    "    createBlacklist()\n",
    "\n",
    "blacklistAddresses = pickle.load(open('output\\\\blacklistAddresses.pickle', 'rb'))\n",
    "print(blacklistAddresses)"
   ]
  },
  {
   "cell_type": "code",
   "execution_count": 18,
   "metadata": {},
   "outputs": [
    {
     "name": "stdout",
     "output_type": "stream",
     "text": [
      "['unknown_large_wallet_01', 'vircurex.com', 'slushpool.com', 'ccedk.com', 'kano.is', 'germanplazamarket', 'coinjar.com', 'ghash.io', 'localbitcoins.com', 'simplecoin.cz', 'btcoracle.com', 'binance.com', 'bit-x.com', 'satoshidice.com', '999dice.com', 'nitrogensports.eu', 'vaultoro.com', 'cryptopay.me', 'btradeaustralia.com', 'cryptonator.com', 'loanbase.com', 'bitbay.net', 'coinomat.com', 'pocketdice.io', 'yabtcl.com', 'kraken.com', 'coinurl.com', 'clevercoin.com', 'bitzlato.com', 'antpool.com', 'genesis-mining.com', 'coinhako.com', 'coingi.com', 'bitso.com', 'bitkonan.com', 'cointrader.net', 'bter.com', 'bw.com', 'bitminter.com', 'bitzino.com', 'spectrocoin.com', 'vip72.com', 'cryptonit.net', 'doctordmarket', 'betmoose.com', 'virwox.com', 'btc38.com', 'betcoin.ag', 'coinpayments.net', 'bylls.com', 'primedice.com', 'jetwin.com', 'eligius.st', 'betcoin.tm', 'nucleusmarket', 'bleutrade.com', 'coinroll.com', 'quadrigacx.com', 'maicoin.com', 'coinmate.io', 'btcmarkets.net', 'unknown_large_wallet_03', 'satoshibet.com', 'coinmotion.com', 'coinkite.com', 'fortunejack.com', 'coinspot.com.au', 'exchanging.ir', 'satoshicircle.com', 'faucetbox.com', 'oklink.com', 'coinichiwa.com', 'betchain.com', 'bitcoinvietnam.com.vn', 'exchange-credit.ru', 'orderbook.net', '796.com', 'securevpn.to', 'bitfury.org', 'coinchimp.com', 'kncminer.com', 'paxful.com', 'coins-e.com', 'holytransaction.com', 'crimenetwork.co', 'bitclix.com', 'yobit.net', '777coin.com', 'bitcoinwallet.com', 'bitzillions.com', 'btc-e.com', 'safedice.com', 'cavirtex.com', 'cex.io', 'satoshi-karoshi.com', 'coinarch.com', 'coinbox.me', 'diceoin.io', 'luckyb.it', 'coinimal.com', 'bitoex.com', 'hitbtc.com', 'korbit.co.kr', 'bitfinex.com', 'happycoins.com', 'btcpop.co', 'coinbroker.io', 'exmo.com', 'igot.com', 'cryptsy.com', 'bitcoinvideocasino.com', 'btcc.com', 'gocelery.com', 'chbtc.com', 'bitlaunder.com', 'anxpro.com', 'campbx.com', 'greenroadmarket', 'c-cex.com', 'xapo.com', 'peerbet.org', 'urdubit.com', 'lakebtc.com', 'satoshiroulette.com', 'bitstamp.net', 'watchmybit.com', 'zyado.com', 'rollin.io', 'strongcoin.com-fee', 'poloniex.com', 'bitvc.com', 'cryptostocks.com', 'luno.com', 'coingaming.io', 'cloudbet.com', 'btccpool', 'bittrex.com', 'banx.io', 'gatecoin.com', 'fybsg.com', 'bx.in.th', 'empoex.com', 'purse.io', 'bitcoinfog', 'btctrade.com', 'mexbt.com', 'mercadobitcoin.com.br', 'matbea.com', 'dicenow.com', 'bitbargain.co.uk', 'bitcurex.com', 'vic-socks.to', 'foxbit.com.br', 'satoshimines.com', 'btcjam.com', 'unknown_large_wallet_02', 'fairproof.com', 'bitbond.com', 'crypto-games.net', 'bitcoin.de', 'coincafe.com', 'coinworker.com', 'cubits.com', 'huobi.com', 'okcoin.com', 'exchangemycoins.com', 'hashnest.com', 'changetip.com', 'blocktrades.us', 'alphabaymarket', 'moonbit.co.in', 'swcpoker.eu', 'bitnz.com', 'btclend.org', 'bitstarz.com', 'helix', 'bitcoinpokertables.com', 'secondstrade.com', 'therocktrading.com', 'haobtc.com', 'litebit.eu', 'minefield.bitcoinlab.org', 'coinroyale.com', 'paymium.com', 'coinapult.com', 'telco214', 'bitpay.com', 'bitcoinp2p.com.br', 'anonibet.com', 'indacoin.com', 'usecryptos.com', 'eclipsemc.com', '1coin.com', 'epay.info']\n"
     ]
    }
   ],
   "source": [
    "if not os.path.exists('output\\\\assocBlacklist.pickle'):\n",
    "    createAssocBlacklist()\n",
    "\n",
    "assocBlacklist = pickle.load(open('output\\\\assocBlacklist.pickle', 'rb'))\n",
    "print(assocBlacklist)"
   ]
  },
  {
   "cell_type": "code",
   "execution_count": null,
   "metadata": {},
   "outputs": [
    {
     "name": "stdout",
     "output_type": "stream",
     "text": [
      "['12sDU3FyYJXc2oRzE6XXuuhVHCBJvaoCC8', '1348ThkNoDupq1bws95diMiL8haGs61K7M', '13Pcmh4dKJE8Aqrhq4ZZwmM1sbKFcMQEEV', '15K9Zj1AU2hjT3ebZMtWqDsMv3fFxTNwpf', '164fawNZVwsR5SamAJypvCMtkMx4Xv1B3f', '179bzhS4FY7qLDza9YjuorhWyXVVYZu2YH', '17QAWGVpFV4gZ25NQug46e5mBho4uDP6MD', '17UUXDzPGkMwWrabhtk7YCha88tSoua2Vr', '19D1iGzDr7FyAdiy3ZZdxMd6ttHj1kj6WW', '19XVEDZCGVMA9WCF1qUayxtnjUnyD7zDDQ', '1BPf9qr7M5xUgNHUYtrQtEKvUKcyERzXao', '1C6hetVWVXZnS6P2BYBNu5Y1ZJ57JyXGac', '1DrhHEkv42JVwiDQNi28JFdSuiSGgPNXwP', '1EDcKCRypUTFoTZbxDWF9MBAT4W7XUGB32', '1EfmRn6Bp3cjrTBubaH8MzRRc2ikSjNGXw', '1EnX6BuJiGWydqXJT9BN5dSvfLg3QW4Mdz', '1EVTZmTMqZPMzGxsug9TXBtvPJZH8dXSCK', '1EYya5dfNvuYDwpeboGKBtkXzJcEHMCQXR', '1GALPyvUDDXqA6H2eHQ9Y1yidfQ6T1Drvn', '1GC2SjzCyCwxo1uxTi28oqn9L3mJj7bLPs', '1Gg25VzQkqCizXHNSNet4RoysLEe19su4s', '1JpSBaUwrZaEgmsYka7mzm9t3Z4syyaw7A', '1LhRW1msre1cFgT7fBY2BRrZ4ANMPwVj9u', '1Lm9BCDUKoBUk888DCXewM5p8bJyr83cEp', '1LPTaRfyoNwvwAtmYzcetZLjBfUxVkJrr4', '1MMaU5nTrFdPZotfwdbv1wWnFjLCTFbpPY', '1uLdz4wXrcXjCy2CqLWuJUiE85Y7SJ1ge', '1ULEqcd5te8AWqFpH7HD4KvJZ1AKcJPam', '31yqH1jVEPDJ7x9L648Ec5umM2G3zNDoe5', '3422VtS7UtCvXYxoXMVp6eZupR252z85oC', '3FWSkG5NmyXF3rqMav7piXiJUDYzKpgFRT', '3HQJ9ta7TmYNRjkbY3nbMGdHzNCCiXs3Ui', '3MhdvQccMd5zAh92WrW7SpcHXwfW1uiamD', '3PajPWymUexhewHPczmLQ8CMYatKAGNj3y', 'bc1qg9h7s7hn4t9m7uw26gnwfm7xfxk77fkj878sg3']\n"
     ]
    }
   ],
   "source": [
    "# use existing addressesToCluster if exists\n",
    "if not os.path.exists('output\\\\addressesToCluster.pickle'):\n",
    "    createAddressesToClusterList()\n",
    "\n",
    "addressesToCluster = pickle.load(open('output\\\\addressesToCluster.pickle', 'rb'))\n",
    "print(addressesToCluster)"
   ]
  }
 ],
 "metadata": {
  "kernelspec": {
   "display_name": "Python 3.10.4 64-bit",
   "language": "python",
   "name": "python3"
  },
  "language_info": {
   "codemirror_mode": {
    "name": "ipython",
    "version": 3
   },
   "file_extension": ".py",
   "mimetype": "text/x-python",
   "name": "python",
   "nbconvert_exporter": "python",
   "pygments_lexer": "ipython3",
   "version": "3.10.4"
  },
  "orig_nbformat": 4,
  "vscode": {
   "interpreter": {
    "hash": "1d06fc9ed4b774328ae1669b976a7de461f6c6282277a8a3bb34b5a87421f7ca"
   }
  }
 },
 "nbformat": 4,
 "nbformat_minor": 2
}
