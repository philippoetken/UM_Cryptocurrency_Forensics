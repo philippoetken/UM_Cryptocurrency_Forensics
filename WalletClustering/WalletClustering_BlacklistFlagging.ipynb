{
 "cells": [
  {
   "cell_type": "markdown",
   "metadata": {},
   "source": [
    "# INSTALL: packages"
   ]
  },
  {
   "cell_type": "code",
   "execution_count": null,
   "metadata": {},
   "outputs": [],
   "source": [
    "# no additional packages required"
   ]
  },
  {
   "cell_type": "markdown",
   "metadata": {},
   "source": [
    "# EXECUTE: WalletClustering_AddressIdentification notebook"
   ]
  },
  {
   "cell_type": "code",
   "execution_count": 1,
   "metadata": {},
   "outputs": [
    {
     "name": "stdout",
     "output_type": "stream",
     "text": [
      "Requirement already satisfied: nbformat in c:\\users\\rankl\\appdata\\local\\programs\\python\\python310\\lib\\site-packages (5.4.0)\n",
      "Requirement already satisfied: fastjsonschema in c:\\users\\rankl\\appdata\\local\\programs\\python\\python310\\lib\\site-packages (from nbformat) (2.15.3)\n",
      "Requirement already satisfied: traitlets>=5.1 in c:\\users\\rankl\\appdata\\local\\programs\\python\\python310\\lib\\site-packages (from nbformat) (5.1.1)\n",
      "Requirement already satisfied: jsonschema>=2.6 in c:\\users\\rankl\\appdata\\local\\programs\\python\\python310\\lib\\site-packages (from nbformat) (4.6.0)\n",
      "Requirement already satisfied: jupyter-core in c:\\users\\rankl\\appdata\\local\\programs\\python\\python310\\lib\\site-packages (from nbformat) (4.10.0)\n",
      "Requirement already satisfied: attrs>=17.4.0 in c:\\users\\rankl\\appdata\\local\\programs\\python\\python310\\lib\\site-packages (from jsonschema>=2.6->nbformat) (21.4.0)\n",
      "Requirement already satisfied: pyrsistent!=0.17.0,!=0.17.1,!=0.17.2,>=0.14.0 in c:\\users\\rankl\\appdata\\local\\programs\\python\\python310\\lib\\site-packages (from jsonschema>=2.6->nbformat) (0.18.1)\n",
      "Requirement already satisfied: pywin32>=1.0 in c:\\users\\rankl\\appdata\\local\\programs\\python\\python310\\lib\\site-packages (from jupyter-core->nbformat) (304)\n",
      "Note: you may need to restart the kernel to use updated packages.\n"
     ]
    },
    {
     "name": "stderr",
     "output_type": "stream",
     "text": [
      "WARNING: You are using pip version 22.0.4; however, version 22.1.2 is available.\n",
      "You should consider upgrading via the 'c:\\Users\\rankl\\AppData\\Local\\Programs\\Python\\Python310\\python.exe -m pip install --upgrade pip' command.\n"
     ]
    },
    {
     "name": "stdout",
     "output_type": "stream",
     "text": [
      "Requirement already satisfied: pandas in c:\\users\\rankl\\appdata\\local\\programs\\python\\python310\\lib\\site-packages (1.4.2)\n",
      "Requirement already satisfied: numpy>=1.21.0 in c:\\users\\rankl\\appdata\\local\\programs\\python\\python310\\lib\\site-packages (from pandas) (1.22.3)\n",
      "Requirement already satisfied: python-dateutil>=2.8.1 in c:\\users\\rankl\\appdata\\local\\programs\\python\\python310\\lib\\site-packages (from pandas) (2.8.2)\n",
      "Requirement already satisfied: pytz>=2020.1 in c:\\users\\rankl\\appdata\\local\\programs\\python\\python310\\lib\\site-packages (from pandas) (2022.1)\n",
      "Requirement already satisfied: six>=1.5 in c:\\users\\rankl\\appdata\\local\\programs\\python\\python310\\lib\\site-packages (from python-dateutil>=2.8.1->pandas) (1.16.0)\n",
      "Note: you may need to restart the kernel to use updated packages.\n"
     ]
    },
    {
     "name": "stderr",
     "output_type": "stream",
     "text": [
      "WARNING: You are using pip version 22.0.4; however, version 22.1.2 is available.\n",
      "You should consider upgrading via the 'c:\\Users\\rankl\\AppData\\Local\\Programs\\Python\\Python310\\python.exe -m pip install --upgrade pip' command.\n",
      "WARNING: You are using pip version 22.0.4; however, version 22.1.2 is available.\n",
      "You should consider upgrading via the 'c:\\Users\\rankl\\AppData\\Local\\Programs\\Python\\Python310\\python.exe -m pip install --upgrade pip' command.\n"
     ]
    },
    {
     "name": "stdout",
     "output_type": "stream",
     "text": [
      "Requirement already satisfied: neo4j in c:\\users\\rankl\\appdata\\local\\programs\\python\\python310\\lib\\site-packages (4.4.3)\n",
      "Requirement already satisfied: pytz in c:\\users\\rankl\\appdata\\local\\programs\\python\\python310\\lib\\site-packages (from neo4j) (2022.1)\n",
      "Note: you may need to restart the kernel to use updated packages.\n",
      "                                     address              association\n",
      "0         19hx1B4pTDsBAYJJYYrj1t6bcVw1e9omuH                huobi.com\n",
      "1         16vyeuwbuNz9PKPs4VqqGLsVRJ2G6uJj39                huobi.com\n",
      "2         12uuCfvuxeyGhWaEU1sHTbkCN7eWMT7qFp                huobi.com\n",
      "3         1NMbcRqggWu75DG5AqZtin5kecdHoDVs3b                huobi.com\n",
      "4         1DgcQFeaCQBo41oxtzUuV3caW5TNjXvhLZ                huobi.com\n",
      "...                                      ...                      ...\n",
      "13943141  1JiTqsNvfjkGSYVHMKHpWbNwEfN2LUhjKM  unknown_large_wallet_03\n",
      "13943142  1HoNkBpNPkcznGWe6nUeLqffeLQN1TwhFJ  unknown_large_wallet_03\n",
      "13943143  1BmvAcQPLcFve9KpNigfF591PyQnZwNDyQ  unknown_large_wallet_03\n",
      "13943144  1GNw9S6hSzVQ83gUkP36ypjyrH3d6YZRm7  unknown_large_wallet_03\n",
      "13943145  1McAmDN95SGxaTMmymaN8QzzTGJADM3aZy  unknown_large_wallet_03\n",
      "\n",
      "[13933603 rows x 2 columns]\n",
      "['12sDU3FyYJXc2oRzE6XXuuhVHCBJvaoCC8', '1348ThkNoDupq1bws95diMiL8haGs61K7M', '13Pcmh4dKJE8Aqrhq4ZZwmM1sbKFcMQEEV', '15K9Zj1AU2hjT3ebZMtWqDsMv3fFxTNwpf', '164fawNZVwsR5SamAJypvCMtkMx4Xv1B3f', '179bzhS4FY7qLDza9YjuorhWyXVVYZu2YH', '17QAWGVpFV4gZ25NQug46e5mBho4uDP6MD', '17UUXDzPGkMwWrabhtk7YCha88tSoua2Vr', '19D1iGzDr7FyAdiy3ZZdxMd6ttHj1kj6WW', '19XVEDZCGVMA9WCF1qUayxtnjUnyD7zDDQ', '1BPf9qr7M5xUgNHUYtrQtEKvUKcyERzXao', '1C6hetVWVXZnS6P2BYBNu5Y1ZJ57JyXGac', '1DrhHEkv42JVwiDQNi28JFdSuiSGgPNXwP', '1EDcKCRypUTFoTZbxDWF9MBAT4W7XUGB32', '1EfmRn6Bp3cjrTBubaH8MzRRc2ikSjNGXw', '1EnX6BuJiGWydqXJT9BN5dSvfLg3QW4Mdz', '1EVTZmTMqZPMzGxsug9TXBtvPJZH8dXSCK', '1EYya5dfNvuYDwpeboGKBtkXzJcEHMCQXR', '1GALPyvUDDXqA6H2eHQ9Y1yidfQ6T1Drvn', '1GC2SjzCyCwxo1uxTi28oqn9L3mJj7bLPs', '1Gg25VzQkqCizXHNSNet4RoysLEe19su4s', '1JpSBaUwrZaEgmsYka7mzm9t3Z4syyaw7A', '1LhRW1msre1cFgT7fBY2BRrZ4ANMPwVj9u', '1Lm9BCDUKoBUk888DCXewM5p8bJyr83cEp', '1LPTaRfyoNwvwAtmYzcetZLjBfUxVkJrr4', '1MMaU5nTrFdPZotfwdbv1wWnFjLCTFbpPY', '1uLdz4wXrcXjCy2CqLWuJUiE85Y7SJ1ge', '1ULEqcd5te8AWqFpH7HD4KvJZ1AKcJPam', '31yqH1jVEPDJ7x9L648Ec5umM2G3zNDoe5', '3422VtS7UtCvXYxoXMVp6eZupR252z85oC', '3FWSkG5NmyXF3rqMav7piXiJUDYzKpgFRT', '3HQJ9ta7TmYNRjkbY3nbMGdHzNCCiXs3Ui', '3MhdvQccMd5zAh92WrW7SpcHXwfW1uiamD', '3PajPWymUexhewHPczmLQ8CMYatKAGNj3y', 'bc1qg9h7s7hn4t9m7uw26gnwfm7xfxk77fkj878sg3']\n"
     ]
    }
   ],
   "source": [
    "%run ./WalletClustering_AddressIdentification.ipynb # includes list creation of addresses\n",
    "# methods & variables of notebook can be referenced"
   ]
  },
  {
   "cell_type": "code",
   "execution_count": 2,
   "metadata": {},
   "outputs": [],
   "source": [
    "# only to remember lists\n",
    "blacklistAddresses = pickle.load(open('output/blacklistAddresses.pickle', 'rb')) # list of exchange wallet addresses"
   ]
  },
  {
   "cell_type": "code",
   "execution_count": null,
   "metadata": {},
   "outputs": [],
   "source": [
    "# print(blacklistAddresses)"
   ]
  },
  {
   "cell_type": "markdown",
   "metadata": {},
   "source": [
    "# DEFINE: update associations in neo4j"
   ]
  },
  {
   "cell_type": "code",
   "execution_count": 3,
   "metadata": {},
   "outputs": [],
   "source": [
    "#checks if there is already an association in place. If yes, skip entry\n",
    "check_association = \"\"\"Match (a:Address {address: '%s'}) \n",
    "where a.association is not null\n",
    "return true\"\"\""
   ]
  },
  {
   "cell_type": "code",
   "execution_count": 4,
   "metadata": {},
   "outputs": [],
   "source": [
    "def updateAssociations(inputDf):\n",
    "    associations = list(inputDf['association'].unique())\n",
    "    \n",
    "    for item in associations:\n",
    "       \n",
    "        projection = inputDf[inputDf['association'].str.match(item)]\n",
    "        addresses = list(projection[\"address\"].values)\n",
    "        #response = conn.query(check_association % addresses[0],db='neo4j')\n",
    "        #if not response:\n",
    "        query = \"\"\"CALL apoc.periodic.iterate( 'UNWIND $addresses as item return item',\n",
    "                        'Match (a:Address {address: item}) set a.association = \"%s\" return a', \n",
    "                        {batchSize:1000, parallel:true, iterateList:true, params:{addresses:%s}})\"\"\" % (item, str(addresses))\n",
    "        result = conn.query(query,db='neo4j')\n",
    "        #else:\n",
    "        #    print(addresses[0] + \": There is already an association in the DB\")"
   ]
  },
  {
   "cell_type": "code",
   "execution_count": null,
   "metadata": {},
   "outputs": [],
   "source": [
    "# def updateAssociations(inputDf):\n",
    "#    query = \"\"\"\n",
    "#        MATCH (a:Address {address: \"%s\"})\n",
    "#        set a.association = %s,\n",
    "#        Return a.address\n",
    "#        \"\"\"\n",
    "#\n",
    "#    for index, row in inputDf.iterrows():\n",
    "#        address = inputDf['address'][index]\n",
    "#        association = inputDf['association'][index]\n",
    "#        conn.query(query % (address, association), db='neo4j')\n"
   ]
  },
  {
   "cell_type": "code",
   "execution_count": 10,
   "metadata": {},
   "outputs": [
    {
     "name": "stdout",
     "output_type": "stream",
     "text": [
      "['huobi.com' 'banx.io' 'clevercoin.com' 'gatecoin.com' 'indacoin.com'\n",
      " 'coinarch.com' 'bitcoinvietnam.com.vn' 'coinchimp.com' 'cryptonit.net'\n",
      " 'bitzlato.com' 'coingi.com' 'exchange-credit.ru' 'bitso.com'\n",
      " 'coinimal.com' 'empoex.com' 'ccedk.com' 'usecryptos.com'\n",
      " 'bitcoinp2p.com.br' 'coinbroker.io' 'localbitcoins.com' 'bitstamp.net'\n",
      " 'mercadobitcoin.com.br' 'cryptsy.com' 'binance.com' 'bitcoin.de' 'cex.io'\n",
      " 'btctrade.com' 'yobit.net' 'okcoin.com' 'coinspot.com.au' 'btcc.com'\n",
      " 'bittrex.com' 'bx.in.th' 'hitbtc.com' 'maicoin.com' 'bter.com'\n",
      " 'hashnest.com' 'luno.com' 'anxpro.com' 'bitbay.net' 'bleutrade.com'\n",
      " 'bitfinex.com' 'matbea.com' 'coinhako.com' 'bit-x.com' 'coinmotion.com'\n",
      " 'poloniex.com' 'virwox.com' 'paxful.com' 'bitbargain.co.uk'\n",
      " 'spectrocoin.com' 'cavirtex.com' 'c-cex.com' 'therocktrading.com'\n",
      " 'foxbit.com.br' 'kraken.com' 'vircurex.com' 'bitvc.com' 'exmo.com'\n",
      " 'btc38.com' 'igot.com' 'blocktrades.us' 'simplecoin.cz' 'fybsg.com'\n",
      " 'campbx.com' 'cointrader.net' 'bitcurex.com' 'coinmate.io' 'btc-e.com'\n",
      " 'korbit.co.kr' 'vaultoro.com' 'exchanging.ir' '796.com' 'happycoins.com'\n",
      " 'btcmarkets.net' 'chbtc.com' 'coins-e.com' 'litebit.eu' 'coincafe.com'\n",
      " 'urdubit.com' 'btradeaustralia.com' 'mexbt.com' 'coinomat.com'\n",
      " 'orderbook.net' 'lakebtc.com' 'bitkonan.com' 'quadrigacx.com' 'helix'\n",
      " 'unknown_large_wallet_01' 'unknown_large_wallet_02'\n",
      " 'unknown_large_wallet_03']\n",
      "13933603\n"
     ]
    }
   ],
   "source": [
    "print(blacklistAddresses['association'].unique())\n",
    "print(len(blacklistAddresses))"
   ]
  },
  {
   "cell_type": "markdown",
   "metadata": {},
   "source": [
    "# EXECUTE: update associations in neo4j"
   ]
  },
  {
   "cell_type": "code",
   "execution_count": 5,
   "metadata": {},
   "outputs": [],
   "source": [
    "updateAssociations(blacklistAddresses)"
   ]
  }
 ],
 "metadata": {
  "kernelspec": {
   "display_name": "Python 3.10.4 64-bit",
   "language": "python",
   "name": "python3"
  },
  "language_info": {
   "codemirror_mode": {
    "name": "ipython",
    "version": 3
   },
   "file_extension": ".py",
   "mimetype": "text/x-python",
   "name": "python",
   "nbconvert_exporter": "python",
   "pygments_lexer": "ipython3",
   "version": "3.10.4"
  },
  "orig_nbformat": 4,
  "vscode": {
   "interpreter": {
    "hash": "2a953444f3f6a7370568067c59d527322362a757e3663a1ed7da44db03711d09"
   }
  }
 },
 "nbformat": 4,
 "nbformat_minor": 2
}
