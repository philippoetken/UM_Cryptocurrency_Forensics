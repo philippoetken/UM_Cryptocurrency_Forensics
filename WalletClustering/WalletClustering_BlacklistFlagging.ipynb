{
 "cells": [
  {
   "cell_type": "markdown",
   "metadata": {},
   "source": [
    "# INSTALL: packages"
   ]
  },
  {
   "cell_type": "code",
   "execution_count": null,
   "metadata": {},
   "outputs": [],
   "source": [
    "# no additional packages required"
   ]
  },
  {
   "cell_type": "markdown",
   "metadata": {},
   "source": [
    "# EXECUTE: WalletClustering_AddressIdentification notebook"
   ]
  },
  {
   "cell_type": "code",
   "execution_count": null,
   "metadata": {},
   "outputs": [],
   "source": [
    "%run ./WalletClustering_AddressIdentification.ipynb # includes list creation of addresses\n",
    "# methods & variables of notebook can be referenced"
   ]
  },
  {
   "cell_type": "code",
   "execution_count": null,
   "metadata": {},
   "outputs": [],
   "source": [
    "# only to remember lists\n",
    "blacklistAddresses = pickle.load(open('output/blacklistAddresses.pickle', 'rb')) # list of exchange wallet addresses"
   ]
  },
  {
   "cell_type": "markdown",
   "metadata": {},
   "source": [
    "# DEFINE: update associations in neo4j"
   ]
  },
  {
   "cell_type": "code",
   "execution_count": null,
   "metadata": {},
   "outputs": [],
   "source": [
    "def updateAssociations(inputDf):\n",
    "    query = \"\"\"\n",
    "        MATCH (a:Address {address: \"%s\"})\n",
    "        set a.association = %s,\n",
    "        Return a.address\n",
    "        \"\"\"\n",
    "\n",
    "    for index, row in inputDf.iterrows():\n",
    "        address = inputDf['address'][index]\n",
    "        association = inputDf['association'][index]\n",
    "        conn.query(query % (address, association), db='neo4j')\n"
   ]
  },
  {
   "cell_type": "markdown",
   "metadata": {},
   "source": [
    "# EXECUTE: update associations in neo4j"
   ]
  },
  {
   "cell_type": "code",
   "execution_count": null,
   "metadata": {},
   "outputs": [],
   "source": [
    "# updateAssociations(blacklistAddresses)"
   ]
  }
 ],
 "metadata": {
  "language_info": {
   "name": "python"
  },
  "orig_nbformat": 4
 },
 "nbformat": 4,
 "nbformat_minor": 2
}
