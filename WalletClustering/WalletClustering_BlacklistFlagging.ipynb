{
 "cells": [
  {
   "cell_type": "markdown",
   "metadata": {},
   "source": [
    "# INSTALL: packages"
   ]
  },
  {
   "cell_type": "code",
   "execution_count": 3,
   "metadata": {},
   "outputs": [],
   "source": [
    "import WalletClustering_MIH\n",
    "import pandas as pd\n",
    "import pickle\n",
    "from io import StringIO"
   ]
  },
  {
   "cell_type": "markdown",
   "metadata": {},
   "source": [
    "# EXECUTE: MIH on list of additional addresses to cluster"
   ]
  },
  {
   "cell_type": "code",
   "execution_count": null,
   "metadata": {},
   "outputs": [],
   "source": [
    "otherServicesList = StringIO('''address,otherService\n",
    "152f1muMCNa7goXYhYAQC61hxEgGacmncB,btccpool\n",
    "1CK6KHY6MHgYvmRQ4PAafKYDrg1ejbH1cE,slushpool.com\n",
    "14xpJvJD8G3PBPWaT8AdBWuZUpsdV5j8RH,slushpool.com\n",
    "1AqTMY7kmHZxBuLUR5wJjPFUvqGs23sesr,slushpool.com\n",
    "1CjPR7Z5ZSyWk6WtXvSFgkptmpoi4UM9BC,ghash.io\n",
    "15urYnyeJe3gwbGJ74wcX89Tz7ZtsFDVew,antpool.com\n",
    "1GuMujABuc8kvzDTyVJFpcf4vszPUgsjiU,antpool.com\n",
    "1Mp3atombUR6iLLYoLEdN9uPfPscsKBXfi,antpool.com\n",
    "19PkHafEN18mquJ9ChwZt5YEFoCdPP5vYB,bitminter.com\n",
    "18M9o2mXNjNR96yKe7eyY6pfP6Nx4Nso3d,eclipsemc.com\n",
    "1NfJfjsyfxJ9zoA1LPj4TdDHf8mSUvQ17r,eclipsemc.com\n",
    "187b1MZr73iuPGnABu6d4eSYmt2NQHkTqt,eclipsemc.com\n",
    "1B55K4WuR1AQKCmF8WznDmhZNw6G1x8uEc,eclipsemc.com\n",
    "1H1sq6Msgt9HjRrBuz8ieZdThzWXS6oPVA,kncminer.com\n",
    "1FeDtFhARLxjKUPPkQqEBL78tisenc9znS,bitfury.org\n",
    "1JLRXD8rjRgQtTS9MvfQALfHgGWau9L9ky,bw.com\n",
    "1JkT6EQMotCz6BFqPWFd3kFDQzU1qa119N,eligius.st\n",
    "1N6LrEDiHuFwSyJYj2GedZM2FGk7kkLjn,kano.is\n",
    "13pucx6gHP2vyBLc88QfcGivjkhK63PeVg,kano.is\n",
    "1DXRoTT67mCbhdHHL1it4J1xsSZHHnFxYR,telco214\n",
    "37C4WW3t4YkqehPHTxqUbaEa8o97W66XdW,coinpayments.net\n",
    "3NSAY3HF6Afd4KyEoYUiQdkJFLfr4E7ubj,xapo.com\n",
    "1CAxhfNvk1xEtMuS4J8b1TrZkifReevW5s,cubits.com\n",
    "3CF9DbG6nvCUTjK2xBdX9uYkaDyM9mZyWH,cryptonator.com\n",
    "16ttqBTMimk3w6veGF3MV4t2Ln56SiFhPc,cryptonator.com\n",
    "1ArJTD4iR3SCwjuyiP3H6pbwvPBHduX6WB,bitpay.com\n",
    "1NgiUwkhYVYMy3eoMC9dHcvdHejGxcuaWm,bitpay.com\n",
    "115gF9GA8qfxEXp9UjhVzRUwp3yvvvu6hN,bitpay.com\n",
    "1QDMykW6y1v5aUUBAoXjRUBMzC7euEEVts,bitpay.com\n",
    "18Xmh94gLPSBYFRJBtezD9awaRRnj2QvCL,bitoex.com\n",
    "13hQVEstgo4iPQZv9C7VELnLWF7UWtF4Q3,haobtc.com\n",
    "3AwLzYLQvzNdBA3qHPCDbTcrJGBXLs1k9c,cryptopay.me\n",
    "1HrHsgAuHrHYJHVWPpgm8YkjtcyFxBSBKt,cryptopay.me\n",
    "14geEFfPXT9K5Vao9DcoFeikPDJyc7QZUM,alphabaymarket\n",
    "17DEJSAMHsTtsxZA1v6yu51xVwtFJ5ECfp,alphabaymarket\n",
    "1LDM7MdmimPdyKZLZnmJoRUqRcjHMsakkC,nucleusmarket\n",
    "3NcasnmxegbuMw2CK1AA6oSNDG33ZYivwQ,bitcoinfog\n",
    "32vS9wnvG9gGRwJQhk9hkGSZvhy1u7Myt5,bitcoinwallet.com\n",
    "1E5iM4SRuQraWaetjUpyRVkTQRZ8pUZxhg,coinjar.com\n",
    "3ETx7r3qNkFADxBt7DJWqwk9JDVJiu8Tx6,holytransaction.com\n",
    "1NP5HCMVBWArhi4Y5yL81VySEvLYVp1zVW,btcjam.com\n",
    "1KzswLrDKziFHMzQFp63fS12aMzyJdTBtj,vip72.com\n",
    "3Gbb1aeerHrqgTRQfa6xBfSD3J9HhbFKsU,moonbit.co.in\n",
    "1K17CWKGb74yk6C64wQ9iyrdgUwN6ifNQw,coinkite.com\n",
    "1AUvrDGLJNeGFQ5RL5HAxzCyvq2fXsinTS,faucetbox.com\n",
    "19FbJLrD6BjaS1bh5jHHvNyyGFQRTj6waL,oklink.com\n",
    "1PBxY3VH7w4PmbRG4nJBJYwZt92Mc9gn6U,purse.io\n",
    "1PY3ziMwTMwDLryXdb3WsfPaN637jpwXbv,epay.info\n",
    "12fnqJqEfEjTVnkhEPYjhXrRD1i6bZZeZg,loanbase.com\n",
    "1ALRsFWtAoetAaht3yQ7pwhwmNSiunxMxR,crimenetwork.co\n",
    "17EBXubB23UsDJ7oknryQHHWT7NejttQZy,crimenetwork.co\n",
    "1EPHNmtCnWZU4A7Vm68TDHmKrHoGaQ9GuA,germanplazamarket\n",
    "1E4BZfG7uLMivuRLTa1k2CVQDUPmvpxGXJ,bitbond.com\n",
    "1MS17CwusivpXaBSf1CgQ9VcnRdco4FwUm,paymium.com\n",
    "19vfz2AJj4kSkvC9t2mLg5sgtkLTk7Kwwu,strongcoin.com-fee\n",
    "1H2wHJ1hPtX7GQv8NZ7HdAYYQg8UzNhfJo,cryptostocks.com\n",
    "3Pu3SEE5hEdQTvLWWXBiBBmWzQNpyoTq5f,coinapult.com\n",
    "12QFkzXR7vGRb2JkLo1YvsP1ioiADZJWQp,coinapult.com\n",
    "1MpAJJ3z1SuKzUpstRWyWJGvwnpyTzD3Nf,genesis-mining.com\n",
    "1AwLahmayYFYY2qWBciXh2KKFjRKqc5Urr,changetip.com\n",
    "1MkDc8o82PEVhRcW2uxEDdpjHrRrTVs9rU,doctordmarket\n",
    "12sUDSyw79pxFP1nP2aB519VXF9noAsgaG,gocelery.com\n",
    "1KLktTKdGXkQGtL788ZdJt8bBT9Kr9ySjJ,btcpop.co\n",
    "1Efd2nct3eUijTLmmxRxcPWUnUJ8YDVLbr,btclend.org\n",
    "1GauTCnH1EgHvGoqAs9EhMY7P7yq2ANoSA,coinurl.com\n",
    "1BrF8iYUJAzngDV2j2sU7dmnMhBmTB7NJs,bitnz.com\n",
    "1cointQVgw2EwnJx3EFVPvD65gSsD9nJ7,coinbox.me\n",
    "1Codxq4pdK72K6vDMQEhhmat2eVCcJ1XUX,coinworker.com\n",
    "146QyVLdpsLmdbzswtwkuWboNt8YqRJZji,watchmybit.com\n",
    "1ET9RCoy4yfRxSXEnpHibKzp8mfqDMikMb,bitlaunder.com\n",
    "1ABEzWJpiKzzhy8wyUHUKevkB1pdcL9vXv,bitclix.com\n",
    "147VmekydXM2JvJpX5sXbYWgGkEHVUgEHa,vic-socks.to\n",
    "1Cw3xr6ZxBKEzCSTkCwryip5GU6MNLHpPZ,securevpn.to\n",
    "1Bvuydv84ZMdzrHfrdThdgLKqEdG14pGsx,securevpn.to\n",
    "14jpsTvys7mqecHC851xJpj6wF6pQDyaXF,bylls.com\n",
    "1Q99AKghHJ3VEWA6UGTWJrE7icSWRhozRF,greenroadmarket\n",
    "13FekTJqJevuSvry3rnYHqTC1tVEEZPHYU,satoshidice.com\n",
    "1dice8EMZmqKvrGE4Qc9bUFf9PX3xaYDp,satoshidice.com\n",
    "1NxaBCFQwejSZbQfWcYNwgqML5wWoE3rK4,luckyb.it\n",
    "161gTqw3CHVqiBfmC3vCLrXPob6wLQSKP4,luckyb.it\n",
    "1KK3jqBM8koV5caHuYJ3ftxsiFPrUXvyYf,bitzillions.com\n",
    "143WdLNY4oyQURUUx66G5Z9ZZaiV3fGqhS,999dice.com\n",
    "1D3drM1tF4WxGphjPGqQcHSscrsbz8kgxC,cloudbet.com\n",
    "1LkEiNuK47XdoQLiMBhYEEZvz3iUDqQhQP,coingaming.io\n",
    "1H2s3ZSXuYKKXp8SvPki851FghJq5q2sH4,primedice.com\n",
    "1Bm8BfJPGZaaDTAwqP2pE4twsR1oyTjw1y,primedice.com\n",
    "15CWJpAe9rLFLQPrsqPiViu2iS4yUEKFEh,primedice.com\n",
    "1MsgD1v4dqGPkCjbBoLHZqJNybyMXZNDf5,primedice.com\n",
    "11223UDswFBFbMJ75r3K8epaqX6ZxQpPVd,primedice.com\n",
    "1545LBUF2CZCkwbrUuaedgNskcXtdbhsYV,satoshimines.com\n",
    "1EDLW1yYXciLunPs2o1hCsiM3v6HwStvbR,nitrogensports.eu\n",
    "1ARF7D3a1CTUP2ej3UNuLSY54VnftKNfPm,secondstrade.com\n",
    "1Nrj7LXt6pzVGd9q6vWpFy2pkuDrsfxNwZ,pocketdice.io\n",
    "1G3tJZeNRRKXqjisp21i76FHmDE9ToY6HZ,fortunejack.com\n",
    "1BTS4wdHD2FZ7Srbh8aaFuwVF1zVi7oDfD,rollin.io\n",
    "12DzK5gjSEYbmBZUn3XkQ9ypmytHNpvjDC,bitzino.com\n",
    "1KpnaXqHgEut1LCaE1maLZBKgAgEu8G7QF,bitcoinvideocasino.com\n",
    "1MkuYk9nk19Wyh3k285mfo9ru8S9vVt7G4,bitcoinvideocasino.com\n",
    "1MWwPwmJyPfCMtq9fDcxiYhXMxndeZtjfL,bitcoinvideocasino.com\n",
    "1AapX7nstee5o5BUfNJVHCm28m7oYuKvhi,yabtcl.com\n",
    "17hiCXtpyFKXMSzGD3Tt1xqfTFK5Jt9mWB,betcoin.ag\n",
    "1JzVYbjEA49w6zMhKJ6PssUoKpooK6KKgF,betcoin.ag\n",
    "1AX18zUCf1CwW4PNPXa6b7kmJPgM6vFAs9,satoshibet.com\n",
    "1p8J4v54f3XhEJWzRoHG8Ayxw5cfrcyj1,safedice.com\n",
    "1BKSARZdi7vyBvTv4LRW9QGe3cvfuCBjsz,coinroll.com\n",
    "1JKhUULaWYnaNUouSkKbXEmqCBMB61pnQq,crypto-games.net\n",
    "1BTPSjiSC1s3A5cqJrbDRi2LAHx3U88mKR,betcoin.tm\n",
    "1AhpCo63MF5ayyK7H3E98zoPhMYMVj8sH1,swcpoker.eu\n",
    "13Lyp8iawQyyychG6aHe71UkkNp53cR6DW,satoshiroulette.com\n",
    "1Up15Msx4sbvUCGm8Xgo2Zp5FQim3wE59,btcoracle.com\n",
    "1DwmVmbMetcvvR1j2Tj4o3QCG9VMwFjjcY,peerbet.org\n",
    "1AMqnsRgbMjqZLPqBQPuuX7THgorF8WngM,anonibet.com\n",
    "1Jsi3rotP9FXE7tKbwo83WYAeUuTcM98Hr,satoshi-karoshi.com\n",
    "14mXxHFQeUYjQMraNMsB6hPFhwsAQSMZqj,satoshi-karoshi.com\n",
    "1E421ChpHWEqQ2Kcy2JqEE8eDx7nFN4AXj,777coin.com\n",
    "1Q5X43DKVF1R8XM1MsyquCaNmNrzzmaReV,bitstarz.com\n",
    "1GMJ1LExqYtC7HWkjT2KRLZuhfNzpFFKUM,satoshicircle.com\n",
    "1CeqPhoTFbX8zq3wWCFUbt7g5C3TDbQFsD,coinichiwa.com\n",
    "1FFwxD2C7DUohz4m5BW7h4yzCqm48dBPHd,coinroyale.com\n",
    "1M41nU3P7apHs7KtyjnZaegEBSyL5EaX9m,coinroyale.com\n",
    "16PDHmBRKLxCvzttLJvYjj2aDVPryt54a2,coinroyale.com\n",
    "1EKfcwM8Kur9A7fJnU5ZE5cE7DcdiKR3ig,betmoose.com\n",
    "1KTrWTMsB7zYADPFSCPnisBEYYzAhLXsdN,jetwin.com\n",
    "1KLDzdqBveuSLjf7hJfBzpKhoZ7JrENASS,betchain.com\n",
    "1Gko7FZ3S5btD837ryZrkJvmQ9SfYwT5kW,bitcoinpokertables.com\n",
    "15rM6EwpqdSG3CX1ZGK5VeLjQAXZ5zg1z3,dicenow.com\n",
    "18aEhkGnYYc3wxMeQELiN2rSKpHgLKG1MY,fairproof.com\n",
    "1CYju8vZYKytTQDmvRxBggeVYRPSvAFmoi,diceoin.io\n",
    "19mS9jJD5srCNwDVJetQRrUYnnhWQGmJc,minefield.bitcoinlab.org\n",
    "''')"
   ]
  },
  {
   "cell_type": "code",
   "execution_count": null,
   "metadata": {},
   "outputs": [],
   "source": [
    "# 37C4WW3t4YkqehPHTxqUbaEa8o97W66XdW,coinpayments.net is big! ca. 10mio addresses"
   ]
  },
  {
   "cell_type": "code",
   "execution_count": null,
   "metadata": {},
   "outputs": [],
   "source": [
    "otherServicesListDf = pd.read_csv(otherServicesList,sep=\",\")"
   ]
  },
  {
   "cell_type": "code",
   "execution_count": null,
   "metadata": {},
   "outputs": [],
   "source": [
    "# iterate over list of addresses with MIH\n",
    "for index, row in otherServicesListDf.iterrows():\n",
    "    start_address = otherServicesListDf['address'][index]\n",
    "    association = otherServicesListDf['otherService'][index]\n",
    "    iterMultiInputClustering_chunks(start_address, association)"
   ]
  },
  {
   "cell_type": "code",
   "execution_count": null,
   "metadata": {},
   "outputs": [],
   "source": [
    "  # export otherServicesListDf to file for assocBlacklist in AddressIdentification\n",
    "  with open('output\\\\blacklistAddressesOSMIH.pickle', 'wb') as export:\n",
    "    pickle.dump(otherServicesListDf, export)"
   ]
  },
  {
   "cell_type": "markdown",
   "metadata": {},
   "source": [
    "# EXECUTE: WalletClustering_AddressIdentification notebook"
   ]
  },
  {
   "cell_type": "code",
   "execution_count": 1,
   "metadata": {},
   "outputs": [
    {
     "name": "stdout",
     "output_type": "stream",
     "text": [
      "Requirement already satisfied: nbformat in c:\\users\\rankl\\appdata\\local\\programs\\python\\python310\\lib\\site-packages (5.4.0)\n",
      "Requirement already satisfied: fastjsonschema in c:\\users\\rankl\\appdata\\local\\programs\\python\\python310\\lib\\site-packages (from nbformat) (2.15.3)\n",
      "Requirement already satisfied: traitlets>=5.1 in c:\\users\\rankl\\appdata\\local\\programs\\python\\python310\\lib\\site-packages (from nbformat) (5.1.1)\n",
      "Requirement already satisfied: jsonschema>=2.6 in c:\\users\\rankl\\appdata\\local\\programs\\python\\python310\\lib\\site-packages (from nbformat) (4.6.0)\n",
      "Requirement already satisfied: jupyter-core in c:\\users\\rankl\\appdata\\local\\programs\\python\\python310\\lib\\site-packages (from nbformat) (4.10.0)\n",
      "Requirement already satisfied: attrs>=17.4.0 in c:\\users\\rankl\\appdata\\local\\programs\\python\\python310\\lib\\site-packages (from jsonschema>=2.6->nbformat) (21.4.0)\n",
      "Requirement already satisfied: pyrsistent!=0.17.0,!=0.17.1,!=0.17.2,>=0.14.0 in c:\\users\\rankl\\appdata\\local\\programs\\python\\python310\\lib\\site-packages (from jsonschema>=2.6->nbformat) (0.18.1)\n",
      "Requirement already satisfied: pywin32>=1.0 in c:\\users\\rankl\\appdata\\local\\programs\\python\\python310\\lib\\site-packages (from jupyter-core->nbformat) (304)\n",
      "Note: you may need to restart the kernel to use updated packages.\n"
     ]
    },
    {
     "name": "stderr",
     "output_type": "stream",
     "text": [
      "WARNING: You are using pip version 22.0.4; however, version 22.1.2 is available.\n",
      "You should consider upgrading via the 'c:\\Users\\rankl\\AppData\\Local\\Programs\\Python\\Python310\\python.exe -m pip install --upgrade pip' command.\n"
     ]
    },
    {
     "name": "stdout",
     "output_type": "stream",
     "text": [
      "Requirement already satisfied: pandas in c:\\users\\rankl\\appdata\\local\\programs\\python\\python310\\lib\\site-packages (1.4.2)\n",
      "Requirement already satisfied: numpy>=1.21.0 in c:\\users\\rankl\\appdata\\local\\programs\\python\\python310\\lib\\site-packages (from pandas) (1.22.3)\n",
      "Requirement already satisfied: python-dateutil>=2.8.1 in c:\\users\\rankl\\appdata\\local\\programs\\python\\python310\\lib\\site-packages (from pandas) (2.8.2)\n",
      "Requirement already satisfied: pytz>=2020.1 in c:\\users\\rankl\\appdata\\local\\programs\\python\\python310\\lib\\site-packages (from pandas) (2022.1)\n",
      "Requirement already satisfied: six>=1.5 in c:\\users\\rankl\\appdata\\local\\programs\\python\\python310\\lib\\site-packages (from python-dateutil>=2.8.1->pandas) (1.16.0)\n",
      "Note: you may need to restart the kernel to use updated packages.\n"
     ]
    },
    {
     "name": "stderr",
     "output_type": "stream",
     "text": [
      "WARNING: You are using pip version 22.0.4; however, version 22.1.2 is available.\n",
      "You should consider upgrading via the 'c:\\Users\\rankl\\AppData\\Local\\Programs\\Python\\Python310\\python.exe -m pip install --upgrade pip' command.\n",
      "WARNING: You are using pip version 22.0.4; however, version 22.1.2 is available.\n",
      "You should consider upgrading via the 'c:\\Users\\rankl\\AppData\\Local\\Programs\\Python\\Python310\\python.exe -m pip install --upgrade pip' command.\n"
     ]
    },
    {
     "name": "stdout",
     "output_type": "stream",
     "text": [
      "Requirement already satisfied: neo4j in c:\\users\\rankl\\appdata\\local\\programs\\python\\python310\\lib\\site-packages (4.4.3)\n",
      "Requirement already satisfied: pytz in c:\\users\\rankl\\appdata\\local\\programs\\python\\python310\\lib\\site-packages (from neo4j) (2022.1)\n",
      "Note: you may need to restart the kernel to use updated packages.\n",
      "                                     address              association\n",
      "0         19hx1B4pTDsBAYJJYYrj1t6bcVw1e9omuH                huobi.com\n",
      "1         16vyeuwbuNz9PKPs4VqqGLsVRJ2G6uJj39                huobi.com\n",
      "2         12uuCfvuxeyGhWaEU1sHTbkCN7eWMT7qFp                huobi.com\n",
      "3         1NMbcRqggWu75DG5AqZtin5kecdHoDVs3b                huobi.com\n",
      "4         1DgcQFeaCQBo41oxtzUuV3caW5TNjXvhLZ                huobi.com\n",
      "...                                      ...                      ...\n",
      "13943141  1JiTqsNvfjkGSYVHMKHpWbNwEfN2LUhjKM  unknown_large_wallet_03\n",
      "13943142  1HoNkBpNPkcznGWe6nUeLqffeLQN1TwhFJ  unknown_large_wallet_03\n",
      "13943143  1BmvAcQPLcFve9KpNigfF591PyQnZwNDyQ  unknown_large_wallet_03\n",
      "13943144  1GNw9S6hSzVQ83gUkP36ypjyrH3d6YZRm7  unknown_large_wallet_03\n",
      "13943145  1McAmDN95SGxaTMmymaN8QzzTGJADM3aZy  unknown_large_wallet_03\n",
      "\n",
      "[13933603 rows x 2 columns]\n",
      "['12sDU3FyYJXc2oRzE6XXuuhVHCBJvaoCC8', '1348ThkNoDupq1bws95diMiL8haGs61K7M', '13Pcmh4dKJE8Aqrhq4ZZwmM1sbKFcMQEEV', '15K9Zj1AU2hjT3ebZMtWqDsMv3fFxTNwpf', '164fawNZVwsR5SamAJypvCMtkMx4Xv1B3f', '179bzhS4FY7qLDza9YjuorhWyXVVYZu2YH', '17QAWGVpFV4gZ25NQug46e5mBho4uDP6MD', '17UUXDzPGkMwWrabhtk7YCha88tSoua2Vr', '19D1iGzDr7FyAdiy3ZZdxMd6ttHj1kj6WW', '19XVEDZCGVMA9WCF1qUayxtnjUnyD7zDDQ', '1BPf9qr7M5xUgNHUYtrQtEKvUKcyERzXao', '1C6hetVWVXZnS6P2BYBNu5Y1ZJ57JyXGac', '1DrhHEkv42JVwiDQNi28JFdSuiSGgPNXwP', '1EDcKCRypUTFoTZbxDWF9MBAT4W7XUGB32', '1EfmRn6Bp3cjrTBubaH8MzRRc2ikSjNGXw', '1EnX6BuJiGWydqXJT9BN5dSvfLg3QW4Mdz', '1EVTZmTMqZPMzGxsug9TXBtvPJZH8dXSCK', '1EYya5dfNvuYDwpeboGKBtkXzJcEHMCQXR', '1GALPyvUDDXqA6H2eHQ9Y1yidfQ6T1Drvn', '1GC2SjzCyCwxo1uxTi28oqn9L3mJj7bLPs', '1Gg25VzQkqCizXHNSNet4RoysLEe19su4s', '1JpSBaUwrZaEgmsYka7mzm9t3Z4syyaw7A', '1LhRW1msre1cFgT7fBY2BRrZ4ANMPwVj9u', '1Lm9BCDUKoBUk888DCXewM5p8bJyr83cEp', '1LPTaRfyoNwvwAtmYzcetZLjBfUxVkJrr4', '1MMaU5nTrFdPZotfwdbv1wWnFjLCTFbpPY', '1uLdz4wXrcXjCy2CqLWuJUiE85Y7SJ1ge', '1ULEqcd5te8AWqFpH7HD4KvJZ1AKcJPam', '31yqH1jVEPDJ7x9L648Ec5umM2G3zNDoe5', '3422VtS7UtCvXYxoXMVp6eZupR252z85oC', '3FWSkG5NmyXF3rqMav7piXiJUDYzKpgFRT', '3HQJ9ta7TmYNRjkbY3nbMGdHzNCCiXs3Ui', '3MhdvQccMd5zAh92WrW7SpcHXwfW1uiamD', '3PajPWymUexhewHPczmLQ8CMYatKAGNj3y', 'bc1qg9h7s7hn4t9m7uw26gnwfm7xfxk77fkj878sg3']\n"
     ]
    }
   ],
   "source": [
    "%run ./WalletClustering_AddressIdentification.ipynb # includes list creation of addresses\n",
    "# methods & variables of notebook can be referenced"
   ]
  },
  {
   "cell_type": "code",
   "execution_count": 2,
   "metadata": {},
   "outputs": [],
   "source": [
    "# only to remember lists\n",
    "blacklistAddresses = pickle.load(open('output/blacklistAddresses.pickle', 'rb')) # list of exchange wallet addresses"
   ]
  },
  {
   "cell_type": "markdown",
   "metadata": {},
   "source": [
    "# DEFINE: update associations in neo4j"
   ]
  },
  {
   "cell_type": "code",
   "execution_count": 3,
   "metadata": {},
   "outputs": [],
   "source": [
    "#checks if there is already an association in place. If yes, skip entry\n",
    "check_association = \"\"\"Match (a:Address {address: '%s'}) \n",
    "where a.association is not null\n",
    "return true\"\"\""
   ]
  },
  {
   "cell_type": "code",
   "execution_count": 4,
   "metadata": {},
   "outputs": [],
   "source": [
    "def updateAssociations(inputDf):\n",
    "    associations = list(inputDf['association'].unique())\n",
    "    \n",
    "    for item in associations:\n",
    "       \n",
    "        projection = inputDf[inputDf['association'].str.match(item)]\n",
    "        addresses = list(projection[\"address\"].values)\n",
    "        #response = conn.query(check_association % addresses[0],db='neo4j')\n",
    "        #if not response:\n",
    "        query = \"\"\"CALL apoc.periodic.iterate( 'UNWIND $addresses as item return item',\n",
    "                        'Match (a:Address {address: item}) set a.association = \"%s\" return a', \n",
    "                        {batchSize:1000, parallel:true, iterateList:true, params:{addresses:%s}})\"\"\" % (item, str(addresses))\n",
    "        result = conn.query(query,db='neo4j')\n",
    "        #else:\n",
    "        #    print(addresses[0] + \": There is already an association in the DB\")"
   ]
  },
  {
   "cell_type": "markdown",
   "metadata": {},
   "source": [
    "# EXECUTE: update associations in neo4j"
   ]
  },
  {
   "cell_type": "code",
   "execution_count": 5,
   "metadata": {},
   "outputs": [],
   "source": [
    "updateAssociations(blacklistAddresses)"
   ]
  }
 ],
 "metadata": {
  "kernelspec": {
   "display_name": "Python 3.10.4 64-bit",
   "language": "python",
   "name": "python3"
  },
  "language_info": {
   "codemirror_mode": {
    "name": "ipython",
    "version": 3
   },
   "file_extension": ".py",
   "mimetype": "text/x-python",
   "name": "python",
   "nbconvert_exporter": "python",
   "pygments_lexer": "ipython3",
   "version": "3.10.4"
  },
  "orig_nbformat": 4,
  "vscode": {
   "interpreter": {
    "hash": "1d06fc9ed4b774328ae1669b976a7de461f6c6282277a8a3bb34b5a87421f7ca"
   }
  }
 },
 "nbformat": 4,
 "nbformat_minor": 2
}
