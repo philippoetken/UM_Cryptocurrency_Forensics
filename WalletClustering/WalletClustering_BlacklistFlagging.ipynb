{
 "cells": [
  {
   "cell_type": "markdown",
   "metadata": {},
   "source": [
    "# INSTALL: packages"
   ]
  },
  {
   "cell_type": "code",
   "execution_count": null,
   "metadata": {},
   "outputs": [],
   "source": [
    "# no additional packages required"
   ]
  },
  {
   "cell_type": "markdown",
   "metadata": {},
   "source": [
    "# EXECUTE: WalletClustering_AddressIdentification notebook"
   ]
  },
  {
   "cell_type": "code",
   "execution_count": null,
   "metadata": {},
   "outputs": [],
   "source": [
    "%run ./WalletClustering_AddressIdentification.ipynb # includes list creation of addresses\n",
    "# methods & variables of notebook can be referenced"
   ]
  },
  {
   "cell_type": "code",
   "execution_count": 2,
   "metadata": {},
   "outputs": [],
   "source": [
    "# only to remember lists\n",
    "blacklistAddresses = pickle.load(open('output/blacklistAddresses.pickle', 'rb')) # list of exchange wallet addresses"
   ]
  },
  {
   "cell_type": "code",
   "execution_count": null,
   "metadata": {},
   "outputs": [],
   "source": [
    "# print(blacklistAddresses)"
   ]
  },
  {
   "cell_type": "markdown",
   "metadata": {},
   "source": [
    "# DEFINE: update associations in neo4j"
   ]
  },
  {
   "cell_type": "code",
   "execution_count": 5,
   "metadata": {},
   "outputs": [],
   "source": [
    "#checks if there is already an association in place. If yes, skip entry\n",
    "check_association = \"\"\"Match (a:Address {address: '%s'}) \n",
    "where a.association is not null\n",
    "return true\"\"\""
   ]
  },
  {
   "cell_type": "code",
   "execution_count": 6,
   "metadata": {},
   "outputs": [],
   "source": [
    "def updateAssociations(inputDf):\n",
    "    associations = list(inputDf['association'].unique())\n",
    "    \n",
    "    for item in associations:\n",
    "       \n",
    "        projection = inputDf[inputDf['association'].str.match(item)]\n",
    "        addresses = list(projection[\"address\"].values)\n",
    "        response = conn.query(check_association % addresses[0],db='neo4j')\n",
    "        if not response:\n",
    "            query = \"\"\"CALL apoc.periodic.iterate( 'UNWIND $addresses as item return item',\n",
    "                        'Match (a:Address {address: item}) set a.association = \"%s\" return a', \n",
    "                        {batchSize:1000, parallel:true, iterateList:true, params:{addresses:%s}})\"\"\" % (item, str(addresses))\n",
    "            result = conn.query(query,db='neo4j')\n",
    "        else:\n",
    "            print(addresses[0] + \": There is already an association in the DB\")"
   ]
  },
  {
   "cell_type": "code",
   "execution_count": null,
   "metadata": {},
   "outputs": [],
   "source": [
    "# def updateAssociations(inputDf):\n",
    "#    query = \"\"\"\n",
    "#        MATCH (a:Address {address: \"%s\"})\n",
    "#        set a.association = %s,\n",
    "#        Return a.address\n",
    "#        \"\"\"\n",
    "#\n",
    "#    for index, row in inputDf.iterrows():\n",
    "#        address = inputDf['address'][index]\n",
    "#        association = inputDf['association'][index]\n",
    "#        conn.query(query % (address, association), db='neo4j')\n"
   ]
  },
  {
   "cell_type": "markdown",
   "metadata": {},
   "source": [
    "# EXECUTE: update associations in neo4j"
   ]
  },
  {
   "cell_type": "code",
   "execution_count": 8,
   "metadata": {},
   "outputs": [
    {
     "name": "stdout",
     "output_type": "stream",
     "text": [
      "13642EkbFPxomz7pZ8eAdGXyTTXp9zRTb2: There is already an association in the DB\n"
     ]
    }
   ],
   "source": [
    "updateAssociations(blacklistAddresses)"
   ]
  }
 ],
 "metadata": {
  "kernelspec": {
   "display_name": "Python 3.10.4 64-bit",
   "language": "python",
   "name": "python3"
  },
  "language_info": {
   "codemirror_mode": {
    "name": "ipython",
    "version": 3
   },
   "file_extension": ".py",
   "mimetype": "text/x-python",
   "name": "python",
   "nbconvert_exporter": "python",
   "pygments_lexer": "ipython3",
   "version": "3.10.4"
  },
  "orig_nbformat": 4,
  "vscode": {
   "interpreter": {
    "hash": "c5d01433c49bebc7c0f039aefb7a5f7006b5cc5372ab57f4229212c8564f15fd"
   }
  }
 },
 "nbformat": 4,
 "nbformat_minor": 2
}
