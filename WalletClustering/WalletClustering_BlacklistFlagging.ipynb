{
 "cells": [
  {
   "cell_type": "markdown",
   "metadata": {},
   "source": [
    "# INSTALL: packages"
   ]
  },
  {
   "cell_type": "code",
   "execution_count": null,
   "metadata": {},
   "outputs": [],
   "source": [
    "import WalletClustering_MIH"
   ]
  },
  {
   "cell_type": "markdown",
   "metadata": {},
   "source": [
    "# EXECUTE: WalletClustering_AddressIdentification notebook"
   ]
  },
  {
   "cell_type": "code",
   "execution_count": 1,
   "metadata": {},
   "outputs": [
    {
     "name": "stdout",
     "output_type": "stream",
     "text": [
      "Requirement already satisfied: nbformat in c:\\users\\rankl\\appdata\\local\\programs\\python\\python310\\lib\\site-packages (5.4.0)\n",
      "Requirement already satisfied: fastjsonschema in c:\\users\\rankl\\appdata\\local\\programs\\python\\python310\\lib\\site-packages (from nbformat) (2.15.3)\n",
      "Requirement already satisfied: traitlets>=5.1 in c:\\users\\rankl\\appdata\\local\\programs\\python\\python310\\lib\\site-packages (from nbformat) (5.1.1)\n",
      "Requirement already satisfied: jsonschema>=2.6 in c:\\users\\rankl\\appdata\\local\\programs\\python\\python310\\lib\\site-packages (from nbformat) (4.6.0)\n",
      "Requirement already satisfied: jupyter-core in c:\\users\\rankl\\appdata\\local\\programs\\python\\python310\\lib\\site-packages (from nbformat) (4.10.0)\n",
      "Requirement already satisfied: attrs>=17.4.0 in c:\\users\\rankl\\appdata\\local\\programs\\python\\python310\\lib\\site-packages (from jsonschema>=2.6->nbformat) (21.4.0)\n",
      "Requirement already satisfied: pyrsistent!=0.17.0,!=0.17.1,!=0.17.2,>=0.14.0 in c:\\users\\rankl\\appdata\\local\\programs\\python\\python310\\lib\\site-packages (from jsonschema>=2.6->nbformat) (0.18.1)\n",
      "Requirement already satisfied: pywin32>=1.0 in c:\\users\\rankl\\appdata\\local\\programs\\python\\python310\\lib\\site-packages (from jupyter-core->nbformat) (304)\n",
      "Note: you may need to restart the kernel to use updated packages.\n"
     ]
    },
    {
     "name": "stderr",
     "output_type": "stream",
     "text": [
      "WARNING: You are using pip version 22.0.4; however, version 22.1.2 is available.\n",
      "You should consider upgrading via the 'c:\\Users\\rankl\\AppData\\Local\\Programs\\Python\\Python310\\python.exe -m pip install --upgrade pip' command.\n"
     ]
    },
    {
     "name": "stdout",
     "output_type": "stream",
     "text": [
      "Requirement already satisfied: pandas in c:\\users\\rankl\\appdata\\local\\programs\\python\\python310\\lib\\site-packages (1.4.2)\n",
      "Requirement already satisfied: numpy>=1.21.0 in c:\\users\\rankl\\appdata\\local\\programs\\python\\python310\\lib\\site-packages (from pandas) (1.22.3)\n",
      "Requirement already satisfied: python-dateutil>=2.8.1 in c:\\users\\rankl\\appdata\\local\\programs\\python\\python310\\lib\\site-packages (from pandas) (2.8.2)\n",
      "Requirement already satisfied: pytz>=2020.1 in c:\\users\\rankl\\appdata\\local\\programs\\python\\python310\\lib\\site-packages (from pandas) (2022.1)\n",
      "Requirement already satisfied: six>=1.5 in c:\\users\\rankl\\appdata\\local\\programs\\python\\python310\\lib\\site-packages (from python-dateutil>=2.8.1->pandas) (1.16.0)\n",
      "Note: you may need to restart the kernel to use updated packages.\n"
     ]
    },
    {
     "name": "stderr",
     "output_type": "stream",
     "text": [
      "WARNING: You are using pip version 22.0.4; however, version 22.1.2 is available.\n",
      "You should consider upgrading via the 'c:\\Users\\rankl\\AppData\\Local\\Programs\\Python\\Python310\\python.exe -m pip install --upgrade pip' command.\n",
      "WARNING: You are using pip version 22.0.4; however, version 22.1.2 is available.\n",
      "You should consider upgrading via the 'c:\\Users\\rankl\\AppData\\Local\\Programs\\Python\\Python310\\python.exe -m pip install --upgrade pip' command.\n"
     ]
    },
    {
     "name": "stdout",
     "output_type": "stream",
     "text": [
      "Requirement already satisfied: neo4j in c:\\users\\rankl\\appdata\\local\\programs\\python\\python310\\lib\\site-packages (4.4.3)\n",
      "Requirement already satisfied: pytz in c:\\users\\rankl\\appdata\\local\\programs\\python\\python310\\lib\\site-packages (from neo4j) (2022.1)\n",
      "Note: you may need to restart the kernel to use updated packages.\n",
      "                                     address              association\n",
      "0         19hx1B4pTDsBAYJJYYrj1t6bcVw1e9omuH                huobi.com\n",
      "1         16vyeuwbuNz9PKPs4VqqGLsVRJ2G6uJj39                huobi.com\n",
      "2         12uuCfvuxeyGhWaEU1sHTbkCN7eWMT7qFp                huobi.com\n",
      "3         1NMbcRqggWu75DG5AqZtin5kecdHoDVs3b                huobi.com\n",
      "4         1DgcQFeaCQBo41oxtzUuV3caW5TNjXvhLZ                huobi.com\n",
      "...                                      ...                      ...\n",
      "13943141  1JiTqsNvfjkGSYVHMKHpWbNwEfN2LUhjKM  unknown_large_wallet_03\n",
      "13943142  1HoNkBpNPkcznGWe6nUeLqffeLQN1TwhFJ  unknown_large_wallet_03\n",
      "13943143  1BmvAcQPLcFve9KpNigfF591PyQnZwNDyQ  unknown_large_wallet_03\n",
      "13943144  1GNw9S6hSzVQ83gUkP36ypjyrH3d6YZRm7  unknown_large_wallet_03\n",
      "13943145  1McAmDN95SGxaTMmymaN8QzzTGJADM3aZy  unknown_large_wallet_03\n",
      "\n",
      "[13933603 rows x 2 columns]\n",
      "['12sDU3FyYJXc2oRzE6XXuuhVHCBJvaoCC8', '1348ThkNoDupq1bws95diMiL8haGs61K7M', '13Pcmh4dKJE8Aqrhq4ZZwmM1sbKFcMQEEV', '15K9Zj1AU2hjT3ebZMtWqDsMv3fFxTNwpf', '164fawNZVwsR5SamAJypvCMtkMx4Xv1B3f', '179bzhS4FY7qLDza9YjuorhWyXVVYZu2YH', '17QAWGVpFV4gZ25NQug46e5mBho4uDP6MD', '17UUXDzPGkMwWrabhtk7YCha88tSoua2Vr', '19D1iGzDr7FyAdiy3ZZdxMd6ttHj1kj6WW', '19XVEDZCGVMA9WCF1qUayxtnjUnyD7zDDQ', '1BPf9qr7M5xUgNHUYtrQtEKvUKcyERzXao', '1C6hetVWVXZnS6P2BYBNu5Y1ZJ57JyXGac', '1DrhHEkv42JVwiDQNi28JFdSuiSGgPNXwP', '1EDcKCRypUTFoTZbxDWF9MBAT4W7XUGB32', '1EfmRn6Bp3cjrTBubaH8MzRRc2ikSjNGXw', '1EnX6BuJiGWydqXJT9BN5dSvfLg3QW4Mdz', '1EVTZmTMqZPMzGxsug9TXBtvPJZH8dXSCK', '1EYya5dfNvuYDwpeboGKBtkXzJcEHMCQXR', '1GALPyvUDDXqA6H2eHQ9Y1yidfQ6T1Drvn', '1GC2SjzCyCwxo1uxTi28oqn9L3mJj7bLPs', '1Gg25VzQkqCizXHNSNet4RoysLEe19su4s', '1JpSBaUwrZaEgmsYka7mzm9t3Z4syyaw7A', '1LhRW1msre1cFgT7fBY2BRrZ4ANMPwVj9u', '1Lm9BCDUKoBUk888DCXewM5p8bJyr83cEp', '1LPTaRfyoNwvwAtmYzcetZLjBfUxVkJrr4', '1MMaU5nTrFdPZotfwdbv1wWnFjLCTFbpPY', '1uLdz4wXrcXjCy2CqLWuJUiE85Y7SJ1ge', '1ULEqcd5te8AWqFpH7HD4KvJZ1AKcJPam', '31yqH1jVEPDJ7x9L648Ec5umM2G3zNDoe5', '3422VtS7UtCvXYxoXMVp6eZupR252z85oC', '3FWSkG5NmyXF3rqMav7piXiJUDYzKpgFRT', '3HQJ9ta7TmYNRjkbY3nbMGdHzNCCiXs3Ui', '3MhdvQccMd5zAh92WrW7SpcHXwfW1uiamD', '3PajPWymUexhewHPczmLQ8CMYatKAGNj3y', 'bc1qg9h7s7hn4t9m7uw26gnwfm7xfxk77fkj878sg3']\n"
     ]
    }
   ],
   "source": [
    "%run ./WalletClustering_AddressIdentification.ipynb # includes list creation of addresses\n",
    "# methods & variables of notebook can be referenced"
   ]
  },
  {
   "cell_type": "code",
   "execution_count": 2,
   "metadata": {},
   "outputs": [],
   "source": [
    "# only to remember lists\n",
    "blacklistAddresses = pickle.load(open('output/blacklistAddresses.pickle', 'rb')) # list of exchange wallet addresses"
   ]
  },
  {
   "cell_type": "markdown",
   "metadata": {},
   "source": [
    "# DEFINE: update associations in neo4j"
   ]
  },
  {
   "cell_type": "code",
   "execution_count": 3,
   "metadata": {},
   "outputs": [],
   "source": [
    "#checks if there is already an association in place. If yes, skip entry\n",
    "check_association = \"\"\"Match (a:Address {address: '%s'}) \n",
    "where a.association is not null\n",
    "return true\"\"\""
   ]
  },
  {
   "cell_type": "code",
   "execution_count": 4,
   "metadata": {},
   "outputs": [],
   "source": [
    "def updateAssociations(inputDf):\n",
    "    associations = list(inputDf['association'].unique())\n",
    "    \n",
    "    for item in associations:\n",
    "       \n",
    "        projection = inputDf[inputDf['association'].str.match(item)]\n",
    "        addresses = list(projection[\"address\"].values)\n",
    "        #response = conn.query(check_association % addresses[0],db='neo4j')\n",
    "        #if not response:\n",
    "        query = \"\"\"CALL apoc.periodic.iterate( 'UNWIND $addresses as item return item',\n",
    "                        'Match (a:Address {address: item}) set a.association = \"%s\" return a', \n",
    "                        {batchSize:1000, parallel:true, iterateList:true, params:{addresses:%s}})\"\"\" % (item, str(addresses))\n",
    "        result = conn.query(query,db='neo4j')\n",
    "        #else:\n",
    "        #    print(addresses[0] + \": There is already an association in the DB\")"
   ]
  },
  {
   "cell_type": "markdown",
   "metadata": {},
   "source": [
    "# EXECUTE: update associations in neo4j"
   ]
  },
  {
   "cell_type": "code",
   "execution_count": 5,
   "metadata": {},
   "outputs": [],
   "source": [
    "updateAssociations(blacklistAddresses)"
   ]
  },
  {
   "cell_type": "markdown",
   "metadata": {},
   "source": [
    "# EXECUTE: MIH on list of additional addresses to cluster"
   ]
  },
  {
   "cell_type": "code",
   "execution_count": null,
   "metadata": {},
   "outputs": [],
   "source": [
    "otherServicesList = StringIO('''address,otherService\n",
    "152f1muMCNa7goXYhYAQC61hxEgGacmncB,btccpool\n",
    "1CK6KHY6MHgYvmRQ4PAafKYDrg1ejbH1cE,slushpool.com\n",
    "14xpJvJD8G3PBPWaT8AdBWuZUpsdV5j8RH,slushpool.com\n",
    "1AqTMY7kmHZxBuLUR5wJjPFUvqGs23sesr,slushpool.com\n",
    "1CjPR7Z5ZSyWk6WtXvSFgkptmpoi4UM9BC,ghash.io\n",
    "15urYnyeJe3gwbGJ74wcX89Tz7ZtsFDVew,antpool.com\n",
    "1GuMujABuc8kvzDTyVJFpcf4vszPUgsjiU,antpool.com\n",
    "1Mp3atombUR6iLLYoLEdN9uPfPscsKBXfi,antpool.com\n",
    "19PkHafEN18mquJ9ChwZt5YEFoCdPP5vYB,bitminter.com\n",
    "18M9o2mXNjNR96yKe7eyY6pfP6Nx4Nso3d,eclipsemc.com\n",
    "1NfJfjsyfxJ9zoA1LPj4TdDHf8mSUvQ17r,eclipsemc.com\n",
    "187b1MZr73iuPGnABu6d4eSYmt2NQHkTqt,eclipsemc.com\n",
    "1B55K4WuR1AQKCmF8WznDmhZNw6G1x8uEc,eclipsemc.com\n",
    "1H1sq6Msgt9HjRrBuz8ieZdThzWXS6oPVA,kncminer.com\n",
    "1FeDtFhARLxjKUPPkQqEBL78tisenc9znS,bitfury.org\n",
    "1JLRXD8rjRgQtTS9MvfQALfHgGWau9L9ky,bw.com\n",
    "1JkT6EQMotCz6BFqPWFd3kFDQzU1qa119N,eligius.st\n",
    "1N6LrEDiHuFwSyJYj2GedZM2FGk7kkLjn,kano.is\n",
    "13pucx6gHP2vyBLc88QfcGivjkhK63PeVg,kano.is\n",
    "1DXRoTT67mCbhdHHL1it4J1xsSZHHnFxYR,telco214\n",
    "37C4WW3t4YkqehPHTxqUbaEa8o97W66XdW,coinpayments.net\n",
    "3NSAY3HF6Afd4KyEoYUiQdkJFLfr4E7ubj,xapo.com\n",
    "1CAxhfNvk1xEtMuS4J8b1TrZkifReevW5s,cubits.com\n",
    "3CF9DbG6nvCUTjK2xBdX9uYkaDyM9mZyWH,cryptonator.com\n",
    "16ttqBTMimk3w6veGF3MV4t2Ln56SiFhPc,cryptonator.com\n",
    "1ArJTD4iR3SCwjuyiP3H6pbwvPBHduX6WB,bitpay.com\n",
    "1NgiUwkhYVYMy3eoMC9dHcvdHejGxcuaWm,bitpay.com\n",
    "115gF9GA8qfxEXp9UjhVzRUwp3yvvvu6hN,bitpay.com\n",
    "1QDMykW6y1v5aUUBAoXjRUBMzC7euEEVts,bitpay.com\n",
    "18Xmh94gLPSBYFRJBtezD9awaRRnj2QvCL,bitoex.com\n",
    "13hQVEstgo4iPQZv9C7VELnLWF7UWtF4Q3,haobtc.com\n",
    "3AwLzYLQvzNdBA3qHPCDbTcrJGBXLs1k9c,cryptopay.me\n",
    "1HrHsgAuHrHYJHVWPpgm8YkjtcyFxBSBKt,cryptopay.me\n",
    "14geEFfPXT9K5Vao9DcoFeikPDJyc7QZUM,alphabaymarket\n",
    "17DEJSAMHsTtsxZA1v6yu51xVwtFJ5ECfp,alphabaymarket\n",
    "1LDM7MdmimPdyKZLZnmJoRUqRcjHMsakkC,nucleusmarket\n",
    "3NcasnmxegbuMw2CK1AA6oSNDG33ZYivwQ,bitcoinfog\n",
    "32vS9wnvG9gGRwJQhk9hkGSZvhy1u7Myt5,bitcoinwallet.com\n",
    "1E5iM4SRuQraWaetjUpyRVkTQRZ8pUZxhg,coinjar.com\n",
    "3ETx7r3qNkFADxBt7DJWqwk9JDVJiu8Tx6,holytransaction.com\n",
    "''')"
   ]
  },
  {
   "cell_type": "code",
   "execution_count": null,
   "metadata": {},
   "outputs": [],
   "source": [
    "# 37C4WW3t4YkqehPHTxqUbaEa8o97W66XdW,coinpayments.net is big! ca. 10mio addresses"
   ]
  },
  {
   "cell_type": "code",
   "execution_count": null,
   "metadata": {},
   "outputs": [],
   "source": [
    "otherServicesListDf = pd.read_csv(otherServicesList,sep=\",\")"
   ]
  },
  {
   "cell_type": "code",
   "execution_count": null,
   "metadata": {},
   "outputs": [],
   "source": [
    "for index, row in otherServicesListDf.iterrows():\n",
    "    start_address = otherServicesListDf['address'][index]\n",
    "    association = otherServicesListDf['otherService'][index]\n",
    "    iterMultiInputClustering_chunks(start_address, association)\n",
    "    "
   ]
  },
  {
   "cell_type": "code",
   "execution_count": null,
   "metadata": {},
   "outputs": [],
   "source": [
    "  with open('output\\\\blacklistAddressesOSMIH.pickle', 'wb') as export:\n",
    "    pickle.dump(otherServicesListDf, export)"
   ]
  }
 ],
 "metadata": {
  "kernelspec": {
   "display_name": "Python 3.10.4 64-bit",
   "language": "python",
   "name": "python3"
  },
  "language_info": {
   "codemirror_mode": {
    "name": "ipython",
    "version": 3
   },
   "file_extension": ".py",
   "mimetype": "text/x-python",
   "name": "python",
   "nbconvert_exporter": "python",
   "pygments_lexer": "ipython3",
   "version": "3.10.4"
  },
  "orig_nbformat": 4,
  "vscode": {
   "interpreter": {
    "hash": "1d06fc9ed4b774328ae1669b976a7de461f6c6282277a8a3bb34b5a87421f7ca"
   }
  }
 },
 "nbformat": 4,
 "nbformat_minor": 2
}
