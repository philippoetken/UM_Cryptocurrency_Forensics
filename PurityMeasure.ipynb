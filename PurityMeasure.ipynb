{
 "cells": [
  {
   "cell_type": "markdown",
   "id": "2c886901",
   "metadata": {},
   "source": [
    "## Import Neo4j"
   ]
  },
  {
   "cell_type": "code",
   "execution_count": 1,
   "id": "062cb326",
   "metadata": {},
   "outputs": [
    {
     "ename": "ModuleNotFoundError",
     "evalue": "No module named 'neo4j'",
     "output_type": "error",
     "traceback": [
      "\u001b[1;31m---------------------------------------------------------------------------\u001b[0m",
      "\u001b[1;31mModuleNotFoundError\u001b[0m                       Traceback (most recent call last)",
      "\u001b[1;32m~\\AppData\\Local\\Temp/ipykernel_8820/4066762935.py\u001b[0m in \u001b[0;36m<module>\u001b[1;34m\u001b[0m\n\u001b[1;32m----> 1\u001b[1;33m \u001b[1;32mfrom\u001b[0m \u001b[0mneo4j\u001b[0m \u001b[1;32mimport\u001b[0m \u001b[0mGraphDatabase\u001b[0m\u001b[1;33m\u001b[0m\u001b[1;33m\u001b[0m\u001b[0m\n\u001b[0m",
      "\u001b[1;31mModuleNotFoundError\u001b[0m: No module named 'neo4j'"
     ]
    }
   ],
   "source": [
    "from neo4j import GraphDatabase"
   ]
  },
  {
   "cell_type": "code",
   "execution_count": null,
   "id": "29ce29b9",
   "metadata": {},
   "outputs": [],
   "source": [
    "import pandas as pd"
   ]
  },
  {
   "cell_type": "markdown",
   "id": "21ab2184",
   "metadata": {},
   "source": [
    "#### Create Connection to Neo4j Database"
   ]
  },
  {
   "cell_type": "code",
   "execution_count": null,
   "id": "4620e4e6",
   "metadata": {},
   "outputs": [],
   "source": [
    "class Neo4jConnection:\n",
    "    \n",
    "    def __init__(self, uri, user, pwd):\n",
    "        self.__uri = uri\n",
    "        self.__user = user\n",
    "        self.__pwd = pwd\n",
    "        self.__driver = None\n",
    "        try:\n",
    "            self.__driver = GraphDatabase.driver(self.__uri, auth=(self.__user, self.__pwd))\n",
    "        except Exception as e:\n",
    "            print(\"Failed to create the driver:\", e)\n",
    "        \n",
    "    def close(self):\n",
    "        if self.__driver is not None:\n",
    "            self.__driver.close()\n",
    "        \n",
    "    def query(self, query, db=None):\n",
    "        assert self.__driver is not None, \"Driver not initialized!\"\n",
    "        session = None\n",
    "        response = None\n",
    "        try: \n",
    "            session = self.__driver.session(database=db) if db is not None else self.__driver.session() \n",
    "            response = list(session.run(query))\n",
    "        except Exception as e:\n",
    "            print(\"Query failed:\", e)\n",
    "        finally: \n",
    "            if session is not None:\n",
    "                session.close()\n",
    "        return response"
   ]
  },
  {
   "cell_type": "code",
   "execution_count": null,
   "id": "03f15dd6",
   "metadata": {},
   "outputs": [],
   "source": [
    "conn = Neo4jConnection(uri=\"neo4j://127.0.0.1:7687\", user=\"team\", pwd=\"F0110wTh€M0n€y\")"
   ]
  },
  {
   "cell_type": "markdown",
   "id": "9732b7bb",
   "metadata": {},
   "source": [
    "#### Pseudo-Code"
   ]
  },
  {
   "cell_type": "markdown",
   "id": "e0999c93",
   "metadata": {},
   "source": [
    "Flagge alle Terror-Transaktionen mit Impurity = 1.\n",
    "Berechne für alle Adressem, die als Output rauskommen die gewichteten Inputs und Outputs, um für jeden Zeitpunkt die Purity zu erhalten.\n",
    "Ordne alle Terror-Transaktionen und mach dann die Brechnung von hinten nach vorne (alt zu neu) \n",
    "Definiere Abbruchkriterium, wann man die Impurity als Null ansieht (z.B. auf zwei Nachkommastellen beschränken)\n",
    "Input: Adresse a mit Impurity\n",
    "for transaction where a SENDS:\n",
    "    Create list of output addresses\n",
    "    create DataFrame Column with amount of BTC \n",
    "    Create DataFrame Column with Purity of received BTC\n",
    "    Create DataFrame Column with total BTC of Address at point in time of transaction\n",
    "    Calculate Purity for address at that point in time"
   ]
  },
  {
   "cell_type": "markdown",
   "id": "d936a9a9",
   "metadata": {},
   "source": [
    "Wir setzen nicht alle Impurity auf 0, sondern interpretieren None später als 0, falls dies nicht geht, dann doch alles auf 0 setzen. Aber muss in Batches gemacht werden, ansonsten crasht neo4j"
   ]
  },
  {
   "cell_type": "code",
   "execution_count": null,
   "id": "b302e7cd",
   "metadata": {},
   "outputs": [],
   "source": [
    "#flagImpurityTx = \"\"\"MATCH (tx:Transaction)\n",
    "#SET tx.impurity = 0\n",
    "#RETURN tx.impurity\n",
    "#LIMIT 10\"\"\""
   ]
  },
  {
   "cell_type": "code",
   "execution_count": null,
   "id": "1641f584",
   "metadata": {},
   "outputs": [],
   "source": [
    "#conn.query(flagImpurityTx, db='neo4j')"
   ]
  },
  {
   "cell_type": "markdown",
   "id": "814023f8",
   "metadata": {},
   "source": [
    "#### Schritt 1: Setze für alle Terror-Adressen und Transaktionen mit Terror-Input Impurity = 1"
   ]
  },
  {
   "cell_type": "code",
   "execution_count": 25,
   "id": "eb2d2376",
   "metadata": {},
   "outputs": [],
   "source": [
    "flagImpurityTerror = \"\"\"MATCH (terror:Address{isTerrorMultiInput:TRUE})-[SENDS]->(tx:Transaction)\n",
    "SET tx.impurity = 1\n",
    "RETURN tx.impurity\n",
    "LIMIT 10\"\"\""
   ]
  },
  {
   "cell_type": "code",
   "execution_count": 34,
   "id": "91449bca",
   "metadata": {
    "scrolled": true
   },
   "outputs": [],
   "source": [
    "conn.query(flagImpurityTerror, db='neo4j')"
   ]
  },
  {
   "cell_type": "markdown",
   "id": "70ab3213",
   "metadata": {},
   "source": [
    "#### Schritt 2: Impurity von Terror-Adressen immer als 1 annehmen - Und rechne den Change-Output raus. Das mit den Change-Outputs lassen wir erstmal weg."
   ]
  },
  {
   "cell_type": "markdown",
   "id": "b2307c11",
   "metadata": {},
   "source": [
    "#### Schritt 3: Gib alle Output-Adressen aus Terror-Transaktionen aus"
   ]
  },
  {
   "cell_type": "code",
   "execution_count": null,
   "id": "458a025c",
   "metadata": {},
   "outputs": [],
   "source": [
    "TerrorTxOutputQuery = \"\"\"MATCH (tx1:Transaction{impurity:1})-[RECEIVES]->(a:Address)-[SENDS]->(tx2:Transaction)\n",
    "WHERE tx2 <> tx1\n",
    "RETURN tx2.date AS Date, tx2.txid AS TxID\n",
    "LIMIT 10\"\"\""
   ]
  },
  {
   "cell_type": "code",
   "execution_count": 6,
   "id": "31b1cbc6",
   "metadata": {},
   "outputs": [],
   "source": [
    "response = conn.query(TerrorTxOutputQuery, db='neo4j')"
   ]
  },
  {
   "cell_type": "code",
   "execution_count": 24,
   "id": "04974bf3",
   "metadata": {},
   "outputs": [],
   "source": [
    "TerrorTxOutput = list(map(lambda x : dict(x), response))\n",
    "TransactionsDF = pd.DataFrame(TerrorTxOutputAddresses)\n",
    "TransactionsDF = TransactionsDF[['TxID']].drop_duplicates()\n",
    "TransactionsDF = TransactionsDF.sort_values(by = ['Date'], ascending = True)"
   ]
  },
  {
   "cell_type": "code",
   "execution_count": null,
   "id": "55da7866",
   "metadata": {},
   "outputs": [],
   "source": [
    "TransactionsDF.to_csv(\"./TransactionsDF.csv\")"
   ]
  },
  {
   "cell_type": "markdown",
   "id": "c9a358be",
   "metadata": {},
   "source": [
    "#### Schritt 4: Berechne in chronologischer Reihenfolge für alle Transaktionen die Impurity. Beachte dabei das Datum, und dass ältere Transaktionen wiederum die Impurity neuerer Transaktionen beeinflussen können. Das geht doch nicht, da sich die Impurity-Werte von Adressen ändern, wenn sie abwechseln Inputs und Outputs haben. Deshalb hängen wir die Impurity-Werte and die Sends-Kanten und an die Transaktionen/Receive-Kanten. WIr benutzen die Receives Kanten, damit wir später noch den Change-Output rausrechnen können, wenn wir noch Zeit haben."
   ]
  },
  {
   "cell_type": "code",
   "execution_count": null,
   "id": "6fbd9a5f",
   "metadata": {},
   "outputs": [],
   "source": [
    "%(transaction_id, address, transaction_date, address, transaction_date, transaction_id)\n",
    "for row in TransactionsDF(): #Endergebnis: set purity for all recieve edges of transaction\n",
    "# Find all input addresses to a given transaction\n",
    "    transaction_id = TransactionsDF[['TxID']]\n",
    "    transaction_date = TransactionsDF[['Date']]\n",
    "    #tx:'%s' is the transaction_id of the original transaction where we want to determine and set the purity \n",
    "    AddressQuery = \"\"\"MATCH (a:Address)-[SENDS]->(tx:'%s')\n",
    "    RETURN a.address AS Address\"\"\"\n",
    "    response = conn.query(AddressQuery, db='neo4j')\n",
    "    AddressesTransaction = list(map(lambda x : dict(x), response))\n",
    "    # Find all input transactions for a given address with the amount of Bitcoin and impurity value of the transaction up to the date\n",
    "    for i in AddressesTransaction():\n",
    "        address = AddressesTransaction[i]\n",
    "        #return for each recieving edge of address the recieves_value and recieves_purity\n",
    "        #return for each send edge the send_value and send_purity\n",
    "        #'%s' is the address of AddressesTransaction\n",
    "        #'%s' is the transaction_date of the original transaction\n",
    "        RecieviesOfAddress = \"\"\"MATCH (tx:Transaction)-[rec:RECEIVES]->(a:Address{address:'%s'})\n",
    "        WHERE tx.date > '%s'\n",
    "        RETURN rec.value AS Received_Value, rec.purity AS Received_Purity\n",
    "        \"\"\"\n",
    "        response = conn.query(RecieviesOfAddress, db='neo4j')\n",
    "        ReceivesOfAddress = list(map(lambda x : dict(x), response))\n",
    "        ReceivesOfAddress = pd.DataFrame(ReceivesOfAddress)\n",
    "        \n",
    "        #'%s' is the address of AddressesTransaction\n",
    "        #'%s' is the transaction_date of the original transaction\n",
    "        #'%s' is the transacrion_id of the original transaction\n",
    "        SendsOfAddress\"\"\"MATCH (a:Address{address:'%s'})-[send:SENDS]->(tx:Transaction)\n",
    "        WHERE tx.date > '%s', tx.txid <> '%s'\n",
    "        RETURN send.value AS Send_Value, send.purity as Send_Purity\n",
    "        \"\"\"\n",
    "        response = conn.query(SendsOfAddress, db='neo4j')\n",
    "        SendsOfAddress = list(map(lambda x : dict(x), response))\n",
    "        SendsOfAddress = pd.DataFrame(SendsOfAddress)\n",
    "        \n",
    "        #calculate inpurity of address\n",
    "        \n",
    "            \n",
    "        \n",
    "        #Endergebnis: set purity of send edge from address to transaction\n",
    "\n",
    "#for trial purposes: \n",
    "#\"\"\"MATCH (tx:Transaction)-[rec:RECEIVES]->(a:Address)\n",
    "#WHERE tx.date > date({year: 2019, month: 7, day: 1})\n",
    "#RETURN rec.value AS Received_Value, rec.purity AS Received_Purity,  tx.date AS txDate\n",
    "#LIMIT 10\"\"\"\n",
    "#\"\"\"MATCH p=((a:Address{address:\"15PLEMoh11HBiHf53d4UCfJdx9ALyfnCT3\"})-[send:SENDS]->(tx:Transaction))\n",
    "#WHERE tx.date > date({year: 2016, month: 7, day: 1})\n",
    "#RETURN p\"\"\"\n",
    " \n",
    "\n"
   ]
  },
  {
   "cell_type": "code",
   "execution_count": 13,
   "id": "d3a4baeb",
   "metadata": {},
   "outputs": [
    {
     "ename": "AttributeError",
     "evalue": "'list' object has no attribute 'records'",
     "output_type": "error",
     "traceback": [
      "\u001b[1;31m---------------------------------------------------------------------------\u001b[0m",
      "\u001b[1;31mAttributeError\u001b[0m                            Traceback (most recent call last)",
      "\u001b[1;32m~\\AppData\\Local\\Temp/ipykernel_4904/611230744.py\u001b[0m in \u001b[0;36m<module>\u001b[1;34m\u001b[0m\n\u001b[0;32m      8\u001b[0m \u001b[1;33m\u001b[0m\u001b[0m\n\u001b[0;32m      9\u001b[0m \u001b[1;31m#exampleResponse\u001b[0m\u001b[1;33m\u001b[0m\u001b[1;33m\u001b[0m\u001b[0m\n\u001b[1;32m---> 10\u001b[1;33m \u001b[0mdf\u001b[0m \u001b[1;33m=\u001b[0m \u001b[0mpd\u001b[0m\u001b[1;33m.\u001b[0m\u001b[0mDataFrame\u001b[0m\u001b[1;33m(\u001b[0m\u001b[0mexampleResponse\u001b[0m\u001b[1;33m.\u001b[0m\u001b[0mrecords\u001b[0m\u001b[1;33m(\u001b[0m\u001b[1;33m)\u001b[0m\u001b[1;33m,\u001b[0m \u001b[0mcolumns\u001b[0m\u001b[1;33m=\u001b[0m\u001b[0mexampleResponse\u001b[0m\u001b[1;33m.\u001b[0m\u001b[0mkeys\u001b[0m\u001b[1;33m(\u001b[0m\u001b[1;33m)\u001b[0m\u001b[1;33m)\u001b[0m\u001b[1;33m\u001b[0m\u001b[1;33m\u001b[0m\u001b[0m\n\u001b[0m\u001b[0;32m     11\u001b[0m \u001b[0mdf\u001b[0m\u001b[1;33m\u001b[0m\u001b[1;33m\u001b[0m\u001b[0m\n",
      "\u001b[1;31mAttributeError\u001b[0m: 'list' object has no attribute 'records'"
     ]
    }
   ],
   "source": [
    "dataframeExampleQuery = \"\"\"MATCH (tx:Transaction)-[rec:RECEIVES]->(a:Address{address:\"15PLEMoh11HBiHf53d4UCfJdx9ALyfnCT3\"})\n",
    "WHERE tx.date > date({year: 2019, month: 7, day: 1})\n",
    "RETURN rec.value AS Received_Value, rec.purity AS Received_Purity,  tx.date AS txDate\n",
    "LIMIT 10\"\"\"\n",
    "\n",
    "response = conn.query(dataframeExampleQuery, db='neo4j')\n",
    "dataframeExample = list(map(lambda x : dict(x), response))\n",
    "ExampleDF = pd.DataFrame(dataframeExample)"
   ]
  },
  {
   "cell_type": "code",
   "execution_count": null,
   "id": "1f87b5bb",
   "metadata": {},
   "outputs": [],
   "source": [
    "\n",
    "for transaction in TransactionsDF:\n",
    "    response = conn.query(TerrorTxOutputQuery, db='neo4j')\n",
    "    "
   ]
  },
  {
   "cell_type": "markdown",
   "id": "74c91275",
   "metadata": {},
   "source": [
    "#### Schritt 6: Gib alle Output-Adressen aus den betrachteten Transaktionen aus und berechne für alle Nicht-Terror-Adressen in chronologischer Reihenfolge die Impurity der Transaktionen"
   ]
  },
  {
   "cell_type": "code",
   "execution_count": null,
   "id": "247996c6",
   "metadata": {},
   "outputs": [],
   "source": []
  },
  {
   "cell_type": "markdown",
   "id": "7ec32902",
   "metadata": {},
   "source": [
    "#### Schritt 7: Wiederhole Schritte 5 und 6 bis du auf einen Exchange triffst"
   ]
  },
  {
   "cell_type": "code",
   "execution_count": null,
   "id": "92b00eaa",
   "metadata": {},
   "outputs": [],
   "source": []
  },
  {
   "cell_type": "markdown",
   "id": "b8d53d45",
   "metadata": {},
   "source": [
    "#### Query for all transaction with a terror-input (Set Impurity = 1)"
   ]
  },
  {
   "cell_type": "code",
   "execution_count": null,
   "id": "18fb7d65",
   "metadata": {},
   "outputs": [],
   "source": [
    "\"\"\"MATCH (terror:Address{isTerror:TRUE})-[SENDS]->(tx:Transaction)\n",
    "SET tx.TerrorInput = TRUE\n",
    "RETURN tx\n",
    "Limit 10\"\"\""
   ]
  },
  {
   "cell_type": "code",
   "execution_count": null,
   "id": "8847d927",
   "metadata": {},
   "outputs": [],
   "source": [
    "def ImpurityMeasure(Address, Date):\n",
    "    Transaction_Data = [Date, TX ID, BTC, TX_Impurity]\n",
    "    Transaction_Data['Total TX Value'] = Transaction_Data['BTC'].cumsum()\n",
    "    Transaction_Data['Address Impurity'] = Transaction_Data['BTC']*Transaction_Data['TX_Impurity']/Transaction_Data['Total TX Value']\n",
    "    Impurity_Date = Transaction_Data[Transaction_Data['Date'] < Date].tail(1)\n",
    "    return Impurity_Date"
   ]
  },
  {
   "cell_type": "code",
   "execution_count": null,
   "id": "cf98dc92",
   "metadata": {},
   "outputs": [],
   "source": [
    "AddressQuery = \"\"\"MATCH (terror:Address{isTerror:TRUE})-[SENDS]->(tx:Transaction)-[RECEIVES]->(a:Address)\n",
    "   WHERE a.isTerrorMultiInput<> TRUE\n",
    "   RETURN a.address AS Address\"\"\""
   ]
  },
  {
   "cell_type": "code",
   "execution_count": null,
   "id": "14709c9d",
   "metadata": {},
   "outputs": [],
   "source": [
    "Addresses = AddressQuery()"
   ]
  },
  {
   "cell_type": "code",
   "execution_count": null,
   "id": "320d29c0",
   "metadata": {},
   "outputs": [],
   "source": [
    "for Address in Addresses:\n",
    "    "
   ]
  }
 ],
 "metadata": {
  "kernelspec": {
   "display_name": "Python 3 (ipykernel)",
   "language": "python",
   "name": "python3"
  },
  "language_info": {
   "codemirror_mode": {
    "name": "ipython",
    "version": 3
   },
   "file_extension": ".py",
   "mimetype": "text/x-python",
   "name": "python",
   "nbconvert_exporter": "python",
   "pygments_lexer": "ipython3",
   "version": "3.9.7"
  }
 },
 "nbformat": 4,
 "nbformat_minor": 5
}
