{
 "cells": [
  {
   "cell_type": "markdown",
   "id": "2c886901",
   "metadata": {},
   "source": [
    "## Import Neo4j"
   ]
  },
  {
   "cell_type": "code",
   "execution_count": 1,
   "id": "062cb326",
   "metadata": {},
   "outputs": [],
   "source": [
    "from neo4j import GraphDatabase"
   ]
  },
  {
   "cell_type": "code",
   "execution_count": 2,
   "id": "29ce29b9",
   "metadata": {},
   "outputs": [],
   "source": [
    "import pandas as pd"
   ]
  },
  {
   "cell_type": "markdown",
   "id": "21ab2184",
   "metadata": {},
   "source": [
    "#### Create Connection to Neo4j Database"
   ]
  },
  {
   "cell_type": "code",
   "execution_count": 3,
   "id": "4620e4e6",
   "metadata": {},
   "outputs": [],
   "source": [
    "class Neo4jConnection:\n",
    "    \n",
    "    def __init__(self, uri, user, pwd):\n",
    "        self.__uri = uri\n",
    "        self.__user = user\n",
    "        self.__pwd = pwd\n",
    "        self.__driver = None\n",
    "        try:\n",
    "            self.__driver = GraphDatabase.driver(self.__uri, auth=(self.__user, self.__pwd))\n",
    "        except Exception as e:\n",
    "            print(\"Failed to create the driver:\", e)\n",
    "        \n",
    "    def close(self):\n",
    "        if self.__driver is not None:\n",
    "            self.__driver.close()\n",
    "        \n",
    "    def query(self, query, db=None):\n",
    "        assert self.__driver is not None, \"Driver not initialized!\"\n",
    "        session = None\n",
    "        response = None\n",
    "        try: \n",
    "            session = self.__driver.session(database=db) if db is not None else self.__driver.session() \n",
    "            response = list(session.run(query))\n",
    "        except Exception as e:\n",
    "            print(\"Query failed:\", e)\n",
    "        finally: \n",
    "            if session is not None:\n",
    "                session.close()\n",
    "        return response"
   ]
  },
  {
   "cell_type": "code",
   "execution_count": 4,
   "id": "03f15dd6",
   "metadata": {},
   "outputs": [],
   "source": [
    "conn = Neo4jConnection(uri=\"neo4j://127.0.0.1:7687\", user=\"team\", pwd=\"F0110wTh€M0n€y\")"
   ]
  },
  {
   "cell_type": "markdown",
   "id": "666219e6",
   "metadata": {},
   "source": [
    "#### Create Pandas Dataframe with Bitcoin Sent and Received"
   ]
  },
  {
   "cell_type": "code",
   "execution_count": 5,
   "id": "7068e2e8",
   "metadata": {},
   "outputs": [],
   "source": [
    "queryTemplate = \"\"\"\n",
    "MATCH p=(tx:Transaction)-[S:SENDS|RECEIVES]-(terror:Address{isTerror:TRUE})\n",
    "RETURN S.value AS Bitcoin, terror.address AS Address, terror.terrorWallet AS WalletID, tx.date AS Date,type(S) AS SendReceive\n",
    "\"\"\""
   ]
  },
  {
   "cell_type": "code",
   "execution_count": 6,
   "id": "31b1cbc6",
   "metadata": {},
   "outputs": [],
   "source": [
    "response = conn.query(queryTemplate, db='neo4j')"
   ]
  },
  {
   "cell_type": "code",
   "execution_count": 24,
   "id": "04974bf3",
   "metadata": {},
   "outputs": [],
   "source": [
    "resultList = list(map(lambda x : dict(x), response))\n",
    "resultDF = pd.DataFrame(resultList)"
   ]
  },
  {
   "cell_type": "markdown",
   "id": "85feeb3d",
   "metadata": {},
   "source": [
    "#### Make df compatible to historic BTC data and translate Satoshi to BTC"
   ]
  },
  {
   "cell_type": "code",
   "execution_count": 25,
   "id": "3037d244",
   "metadata": {},
   "outputs": [],
   "source": [
    "resultDF.rename({'Date': 'date'}, axis=1, inplace=True)\n",
    "resultDF[\"Bitcoin\"] = resultDF[\"Bitcoin\"] / 10**8"
   ]
  },
  {
   "cell_type": "code",
   "execution_count": 71,
   "id": "3a083e51",
   "metadata": {},
   "outputs": [
    {
     "data": {
      "text/html": [
       "<div>\n",
       "<style scoped>\n",
       "    .dataframe tbody tr th:only-of-type {\n",
       "        vertical-align: middle;\n",
       "    }\n",
       "\n",
       "    .dataframe tbody tr th {\n",
       "        vertical-align: top;\n",
       "    }\n",
       "\n",
       "    .dataframe thead th {\n",
       "        text-align: right;\n",
       "    }\n",
       "</style>\n",
       "<table border=\"1\" class=\"dataframe\">\n",
       "  <thead>\n",
       "    <tr style=\"text-align: right;\">\n",
       "      <th></th>\n",
       "      <th>date</th>\n",
       "      <th>Address</th>\n",
       "      <th>WalletID</th>\n",
       "      <th>SendReceive</th>\n",
       "      <th>Bitcoin</th>\n",
       "    </tr>\n",
       "  </thead>\n",
       "  <tbody>\n",
       "    <tr>\n",
       "      <th>0</th>\n",
       "      <td>2019-02-27</td>\n",
       "      <td>12sDU3FyYJXc2oRzE6XXuuhVHCBJvaoCC8</td>\n",
       "      <td>Terror-wallet ID40</td>\n",
       "      <td>SENDS</td>\n",
       "      <td>0.005000</td>\n",
       "    </tr>\n",
       "    <tr>\n",
       "      <th>1</th>\n",
       "      <td>2019-03-05</td>\n",
       "      <td>12sDU3FyYJXc2oRzE6XXuuhVHCBJvaoCC8</td>\n",
       "      <td>Terror-wallet ID40</td>\n",
       "      <td>SENDS</td>\n",
       "      <td>0.004943</td>\n",
       "    </tr>\n",
       "    <tr>\n",
       "      <th>2</th>\n",
       "      <td>2019-03-05</td>\n",
       "      <td>12sDU3FyYJXc2oRzE6XXuuhVHCBJvaoCC8</td>\n",
       "      <td>Terror-wallet ID40</td>\n",
       "      <td>SENDS</td>\n",
       "      <td>0.004898</td>\n",
       "    </tr>\n",
       "    <tr>\n",
       "      <th>3</th>\n",
       "      <td>2019-03-27</td>\n",
       "      <td>12sDU3FyYJXc2oRzE6XXuuhVHCBJvaoCC8</td>\n",
       "      <td>Terror-wallet ID40</td>\n",
       "      <td>SENDS</td>\n",
       "      <td>0.004854</td>\n",
       "    </tr>\n",
       "    <tr>\n",
       "      <th>4</th>\n",
       "      <td>2019-03-27</td>\n",
       "      <td>12sDU3FyYJXc2oRzE6XXuuhVHCBJvaoCC8</td>\n",
       "      <td>Terror-wallet ID40</td>\n",
       "      <td>SENDS</td>\n",
       "      <td>0.004780</td>\n",
       "    </tr>\n",
       "  </tbody>\n",
       "</table>\n",
       "</div>"
      ],
      "text/plain": [
       "         date                             Address            WalletID  \\\n",
       "0  2019-02-27  12sDU3FyYJXc2oRzE6XXuuhVHCBJvaoCC8  Terror-wallet ID40   \n",
       "1  2019-03-05  12sDU3FyYJXc2oRzE6XXuuhVHCBJvaoCC8  Terror-wallet ID40   \n",
       "2  2019-03-05  12sDU3FyYJXc2oRzE6XXuuhVHCBJvaoCC8  Terror-wallet ID40   \n",
       "3  2019-03-27  12sDU3FyYJXc2oRzE6XXuuhVHCBJvaoCC8  Terror-wallet ID40   \n",
       "4  2019-03-27  12sDU3FyYJXc2oRzE6XXuuhVHCBJvaoCC8  Terror-wallet ID40   \n",
       "\n",
       "  SendReceive   Bitcoin  \n",
       "0       SENDS  0.005000  \n",
       "1       SENDS  0.004943  \n",
       "2       SENDS  0.004898  \n",
       "3       SENDS  0.004854  \n",
       "4       SENDS  0.004780  "
      ]
     },
     "execution_count": 71,
     "metadata": {},
     "output_type": "execute_result"
    }
   ],
   "source": [
    "resultDF.head(5)"
   ]
  },
  {
   "cell_type": "markdown",
   "id": "a88af711",
   "metadata": {},
   "source": [
    "#### Export df for future use"
   ]
  },
  {
   "cell_type": "code",
   "execution_count": 12,
   "id": "c3cbbc03",
   "metadata": {},
   "outputs": [],
   "source": [
    "resultDF.to_csv(\"./TerrorTransactions2.csv\")"
   ]
  },
  {
   "cell_type": "markdown",
   "id": "b674a256",
   "metadata": {},
   "source": [
    "#### Import Historic Bitcoin Pricing Data"
   ]
  },
  {
   "cell_type": "code",
   "execution_count": 13,
   "id": "72c3bad1",
   "metadata": {},
   "outputs": [],
   "source": [
    "rates = pd.read_csv('./btcData.csv')"
   ]
  },
  {
   "cell_type": "code",
   "execution_count": 14,
   "id": "ba9ca3a6",
   "metadata": {
    "scrolled": false
   },
   "outputs": [],
   "source": [
    "rates['Datum']= pd.to_datetime(rates['Datum']).dt.date\n",
    "rates.rename({'Datum': 'date'}, axis=1, inplace=True)\n",
    "rates = rates[['date','Zuletzt']]"
   ]
  },
  {
   "cell_type": "markdown",
   "id": "05742080",
   "metadata": {},
   "source": [
    "#### Make data compatible and join dataframes"
   ]
  },
  {
   "cell_type": "code",
   "execution_count": 29,
   "id": "ce022f7d",
   "metadata": {
    "scrolled": false
   },
   "outputs": [],
   "source": [
    "resultDF = resultDF[['date', 'Address','WalletID', 'SendReceive', 'Bitcoin']]\n",
    "resultDF['date'] = resultDF['date'].map(lambda x: x.to_native())"
   ]
  },
  {
   "cell_type": "code",
   "execution_count": 72,
   "id": "eefa2550",
   "metadata": {
    "scrolled": false
   },
   "outputs": [
    {
     "data": {
      "text/html": [
       "<div>\n",
       "<style scoped>\n",
       "    .dataframe tbody tr th:only-of-type {\n",
       "        vertical-align: middle;\n",
       "    }\n",
       "\n",
       "    .dataframe tbody tr th {\n",
       "        vertical-align: top;\n",
       "    }\n",
       "\n",
       "    .dataframe thead th {\n",
       "        text-align: right;\n",
       "    }\n",
       "</style>\n",
       "<table border=\"1\" class=\"dataframe\">\n",
       "  <thead>\n",
       "    <tr style=\"text-align: right;\">\n",
       "      <th></th>\n",
       "      <th>date</th>\n",
       "      <th>Zuletzt</th>\n",
       "      <th>Address</th>\n",
       "      <th>WalletID</th>\n",
       "      <th>SendReceive</th>\n",
       "      <th>Bitcoin</th>\n",
       "    </tr>\n",
       "  </thead>\n",
       "  <tbody>\n",
       "    <tr>\n",
       "      <th>0</th>\n",
       "      <td>2022-03-05</td>\n",
       "      <td>37.718,0</td>\n",
       "      <td>19D1iGzDr7FyAdiy3ZZdxMd6ttHj1kj6WW</td>\n",
       "      <td>Terror-wallet ID11</td>\n",
       "      <td>RECEIVES</td>\n",
       "      <td>0.011114</td>\n",
       "    </tr>\n",
       "    <tr>\n",
       "      <th>1</th>\n",
       "      <td>2022-01-05</td>\n",
       "      <td>38.461,0</td>\n",
       "      <td>19D1iGzDr7FyAdiy3ZZdxMd6ttHj1kj6WW</td>\n",
       "      <td>Terror-wallet ID11</td>\n",
       "      <td>RECEIVES</td>\n",
       "      <td>0.012780</td>\n",
       "    </tr>\n",
       "    <tr>\n",
       "      <th>2</th>\n",
       "      <td>2022-01-05</td>\n",
       "      <td>38.461,0</td>\n",
       "      <td>19D1iGzDr7FyAdiy3ZZdxMd6ttHj1kj6WW</td>\n",
       "      <td>Terror-wallet ID11</td>\n",
       "      <td>SENDS</td>\n",
       "      <td>0.014974</td>\n",
       "    </tr>\n",
       "    <tr>\n",
       "      <th>3</th>\n",
       "      <td>2022-04-30</td>\n",
       "      <td>37.650,0</td>\n",
       "      <td>19D1iGzDr7FyAdiy3ZZdxMd6ttHj1kj6WW</td>\n",
       "      <td>Terror-wallet ID11</td>\n",
       "      <td>RECEIVES</td>\n",
       "      <td>0.006480</td>\n",
       "    </tr>\n",
       "    <tr>\n",
       "      <th>4</th>\n",
       "      <td>2022-04-30</td>\n",
       "      <td>37.650,0</td>\n",
       "      <td>19D1iGzDr7FyAdiy3ZZdxMd6ttHj1kj6WW</td>\n",
       "      <td>Terror-wallet ID11</td>\n",
       "      <td>RECEIVES</td>\n",
       "      <td>0.004097</td>\n",
       "    </tr>\n",
       "  </tbody>\n",
       "</table>\n",
       "</div>"
      ],
      "text/plain": [
       "         date   Zuletzt                             Address  \\\n",
       "0  2022-03-05  37.718,0  19D1iGzDr7FyAdiy3ZZdxMd6ttHj1kj6WW   \n",
       "1  2022-01-05  38.461,0  19D1iGzDr7FyAdiy3ZZdxMd6ttHj1kj6WW   \n",
       "2  2022-01-05  38.461,0  19D1iGzDr7FyAdiy3ZZdxMd6ttHj1kj6WW   \n",
       "3  2022-04-30  37.650,0  19D1iGzDr7FyAdiy3ZZdxMd6ttHj1kj6WW   \n",
       "4  2022-04-30  37.650,0  19D1iGzDr7FyAdiy3ZZdxMd6ttHj1kj6WW   \n",
       "\n",
       "             WalletID SendReceive   Bitcoin  \n",
       "0  Terror-wallet ID11    RECEIVES  0.011114  \n",
       "1  Terror-wallet ID11    RECEIVES  0.012780  \n",
       "2  Terror-wallet ID11       SENDS  0.014974  \n",
       "3  Terror-wallet ID11    RECEIVES  0.006480  \n",
       "4  Terror-wallet ID11    RECEIVES  0.004097  "
      ]
     },
     "execution_count": 72,
     "metadata": {},
     "output_type": "execute_result"
    }
   ],
   "source": [
    "df2 = pd.merge(rates, resultDF, how='inner', on = 'date')\n",
    "df2.head(3)"
   ]
  },
  {
   "cell_type": "markdown",
   "id": "9949fcdc",
   "metadata": {},
   "source": [
    "#### Combine data to create column with transacion values in real currency"
   ]
  },
  {
   "cell_type": "code",
   "execution_count": 74,
   "id": "14f04888",
   "metadata": {},
   "outputs": [],
   "source": [
    "df2['Zuletzt'] = df2['Zuletzt'].map(lambda x: float(x.replace(\",\",\".\").replace(\".\",\"\",1)))\n",
    "df2['tx_value'] = df2['Zuletzt']*df2['Bitcoin']"
   ]
  },
  {
   "cell_type": "code",
   "execution_count": 75,
   "id": "bef3c102",
   "metadata": {
    "scrolled": false
   },
   "outputs": [
    {
     "data": {
      "text/html": [
       "<div>\n",
       "<style scoped>\n",
       "    .dataframe tbody tr th:only-of-type {\n",
       "        vertical-align: middle;\n",
       "    }\n",
       "\n",
       "    .dataframe tbody tr th {\n",
       "        vertical-align: top;\n",
       "    }\n",
       "\n",
       "    .dataframe thead th {\n",
       "        text-align: right;\n",
       "    }\n",
       "</style>\n",
       "<table border=\"1\" class=\"dataframe\">\n",
       "  <thead>\n",
       "    <tr style=\"text-align: right;\">\n",
       "      <th></th>\n",
       "      <th>date</th>\n",
       "      <th>Zuletzt</th>\n",
       "      <th>Address</th>\n",
       "      <th>WalletID</th>\n",
       "      <th>SendReceive</th>\n",
       "      <th>Bitcoin</th>\n",
       "      <th>tx_value</th>\n",
       "    </tr>\n",
       "  </thead>\n",
       "  <tbody>\n",
       "    <tr>\n",
       "      <th>0</th>\n",
       "      <td>2022-03-05</td>\n",
       "      <td>37718.0</td>\n",
       "      <td>19D1iGzDr7FyAdiy3ZZdxMd6ttHj1kj6WW</td>\n",
       "      <td>Terror-wallet ID11</td>\n",
       "      <td>RECEIVES</td>\n",
       "      <td>0.011114</td>\n",
       "      <td>419.184274</td>\n",
       "    </tr>\n",
       "    <tr>\n",
       "      <th>1</th>\n",
       "      <td>2022-01-05</td>\n",
       "      <td>38461.0</td>\n",
       "      <td>19D1iGzDr7FyAdiy3ZZdxMd6ttHj1kj6WW</td>\n",
       "      <td>Terror-wallet ID11</td>\n",
       "      <td>RECEIVES</td>\n",
       "      <td>0.012780</td>\n",
       "      <td>491.544657</td>\n",
       "    </tr>\n",
       "    <tr>\n",
       "      <th>2</th>\n",
       "      <td>2022-01-05</td>\n",
       "      <td>38461.0</td>\n",
       "      <td>19D1iGzDr7FyAdiy3ZZdxMd6ttHj1kj6WW</td>\n",
       "      <td>Terror-wallet ID11</td>\n",
       "      <td>SENDS</td>\n",
       "      <td>0.014974</td>\n",
       "      <td>575.912322</td>\n",
       "    </tr>\n",
       "    <tr>\n",
       "      <th>3</th>\n",
       "      <td>2022-04-30</td>\n",
       "      <td>37650.0</td>\n",
       "      <td>19D1iGzDr7FyAdiy3ZZdxMd6ttHj1kj6WW</td>\n",
       "      <td>Terror-wallet ID11</td>\n",
       "      <td>RECEIVES</td>\n",
       "      <td>0.006480</td>\n",
       "      <td>243.972000</td>\n",
       "    </tr>\n",
       "    <tr>\n",
       "      <th>4</th>\n",
       "      <td>2022-04-30</td>\n",
       "      <td>37650.0</td>\n",
       "      <td>19D1iGzDr7FyAdiy3ZZdxMd6ttHj1kj6WW</td>\n",
       "      <td>Terror-wallet ID11</td>\n",
       "      <td>RECEIVES</td>\n",
       "      <td>0.004097</td>\n",
       "      <td>154.252426</td>\n",
       "    </tr>\n",
       "  </tbody>\n",
       "</table>\n",
       "</div>"
      ],
      "text/plain": [
       "         date  Zuletzt                             Address  \\\n",
       "0  2022-03-05  37718.0  19D1iGzDr7FyAdiy3ZZdxMd6ttHj1kj6WW   \n",
       "1  2022-01-05  38461.0  19D1iGzDr7FyAdiy3ZZdxMd6ttHj1kj6WW   \n",
       "2  2022-01-05  38461.0  19D1iGzDr7FyAdiy3ZZdxMd6ttHj1kj6WW   \n",
       "3  2022-04-30  37650.0  19D1iGzDr7FyAdiy3ZZdxMd6ttHj1kj6WW   \n",
       "4  2022-04-30  37650.0  19D1iGzDr7FyAdiy3ZZdxMd6ttHj1kj6WW   \n",
       "\n",
       "             WalletID SendReceive   Bitcoin    tx_value  \n",
       "0  Terror-wallet ID11    RECEIVES  0.011114  419.184274  \n",
       "1  Terror-wallet ID11    RECEIVES  0.012780  491.544657  \n",
       "2  Terror-wallet ID11       SENDS  0.014974  575.912322  \n",
       "3  Terror-wallet ID11    RECEIVES  0.006480  243.972000  \n",
       "4  Terror-wallet ID11    RECEIVES  0.004097  154.252426  "
      ]
     },
     "execution_count": 75,
     "metadata": {},
     "output_type": "execute_result"
    }
   ],
   "source": [
    "df2.head(3)"
   ]
  },
  {
   "cell_type": "markdown",
   "id": "552d61e7",
   "metadata": {},
   "source": [
    "#### Create df with List of WalletIDs"
   ]
  },
  {
   "cell_type": "code",
   "execution_count": 51,
   "id": "a373f582",
   "metadata": {},
   "outputs": [],
   "source": [
    "WalletIDs = df2[['WalletID']].drop_duplicates()"
   ]
  },
  {
   "cell_type": "markdown",
   "id": "9bcaaea8",
   "metadata": {},
   "source": [
    "#### Split up dataframe into Send and Receive"
   ]
  },
  {
   "cell_type": "code",
   "execution_count": 34,
   "id": "db940649",
   "metadata": {},
   "outputs": [],
   "source": [
    "dfReceived = df2[df2['SendReceive'] == 'RECEIVES']\n",
    "dfSends = df2[df2['SendReceive'] == 'SENDS']"
   ]
  },
  {
   "cell_type": "markdown",
   "id": "b22a2242",
   "metadata": {},
   "source": [
    "#### Calculate earnings through bitcoin usage"
   ]
  },
  {
   "cell_type": "code",
   "execution_count": 88,
   "id": "e90dceff",
   "metadata": {},
   "outputs": [
    {
     "name": "stdout",
     "output_type": "stream",
     "text": [
      "The total earnings sum up to -10098453.712999344 Euro\n"
     ]
    }
   ],
   "source": [
    "expense = dfSends['tx_value'].sum()\n",
    "BTC_remaining = dfReceived['Bitcoin'].sum()-dfSends['Bitcoin'].sum()\n",
    "income = dfReceived['tx_value'].sum()+BTC_remaining*27844\n",
    "earnings = income-expense\n",
    "print(\"The total earnings sum up to\", earnings, \"Euro\")"
   ]
  },
  {
   "cell_type": "markdown",
   "id": "8c4db6c8",
   "metadata": {},
   "source": [
    "#### Create Dataframe with earnings for each Wallet"
   ]
  },
  {
   "cell_type": "code",
   "execution_count": 67,
   "id": "fd61dfcb",
   "metadata": {},
   "outputs": [],
   "source": [
    "WalletEarnings = []\n",
    "for Wallet in WalletIDs['WalletID']:\n",
    "    WalletDfReceived = dfReceived[dfReceived['WalletID'] == Wallet]\n",
    "    WalletDfSends = dfSends[dfSends['WalletID'] == Wallet]\n",
    "    expense = WalletDfSends['tx_value'].sum()\n",
    "    BTC_remaining = WalletDfReceived['Bitcoin'].sum()-WalletDfSends['Bitcoin'].sum()\n",
    "    income = WalletDfReceived['tx_value'].sum()+BTC_remaining*27844\n",
    "    earnings = income-expense\n",
    "    WalletEarnings.append([Wallet, earnings, income])"
   ]
  },
  {
   "cell_type": "code",
   "execution_count": 89,
   "id": "113c1183",
   "metadata": {},
   "outputs": [],
   "source": [
    "WalletEarningsDF = pd.DataFrame(WalletEarnings, columns=['WalletID', 'Earnings in €','tx_value_Received in €'])"
   ]
  },
  {
   "cell_type": "code",
   "execution_count": 91,
   "id": "b9dc15f2",
   "metadata": {},
   "outputs": [
    {
     "data": {
      "text/html": [
       "<div>\n",
       "<style scoped>\n",
       "    .dataframe tbody tr th:only-of-type {\n",
       "        vertical-align: middle;\n",
       "    }\n",
       "\n",
       "    .dataframe tbody tr th {\n",
       "        vertical-align: top;\n",
       "    }\n",
       "\n",
       "    .dataframe thead th {\n",
       "        text-align: right;\n",
       "    }\n",
       "</style>\n",
       "<table border=\"1\" class=\"dataframe\">\n",
       "  <thead>\n",
       "    <tr style=\"text-align: right;\">\n",
       "      <th></th>\n",
       "      <th>WalletID</th>\n",
       "      <th>Earnings in €</th>\n",
       "      <th>tx_value_Received in €</th>\n",
       "    </tr>\n",
       "  </thead>\n",
       "  <tbody>\n",
       "    <tr>\n",
       "      <th>13</th>\n",
       "      <td>Terror-wallet ID34</td>\n",
       "      <td>-1.093227e+07</td>\n",
       "      <td>1.380746e+10</td>\n",
       "    </tr>\n",
       "    <tr>\n",
       "      <th>0</th>\n",
       "      <td>Terror-wallet ID11</td>\n",
       "      <td>7.564434e+05</td>\n",
       "      <td>5.255338e+07</td>\n",
       "    </tr>\n",
       "    <tr>\n",
       "      <th>8</th>\n",
       "      <td>Terror-wallet ID38</td>\n",
       "      <td>0.000000e+00</td>\n",
       "      <td>3.583432e+05</td>\n",
       "    </tr>\n",
       "    <tr>\n",
       "      <th>6</th>\n",
       "      <td>Terror-wallet ID37</td>\n",
       "      <td>3.563300e-01</td>\n",
       "      <td>5.933284e+04</td>\n",
       "    </tr>\n",
       "    <tr>\n",
       "      <th>7</th>\n",
       "      <td>Terror-wallet ID39</td>\n",
       "      <td>0.000000e+00</td>\n",
       "      <td>4.099984e+04</td>\n",
       "    </tr>\n",
       "    <tr>\n",
       "      <th>24</th>\n",
       "      <td>Terror-wallet ID29</td>\n",
       "      <td>7.258716e+03</td>\n",
       "      <td>1.307930e+04</td>\n",
       "    </tr>\n",
       "    <tr>\n",
       "      <th>2</th>\n",
       "      <td>Terror-wallet ID9</td>\n",
       "      <td>-1.231292e+03</td>\n",
       "      <td>5.914644e+03</td>\n",
       "    </tr>\n",
       "    <tr>\n",
       "      <th>12</th>\n",
       "      <td>Terror-wallet ID14</td>\n",
       "      <td>6.727675e+02</td>\n",
       "      <td>3.628499e+03</td>\n",
       "    </tr>\n",
       "    <tr>\n",
       "      <th>3</th>\n",
       "      <td>Terror-wallet ID31</td>\n",
       "      <td>0.000000e+00</td>\n",
       "      <td>3.579638e+03</td>\n",
       "    </tr>\n",
       "    <tr>\n",
       "      <th>15</th>\n",
       "      <td>Terror-wallet ID24</td>\n",
       "      <td>1.082569e+02</td>\n",
       "      <td>2.824912e+03</td>\n",
       "    </tr>\n",
       "    <tr>\n",
       "      <th>10</th>\n",
       "      <td>Terror-wallet ID45</td>\n",
       "      <td>0.000000e+00</td>\n",
       "      <td>2.284461e+03</td>\n",
       "    </tr>\n",
       "    <tr>\n",
       "      <th>27</th>\n",
       "      <td>Terror-wallet ID4</td>\n",
       "      <td>8.221173e+02</td>\n",
       "      <td>1.394415e+03</td>\n",
       "    </tr>\n",
       "    <tr>\n",
       "      <th>14</th>\n",
       "      <td>Terror-wallet ID5</td>\n",
       "      <td>1.956713e+02</td>\n",
       "      <td>9.148122e+02</td>\n",
       "    </tr>\n",
       "    <tr>\n",
       "      <th>9</th>\n",
       "      <td>Terror-wallet ID43</td>\n",
       "      <td>-1.825663e+00</td>\n",
       "      <td>8.856824e+02</td>\n",
       "    </tr>\n",
       "    <tr>\n",
       "      <th>19</th>\n",
       "      <td>Terror-wallet ID44</td>\n",
       "      <td>0.000000e+00</td>\n",
       "      <td>5.270232e+02</td>\n",
       "    </tr>\n",
       "    <tr>\n",
       "      <th>18</th>\n",
       "      <td>Terror-wallet ID15</td>\n",
       "      <td>0.000000e+00</td>\n",
       "      <td>4.750831e+02</td>\n",
       "    </tr>\n",
       "    <tr>\n",
       "      <th>25</th>\n",
       "      <td>Terror-wallet ID21</td>\n",
       "      <td>-3.506907e+02</td>\n",
       "      <td>4.257614e+02</td>\n",
       "    </tr>\n",
       "    <tr>\n",
       "      <th>20</th>\n",
       "      <td>Terror-wallet ID2</td>\n",
       "      <td>-1.653509e+02</td>\n",
       "      <td>3.788765e+02</td>\n",
       "    </tr>\n",
       "    <tr>\n",
       "      <th>17</th>\n",
       "      <td>Terror-wallet ID19</td>\n",
       "      <td>1.419807e+02</td>\n",
       "      <td>2.933188e+02</td>\n",
       "    </tr>\n",
       "    <tr>\n",
       "      <th>21</th>\n",
       "      <td>Terror-wallet ID40</td>\n",
       "      <td>1.498545e+02</td>\n",
       "      <td>2.646196e+02</td>\n",
       "    </tr>\n",
       "    <tr>\n",
       "      <th>26</th>\n",
       "      <td>Terror-wallet ID41</td>\n",
       "      <td>1.702335e+02</td>\n",
       "      <td>2.028010e+02</td>\n",
       "    </tr>\n",
       "    <tr>\n",
       "      <th>23</th>\n",
       "      <td>Terror-wallet ID35</td>\n",
       "      <td>0.000000e+00</td>\n",
       "      <td>4.976676e+01</td>\n",
       "    </tr>\n",
       "    <tr>\n",
       "      <th>5</th>\n",
       "      <td>Terror-wallet ID42</td>\n",
       "      <td>0.000000e+00</td>\n",
       "      <td>3.716060e+01</td>\n",
       "    </tr>\n",
       "    <tr>\n",
       "      <th>16</th>\n",
       "      <td>Terror-wallet ID20</td>\n",
       "      <td>9.968044e+00</td>\n",
       "      <td>1.857056e+01</td>\n",
       "    </tr>\n",
       "    <tr>\n",
       "      <th>11</th>\n",
       "      <td>Terror-wallet ID33</td>\n",
       "      <td>-3.978850e+01</td>\n",
       "      <td>9.067100e+00</td>\n",
       "    </tr>\n",
       "    <tr>\n",
       "      <th>22</th>\n",
       "      <td>Terror-wallet ID32</td>\n",
       "      <td>-2.394326e+00</td>\n",
       "      <td>5.269751e+00</td>\n",
       "    </tr>\n",
       "    <tr>\n",
       "      <th>4</th>\n",
       "      <td>Terror-wallet ID36</td>\n",
       "      <td>1.257157e-01</td>\n",
       "      <td>4.730502e+00</td>\n",
       "    </tr>\n",
       "    <tr>\n",
       "      <th>1</th>\n",
       "      <td>None</td>\n",
       "      <td>0.000000e+00</td>\n",
       "      <td>0.000000e+00</td>\n",
       "    </tr>\n",
       "  </tbody>\n",
       "</table>\n",
       "</div>"
      ],
      "text/plain": [
       "              WalletID  Earnings in €  tx_value_Received in €\n",
       "13  Terror-wallet ID34  -1.093227e+07            1.380746e+10\n",
       "0   Terror-wallet ID11   7.564434e+05            5.255338e+07\n",
       "8   Terror-wallet ID38   0.000000e+00            3.583432e+05\n",
       "6   Terror-wallet ID37   3.563300e-01            5.933284e+04\n",
       "7   Terror-wallet ID39   0.000000e+00            4.099984e+04\n",
       "24  Terror-wallet ID29   7.258716e+03            1.307930e+04\n",
       "2    Terror-wallet ID9  -1.231292e+03            5.914644e+03\n",
       "12  Terror-wallet ID14   6.727675e+02            3.628499e+03\n",
       "3   Terror-wallet ID31   0.000000e+00            3.579638e+03\n",
       "15  Terror-wallet ID24   1.082569e+02            2.824912e+03\n",
       "10  Terror-wallet ID45   0.000000e+00            2.284461e+03\n",
       "27   Terror-wallet ID4   8.221173e+02            1.394415e+03\n",
       "14   Terror-wallet ID5   1.956713e+02            9.148122e+02\n",
       "9   Terror-wallet ID43  -1.825663e+00            8.856824e+02\n",
       "19  Terror-wallet ID44   0.000000e+00            5.270232e+02\n",
       "18  Terror-wallet ID15   0.000000e+00            4.750831e+02\n",
       "25  Terror-wallet ID21  -3.506907e+02            4.257614e+02\n",
       "20   Terror-wallet ID2  -1.653509e+02            3.788765e+02\n",
       "17  Terror-wallet ID19   1.419807e+02            2.933188e+02\n",
       "21  Terror-wallet ID40   1.498545e+02            2.646196e+02\n",
       "26  Terror-wallet ID41   1.702335e+02            2.028010e+02\n",
       "23  Terror-wallet ID35   0.000000e+00            4.976676e+01\n",
       "5   Terror-wallet ID42   0.000000e+00            3.716060e+01\n",
       "16  Terror-wallet ID20   9.968044e+00            1.857056e+01\n",
       "11  Terror-wallet ID33  -3.978850e+01            9.067100e+00\n",
       "22  Terror-wallet ID32  -2.394326e+00            5.269751e+00\n",
       "4   Terror-wallet ID36   1.257157e-01            4.730502e+00\n",
       "1                 None   0.000000e+00            0.000000e+00"
      ]
     },
     "execution_count": 91,
     "metadata": {},
     "output_type": "execute_result"
    }
   ],
   "source": [
    "WalletEarningsDF.sort_values(by = ['tx_value_Received in €'], ascending = False)"
   ]
  },
  {
   "cell_type": "code",
   "execution_count": null,
   "id": "0eaf9816",
   "metadata": {},
   "outputs": [],
   "source": [
    "conn.close()"
   ]
  }
 ],
 "metadata": {
  "kernelspec": {
   "display_name": "Python 3",
   "language": "python",
   "name": "python3"
  },
  "language_info": {
   "codemirror_mode": {
    "name": "ipython",
    "version": 3
   },
   "file_extension": ".py",
   "mimetype": "text/x-python",
   "name": "python",
   "nbconvert_exporter": "python",
   "pygments_lexer": "ipython3",
   "version": "3.8.8"
  }
 },
 "nbformat": 4,
 "nbformat_minor": 5
}
