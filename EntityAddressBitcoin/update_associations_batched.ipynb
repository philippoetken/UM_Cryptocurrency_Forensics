{
 "cells": [
  {
   "cell_type": "code",
   "execution_count": 1,
   "metadata": {},
   "outputs": [],
   "source": [
    "import csv\n",
    "import pandas as pd"
   ]
  },
  {
   "cell_type": "code",
   "execution_count": null,
   "metadata": {},
   "outputs": [],
   "source": [
    "%run ./EntityAddress_neo4jConnect.ipynb # includes Neo4J connector"
   ]
  },
  {
   "cell_type": "code",
   "execution_count": 2,
   "metadata": {},
   "outputs": [],
   "source": [
    "with open(r'Exchanges_full_detailed.csv', newline='') as f:\n",
    "    reader = csv.reader(f)\n",
    "    csv_data = list(reader)"
   ]
  },
  {
   "cell_type": "code",
   "execution_count": 3,
   "metadata": {},
   "outputs": [],
   "source": [
    "df = pd.DataFrame(csv_data, columns=[\"add_num\",\"add_type\",\"country\",\"date_first_tx\",\"association\",\"hashAdd\"])"
   ]
  },
  {
   "cell_type": "code",
   "execution_count": 4,
   "metadata": {},
   "outputs": [],
   "source": [
    "df_association_hashAdd = df.loc[1:,\"association\":]"
   ]
  },
  {
   "cell_type": "code",
   "execution_count": 5,
   "metadata": {},
   "outputs": [],
   "source": [
    "exchanges = list(df_association_hashAdd['association'].unique())"
   ]
  },
  {
   "cell_type": "code",
   "execution_count": 7,
   "metadata": {},
   "outputs": [],
   "source": [
    "check_association = \"\"\"Match (a:Address {address: '%s'}) \n",
    "where a.association is not null\n",
    "return true\"\"\""
   ]
  },
  {
   "cell_type": "code",
   "execution_count": null,
   "metadata": {},
   "outputs": [],
   "source": [
    "# for each item in unique list\n",
    "# execute call.apoc.periodic iterate with ...\n",
    "# ... parameter item = association name and list = projection on dataframe based on item of addresses as list"
   ]
  },
  {
   "cell_type": "code",
   "execution_count": 8,
   "metadata": {},
   "outputs": [
    {
     "name": "stdout",
     "output_type": "stream",
     "text": [
      "1LDbBEqndip1dhPMszjT6n3CzuD768R5aR: There is already an association in the DB\n",
      "1CrhRvGShwmQkrGcqFzDDwDDBiEhKpHAqF: There is already an association in the DB\n",
      "335fzCsBgqbU71hgEhrDD4k6d7cMfndVyM: There is already an association in the DB\n",
      "1PkNUTCuwvt3zo5VZEruJXnMwsrX9kts2n: There is already an association in the DB\n",
      "12h4k33sxRGQNyt6KHimZBfF3AHEhcsLzi: There is already an association in the DB\n",
      "1GiH7hyNfSwoN6TBk9MSp8RcGifvWVMasN: There is already an association in the DB\n",
      "3FPHuFiaiUU5Asku6VJ6EuX92mDwV9j4St: There is already an association in the DB\n",
      "1GKJ8sznXYYh4nkah3zC9PihfUopCkqApG: There is already an association in the DB\n",
      "17gEDMEt2GJHT6NRih8AuBuHV17y2sERWb: There is already an association in the DB\n",
      "1A7qhbxZWfPBY6SuVi57tVhW9q5AniowTx: There is already an association in the DB\n",
      "1LiLdMtJJqUKrFuecVYy9KiE3GenAxyD8W: There is already an association in the DB\n",
      "173gFQN9dWd5pL9n9NhX6WKgAKXx4pZ3Hq: There is already an association in the DB\n",
      "1PU6BZGEX4Xr4oSn9UCEH1CRZrKi2tktTn: There is already an association in the DB\n",
      "182mfwwavbfMTtthxAQgBPrANR7S5YBdYr: There is already an association in the DB\n",
      "1LNoCJhzLeGzkLcMiyjRU4v9DyuuqArfL2: There is already an association in the DB\n",
      "1JwfhxzA8RHgy2SwFjGkVaPrgVrQmLVFUi: There is already an association in the DB\n",
      "17Wjr3T3m4iCJP5H4Rk6mDyx7JqWUpNgYX: There is already an association in the DB\n",
      "3JRi2ormJMKQmyLNY3hfVzQ3ebGdBuTA4h: There is already an association in the DB\n",
      "19iJd4uS8kBFiD568SgfzdvzwHzc5K6ZzX: There is already an association in the DB\n",
      "1CHzM8WR28viqQkCWAu1rhMbvST7UJrcBe: There is already an association in the DB\n",
      "1E4hRV8W9SAjn48WYvHGUHzEcisEZjaXkt: There is already an association in the DB\n",
      "1M4Fxs4VmsJC7UGgAFPydoxGuMEWLR5sTi: There is already an association in the DB\n",
      "1619oeneiw4Q3rWJFeYRSWBpZCpApEbj6j: There is already an association in the DB\n",
      "1HVJkXAk7c7iKxxpqPG8tQwwLNMa2tkzSv: There is already an association in the DB\n",
      "16ak1p6CxE5TvWAR53nuvRV2AkEJ7HLZQg: There is already an association in the DB\n",
      "1HbjETkThQTNrAcFtdzZSZ141EGdsW41L9: There is already an association in the DB\n",
      "3Q1UUxaXnLdL3Mmua6sMrjYZALPJkMwtvH: There is already an association in the DB\n",
      "12u9PPFCt6ktrr3XCj5B29WWrc4jboaqHZ: There is already an association in the DB\n",
      "35UcaA3QeQ99Ma9V1B9sRgTBGeBigHQRBw: There is already an association in the DB\n",
      "1KEUfXmr2SrZZXcxXvRzLQrAwokmzAWz2C: There is already an association in the DB\n",
      "36FjDenp9X4FUj8oVdhUzGaT3tLPW86HAJ: There is already an association in the DB\n",
      "1PH65FaypQv3jxMevWHGhSSzdQy1bNmgwT: There is already an association in the DB\n",
      "1DLv9rZpJShtCRfWnYHr6ZovnM11m3zEUx: There is already an association in the DB\n",
      "1NJRVgLJUSX1brsrLTT5A4e7PUjYuCZVt3: There is already an association in the DB\n",
      "3GbWB9XmghX6P4rcureeK5xxAU2ipEKBXm: There is already an association in the DB\n",
      "193VAR1YYbTb3dsXp95d2JzpkCWLpy5sq: There is already an association in the DB\n",
      "15nwH7QYuQ2Xgifv6QXBoQvoK4HA8vvTLK: There is already an association in the DB\n",
      "1CatT3oNGbGeiUu7DCNAqW7HaQjveQs7EF: There is already an association in the DB\n",
      "138EpYELCN4aQ7Pc2ZoRnfGVWL9SD47Zue: There is already an association in the DB\n",
      "1VP3FhBynbX6sHzwNa18vq9rZ515vbBPv: There is already an association in the DB\n",
      "1CG8YLRY83fY5AtaTjzrjuHxh2BQJf21Mn: There is already an association in the DB\n",
      "1LzrNeRVste2De3BaE92dezw7TAWeoAr8v: There is already an association in the DB\n",
      "1GRKGEQNauuur17Gqo3t1cmVNAjiwWfmz3: There is already an association in the DB\n",
      "185TLkMZYwgcGjGMcWpYukdVd1b6HRs7kA: There is already an association in the DB\n",
      "1ETAeh5y2q9Bh9s7kYDY2DDaNX89jEjW7M: There is already an association in the DB\n",
      "1H429zVWaLCjXSHLQo7aKGdQN7YGLf3jSR: There is already an association in the DB\n",
      "1BCBeSKb1i8N87KfGT8CkKbSUoV3H6ehtm: There is already an association in the DB\n",
      "1PLjsBGtf7rJNuxaeWWReDhkLk9bZstGo: There is already an association in the DB\n",
      "18iFKMRnr4SStukXH6FB2k5qtn4dsuuoQL: There is already an association in the DB\n",
      "1LBuYdxJsDBxkgdjH7kyuD8dkWu1EMZEgP: There is already an association in the DB\n",
      "1GqWeVySuv96nFybv27W7ULQ1rzDHeAi7a: There is already an association in the DB\n",
      "1GS2inLB6jaqUuu7hpgVKociwPGEMMctkg: There is already an association in the DB\n",
      "18kKnQjFz9rfYSwJhsBF8y4fksXCnAkfg1: There is already an association in the DB\n",
      "1Ge6vrZiYyPX6CpDv2hKhkk6PLCHLuZYbB: There is already an association in the DB\n",
      "12RZE3EXnzjcydQkhHX3pLriLxSEH9xpM6: There is already an association in the DB\n",
      "123DvCXxfH24dM57qjGLixN3ENjnuEZwGe: There is already an association in the DB\n",
      "1Go7vvmLfKeu88m2zRzbuztfkLDfxbLJk5: There is already an association in the DB\n",
      "1QELiiEgw997EycjPu9wmFh9u7CRctk8J6: There is already an association in the DB\n",
      "14HG4qKzjskksCnh4dKDfvP4KdXBi7JEcF: There is already an association in the DB\n",
      "1FMvaN8SdDSsaDABVqETxeqf8BDD5gLrTu: There is already an association in the DB\n",
      "14bYTf7fqMm3Eh12Y59T5DbfEmm8QrfWtu: There is already an association in the DB\n",
      "19VNw8EQWKTmN7u1X15hqyWHrymrCCVWdK: There is already an association in the DB\n",
      "1Mb4JKCVaGkdF5NuxufwhFy2f8u1WUoVKc: There is already an association in the DB\n",
      "1MLgaxVMmhscDAN3Mjg1wPYNvSAG4mMDbf: There is already an association in the DB\n",
      "1M5NczBKPQSyFP2DzouXGAHeqoAYDQv2WC: There is already an association in the DB\n",
      "14QdBtAhexfupgR2pyhNULWVTwDKbethrm: There is already an association in the DB\n",
      "14EBC92evNCak2PqubXJshG5KPjnyajC3H: There is already an association in the DB\n",
      "1L5Duj4K7NxV8D9y2eWDdkYCeeBK3T53Ve: There is already an association in the DB\n",
      "1DDwrxz5MC98Pfrjp4PcQiErx7wz6FJnRJ: There is already an association in the DB\n",
      "1CELa15H4DMzHtHnuz7LCpSFgFWf61Ra6A: There is already an association in the DB\n",
      "1MudcrRWzrjUgn1ugzh2ve4gpCpS8vWyHL: There is already an association in the DB\n",
      "1JnSk5wGTigae183N9TGZXHKJTtGA8DNfm: There is already an association in the DB\n",
      "1LX78tyJGCoDnYbYZcNU3rKVw4w3u4kmrp: There is already an association in the DB\n",
      "1AdVABFi77GTdPL6NBmT6LJSedwxXucB5N: There is already an association in the DB\n",
      "1LLHYQsnQ7DGhFU4hPqgk8DfDwxvq3zxac: There is already an association in the DB\n",
      "1H8maQ7Xi7Fv1PBXwXLznjYJGdEhcSpqGY: There is already an association in the DB\n",
      "16jce8CbnyF2dYkBzrXKEdeG2wGMwShkPq: There is already an association in the DB\n",
      "1D1ZqQedv56GoasmmE5yaomNMJq6bsNjkz: There is already an association in the DB\n",
      "1Ks5aLkREyVUba3QiS64ZL5PPdcgXDXhBp: There is already an association in the DB\n",
      "1CEXQdnhAoxYYWZRy7e3EBD46rnLba79KC: There is already an association in the DB\n",
      "1Nznb9Szo3Vx9njDUU5eVgqEe8YqiV5Uwx: There is already an association in the DB\n",
      "1Bzcrtsy3FjrTmTbB8dsvBmGGCsadnXPFW: There is already an association in the DB\n",
      "1McigNugznuPaiePA3hbcCSLEympQWPCc2: There is already an association in the DB\n",
      "1Q7PTybd4ybhKAi8a9pph6NjVCEMVfUhBt: There is already an association in the DB\n",
      "1FaoUMnUHHy495jKNViLuPDoVPNK3uK3PG: There is already an association in the DB\n",
      "1BBYRsHBbx7QFSD3JDqFs694ZgZSurb4Zd: There is already an association in the DB\n"
     ]
    }
   ],
   "source": [
    "for item in exchanges:\n",
    "    projection = df_association_hashAdd[df_association_hashAdd['association'].str.match(item)]\n",
    "    hashAdd = list(projection[\"hashAdd\"].values)\n",
    "    response = conn.query(check_association % hashAdd[0],db='neo4j')\n",
    "    if not response:\n",
    "        query = \"\"\"CALL apoc.periodic.iterate( 'UNWIND $addresses as item return item',\n",
    "                    'Match (a:Address {address: item}) set a.association = \"%s\" return a', \n",
    "                    {batchSize:1000, parallel:true, iterateList:true, params:{addresses:%s}})\"\"\" % (item, str(hashAdd))\n",
    "        result = conn.query(query,db='neo4j')\n",
    "    else:\n",
    "        print(hashAdd[0] + \": There is already an association in the DB\")"
   ]
  }
 ],
 "metadata": {
  "kernelspec": {
   "display_name": "Python 3.10.4 64-bit",
   "language": "python",
   "name": "python3"
  },
  "language_info": {
   "codemirror_mode": {
    "name": "ipython",
    "version": 3
   },
   "file_extension": ".py",
   "mimetype": "text/x-python",
   "name": "python",
   "nbconvert_exporter": "python",
   "pygments_lexer": "ipython3",
   "version": "3.10.4"
  },
  "orig_nbformat": 4,
  "vscode": {
   "interpreter": {
    "hash": "c5d01433c49bebc7c0f039aefb7a5f7006b5cc5372ab57f4229212c8564f15fd"
   }
  }
 },
 "nbformat": 4,
 "nbformat_minor": 2
}
