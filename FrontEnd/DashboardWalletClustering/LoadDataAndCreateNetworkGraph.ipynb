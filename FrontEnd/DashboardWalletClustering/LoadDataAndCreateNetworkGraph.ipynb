{
 "cells": [
  {
   "cell_type": "code",
   "execution_count": 61,
   "metadata": {},
   "outputs": [],
   "source": [
    "import pandas as pd\n",
    "import pickle as pkl\n",
    "\n",
    "import dash\n",
    "import dash_core_components as dcc\n",
    "import dash_html_components as html\n",
    "import networkx as nx\n",
    "import plotly.graph_objs as go\n",
    "\n",
    "import numpy as np\n",
    "import pandas as pd\n",
    "from colour import Color\n",
    "from datetime import datetime\n",
    "from textwrap import dedent as d\n",
    "import json"
   ]
  },
  {
   "cell_type": "code",
   "execution_count": 4,
   "metadata": {},
   "outputs": [],
   "source": [
    "with open(r'C:\\Users\\tobi1\\OneDrive\\S2_Uni_Mannheim\\Team_Project_BitcoinFlorensics\\Git_code_teamp\\UM_Cryptocurrency_Forensics\\WalletClustering\\output\\flowGraph_Center.pickle', 'rb') as f:\n",
    "    flowGraph_Center = pkl.load(f)\n",
    "\n",
    "with open(r'C:\\Users\\tobi1\\OneDrive\\S2_Uni_Mannheim\\Team_Project_BitcoinFlorensics\\Git_code_teamp\\UM_Cryptocurrency_Forensics\\WalletClustering\\output\\flowGraph_Input.pickle', 'rb') as f:\n",
    "    flowGraph_Input = pkl.load(f)\n",
    "\n",
    "with open(r'C:\\Users\\tobi1\\OneDrive\\S2_Uni_Mannheim\\Team_Project_BitcoinFlorensics\\Git_code_teamp\\UM_Cryptocurrency_Forensics\\WalletClustering\\output\\flowGraph_Output.pickle', 'rb') as f:\n",
    "    flowGraph_Output = pkl.load(f)\n",
    "\n"
   ]
  },
  {
   "cell_type": "code",
   "execution_count": 5,
   "metadata": {},
   "outputs": [
    {
     "data": {
      "text/plain": [
       "'yYiOdGN2a2TGR8GBwrMtk1CkMAFUcaan'"
      ]
     },
     "execution_count": 5,
     "metadata": {},
     "output_type": "execute_result"
    }
   ],
   "source": [
    "flowGraph_Center"
   ]
  },
  {
   "cell_type": "code",
   "execution_count": 6,
   "metadata": {},
   "outputs": [
    {
     "data": {
      "text/plain": [
       "['6LjxlCvzxnVaAMo3QuvCyAuyG3fyCyHD',\n",
       " 'FMKb71RPmguLvGGijceGfTeZJWIyYdFI',\n",
       " 'yYiOdGN2a2TGR8GBwrMtk1CkMAFUcaan',\n",
       " 'ze3ws3ckYylbZwpXj6xNRXSBeRkenIzY']"
      ]
     },
     "execution_count": 6,
     "metadata": {},
     "output_type": "execute_result"
    }
   ],
   "source": [
    "flowGraph_Input"
   ]
  },
  {
   "cell_type": "code",
   "execution_count": 7,
   "metadata": {},
   "outputs": [
    {
     "data": {
      "text/plain": [
       "['yYiOdGN2a2TGR8GBwrMtk1CkMAFUcaan', 'ze3ws3ckYylbZwpXj6xNRXSBeRkenIzY']"
      ]
     },
     "execution_count": 7,
     "metadata": {},
     "output_type": "execute_result"
    }
   ],
   "source": [
    "flowGraph_Output"
   ]
  },
  {
   "cell_type": "code",
   "execution_count": 29,
   "metadata": {},
   "outputs": [
    {
     "data": {
      "text/plain": [
       "[['6LjxlCvzxnVaAMo3QuvCyAuyG3fyCyHD',\n",
       "  'FMKb71RPmguLvGGijceGfTeZJWIyYdFI',\n",
       "  'yYiOdGN2a2TGR8GBwrMtk1CkMAFUcaan',\n",
       "  'ze3ws3ckYylbZwpXj6xNRXSBeRkenIzY'],\n",
       " 'yYiOdGN2a2TGR8GBwrMtk1CkMAFUcaan',\n",
       " ['yYiOdGN2a2TGR8GBwrMtk1CkMAFUcaan', 'ze3ws3ckYylbZwpXj6xNRXSBeRkenIzY']]"
      ]
     },
     "execution_count": 29,
     "metadata": {},
     "output_type": "execute_result"
    }
   ],
   "source": [
    "list([flowGraph_Input,flowGraph_Center, flowGraph_Output])\n",
    "flat_list = [item for sublist in l for item in sublist]"
   ]
  },
  {
   "cell_type": "code",
   "execution_count": 22,
   "metadata": {},
   "outputs": [
    {
     "data": {
      "text/html": [
       "<div>\n",
       "<style scoped>\n",
       "    .dataframe tbody tr th:only-of-type {\n",
       "        vertical-align: middle;\n",
       "    }\n",
       "\n",
       "    .dataframe tbody tr th {\n",
       "        vertical-align: top;\n",
       "    }\n",
       "\n",
       "    .dataframe thead th {\n",
       "        text-align: right;\n",
       "    }\n",
       "</style>\n",
       "<table border=\"1\" class=\"dataframe\">\n",
       "  <thead>\n",
       "    <tr style=\"text-align: right;\">\n",
       "      <th></th>\n",
       "      <th>Account</th>\n",
       "      <th>Amount</th>\n",
       "    </tr>\n",
       "  </thead>\n",
       "  <tbody>\n",
       "    <tr>\n",
       "      <th>0</th>\n",
       "      <td>test1</td>\n",
       "      <td>test1_2</td>\n",
       "    </tr>\n",
       "    <tr>\n",
       "      <th>1</th>\n",
       "      <td>test2</td>\n",
       "      <td>test2_2</td>\n",
       "    </tr>\n",
       "    <tr>\n",
       "      <th>2</th>\n",
       "      <td>test3</td>\n",
       "      <td>test3_2</td>\n",
       "    </tr>\n",
       "  </tbody>\n",
       "</table>\n",
       "</div>"
      ],
      "text/plain": [
       "  Account   Amount\n",
       "0   test1  test1_2\n",
       "1   test2  test2_2\n",
       "2   test3  test3_2"
      ]
     },
     "execution_count": 22,
     "metadata": {},
     "output_type": "execute_result"
    }
   ],
   "source": [
    "list_a = ['test1', 'test2', 'test3']\n",
    "list_b = ['test1_2', 'test2_2', 'test3_2']\n",
    "\n",
    "list_of_rows = []\n",
    "for i in range(len(list_a)):\n",
    "    row = {}\n",
    "\n",
    "    row['Account']=list_a[i]\n",
    "    row['Amount']=list_b[i]\n",
    "\n",
    "    list_of_rows.append(row)\n",
    "\n",
    "pd.DataFrame(list_of_rows)"
   ]
  },
  {
   "cell_type": "code",
   "execution_count": 21,
   "metadata": {},
   "outputs": [
    {
     "data": {
      "text/html": [
       "<div>\n",
       "<style scoped>\n",
       "    .dataframe tbody tr th:only-of-type {\n",
       "        vertical-align: middle;\n",
       "    }\n",
       "\n",
       "    .dataframe tbody tr th {\n",
       "        vertical-align: top;\n",
       "    }\n",
       "\n",
       "    .dataframe thead th {\n",
       "        text-align: right;\n",
       "    }\n",
       "</style>\n",
       "<table border=\"1\" class=\"dataframe\">\n",
       "  <thead>\n",
       "    <tr style=\"text-align: right;\">\n",
       "      <th></th>\n",
       "      <th>Account</th>\n",
       "      <th>Amount</th>\n",
       "    </tr>\n",
       "  </thead>\n",
       "  <tbody>\n",
       "    <tr>\n",
       "      <th>0</th>\n",
       "      <td>test</td>\n",
       "      <td>test</td>\n",
       "    </tr>\n",
       "    <tr>\n",
       "      <th>1</th>\n",
       "      <td>test</td>\n",
       "      <td>test</td>\n",
       "    </tr>\n",
       "    <tr>\n",
       "      <th>2</th>\n",
       "      <td>test</td>\n",
       "      <td>test</td>\n",
       "    </tr>\n",
       "    <tr>\n",
       "      <th>3</th>\n",
       "      <td>test</td>\n",
       "      <td>test</td>\n",
       "    </tr>\n",
       "    <tr>\n",
       "      <th>4</th>\n",
       "      <td>test</td>\n",
       "      <td>test</td>\n",
       "    </tr>\n",
       "    <tr>\n",
       "      <th>5</th>\n",
       "      <td>test</td>\n",
       "      <td>test</td>\n",
       "    </tr>\n",
       "    <tr>\n",
       "      <th>6</th>\n",
       "      <td>test</td>\n",
       "      <td>test</td>\n",
       "    </tr>\n",
       "    <tr>\n",
       "      <th>7</th>\n",
       "      <td>test</td>\n",
       "      <td>test</td>\n",
       "    </tr>\n",
       "    <tr>\n",
       "      <th>8</th>\n",
       "      <td>test</td>\n",
       "      <td>test</td>\n",
       "    </tr>\n",
       "    <tr>\n",
       "      <th>9</th>\n",
       "      <td>test</td>\n",
       "      <td>test</td>\n",
       "    </tr>\n",
       "  </tbody>\n",
       "</table>\n",
       "</div>"
      ],
      "text/plain": [
       "  Account Amount\n",
       "0    test   test\n",
       "1    test   test\n",
       "2    test   test\n",
       "3    test   test\n",
       "4    test   test\n",
       "5    test   test\n",
       "6    test   test\n",
       "7    test   test\n",
       "8    test   test\n",
       "9    test   test"
      ]
     },
     "execution_count": 21,
     "metadata": {},
     "output_type": "execute_result"
    }
   ],
   "source": [
    "list_of_rows = []\n",
    "for i in range(len(list_a)):\n",
    "    row = {}\n",
    "\n",
    "    row['Account']=list_a[i]\n",
    "    row['Amount']=list_b[i]\n",
    "\n",
    "    list_of_rows.append(row)\n",
    "\n",
    "pd.DataFrame(list_of_rows)"
   ]
  },
  {
   "cell_type": "code",
   "execution_count": 30,
   "metadata": {},
   "outputs": [],
   "source": [
    "with open(r'C:\\Users\\tobi1\\OneDrive\\S2_Uni_Mannheim\\Team_Project_BitcoinFlorensics\\Git_code_teamp\\UM_Cryptocurrency_Forensics\\WalletClustering\\output\\flowGraph_inEdges.pickle', 'rb') as f:\n",
    "    flowGraph_inEdges = pkl.load(f)\n",
    "\n",
    "with open(r'C:\\Users\\tobi1\\OneDrive\\S2_Uni_Mannheim\\Team_Project_BitcoinFlorensics\\Git_code_teamp\\UM_Cryptocurrency_Forensics\\WalletClustering\\output\\flowGraph_nodes.pickle', 'rb') as f:\n",
    "    flowGraph_nodes = pkl.load(f)\n",
    "\n",
    "with open(r'C:\\Users\\tobi1\\OneDrive\\S2_Uni_Mannheim\\Team_Project_BitcoinFlorensics\\Git_code_teamp\\UM_Cryptocurrency_Forensics\\WalletClustering\\output\\flowGraph_outEdges.pickle', 'rb') as f:\n",
    "    flowGraph_outEdges = pkl.load(f)\n",
    "\n"
   ]
  },
  {
   "cell_type": "code",
   "execution_count": null,
   "metadata": {},
   "outputs": [],
   "source": [
    "# Association = wallet "
   ]
  },
  {
   "cell_type": "code",
   "execution_count": 31,
   "metadata": {},
   "outputs": [
    {
     "data": {
      "text/html": [
       "<div>\n",
       "<style scoped>\n",
       "    .dataframe tbody tr th:only-of-type {\n",
       "        vertical-align: middle;\n",
       "    }\n",
       "\n",
       "    .dataframe tbody tr th {\n",
       "        vertical-align: top;\n",
       "    }\n",
       "\n",
       "    .dataframe thead th {\n",
       "        text-align: right;\n",
       "    }\n",
       "</style>\n",
       "<table border=\"1\" class=\"dataframe\">\n",
       "  <thead>\n",
       "    <tr style=\"text-align: right;\">\n",
       "      <th></th>\n",
       "      <th>Input_Addresses</th>\n",
       "      <th>Value_Received_from_Inp</th>\n",
       "      <th>Value_Send_from_Inp</th>\n",
       "      <th>Transaction_ID</th>\n",
       "      <th>Association</th>\n",
       "    </tr>\n",
       "  </thead>\n",
       "  <tbody>\n",
       "    <tr>\n",
       "      <th>0</th>\n",
       "      <td>1FoWyxwPXuj4C6abqwhjDWdz6D4PZgYRjA</td>\n",
       "      <td>546</td>\n",
       "      <td>1043357</td>\n",
       "      <td>ee083ed94b8239d8694d5cddf2bded70bf26fc9a001ec9...</td>\n",
       "      <td>ze3ws3ckYylbZwpXj6xNRXSBeRkenIzY</td>\n",
       "    </tr>\n",
       "    <tr>\n",
       "      <th>1</th>\n",
       "      <td>1L1WzDvXjMJVXJPijVVZQ2nLDKM5iqCqap</td>\n",
       "      <td>500000</td>\n",
       "      <td>3000</td>\n",
       "      <td>b6eeee4e46b685058783a34479b6e205c675fd2bf691e9...</td>\n",
       "      <td>FMKb71RPmguLvGGijceGfTeZJWIyYdFI</td>\n",
       "    </tr>\n",
       "    <tr>\n",
       "      <th>2</th>\n",
       "      <td>1JwNMGo72d2hxBHQh1XyNr1yB4Gt6fx95U</td>\n",
       "      <td>500000</td>\n",
       "      <td>14042800</td>\n",
       "      <td>b6eeee4e46b685058783a34479b6e205c675fd2bf691e9...</td>\n",
       "      <td>FMKb71RPmguLvGGijceGfTeZJWIyYdFI</td>\n",
       "    </tr>\n",
       "    <tr>\n",
       "      <th>3</th>\n",
       "      <td>1AwzkRiEgnPeRfv9U6uWbuJAF8tMvVxibE</td>\n",
       "      <td>500000</td>\n",
       "      <td>438000</td>\n",
       "      <td>b6eeee4e46b685058783a34479b6e205c675fd2bf691e9...</td>\n",
       "      <td>FMKb71RPmguLvGGijceGfTeZJWIyYdFI</td>\n",
       "    </tr>\n",
       "    <tr>\n",
       "      <th>4</th>\n",
       "      <td>19ZCrdhDBGJBiiriEvknhADpBAWJQYZMcV</td>\n",
       "      <td>500000</td>\n",
       "      <td>43815</td>\n",
       "      <td>b6eeee4e46b685058783a34479b6e205c675fd2bf691e9...</td>\n",
       "      <td>FMKb71RPmguLvGGijceGfTeZJWIyYdFI</td>\n",
       "    </tr>\n",
       "    <tr>\n",
       "      <th>5</th>\n",
       "      <td>1FoWyxwPXuj4C6abqwhjDWdz6D4PZgYRjA</td>\n",
       "      <td>546</td>\n",
       "      <td>6029078</td>\n",
       "      <td>b2433176574d478781cdb8c52efaa52d9a66e3b1a00b18...</td>\n",
       "      <td>ze3ws3ckYylbZwpXj6xNRXSBeRkenIzY</td>\n",
       "    </tr>\n",
       "    <tr>\n",
       "      <th>6</th>\n",
       "      <td>12sDU3FyYJXc2oRzE6XXuuhVHCBJvaoCC8</td>\n",
       "      <td>470643</td>\n",
       "      <td>478028</td>\n",
       "      <td>9252559abd14106761c92b0e14489e9018365882fe12f6...</td>\n",
       "      <td>yYiOdGN2a2TGR8GBwrMtk1CkMAFUcaan</td>\n",
       "    </tr>\n",
       "    <tr>\n",
       "      <th>7</th>\n",
       "      <td>1FoWyxwPXuj4C6abqwhjDWdz6D4PZgYRjA</td>\n",
       "      <td>546</td>\n",
       "      <td>6593862</td>\n",
       "      <td>8cda03cb732f60d2272d017bd1caf6877eaf73223097ca...</td>\n",
       "      <td>ze3ws3ckYylbZwpXj6xNRXSBeRkenIzY</td>\n",
       "    </tr>\n",
       "    <tr>\n",
       "      <th>8</th>\n",
       "      <td>12sDU3FyYJXc2oRzE6XXuuhVHCBJvaoCC8</td>\n",
       "      <td>485413</td>\n",
       "      <td>489847</td>\n",
       "      <td>6da7a5d3797a1457a7910804128b53b82640a621d848ce...</td>\n",
       "      <td>yYiOdGN2a2TGR8GBwrMtk1CkMAFUcaan</td>\n",
       "    </tr>\n",
       "    <tr>\n",
       "      <th>9</th>\n",
       "      <td>1DUb2YYbQA1jjaNYzVXLZ7ZioEhLXtbUru</td>\n",
       "      <td>546</td>\n",
       "      <td>27466181</td>\n",
       "      <td>6c66e83950fd7cac2b3ea0ededea41f02f4fee177dc373...</td>\n",
       "      <td>6LjxlCvzxnVaAMo3QuvCyAuyG3fyCyHD</td>\n",
       "    </tr>\n",
       "    <tr>\n",
       "      <th>10</th>\n",
       "      <td>12sDU3FyYJXc2oRzE6XXuuhVHCBJvaoCC8</td>\n",
       "      <td>478028</td>\n",
       "      <td>485413</td>\n",
       "      <td>4e143d01a5febf5b7085dc393114c176594b580ce26bb2...</td>\n",
       "      <td>yYiOdGN2a2TGR8GBwrMtk1CkMAFUcaan</td>\n",
       "    </tr>\n",
       "    <tr>\n",
       "      <th>11</th>\n",
       "      <td>12sDU3FyYJXc2oRzE6XXuuhVHCBJvaoCC8</td>\n",
       "      <td>494281</td>\n",
       "      <td>500000</td>\n",
       "      <td>3a785a153bfd7d77bdf7b8dcce6ba24feeb9b1bffdb723...</td>\n",
       "      <td>yYiOdGN2a2TGR8GBwrMtk1CkMAFUcaan</td>\n",
       "    </tr>\n",
       "    <tr>\n",
       "      <th>12</th>\n",
       "      <td>1FoWyxwPXuj4C6abqwhjDWdz6D4PZgYRjA</td>\n",
       "      <td>546</td>\n",
       "      <td>1235766</td>\n",
       "      <td>235b665b4efd07e32a7343f4082211225aa0b5599057d4...</td>\n",
       "      <td>ze3ws3ckYylbZwpXj6xNRXSBeRkenIzY</td>\n",
       "    </tr>\n",
       "    <tr>\n",
       "      <th>13</th>\n",
       "      <td>1FoWyxwPXuj4C6abqwhjDWdz6D4PZgYRjA</td>\n",
       "      <td>546</td>\n",
       "      <td>5976418</td>\n",
       "      <td>1eb84c1c9c0ad5b36161a748a65c52f5b518e0aad39290...</td>\n",
       "      <td>ze3ws3ckYylbZwpXj6xNRXSBeRkenIzY</td>\n",
       "    </tr>\n",
       "    <tr>\n",
       "      <th>14</th>\n",
       "      <td>12sDU3FyYJXc2oRzE6XXuuhVHCBJvaoCC8</td>\n",
       "      <td>489847</td>\n",
       "      <td>494281</td>\n",
       "      <td>1b1be7bab9f905ffcf083e3483705f0e621a9518930b69...</td>\n",
       "      <td>yYiOdGN2a2TGR8GBwrMtk1CkMAFUcaan</td>\n",
       "    </tr>\n",
       "  </tbody>\n",
       "</table>\n",
       "</div>"
      ],
      "text/plain": [
       "                       Input_Addresses  Value_Received_from_Inp  \\\n",
       "0   1FoWyxwPXuj4C6abqwhjDWdz6D4PZgYRjA                      546   \n",
       "1   1L1WzDvXjMJVXJPijVVZQ2nLDKM5iqCqap                   500000   \n",
       "2   1JwNMGo72d2hxBHQh1XyNr1yB4Gt6fx95U                   500000   \n",
       "3   1AwzkRiEgnPeRfv9U6uWbuJAF8tMvVxibE                   500000   \n",
       "4   19ZCrdhDBGJBiiriEvknhADpBAWJQYZMcV                   500000   \n",
       "5   1FoWyxwPXuj4C6abqwhjDWdz6D4PZgYRjA                      546   \n",
       "6   12sDU3FyYJXc2oRzE6XXuuhVHCBJvaoCC8                   470643   \n",
       "7   1FoWyxwPXuj4C6abqwhjDWdz6D4PZgYRjA                      546   \n",
       "8   12sDU3FyYJXc2oRzE6XXuuhVHCBJvaoCC8                   485413   \n",
       "9   1DUb2YYbQA1jjaNYzVXLZ7ZioEhLXtbUru                      546   \n",
       "10  12sDU3FyYJXc2oRzE6XXuuhVHCBJvaoCC8                   478028   \n",
       "11  12sDU3FyYJXc2oRzE6XXuuhVHCBJvaoCC8                   494281   \n",
       "12  1FoWyxwPXuj4C6abqwhjDWdz6D4PZgYRjA                      546   \n",
       "13  1FoWyxwPXuj4C6abqwhjDWdz6D4PZgYRjA                      546   \n",
       "14  12sDU3FyYJXc2oRzE6XXuuhVHCBJvaoCC8                   489847   \n",
       "\n",
       "    Value_Send_from_Inp                                     Transaction_ID  \\\n",
       "0               1043357  ee083ed94b8239d8694d5cddf2bded70bf26fc9a001ec9...   \n",
       "1                  3000  b6eeee4e46b685058783a34479b6e205c675fd2bf691e9...   \n",
       "2              14042800  b6eeee4e46b685058783a34479b6e205c675fd2bf691e9...   \n",
       "3                438000  b6eeee4e46b685058783a34479b6e205c675fd2bf691e9...   \n",
       "4                 43815  b6eeee4e46b685058783a34479b6e205c675fd2bf691e9...   \n",
       "5               6029078  b2433176574d478781cdb8c52efaa52d9a66e3b1a00b18...   \n",
       "6                478028  9252559abd14106761c92b0e14489e9018365882fe12f6...   \n",
       "7               6593862  8cda03cb732f60d2272d017bd1caf6877eaf73223097ca...   \n",
       "8                489847  6da7a5d3797a1457a7910804128b53b82640a621d848ce...   \n",
       "9              27466181  6c66e83950fd7cac2b3ea0ededea41f02f4fee177dc373...   \n",
       "10               485413  4e143d01a5febf5b7085dc393114c176594b580ce26bb2...   \n",
       "11               500000  3a785a153bfd7d77bdf7b8dcce6ba24feeb9b1bffdb723...   \n",
       "12              1235766  235b665b4efd07e32a7343f4082211225aa0b5599057d4...   \n",
       "13              5976418  1eb84c1c9c0ad5b36161a748a65c52f5b518e0aad39290...   \n",
       "14               494281  1b1be7bab9f905ffcf083e3483705f0e621a9518930b69...   \n",
       "\n",
       "                         Association  \n",
       "0   ze3ws3ckYylbZwpXj6xNRXSBeRkenIzY  \n",
       "1   FMKb71RPmguLvGGijceGfTeZJWIyYdFI  \n",
       "2   FMKb71RPmguLvGGijceGfTeZJWIyYdFI  \n",
       "3   FMKb71RPmguLvGGijceGfTeZJWIyYdFI  \n",
       "4   FMKb71RPmguLvGGijceGfTeZJWIyYdFI  \n",
       "5   ze3ws3ckYylbZwpXj6xNRXSBeRkenIzY  \n",
       "6   yYiOdGN2a2TGR8GBwrMtk1CkMAFUcaan  \n",
       "7   ze3ws3ckYylbZwpXj6xNRXSBeRkenIzY  \n",
       "8   yYiOdGN2a2TGR8GBwrMtk1CkMAFUcaan  \n",
       "9   6LjxlCvzxnVaAMo3QuvCyAuyG3fyCyHD  \n",
       "10  yYiOdGN2a2TGR8GBwrMtk1CkMAFUcaan  \n",
       "11  yYiOdGN2a2TGR8GBwrMtk1CkMAFUcaan  \n",
       "12  ze3ws3ckYylbZwpXj6xNRXSBeRkenIzY  \n",
       "13  ze3ws3ckYylbZwpXj6xNRXSBeRkenIzY  \n",
       "14  yYiOdGN2a2TGR8GBwrMtk1CkMAFUcaan  "
      ]
     },
     "execution_count": 31,
     "metadata": {},
     "output_type": "execute_result"
    }
   ],
   "source": [
    "flowGraph_inEdges\n",
    "# Association is important #   \n",
    "\n",
    "# Send from address to center (Value_Send_from_Inp)\n",
    "# center Value_Received_from_Inp got from transaction (can be more)"
   ]
  },
  {
   "cell_type": "code",
   "execution_count": 41,
   "metadata": {},
   "outputs": [
    {
     "data": {
      "text/html": [
       "<div>\n",
       "<style scoped>\n",
       "    .dataframe tbody tr th:only-of-type {\n",
       "        vertical-align: middle;\n",
       "    }\n",
       "\n",
       "    .dataframe tbody tr th {\n",
       "        vertical-align: top;\n",
       "    }\n",
       "\n",
       "    .dataframe thead th {\n",
       "        text-align: right;\n",
       "    }\n",
       "</style>\n",
       "<table border=\"1\" class=\"dataframe\">\n",
       "  <thead>\n",
       "    <tr style=\"text-align: right;\">\n",
       "      <th></th>\n",
       "      <th>Output_Addresses</th>\n",
       "      <th>Value_send_to_Outp</th>\n",
       "      <th>Value_rec_from_Outp</th>\n",
       "      <th>Transaction_ID</th>\n",
       "      <th>Association</th>\n",
       "    </tr>\n",
       "  </thead>\n",
       "  <tbody>\n",
       "    <tr>\n",
       "      <th>0</th>\n",
       "      <td>1FoWyxwPXuj4C6abqwhjDWdz6D4PZgYRjA</td>\n",
       "      <td>500000</td>\n",
       "      <td>546</td>\n",
       "      <td>3a785a153bfd7d77bdf7b8dcce6ba24feeb9b1bffdb723...</td>\n",
       "      <td>ze3ws3ckYylbZwpXj6xNRXSBeRkenIzY</td>\n",
       "    </tr>\n",
       "    <tr>\n",
       "      <th>1</th>\n",
       "      <td>12sDU3FyYJXc2oRzE6XXuuhVHCBJvaoCC8</td>\n",
       "      <td>500000</td>\n",
       "      <td>494281</td>\n",
       "      <td>3a785a153bfd7d77bdf7b8dcce6ba24feeb9b1bffdb723...</td>\n",
       "      <td>yYiOdGN2a2TGR8GBwrMtk1CkMAFUcaan</td>\n",
       "    </tr>\n",
       "    <tr>\n",
       "      <th>2</th>\n",
       "      <td>1FoWyxwPXuj4C6abqwhjDWdz6D4PZgYRjA</td>\n",
       "      <td>494281</td>\n",
       "      <td>546</td>\n",
       "      <td>1b1be7bab9f905ffcf083e3483705f0e621a9518930b69...</td>\n",
       "      <td>ze3ws3ckYylbZwpXj6xNRXSBeRkenIzY</td>\n",
       "    </tr>\n",
       "    <tr>\n",
       "      <th>3</th>\n",
       "      <td>12sDU3FyYJXc2oRzE6XXuuhVHCBJvaoCC8</td>\n",
       "      <td>494281</td>\n",
       "      <td>489847</td>\n",
       "      <td>1b1be7bab9f905ffcf083e3483705f0e621a9518930b69...</td>\n",
       "      <td>yYiOdGN2a2TGR8GBwrMtk1CkMAFUcaan</td>\n",
       "    </tr>\n",
       "    <tr>\n",
       "      <th>4</th>\n",
       "      <td>1FoWyxwPXuj4C6abqwhjDWdz6D4PZgYRjA</td>\n",
       "      <td>489847</td>\n",
       "      <td>546</td>\n",
       "      <td>6da7a5d3797a1457a7910804128b53b82640a621d848ce...</td>\n",
       "      <td>ze3ws3ckYylbZwpXj6xNRXSBeRkenIzY</td>\n",
       "    </tr>\n",
       "    <tr>\n",
       "      <th>5</th>\n",
       "      <td>12sDU3FyYJXc2oRzE6XXuuhVHCBJvaoCC8</td>\n",
       "      <td>489847</td>\n",
       "      <td>485413</td>\n",
       "      <td>6da7a5d3797a1457a7910804128b53b82640a621d848ce...</td>\n",
       "      <td>yYiOdGN2a2TGR8GBwrMtk1CkMAFUcaan</td>\n",
       "    </tr>\n",
       "    <tr>\n",
       "      <th>6</th>\n",
       "      <td>1FoWyxwPXuj4C6abqwhjDWdz6D4PZgYRjA</td>\n",
       "      <td>485413</td>\n",
       "      <td>546</td>\n",
       "      <td>4e143d01a5febf5b7085dc393114c176594b580ce26bb2...</td>\n",
       "      <td>ze3ws3ckYylbZwpXj6xNRXSBeRkenIzY</td>\n",
       "    </tr>\n",
       "    <tr>\n",
       "      <th>7</th>\n",
       "      <td>12sDU3FyYJXc2oRzE6XXuuhVHCBJvaoCC8</td>\n",
       "      <td>485413</td>\n",
       "      <td>478028</td>\n",
       "      <td>4e143d01a5febf5b7085dc393114c176594b580ce26bb2...</td>\n",
       "      <td>yYiOdGN2a2TGR8GBwrMtk1CkMAFUcaan</td>\n",
       "    </tr>\n",
       "    <tr>\n",
       "      <th>8</th>\n",
       "      <td>1FoWyxwPXuj4C6abqwhjDWdz6D4PZgYRjA</td>\n",
       "      <td>478028</td>\n",
       "      <td>546</td>\n",
       "      <td>9252559abd14106761c92b0e14489e9018365882fe12f6...</td>\n",
       "      <td>ze3ws3ckYylbZwpXj6xNRXSBeRkenIzY</td>\n",
       "    </tr>\n",
       "    <tr>\n",
       "      <th>9</th>\n",
       "      <td>12sDU3FyYJXc2oRzE6XXuuhVHCBJvaoCC8</td>\n",
       "      <td>478028</td>\n",
       "      <td>470643</td>\n",
       "      <td>9252559abd14106761c92b0e14489e9018365882fe12f6...</td>\n",
       "      <td>yYiOdGN2a2TGR8GBwrMtk1CkMAFUcaan</td>\n",
       "    </tr>\n",
       "  </tbody>\n",
       "</table>\n",
       "</div>"
      ],
      "text/plain": [
       "                     Output_Addresses  Value_send_to_Outp  \\\n",
       "0  1FoWyxwPXuj4C6abqwhjDWdz6D4PZgYRjA              500000   \n",
       "1  12sDU3FyYJXc2oRzE6XXuuhVHCBJvaoCC8              500000   \n",
       "2  1FoWyxwPXuj4C6abqwhjDWdz6D4PZgYRjA              494281   \n",
       "3  12sDU3FyYJXc2oRzE6XXuuhVHCBJvaoCC8              494281   \n",
       "4  1FoWyxwPXuj4C6abqwhjDWdz6D4PZgYRjA              489847   \n",
       "5  12sDU3FyYJXc2oRzE6XXuuhVHCBJvaoCC8              489847   \n",
       "6  1FoWyxwPXuj4C6abqwhjDWdz6D4PZgYRjA              485413   \n",
       "7  12sDU3FyYJXc2oRzE6XXuuhVHCBJvaoCC8              485413   \n",
       "8  1FoWyxwPXuj4C6abqwhjDWdz6D4PZgYRjA              478028   \n",
       "9  12sDU3FyYJXc2oRzE6XXuuhVHCBJvaoCC8              478028   \n",
       "\n",
       "   Value_rec_from_Outp                                     Transaction_ID  \\\n",
       "0                  546  3a785a153bfd7d77bdf7b8dcce6ba24feeb9b1bffdb723...   \n",
       "1               494281  3a785a153bfd7d77bdf7b8dcce6ba24feeb9b1bffdb723...   \n",
       "2                  546  1b1be7bab9f905ffcf083e3483705f0e621a9518930b69...   \n",
       "3               489847  1b1be7bab9f905ffcf083e3483705f0e621a9518930b69...   \n",
       "4                  546  6da7a5d3797a1457a7910804128b53b82640a621d848ce...   \n",
       "5               485413  6da7a5d3797a1457a7910804128b53b82640a621d848ce...   \n",
       "6                  546  4e143d01a5febf5b7085dc393114c176594b580ce26bb2...   \n",
       "7               478028  4e143d01a5febf5b7085dc393114c176594b580ce26bb2...   \n",
       "8                  546  9252559abd14106761c92b0e14489e9018365882fe12f6...   \n",
       "9               470643  9252559abd14106761c92b0e14489e9018365882fe12f6...   \n",
       "\n",
       "                        Association  \n",
       "0  ze3ws3ckYylbZwpXj6xNRXSBeRkenIzY  \n",
       "1  yYiOdGN2a2TGR8GBwrMtk1CkMAFUcaan  \n",
       "2  ze3ws3ckYylbZwpXj6xNRXSBeRkenIzY  \n",
       "3  yYiOdGN2a2TGR8GBwrMtk1CkMAFUcaan  \n",
       "4  ze3ws3ckYylbZwpXj6xNRXSBeRkenIzY  \n",
       "5  yYiOdGN2a2TGR8GBwrMtk1CkMAFUcaan  \n",
       "6  ze3ws3ckYylbZwpXj6xNRXSBeRkenIzY  \n",
       "7  yYiOdGN2a2TGR8GBwrMtk1CkMAFUcaan  \n",
       "8  ze3ws3ckYylbZwpXj6xNRXSBeRkenIzY  \n",
       "9  yYiOdGN2a2TGR8GBwrMtk1CkMAFUcaan  "
      ]
     },
     "execution_count": 41,
     "metadata": {},
     "output_type": "execute_result"
    }
   ],
   "source": [
    "flowGraph_outEdges\n",
    "# Value_rec_from_Outp: reveived node got from center\n",
    "# Value_send_to_Outp send by transaction "
   ]
  },
  {
   "cell_type": "code",
   "execution_count": 42,
   "metadata": {},
   "outputs": [
    {
     "data": {
      "text/plain": [
       "['yYiOdGN2a2TGR8GBwrMtk1CkMAFUcaan',\n",
       " ['ze3ws3ckYylbZwpXj6xNRXSBeRkenIzY', 'yYiOdGN2a2TGR8GBwrMtk1CkMAFUcaan'],\n",
       " ['ze3ws3ckYylbZwpXj6xNRXSBeRkenIzY',\n",
       "  'yYiOdGN2a2TGR8GBwrMtk1CkMAFUcaan',\n",
       "  '6LjxlCvzxnVaAMo3QuvCyAuyG3fyCyHD',\n",
       "  'FMKb71RPmguLvGGijceGfTeZJWIyYdFI']]"
      ]
     },
     "execution_count": 42,
     "metadata": {},
     "output_type": "execute_result"
    }
   ],
   "source": [
    "#yYiOdGN2a2TGR8GBwrMtk1CkMAFUcaan is center \n",
    "# output addresses/wallets = ['ze3ws3ckYylbZwpXj6xNRXSBeRkenIzY', 'yYiOdGN2a2TGR8GBwrMtk1CkMAFUcaan'],\n",
    "# input addresses/wallets = ['ze3ws3ckYylbZwpXj6xNRXSBeRkenIzY',  'yYiOdGN2a2TGR8GBwrMtk1CkMAFUcaan', '6LjxlCvzxnVaAMo3QuvCyAuyG3fyCyHD',  'FMKb71RPmguLvGGijceGfTeZJWIyYdFI']\n",
    "\n",
    "flowGraph_nodes"
   ]
  },
  {
   "cell_type": "code",
   "execution_count": 43,
   "metadata": {},
   "outputs": [],
   "source": [
    "flowGraph_centerNode =  flowGraph_nodes[0]\n",
    "flowGraph_outputNodes = flowGraph_nodes[1]\t\n",
    "flowGraph_inputNodes = flowGraph_nodes[2]"
   ]
  },
  {
   "cell_type": "markdown",
   "metadata": {},
   "source": [
    "# Fill node1 Dataframe"
   ]
  },
  {
   "cell_type": "code",
   "execution_count": 95,
   "metadata": {},
   "outputs": [
    {
     "data": {
      "text/html": [
       "<div>\n",
       "<style scoped>\n",
       "    .dataframe tbody tr th:only-of-type {\n",
       "        vertical-align: middle;\n",
       "    }\n",
       "\n",
       "    .dataframe tbody tr th {\n",
       "        vertical-align: top;\n",
       "    }\n",
       "\n",
       "    .dataframe thead th {\n",
       "        text-align: right;\n",
       "    }\n",
       "</style>\n",
       "<table border=\"1\" class=\"dataframe\">\n",
       "  <thead>\n",
       "    <tr style=\"text-align: right;\">\n",
       "      <th></th>\n",
       "      <th>Account</th>\n",
       "      <th>CustomerName</th>\n",
       "      <th>Type</th>\n",
       "    </tr>\n",
       "  </thead>\n",
       "  <tbody>\n",
       "    <tr>\n",
       "      <th>0</th>\n",
       "      <td>yYiOdGN2a2TGR8GBwrMtk1CkMAFUcaan</td>\n",
       "      <td>test</td>\n",
       "      <td>CenterNode</td>\n",
       "    </tr>\n",
       "    <tr>\n",
       "      <th>1</th>\n",
       "      <td>ze3ws3ckYylbZwpXj6xNRXSBeRkenIzY</td>\n",
       "      <td>test</td>\n",
       "      <td>OutputAssociation</td>\n",
       "    </tr>\n",
       "    <tr>\n",
       "      <th>2</th>\n",
       "      <td>yYiOdGN2a2TGR8GBwrMtk1CkMAFUcaan</td>\n",
       "      <td>test</td>\n",
       "      <td>OutputAssociation</td>\n",
       "    </tr>\n",
       "    <tr>\n",
       "      <th>3</th>\n",
       "      <td>ze3ws3ckYylbZwpXj6xNRXSBeRkenIzY</td>\n",
       "      <td>test</td>\n",
       "      <td>InputAssociation</td>\n",
       "    </tr>\n",
       "    <tr>\n",
       "      <th>4</th>\n",
       "      <td>yYiOdGN2a2TGR8GBwrMtk1CkMAFUcaan</td>\n",
       "      <td>test</td>\n",
       "      <td>InputAssociation</td>\n",
       "    </tr>\n",
       "    <tr>\n",
       "      <th>5</th>\n",
       "      <td>6LjxlCvzxnVaAMo3QuvCyAuyG3fyCyHD</td>\n",
       "      <td>test</td>\n",
       "      <td>InputAssociation</td>\n",
       "    </tr>\n",
       "    <tr>\n",
       "      <th>6</th>\n",
       "      <td>FMKb71RPmguLvGGijceGfTeZJWIyYdFI</td>\n",
       "      <td>test</td>\n",
       "      <td>InputAssociation</td>\n",
       "    </tr>\n",
       "  </tbody>\n",
       "</table>\n",
       "</div>"
      ],
      "text/plain": [
       "                            Account CustomerName               Type\n",
       "0  yYiOdGN2a2TGR8GBwrMtk1CkMAFUcaan         test         CenterNode\n",
       "1  ze3ws3ckYylbZwpXj6xNRXSBeRkenIzY         test  OutputAssociation\n",
       "2  yYiOdGN2a2TGR8GBwrMtk1CkMAFUcaan         test  OutputAssociation\n",
       "3  ze3ws3ckYylbZwpXj6xNRXSBeRkenIzY         test   InputAssociation\n",
       "4  yYiOdGN2a2TGR8GBwrMtk1CkMAFUcaan         test   InputAssociation\n",
       "5  6LjxlCvzxnVaAMo3QuvCyAuyG3fyCyHD         test   InputAssociation\n",
       "6  FMKb71RPmguLvGGijceGfTeZJWIyYdFI         test   InputAssociation"
      ]
     },
     "execution_count": 95,
     "metadata": {},
     "output_type": "execute_result"
    }
   ],
   "source": [
    "node1 = []\n",
    "\n",
    "# fill node data\n",
    "row = {}\n",
    "row['Account'] = flowGraph_centerNode\n",
    "row['CustomerName'] = 'test'\n",
    "row['Type'] = 'CenterNode'\n",
    "\n",
    "node1.append(row)\n",
    "\n",
    "for node in flowGraph_outputNodes:\n",
    "    row = {}\n",
    "    row['Account'] = node\n",
    "    row['CustomerName'] = 'test'\n",
    "    row['Type'] = 'OutputAssociation'\n",
    "    node1.append(row)\n",
    "\n",
    "for node in flowGraph_inputNodes:\n",
    "    row = {}\n",
    "    row['Account'] = node\n",
    "    row['CustomerName'] = 'test'\n",
    "    row['Type'] = 'InputAssociation'\n",
    "    node1.append(row)\n",
    "\n",
    "node1 = pd.DataFrame(node1)\n",
    "node1"
   ]
  },
  {
   "cell_type": "markdown",
   "metadata": {},
   "source": [
    "# Create Edge1 dataframe"
   ]
  },
  {
   "cell_type": "code",
   "execution_count": 99,
   "metadata": {},
   "outputs": [
    {
     "data": {
      "text/html": [
       "<div>\n",
       "<style scoped>\n",
       "    .dataframe tbody tr th:only-of-type {\n",
       "        vertical-align: middle;\n",
       "    }\n",
       "\n",
       "    .dataframe tbody tr th {\n",
       "        vertical-align: top;\n",
       "    }\n",
       "\n",
       "    .dataframe thead th {\n",
       "        text-align: right;\n",
       "    }\n",
       "</style>\n",
       "<table border=\"1\" class=\"dataframe\">\n",
       "  <thead>\n",
       "    <tr style=\"text-align: right;\">\n",
       "      <th></th>\n",
       "      <th>TransactionAmt</th>\n",
       "      <th>Source</th>\n",
       "      <th>Target</th>\n",
       "      <th>Date</th>\n",
       "    </tr>\n",
       "  </thead>\n",
       "  <tbody>\n",
       "    <tr>\n",
       "      <th>0</th>\n",
       "      <td>546</td>\n",
       "      <td>1FoWyxwPXuj4C6abqwhjDWdz6D4PZgYRjA</td>\n",
       "      <td>ze3ws3ckYylbZwpXj6xNRXSBeRkenIzY</td>\n",
       "      <td>None</td>\n",
       "    </tr>\n",
       "    <tr>\n",
       "      <th>1</th>\n",
       "      <td>500000</td>\n",
       "      <td>1L1WzDvXjMJVXJPijVVZQ2nLDKM5iqCqap</td>\n",
       "      <td>FMKb71RPmguLvGGijceGfTeZJWIyYdFI</td>\n",
       "      <td>None</td>\n",
       "    </tr>\n",
       "    <tr>\n",
       "      <th>2</th>\n",
       "      <td>500000</td>\n",
       "      <td>1JwNMGo72d2hxBHQh1XyNr1yB4Gt6fx95U</td>\n",
       "      <td>FMKb71RPmguLvGGijceGfTeZJWIyYdFI</td>\n",
       "      <td>None</td>\n",
       "    </tr>\n",
       "    <tr>\n",
       "      <th>3</th>\n",
       "      <td>500000</td>\n",
       "      <td>1AwzkRiEgnPeRfv9U6uWbuJAF8tMvVxibE</td>\n",
       "      <td>FMKb71RPmguLvGGijceGfTeZJWIyYdFI</td>\n",
       "      <td>None</td>\n",
       "    </tr>\n",
       "    <tr>\n",
       "      <th>4</th>\n",
       "      <td>500000</td>\n",
       "      <td>19ZCrdhDBGJBiiriEvknhADpBAWJQYZMcV</td>\n",
       "      <td>FMKb71RPmguLvGGijceGfTeZJWIyYdFI</td>\n",
       "      <td>None</td>\n",
       "    </tr>\n",
       "    <tr>\n",
       "      <th>5</th>\n",
       "      <td>546</td>\n",
       "      <td>1FoWyxwPXuj4C6abqwhjDWdz6D4PZgYRjA</td>\n",
       "      <td>ze3ws3ckYylbZwpXj6xNRXSBeRkenIzY</td>\n",
       "      <td>None</td>\n",
       "    </tr>\n",
       "    <tr>\n",
       "      <th>6</th>\n",
       "      <td>470643</td>\n",
       "      <td>12sDU3FyYJXc2oRzE6XXuuhVHCBJvaoCC8</td>\n",
       "      <td>yYiOdGN2a2TGR8GBwrMtk1CkMAFUcaan</td>\n",
       "      <td>None</td>\n",
       "    </tr>\n",
       "    <tr>\n",
       "      <th>7</th>\n",
       "      <td>546</td>\n",
       "      <td>1FoWyxwPXuj4C6abqwhjDWdz6D4PZgYRjA</td>\n",
       "      <td>ze3ws3ckYylbZwpXj6xNRXSBeRkenIzY</td>\n",
       "      <td>None</td>\n",
       "    </tr>\n",
       "    <tr>\n",
       "      <th>8</th>\n",
       "      <td>485413</td>\n",
       "      <td>12sDU3FyYJXc2oRzE6XXuuhVHCBJvaoCC8</td>\n",
       "      <td>yYiOdGN2a2TGR8GBwrMtk1CkMAFUcaan</td>\n",
       "      <td>None</td>\n",
       "    </tr>\n",
       "    <tr>\n",
       "      <th>9</th>\n",
       "      <td>546</td>\n",
       "      <td>1DUb2YYbQA1jjaNYzVXLZ7ZioEhLXtbUru</td>\n",
       "      <td>6LjxlCvzxnVaAMo3QuvCyAuyG3fyCyHD</td>\n",
       "      <td>None</td>\n",
       "    </tr>\n",
       "    <tr>\n",
       "      <th>10</th>\n",
       "      <td>478028</td>\n",
       "      <td>12sDU3FyYJXc2oRzE6XXuuhVHCBJvaoCC8</td>\n",
       "      <td>yYiOdGN2a2TGR8GBwrMtk1CkMAFUcaan</td>\n",
       "      <td>None</td>\n",
       "    </tr>\n",
       "    <tr>\n",
       "      <th>11</th>\n",
       "      <td>494281</td>\n",
       "      <td>12sDU3FyYJXc2oRzE6XXuuhVHCBJvaoCC8</td>\n",
       "      <td>yYiOdGN2a2TGR8GBwrMtk1CkMAFUcaan</td>\n",
       "      <td>None</td>\n",
       "    </tr>\n",
       "    <tr>\n",
       "      <th>12</th>\n",
       "      <td>546</td>\n",
       "      <td>1FoWyxwPXuj4C6abqwhjDWdz6D4PZgYRjA</td>\n",
       "      <td>ze3ws3ckYylbZwpXj6xNRXSBeRkenIzY</td>\n",
       "      <td>None</td>\n",
       "    </tr>\n",
       "    <tr>\n",
       "      <th>13</th>\n",
       "      <td>546</td>\n",
       "      <td>1FoWyxwPXuj4C6abqwhjDWdz6D4PZgYRjA</td>\n",
       "      <td>ze3ws3ckYylbZwpXj6xNRXSBeRkenIzY</td>\n",
       "      <td>None</td>\n",
       "    </tr>\n",
       "    <tr>\n",
       "      <th>14</th>\n",
       "      <td>489847</td>\n",
       "      <td>12sDU3FyYJXc2oRzE6XXuuhVHCBJvaoCC8</td>\n",
       "      <td>yYiOdGN2a2TGR8GBwrMtk1CkMAFUcaan</td>\n",
       "      <td>None</td>\n",
       "    </tr>\n",
       "    <tr>\n",
       "      <th>15</th>\n",
       "      <td>546</td>\n",
       "      <td>ze3ws3ckYylbZwpXj6xNRXSBeRkenIzY</td>\n",
       "      <td>1FoWyxwPXuj4C6abqwhjDWdz6D4PZgYRjA</td>\n",
       "      <td>None</td>\n",
       "    </tr>\n",
       "    <tr>\n",
       "      <th>16</th>\n",
       "      <td>494281</td>\n",
       "      <td>yYiOdGN2a2TGR8GBwrMtk1CkMAFUcaan</td>\n",
       "      <td>12sDU3FyYJXc2oRzE6XXuuhVHCBJvaoCC8</td>\n",
       "      <td>None</td>\n",
       "    </tr>\n",
       "    <tr>\n",
       "      <th>17</th>\n",
       "      <td>546</td>\n",
       "      <td>ze3ws3ckYylbZwpXj6xNRXSBeRkenIzY</td>\n",
       "      <td>1FoWyxwPXuj4C6abqwhjDWdz6D4PZgYRjA</td>\n",
       "      <td>None</td>\n",
       "    </tr>\n",
       "    <tr>\n",
       "      <th>18</th>\n",
       "      <td>489847</td>\n",
       "      <td>yYiOdGN2a2TGR8GBwrMtk1CkMAFUcaan</td>\n",
       "      <td>12sDU3FyYJXc2oRzE6XXuuhVHCBJvaoCC8</td>\n",
       "      <td>None</td>\n",
       "    </tr>\n",
       "    <tr>\n",
       "      <th>19</th>\n",
       "      <td>546</td>\n",
       "      <td>ze3ws3ckYylbZwpXj6xNRXSBeRkenIzY</td>\n",
       "      <td>1FoWyxwPXuj4C6abqwhjDWdz6D4PZgYRjA</td>\n",
       "      <td>None</td>\n",
       "    </tr>\n",
       "    <tr>\n",
       "      <th>20</th>\n",
       "      <td>485413</td>\n",
       "      <td>yYiOdGN2a2TGR8GBwrMtk1CkMAFUcaan</td>\n",
       "      <td>12sDU3FyYJXc2oRzE6XXuuhVHCBJvaoCC8</td>\n",
       "      <td>None</td>\n",
       "    </tr>\n",
       "    <tr>\n",
       "      <th>21</th>\n",
       "      <td>546</td>\n",
       "      <td>ze3ws3ckYylbZwpXj6xNRXSBeRkenIzY</td>\n",
       "      <td>1FoWyxwPXuj4C6abqwhjDWdz6D4PZgYRjA</td>\n",
       "      <td>None</td>\n",
       "    </tr>\n",
       "    <tr>\n",
       "      <th>22</th>\n",
       "      <td>478028</td>\n",
       "      <td>yYiOdGN2a2TGR8GBwrMtk1CkMAFUcaan</td>\n",
       "      <td>12sDU3FyYJXc2oRzE6XXuuhVHCBJvaoCC8</td>\n",
       "      <td>None</td>\n",
       "    </tr>\n",
       "    <tr>\n",
       "      <th>23</th>\n",
       "      <td>546</td>\n",
       "      <td>ze3ws3ckYylbZwpXj6xNRXSBeRkenIzY</td>\n",
       "      <td>1FoWyxwPXuj4C6abqwhjDWdz6D4PZgYRjA</td>\n",
       "      <td>None</td>\n",
       "    </tr>\n",
       "    <tr>\n",
       "      <th>24</th>\n",
       "      <td>470643</td>\n",
       "      <td>yYiOdGN2a2TGR8GBwrMtk1CkMAFUcaan</td>\n",
       "      <td>12sDU3FyYJXc2oRzE6XXuuhVHCBJvaoCC8</td>\n",
       "      <td>None</td>\n",
       "    </tr>\n",
       "  </tbody>\n",
       "</table>\n",
       "</div>"
      ],
      "text/plain": [
       "    TransactionAmt                              Source  \\\n",
       "0              546  1FoWyxwPXuj4C6abqwhjDWdz6D4PZgYRjA   \n",
       "1           500000  1L1WzDvXjMJVXJPijVVZQ2nLDKM5iqCqap   \n",
       "2           500000  1JwNMGo72d2hxBHQh1XyNr1yB4Gt6fx95U   \n",
       "3           500000  1AwzkRiEgnPeRfv9U6uWbuJAF8tMvVxibE   \n",
       "4           500000  19ZCrdhDBGJBiiriEvknhADpBAWJQYZMcV   \n",
       "5              546  1FoWyxwPXuj4C6abqwhjDWdz6D4PZgYRjA   \n",
       "6           470643  12sDU3FyYJXc2oRzE6XXuuhVHCBJvaoCC8   \n",
       "7              546  1FoWyxwPXuj4C6abqwhjDWdz6D4PZgYRjA   \n",
       "8           485413  12sDU3FyYJXc2oRzE6XXuuhVHCBJvaoCC8   \n",
       "9              546  1DUb2YYbQA1jjaNYzVXLZ7ZioEhLXtbUru   \n",
       "10          478028  12sDU3FyYJXc2oRzE6XXuuhVHCBJvaoCC8   \n",
       "11          494281  12sDU3FyYJXc2oRzE6XXuuhVHCBJvaoCC8   \n",
       "12             546  1FoWyxwPXuj4C6abqwhjDWdz6D4PZgYRjA   \n",
       "13             546  1FoWyxwPXuj4C6abqwhjDWdz6D4PZgYRjA   \n",
       "14          489847  12sDU3FyYJXc2oRzE6XXuuhVHCBJvaoCC8   \n",
       "15             546    ze3ws3ckYylbZwpXj6xNRXSBeRkenIzY   \n",
       "16          494281    yYiOdGN2a2TGR8GBwrMtk1CkMAFUcaan   \n",
       "17             546    ze3ws3ckYylbZwpXj6xNRXSBeRkenIzY   \n",
       "18          489847    yYiOdGN2a2TGR8GBwrMtk1CkMAFUcaan   \n",
       "19             546    ze3ws3ckYylbZwpXj6xNRXSBeRkenIzY   \n",
       "20          485413    yYiOdGN2a2TGR8GBwrMtk1CkMAFUcaan   \n",
       "21             546    ze3ws3ckYylbZwpXj6xNRXSBeRkenIzY   \n",
       "22          478028    yYiOdGN2a2TGR8GBwrMtk1CkMAFUcaan   \n",
       "23             546    ze3ws3ckYylbZwpXj6xNRXSBeRkenIzY   \n",
       "24          470643    yYiOdGN2a2TGR8GBwrMtk1CkMAFUcaan   \n",
       "\n",
       "                                Target  Date  \n",
       "0     ze3ws3ckYylbZwpXj6xNRXSBeRkenIzY  None  \n",
       "1     FMKb71RPmguLvGGijceGfTeZJWIyYdFI  None  \n",
       "2     FMKb71RPmguLvGGijceGfTeZJWIyYdFI  None  \n",
       "3     FMKb71RPmguLvGGijceGfTeZJWIyYdFI  None  \n",
       "4     FMKb71RPmguLvGGijceGfTeZJWIyYdFI  None  \n",
       "5     ze3ws3ckYylbZwpXj6xNRXSBeRkenIzY  None  \n",
       "6     yYiOdGN2a2TGR8GBwrMtk1CkMAFUcaan  None  \n",
       "7     ze3ws3ckYylbZwpXj6xNRXSBeRkenIzY  None  \n",
       "8     yYiOdGN2a2TGR8GBwrMtk1CkMAFUcaan  None  \n",
       "9     6LjxlCvzxnVaAMo3QuvCyAuyG3fyCyHD  None  \n",
       "10    yYiOdGN2a2TGR8GBwrMtk1CkMAFUcaan  None  \n",
       "11    yYiOdGN2a2TGR8GBwrMtk1CkMAFUcaan  None  \n",
       "12    ze3ws3ckYylbZwpXj6xNRXSBeRkenIzY  None  \n",
       "13    ze3ws3ckYylbZwpXj6xNRXSBeRkenIzY  None  \n",
       "14    yYiOdGN2a2TGR8GBwrMtk1CkMAFUcaan  None  \n",
       "15  1FoWyxwPXuj4C6abqwhjDWdz6D4PZgYRjA  None  \n",
       "16  12sDU3FyYJXc2oRzE6XXuuhVHCBJvaoCC8  None  \n",
       "17  1FoWyxwPXuj4C6abqwhjDWdz6D4PZgYRjA  None  \n",
       "18  12sDU3FyYJXc2oRzE6XXuuhVHCBJvaoCC8  None  \n",
       "19  1FoWyxwPXuj4C6abqwhjDWdz6D4PZgYRjA  None  \n",
       "20  12sDU3FyYJXc2oRzE6XXuuhVHCBJvaoCC8  None  \n",
       "21  1FoWyxwPXuj4C6abqwhjDWdz6D4PZgYRjA  None  \n",
       "22  12sDU3FyYJXc2oRzE6XXuuhVHCBJvaoCC8  None  \n",
       "23  1FoWyxwPXuj4C6abqwhjDWdz6D4PZgYRjA  None  \n",
       "24  12sDU3FyYJXc2oRzE6XXuuhVHCBJvaoCC8  None  "
      ]
     },
     "execution_count": 99,
     "metadata": {},
     "output_type": "execute_result"
    }
   ],
   "source": [
    "edge1 = []\n",
    "\n",
    "for i, transaction in flowGraph_inEdges.iterrows():\n",
    "    row = {}\n",
    "    row['TransactionAmt'] = transaction.Value_Received_from_Inp\n",
    "    row['Source'] = transaction.Input_Addresses\n",
    "    row['Target'] = transaction.Association\n",
    "    row['Date'] = None\n",
    "\n",
    "    edge1.append(row)\n",
    "\n",
    "for i, transaction in flowGraph_outEdges.iterrows():\n",
    "    row = {}\n",
    "    row['TransactionAmt'] = transaction.Value_rec_from_Outp\n",
    "    row['Source'] = transaction.Association\n",
    "    row['Target'] = transaction.Output_Addresses\n",
    "    row['Date'] = None\n",
    "\n",
    "    edge1.append(row)\n",
    "\n",
    "edge1 = pd.DataFrame(edge1)\n",
    "edge1"
   ]
  },
  {
   "cell_type": "markdown",
   "metadata": {},
   "source": [
    "# Built the Graph"
   ]
  },
  {
   "cell_type": "code",
   "execution_count": 72,
   "metadata": {},
   "outputs": [],
   "source": [
    "edge1['Datetime'] = \"\" # add empty Datetime column to edge1 dataframe\n",
    "accountSet=set() # contain unique account\n",
    "\n",
    "# for index in range(0,len(edge1)):\n",
    "#         edge1['Datetime'][index] = datetime.strptime(edge1['Date'][index], '%d/%m/%Y')\n",
    "#         if edge1['Datetime'][index].year<yearRange[0] or edge1['Datetime'][index].year>yearRange[1]:\n",
    "#             edge1.drop(axis=0, index=index, inplace=True)\n",
    "#             continue\n",
    "#         accountSet.add(edge1['Source'][index])\n",
    "#         accountSet.add(edge1['Target'][index])\n",
    "accountSet = set(np.unique(edge1['Target']))\n",
    "set_Source = set(np.unique(edge1['Source']))\n",
    "accountSet.update(set_Source)"
   ]
  },
  {
   "cell_type": "code",
   "execution_count": 103,
   "metadata": {},
   "outputs": [],
   "source": [
    "\n",
    "\n",
    "##############################################################################################################################################################\n",
    "def network_graph(node1,edge1,accountSet, AccountToSearch):\n",
    "\n",
    "    # edge1 = pd.read_csv('edge1.csv')\n",
    "    # node1 = pd.read_csv('node1.csv')\n",
    "\n",
    "    # filter the record by datetime, to enable interactive control through the input box\n",
    "    # edge1['Datetime'] = \"\" # add empty Datetime column to edge1 dataframe\n",
    "    # accountSet=set() # contain unique account\n",
    "    # for index in range(0,len(edge1)):\n",
    "    #     edge1['Datetime'][index] = datetime.strptime(edge1['Date'][index], '%d/%m/%Y')\n",
    "    #     if edge1['Datetime'][index].year<yearRange[0] or edge1['Datetime'][index].year>yearRange[1]:\n",
    "    #         edge1.drop(axis=0, index=index, inplace=True)\n",
    "    #         continue\n",
    "    #     accountSet.add(edge1['Source'][index])\n",
    "    #     accountSet.add(edge1['Target'][index])\n",
    "\n",
    "    # to define the centric point of the networkx layout\n",
    "    shells=[]\n",
    "    shell1=[]\n",
    "    shell1.append(AccountToSearch)\n",
    "    shells.append(shell1)\n",
    "    shell2=[]\n",
    "    for ele in accountSet:\n",
    "        if ele!=AccountToSearch:\n",
    "            shell2.append(ele)\n",
    "    shells.append(shell2)\n",
    "\n",
    "\n",
    "    G = nx.from_pandas_edgelist(edge1, 'Source', 'Target', ['Source', 'Target', 'TransactionAmt', 'Date'], create_using=nx.MultiDiGraph())\n",
    "    nx.set_node_attributes(G, node1.set_index('Account')['CustomerName'].to_dict(), 'CustomerName')\n",
    "    nx.set_node_attributes(G, node1.set_index('Account')['Type'].to_dict(), 'Type')\n",
    "    # pos = nx.layout.spring_layout(G)\n",
    "    # pos = nx.layout.circular_layout(G)\n",
    "    # nx.layout.shell_layout only works for more than 3 nodes\n",
    "    if len(shell2)>1:\n",
    "        pos = nx.drawing.layout.shell_layout(G, shells)\n",
    "    else:\n",
    "        pos = nx.drawing.layout.spring_layout(G)\n",
    "    for node in G.nodes:\n",
    "        G.nodes[node]['pos'] = list(pos[node])\n",
    "\n",
    "\n",
    "    if len(shell2)==0:\n",
    "        traceRecode = []  # contains edge_trace, node_trace, middle_node_trace\n",
    "\n",
    "        node_trace = go.Scatter(x=tuple([1]), y=tuple([1]), text=tuple([str(AccountToSearch)]), textposition=\"bottom center\",\n",
    "                                mode='markers+text',\n",
    "                                marker={'size': 50, 'color': 'LightSkyBlue'})\n",
    "        traceRecode.append(node_trace)\n",
    "\n",
    "        node_trace1 = go.Scatter(x=tuple([1]), y=tuple([1]),\n",
    "                                mode='markers',\n",
    "                                marker={'size': 50, 'color': 'LightSkyBlue'},\n",
    "                                opacity=0)\n",
    "        traceRecode.append(node_trace1)\n",
    "\n",
    "        figure = {\n",
    "            \"data\": traceRecode,\n",
    "            \"layout\": go.Layout(title='Interactive Transaction Visualization', showlegend=False,\n",
    "                                margin={'b': 40, 'l': 40, 'r': 40, 't': 40},\n",
    "                                xaxis={'showgrid': False, 'zeroline': False, 'showticklabels': False},\n",
    "                                yaxis={'showgrid': False, 'zeroline': False, 'showticklabels': False},\n",
    "                                height=600\n",
    "                                )}\n",
    "        return figure\n",
    "\n",
    "\n",
    "    traceRecode = []  # contains edge_trace, node_trace, middle_node_trace\n",
    "    ############################################################################################################################################################\n",
    "    colors = list(Color('lightcoral').range_to(Color('darkred'), len(G.edges())))\n",
    "    colors = ['rgb' + str(x.rgb) for x in colors]\n",
    "\n",
    "    index = 0\n",
    "    for edge in G.edges:\n",
    "        x0, y0 = G.nodes[edge[0]]['pos']\n",
    "        x1, y1 = G.nodes[edge[1]]['pos']\n",
    "        weight = float(G.edges[edge]['TransactionAmt']) / max(edge1['TransactionAmt']) * 10\n",
    "        trace = go.Scatter(x=tuple([x0, x1, None]), y=tuple([y0, y1, None]),\n",
    "                           mode='lines',\n",
    "                           line={'width': weight},\n",
    "                           marker=dict(color=colors[index]),\n",
    "                           line_shape='spline',\n",
    "                           opacity=1)\n",
    "        traceRecode.append(trace)\n",
    "        index = index + 1\n",
    "    ###############################################################################################################################################################\n",
    "    node_trace = go.Scatter(x=[], y=[], hovertext=[], text=[], mode='markers+text', textposition=\"bottom center\",\n",
    "                            hoverinfo=\"text\", marker={'size': 50, 'color': 'LightSkyBlue'})\n",
    "\n",
    "    index = 0\n",
    "    for node in G.nodes():\n",
    "        x, y = G.nodes[node]['pos']\n",
    "        print(G)\n",
    "        hovertext = \"CustomerName: \" + str(G.nodes[node]['CustomerName']) + \"<br>\" + \"AccountType: \" + str(\n",
    "            G.nodes[node]['Type'])\n",
    "        text = node1['Account'][index]\n",
    "        node_trace['x'] += tuple([x])\n",
    "        node_trace['y'] += tuple([y])\n",
    "        node_trace['hovertext'] += tuple([hovertext])\n",
    "        node_trace['text'] += tuple([text])\n",
    "        index = index + 1\n",
    "\n",
    "    traceRecode.append(node_trace)\n",
    "    ################################################################################################################################################################\n",
    "    middle_hover_trace = go.Scatter(x=[], y=[], hovertext=[], mode='markers', hoverinfo=\"text\",\n",
    "                                    marker={'size': 20, 'color': 'LightSkyBlue'},\n",
    "                                    opacity=0)\n",
    "\n",
    "    index = 0\n",
    "    for edge in G.edges:\n",
    "        x0, y0 = G.nodes[edge[0]]['pos']\n",
    "        x1, y1 = G.nodes[edge[1]]['pos']\n",
    "        hovertext = \"From: \" + str(G.edges[edge]['Source']) + \"<br>\" + \"To: \" + str(\n",
    "            G.edges[edge]['Target']) + \"<br>\" + \"TransactionAmt: \" + str(\n",
    "            G.edges[edge]['TransactionAmt']) + \"<br>\" + \"TransactionDate: \" + str(G.edges[edge]['Date'])\n",
    "        middle_hover_trace['x'] += tuple([(x0 + x1) / 2])\n",
    "        middle_hover_trace['y'] += tuple([(y0 + y1) / 2])\n",
    "        middle_hover_trace['hovertext'] += tuple([hovertext])\n",
    "        index = index + 1\n",
    "\n",
    "    traceRecode.append(middle_hover_trace)\n",
    "    #################################################################################################################################################################\n",
    "    figure = {\n",
    "        \"data\": traceRecode,\n",
    "        \"layout\": go.Layout(title='Interactive Transaction Visualization', showlegend=False, hovermode='closest',\n",
    "                            margin={'b': 40, 'l': 40, 'r': 40, 't': 40},\n",
    "                            xaxis={'showgrid': False, 'zeroline': False, 'showticklabels': False},\n",
    "                            yaxis={'showgrid': False, 'zeroline': False, 'showticklabels': False},\n",
    "                            height=600,\n",
    "                            clickmode='event+select',\n",
    "                            annotations=[\n",
    "                                dict(\n",
    "                                    ax=(G.nodes[edge[0]]['pos'][0] + G.nodes[edge[1]]['pos'][0]) / 2,\n",
    "                                    ay=(G.nodes[edge[0]]['pos'][1] + G.nodes[edge[1]]['pos'][1]) / 2, axref='x', ayref='y',\n",
    "                                    x=(G.nodes[edge[1]]['pos'][0] * 3 + G.nodes[edge[0]]['pos'][0]) / 4,\n",
    "                                    y=(G.nodes[edge[1]]['pos'][1] * 3 + G.nodes[edge[0]]['pos'][1]) / 4, xref='x', yref='y',\n",
    "                                    showarrow=True,\n",
    "                                    arrowhead=3,\n",
    "                                    arrowsize=4,\n",
    "                                    arrowwidth=1,\n",
    "                                    opacity=1\n",
    "                                ) for edge in G.edges]\n",
    "                            )}\n",
    "    return figure"
   ]
  },
  {
   "cell_type": "code",
   "execution_count": 109,
   "metadata": {},
   "outputs": [],
   "source": [
    "figure = network_graph(node1,edge1,accountSet, AccountToSearch=flowGraph_Center)"
   ]
  },
  {
   "cell_type": "code",
   "execution_count": 110,
   "metadata": {},
   "outputs": [
    {
     "data": {
      "application/vnd.plotly.v1+json": {
       "config": {
        "plotlyServerURL": "https://plot.ly"
       },
       "data": [
        {
         "line": {
          "shape": "spline",
          "width": 0.010920000000000001
         },
         "marker": {
          "color": "rgb(0.9411764705882353, 0.5019607843137255, 0.5019607843137255)"
         },
         "mode": "lines",
         "opacity": 1,
         "type": "scatter",
         "x": [
          0.404508501291275,
          -0.40450847148895264,
          null
         ],
         "y": [
          0.29389262199401855,
          -0.29389265179634094,
          null
         ]
        },
        {
         "line": {
          "shape": "spline",
          "width": 0.010920000000000001
         },
         "marker": {
          "color": "rgb(0.9398395068121144, 0.46587944743625154, 0.46587944743625154)"
         },
         "mode": "lines",
         "opacity": 1,
         "type": "scatter",
         "x": [
          0.404508501291275,
          -0.40450847148895264,
          null
         ],
         "y": [
          0.29389262199401855,
          -0.29389265179634094,
          null
         ]
        },
        {
         "line": {
          "shape": "spline",
          "width": 0.010920000000000001
         },
         "marker": {
          "color": "rgb(0.9388319294854092, 0.4294687241093621, 0.4294687241093621)"
         },
         "mode": "lines",
         "opacity": 1,
         "type": "scatter",
         "x": [
          0.404508501291275,
          -0.40450847148895264,
          null
         ],
         "y": [
          0.29389262199401855,
          -0.29389265179634094,
          null
         ]
        },
        {
         "line": {
          "shape": "spline",
          "width": 0.010920000000000001
         },
         "marker": {
          "color": "rgb(0.9381537386081193, 0.39272861433305706, 0.39272861433305706)"
         },
         "mode": "lines",
         "opacity": 1,
         "type": "scatter",
         "x": [
          0.404508501291275,
          -0.40450847148895264,
          null
         ],
         "y": [
          0.29389262199401855,
          -0.29389265179634094,
          null
         ]
        },
        {
         "line": {
          "shape": "spline",
          "width": 0.010920000000000001
         },
         "marker": {
          "color": "rgb(0.9378049341802448, 0.35565911810733697, 0.35565911810733697)"
         },
         "mode": "lines",
         "opacity": 1,
         "type": "scatter",
         "x": [
          0.404508501291275,
          -0.40450847148895264,
          null
         ],
         "y": [
          0.29389262199401855,
          -0.29389265179634094,
          null
         ]
        },
        {
         "line": {
          "shape": "spline",
          "width": 0.010920000000000001
         },
         "marker": {
          "color": "rgb(0.9377855162017857, 0.31826023543220117, 0.31826023543220117)"
         },
         "mode": "lines",
         "opacity": 1,
         "type": "scatter",
         "x": [
          -0.40450847148895264,
          0.404508501291275,
          null
         ],
         "y": [
          -0.29389265179634094,
          0.29389262199401855,
          null
         ]
        },
        {
         "line": {
          "shape": "spline",
          "width": 0.010920000000000001
         },
         "marker": {
          "color": "rgb(0.9380954846727424, 0.28053196630764987, 0.28053196630764987)"
         },
         "mode": "lines",
         "opacity": 1,
         "type": "scatter",
         "x": [
          -0.40450847148895264,
          0.404508501291275,
          null
         ],
         "y": [
          -0.29389265179634094,
          0.29389262199401855,
          null
         ]
        },
        {
         "line": {
          "shape": "spline",
          "width": 0.010920000000000001
         },
         "marker": {
          "color": "rgb(0.9387348395931143, 0.24247431073368308, 0.24247431073368308)"
         },
         "mode": "lines",
         "opacity": 1,
         "type": "scatter",
         "x": [
          -0.40450847148895264,
          0.404508501291275,
          null
         ],
         "y": [
          -0.29389265179634094,
          0.29389262199401855,
          null
         ]
        },
        {
         "line": {
          "shape": "spline",
          "width": 0.010920000000000001
         },
         "marker": {
          "color": "rgb(0.9397035809629015, 0.20408726871030103, 0.20408726871030103)"
         },
         "mode": "lines",
         "opacity": 1,
         "type": "scatter",
         "x": [
          -0.40450847148895264,
          0.404508501291275,
          null
         ],
         "y": [
          -0.29389265179634094,
          0.29389262199401855,
          null
         ]
        },
        {
         "line": {
          "shape": "spline",
          "width": 0.010920000000000001
         },
         "marker": {
          "color": "rgb(0.9410017087821043, 0.1653708402375036, 0.1653708402375036)"
         },
         "mode": "lines",
         "opacity": 1,
         "type": "scatter",
         "x": [
          -0.40450847148895264,
          0.404508501291275,
          null
         ],
         "y": [
          -0.29389265179634094,
          0.29389262199401855,
          null
         ]
        },
        {
         "line": {
          "shape": "spline",
          "width": 10
         },
         "marker": {
          "color": "rgb(0.9426292230507226, 0.12632502531529044, 0.12632502531529044)"
         },
         "mode": "lines",
         "opacity": 1,
         "type": "scatter",
         "x": [
          0.5,
          0.15450839698314667,
          null
         ],
         "y": [
          8.742277657347586e-8,
          0.4755282998085022,
          null
         ]
        },
        {
         "line": {
          "shape": "spline",
          "width": 10
         },
         "marker": {
          "color": "rgb(0.9445861237687565, 0.08694982394366169, 0.08694982394366169)"
         },
         "mode": "lines",
         "opacity": 1,
         "type": "scatter",
         "x": [
          -0.40450841188430786,
          0.15450839698314667,
          null
         ],
         "y": [
          0.2938927412033081,
          0.4755282998085022,
          null
         ]
        },
        {
         "line": {
          "shape": "spline",
          "width": 10
         },
         "marker": {
          "color": "rgb(0.9416114333057166, 0.052506213753106934, 0.052506213753106934)"
         },
         "mode": "lines",
         "opacity": 1,
         "type": "scatter",
         "x": [
          0.4045086205005646,
          0.15450839698314667,
          null
         ],
         "y": [
          -0.2938924729824066,
          0.4755282998085022,
          null
         ]
        },
        {
         "line": {
          "shape": "spline",
          "width": 10
         },
         "marker": {
          "color": "rgb(0.9103802759366657, 0.046319070468562984, 0.046319070468562984)"
         },
         "mode": "lines",
         "opacity": 1,
         "type": "scatter",
         "x": [
          -0.1545085608959198,
          0.15450839698314667,
          null
         ],
         "y": [
          -0.4755282402038574,
          0.4755282998085022,
          null
         ]
        },
        {
         "line": {
          "shape": "spline",
          "width": 9.41286
         },
         "marker": {
          "color": "rgb(0.8788197321181993, 0.04046131363343464, 0.04046131363343464)"
         },
         "mode": "lines",
         "opacity": 1,
         "type": "scatter",
         "x": [
          -0.15450870990753174,
          0,
          null
         ],
         "y": [
          0.47552818059921265,
          0,
          null
         ]
        },
        {
         "line": {
          "shape": "spline",
          "width": 9.70826
         },
         "marker": {
          "color": "rgb(0.8469298018503176, 0.03493294324772156, 0.03493294324772156)"
         },
         "mode": "lines",
         "opacity": 1,
         "type": "scatter",
         "x": [
          -0.15450870990753174,
          0,
          null
         ],
         "y": [
          0.47552818059921265,
          0,
          null
         ]
        },
        {
         "line": {
          "shape": "spline",
          "width": 9.56056
         },
         "marker": {
          "color": "rgb(0.8147104851330204, 0.029733959311424085, 0.029733959311424085)"
         },
         "mode": "lines",
         "opacity": 1,
         "type": "scatter",
         "x": [
          -0.15450870990753174,
          0,
          null
         ],
         "y": [
          0.47552818059921265,
          0,
          null
         ]
        },
        {
         "line": {
          "shape": "spline",
          "width": 9.885620000000001
         },
         "marker": {
          "color": "rgb(0.7821617819663076, 0.024864361824542103, 0.024864361824542103)"
         },
         "mode": "lines",
         "opacity": 1,
         "type": "scatter",
         "x": [
          -0.15450870990753174,
          0,
          null
         ],
         "y": [
          0.47552818059921265,
          0,
          null
         ]
        },
        {
         "line": {
          "shape": "spline",
          "width": 9.79694
         },
         "marker": {
          "color": "rgb(0.7492836923501796, 0.02032415078707539, 0.02032415078707539)"
         },
         "mode": "lines",
         "opacity": 1,
         "type": "scatter",
         "x": [
          -0.15450870990753174,
          0,
          null
         ],
         "y": [
          0.47552818059921265,
          0,
          null
         ]
        },
        {
         "line": {
          "shape": "spline",
          "width": 9.885620000000001
         },
         "marker": {
          "color": "rgb(0.7160762162846359, 0.01611332619902417, 0.01611332619902417)"
         },
         "mode": "lines",
         "opacity": 1,
         "type": "scatter",
         "x": [
          0,
          -0.15450870990753174,
          null
         ],
         "y": [
          0,
          0.47552818059921265,
          null
         ]
        },
        {
         "line": {
          "shape": "spline",
          "width": 9.79694
         },
         "marker": {
          "color": "rgb(0.6825393537696769, 0.01223188806038844, 0.01223188806038844)"
         },
         "mode": "lines",
         "opacity": 1,
         "type": "scatter",
         "x": [
          0,
          -0.15450870990753174,
          null
         ],
         "y": [
          0,
          0.47552818059921265,
          null
         ]
        },
        {
         "line": {
          "shape": "spline",
          "width": 9.70826
         },
         "marker": {
          "color": "rgb(0.6486731048053024, 0.008679836371168204, 0.008679836371168204)"
         },
         "mode": "lines",
         "opacity": 1,
         "type": "scatter",
         "x": [
          0,
          -0.15450870990753174,
          null
         ],
         "y": [
          0,
          0.47552818059921265,
          null
         ]
        },
        {
         "line": {
          "shape": "spline",
          "width": 9.56056
         },
         "marker": {
          "color": "rgb(0.6144774693915125, 0.0054571711313633475, 0.0054571711313633475)"
         },
         "mode": "lines",
         "opacity": 1,
         "type": "scatter",
         "x": [
          0,
          -0.15450870990753174,
          null
         ],
         "y": [
          0,
          0.47552818059921265,
          null
         ]
        },
        {
         "line": {
          "shape": "spline",
          "width": 9.41286
         },
         "marker": {
          "color": "rgb(0.5799524475283071, 0.0025638923409739833, 0.0025638923409739833)"
         },
         "mode": "lines",
         "opacity": 1,
         "type": "scatter",
         "x": [
          0,
          -0.15450870990753174,
          null
         ],
         "y": [
          0,
          0.47552818059921265,
          null
         ]
        },
        {
         "line": {
          "shape": "spline",
          "width": 0.010920000000000001
         },
         "marker": {
          "color": "rgb(0.5450980392156863, 0.0, 0.0)"
         },
         "mode": "lines",
         "opacity": 1,
         "type": "scatter",
         "x": [
          0.1545085608959198,
          -0.5,
          null
         ],
         "y": [
          -0.4755282402038574,
          -4.371138828673793e-8,
          null
         ]
        },
        {
         "hoverinfo": "text",
         "hovertext": [],
         "marker": {
          "color": "LightSkyBlue",
          "size": 50
         },
         "mode": "markers+text",
         "text": [],
         "textposition": "bottom center",
         "type": "scatter",
         "x": [],
         "y": []
        },
        {
         "hoverinfo": "text",
         "hovertext": [
          "From: 1FoWyxwPXuj4C6abqwhjDWdz6D4PZgYRjA<br>To: ze3ws3ckYylbZwpXj6xNRXSBeRkenIzY<br>TransactionAmt: 546<br>TransactionDate: None",
          "From: 1FoWyxwPXuj4C6abqwhjDWdz6D4PZgYRjA<br>To: ze3ws3ckYylbZwpXj6xNRXSBeRkenIzY<br>TransactionAmt: 546<br>TransactionDate: None",
          "From: 1FoWyxwPXuj4C6abqwhjDWdz6D4PZgYRjA<br>To: ze3ws3ckYylbZwpXj6xNRXSBeRkenIzY<br>TransactionAmt: 546<br>TransactionDate: None",
          "From: 1FoWyxwPXuj4C6abqwhjDWdz6D4PZgYRjA<br>To: ze3ws3ckYylbZwpXj6xNRXSBeRkenIzY<br>TransactionAmt: 546<br>TransactionDate: None",
          "From: 1FoWyxwPXuj4C6abqwhjDWdz6D4PZgYRjA<br>To: ze3ws3ckYylbZwpXj6xNRXSBeRkenIzY<br>TransactionAmt: 546<br>TransactionDate: None",
          "From: ze3ws3ckYylbZwpXj6xNRXSBeRkenIzY<br>To: 1FoWyxwPXuj4C6abqwhjDWdz6D4PZgYRjA<br>TransactionAmt: 546<br>TransactionDate: None",
          "From: ze3ws3ckYylbZwpXj6xNRXSBeRkenIzY<br>To: 1FoWyxwPXuj4C6abqwhjDWdz6D4PZgYRjA<br>TransactionAmt: 546<br>TransactionDate: None",
          "From: ze3ws3ckYylbZwpXj6xNRXSBeRkenIzY<br>To: 1FoWyxwPXuj4C6abqwhjDWdz6D4PZgYRjA<br>TransactionAmt: 546<br>TransactionDate: None",
          "From: ze3ws3ckYylbZwpXj6xNRXSBeRkenIzY<br>To: 1FoWyxwPXuj4C6abqwhjDWdz6D4PZgYRjA<br>TransactionAmt: 546<br>TransactionDate: None",
          "From: ze3ws3ckYylbZwpXj6xNRXSBeRkenIzY<br>To: 1FoWyxwPXuj4C6abqwhjDWdz6D4PZgYRjA<br>TransactionAmt: 546<br>TransactionDate: None",
          "From: 1L1WzDvXjMJVXJPijVVZQ2nLDKM5iqCqap<br>To: FMKb71RPmguLvGGijceGfTeZJWIyYdFI<br>TransactionAmt: 500000<br>TransactionDate: None",
          "From: 1JwNMGo72d2hxBHQh1XyNr1yB4Gt6fx95U<br>To: FMKb71RPmguLvGGijceGfTeZJWIyYdFI<br>TransactionAmt: 500000<br>TransactionDate: None",
          "From: 1AwzkRiEgnPeRfv9U6uWbuJAF8tMvVxibE<br>To: FMKb71RPmguLvGGijceGfTeZJWIyYdFI<br>TransactionAmt: 500000<br>TransactionDate: None",
          "From: 19ZCrdhDBGJBiiriEvknhADpBAWJQYZMcV<br>To: FMKb71RPmguLvGGijceGfTeZJWIyYdFI<br>TransactionAmt: 500000<br>TransactionDate: None",
          "From: 12sDU3FyYJXc2oRzE6XXuuhVHCBJvaoCC8<br>To: yYiOdGN2a2TGR8GBwrMtk1CkMAFUcaan<br>TransactionAmt: 470643<br>TransactionDate: None",
          "From: 12sDU3FyYJXc2oRzE6XXuuhVHCBJvaoCC8<br>To: yYiOdGN2a2TGR8GBwrMtk1CkMAFUcaan<br>TransactionAmt: 485413<br>TransactionDate: None",
          "From: 12sDU3FyYJXc2oRzE6XXuuhVHCBJvaoCC8<br>To: yYiOdGN2a2TGR8GBwrMtk1CkMAFUcaan<br>TransactionAmt: 478028<br>TransactionDate: None",
          "From: 12sDU3FyYJXc2oRzE6XXuuhVHCBJvaoCC8<br>To: yYiOdGN2a2TGR8GBwrMtk1CkMAFUcaan<br>TransactionAmt: 494281<br>TransactionDate: None",
          "From: 12sDU3FyYJXc2oRzE6XXuuhVHCBJvaoCC8<br>To: yYiOdGN2a2TGR8GBwrMtk1CkMAFUcaan<br>TransactionAmt: 489847<br>TransactionDate: None",
          "From: yYiOdGN2a2TGR8GBwrMtk1CkMAFUcaan<br>To: 12sDU3FyYJXc2oRzE6XXuuhVHCBJvaoCC8<br>TransactionAmt: 494281<br>TransactionDate: None",
          "From: yYiOdGN2a2TGR8GBwrMtk1CkMAFUcaan<br>To: 12sDU3FyYJXc2oRzE6XXuuhVHCBJvaoCC8<br>TransactionAmt: 489847<br>TransactionDate: None",
          "From: yYiOdGN2a2TGR8GBwrMtk1CkMAFUcaan<br>To: 12sDU3FyYJXc2oRzE6XXuuhVHCBJvaoCC8<br>TransactionAmt: 485413<br>TransactionDate: None",
          "From: yYiOdGN2a2TGR8GBwrMtk1CkMAFUcaan<br>To: 12sDU3FyYJXc2oRzE6XXuuhVHCBJvaoCC8<br>TransactionAmt: 478028<br>TransactionDate: None",
          "From: yYiOdGN2a2TGR8GBwrMtk1CkMAFUcaan<br>To: 12sDU3FyYJXc2oRzE6XXuuhVHCBJvaoCC8<br>TransactionAmt: 470643<br>TransactionDate: None",
          "From: 1DUb2YYbQA1jjaNYzVXLZ7ZioEhLXtbUru<br>To: 6LjxlCvzxnVaAMo3QuvCyAuyG3fyCyHD<br>TransactionAmt: 546<br>TransactionDate: None"
         ],
         "marker": {
          "color": "LightSkyBlue",
          "size": 20
         },
         "mode": "markers",
         "opacity": 0,
         "type": "scatter",
         "x": [
          1.4901161193847656e-8,
          1.4901161193847656e-8,
          1.4901161193847656e-8,
          1.4901161193847656e-8,
          1.4901161193847656e-8,
          1.4901161193847656e-8,
          1.4901161193847656e-8,
          1.4901161193847656e-8,
          1.4901161193847656e-8,
          1.4901161193847656e-8,
          0.32725419849157333,
          -0.1250000074505806,
          0.2795085087418556,
          -8.195638656616211e-8,
          -0.07725435495376587,
          -0.07725435495376587,
          -0.07725435495376587,
          -0.07725435495376587,
          -0.07725435495376587,
          -0.07725435495376587,
          -0.07725435495376587,
          -0.07725435495376587,
          -0.07725435495376587,
          -0.07725435495376587,
          -0.1727457195520401
         ],
         "y": [
          -1.4901161193847656e-8,
          -1.4901161193847656e-8,
          -1.4901161193847656e-8,
          -1.4901161193847656e-8,
          -1.4901161193847656e-8,
          -1.4901161193847656e-8,
          -1.4901161193847656e-8,
          -1.4901161193847656e-8,
          -1.4901161193847656e-8,
          -1.4901161193847656e-8,
          0.23776419361563939,
          0.38471052050590515,
          0.09081791341304779,
          2.9802322387695312e-8,
          0.23776409029960632,
          0.23776409029960632,
          0.23776409029960632,
          0.23776409029960632,
          0.23776409029960632,
          0.23776409029960632,
          0.23776409029960632,
          0.23776409029960632,
          0.23776409029960632,
          0.23776409029960632,
          -0.23776414195762285
         ]
        }
       ],
       "layout": {
        "annotations": [
         {
          "arrowhead": 3,
          "arrowsize": 4,
          "arrowwidth": 1,
          "ax": 1.4901161193847656e-8,
          "axref": "x",
          "ay": -1.4901161193847656e-8,
          "ayref": "y",
          "opacity": 1,
          "showarrow": true,
          "x": -0.20225422829389572,
          "xref": "x",
          "y": -0.14694633334875107,
          "yref": "y"
         },
         {
          "arrowhead": 3,
          "arrowsize": 4,
          "arrowwidth": 1,
          "ax": 1.4901161193847656e-8,
          "axref": "x",
          "ay": -1.4901161193847656e-8,
          "ayref": "y",
          "opacity": 1,
          "showarrow": true,
          "x": -0.20225422829389572,
          "xref": "x",
          "y": -0.14694633334875107,
          "yref": "y"
         },
         {
          "arrowhead": 3,
          "arrowsize": 4,
          "arrowwidth": 1,
          "ax": 1.4901161193847656e-8,
          "axref": "x",
          "ay": -1.4901161193847656e-8,
          "ayref": "y",
          "opacity": 1,
          "showarrow": true,
          "x": -0.20225422829389572,
          "xref": "x",
          "y": -0.14694633334875107,
          "yref": "y"
         },
         {
          "arrowhead": 3,
          "arrowsize": 4,
          "arrowwidth": 1,
          "ax": 1.4901161193847656e-8,
          "axref": "x",
          "ay": -1.4901161193847656e-8,
          "ayref": "y",
          "opacity": 1,
          "showarrow": true,
          "x": -0.20225422829389572,
          "xref": "x",
          "y": -0.14694633334875107,
          "yref": "y"
         },
         {
          "arrowhead": 3,
          "arrowsize": 4,
          "arrowwidth": 1,
          "ax": 1.4901161193847656e-8,
          "axref": "x",
          "ay": -1.4901161193847656e-8,
          "ayref": "y",
          "opacity": 1,
          "showarrow": true,
          "x": -0.20225422829389572,
          "xref": "x",
          "y": -0.14694633334875107,
          "yref": "y"
         },
         {
          "arrowhead": 3,
          "arrowsize": 4,
          "arrowwidth": 1,
          "ax": 1.4901161193847656e-8,
          "axref": "x",
          "ay": -1.4901161193847656e-8,
          "ayref": "y",
          "opacity": 1,
          "showarrow": true,
          "x": 0.2022542580962181,
          "xref": "x",
          "y": 0.14694630354642868,
          "yref": "y"
         },
         {
          "arrowhead": 3,
          "arrowsize": 4,
          "arrowwidth": 1,
          "ax": 1.4901161193847656e-8,
          "axref": "x",
          "ay": -1.4901161193847656e-8,
          "ayref": "y",
          "opacity": 1,
          "showarrow": true,
          "x": 0.2022542580962181,
          "xref": "x",
          "y": 0.14694630354642868,
          "yref": "y"
         },
         {
          "arrowhead": 3,
          "arrowsize": 4,
          "arrowwidth": 1,
          "ax": 1.4901161193847656e-8,
          "axref": "x",
          "ay": -1.4901161193847656e-8,
          "ayref": "y",
          "opacity": 1,
          "showarrow": true,
          "x": 0.2022542580962181,
          "xref": "x",
          "y": 0.14694630354642868,
          "yref": "y"
         },
         {
          "arrowhead": 3,
          "arrowsize": 4,
          "arrowwidth": 1,
          "ax": 1.4901161193847656e-8,
          "axref": "x",
          "ay": -1.4901161193847656e-8,
          "ayref": "y",
          "opacity": 1,
          "showarrow": true,
          "x": 0.2022542580962181,
          "xref": "x",
          "y": 0.14694630354642868,
          "yref": "y"
         },
         {
          "arrowhead": 3,
          "arrowsize": 4,
          "arrowwidth": 1,
          "ax": 1.4901161193847656e-8,
          "axref": "x",
          "ay": -1.4901161193847656e-8,
          "ayref": "y",
          "opacity": 1,
          "showarrow": true,
          "x": 0.2022542580962181,
          "xref": "x",
          "y": 0.14694630354642868,
          "yref": "y"
         },
         {
          "arrowhead": 3,
          "arrowsize": 4,
          "arrowwidth": 1,
          "ax": 0.32725419849157333,
          "axref": "x",
          "ay": 0.23776419361563939,
          "ayref": "y",
          "opacity": 1,
          "showarrow": true,
          "x": 0.24088129773736,
          "xref": "x",
          "y": 0.3566462467120708,
          "yref": "y"
         },
         {
          "arrowhead": 3,
          "arrowsize": 4,
          "arrowwidth": 1,
          "ax": -0.1250000074505806,
          "axref": "x",
          "ay": 0.38471052050590515,
          "ayref": "y",
          "opacity": 1,
          "showarrow": true,
          "x": 0.014754194766283035,
          "xref": "x",
          "y": 0.4301194101572037,
          "yref": "y"
         },
         {
          "arrowhead": 3,
          "arrowsize": 4,
          "arrowwidth": 1,
          "ax": 0.2795085087418556,
          "axref": "x",
          "ay": 0.09081791341304779,
          "ayref": "y",
          "opacity": 1,
          "showarrow": true,
          "x": 0.21700845286250114,
          "xref": "x",
          "y": 0.283173106610775,
          "yref": "y"
         },
         {
          "arrowhead": 3,
          "arrowsize": 4,
          "arrowwidth": 1,
          "ax": -8.195638656616211e-8,
          "axref": "x",
          "ay": 2.9802322387695312e-8,
          "ayref": "y",
          "opacity": 1,
          "showarrow": true,
          "x": 0.07725415751338005,
          "xref": "x",
          "y": 0.2377641648054123,
          "yref": "y"
         },
         {
          "arrowhead": 3,
          "arrowsize": 4,
          "arrowwidth": 1,
          "ax": -0.07725435495376587,
          "axref": "x",
          "ay": 0.23776409029960632,
          "ayref": "y",
          "opacity": 1,
          "showarrow": true,
          "x": -0.038627177476882935,
          "xref": "x",
          "y": 0.11888204514980316,
          "yref": "y"
         },
         {
          "arrowhead": 3,
          "arrowsize": 4,
          "arrowwidth": 1,
          "ax": -0.07725435495376587,
          "axref": "x",
          "ay": 0.23776409029960632,
          "ayref": "y",
          "opacity": 1,
          "showarrow": true,
          "x": -0.038627177476882935,
          "xref": "x",
          "y": 0.11888204514980316,
          "yref": "y"
         },
         {
          "arrowhead": 3,
          "arrowsize": 4,
          "arrowwidth": 1,
          "ax": -0.07725435495376587,
          "axref": "x",
          "ay": 0.23776409029960632,
          "ayref": "y",
          "opacity": 1,
          "showarrow": true,
          "x": -0.038627177476882935,
          "xref": "x",
          "y": 0.11888204514980316,
          "yref": "y"
         },
         {
          "arrowhead": 3,
          "arrowsize": 4,
          "arrowwidth": 1,
          "ax": -0.07725435495376587,
          "axref": "x",
          "ay": 0.23776409029960632,
          "ayref": "y",
          "opacity": 1,
          "showarrow": true,
          "x": -0.038627177476882935,
          "xref": "x",
          "y": 0.11888204514980316,
          "yref": "y"
         },
         {
          "arrowhead": 3,
          "arrowsize": 4,
          "arrowwidth": 1,
          "ax": -0.07725435495376587,
          "axref": "x",
          "ay": 0.23776409029960632,
          "ayref": "y",
          "opacity": 1,
          "showarrow": true,
          "x": -0.038627177476882935,
          "xref": "x",
          "y": 0.11888204514980316,
          "yref": "y"
         },
         {
          "arrowhead": 3,
          "arrowsize": 4,
          "arrowwidth": 1,
          "ax": -0.07725435495376587,
          "axref": "x",
          "ay": 0.23776409029960632,
          "ayref": "y",
          "opacity": 1,
          "showarrow": true,
          "x": -0.1158815324306488,
          "xref": "x",
          "y": 0.3566461354494095,
          "yref": "y"
         },
         {
          "arrowhead": 3,
          "arrowsize": 4,
          "arrowwidth": 1,
          "ax": -0.07725435495376587,
          "axref": "x",
          "ay": 0.23776409029960632,
          "ayref": "y",
          "opacity": 1,
          "showarrow": true,
          "x": -0.1158815324306488,
          "xref": "x",
          "y": 0.3566461354494095,
          "yref": "y"
         },
         {
          "arrowhead": 3,
          "arrowsize": 4,
          "arrowwidth": 1,
          "ax": -0.07725435495376587,
          "axref": "x",
          "ay": 0.23776409029960632,
          "ayref": "y",
          "opacity": 1,
          "showarrow": true,
          "x": -0.1158815324306488,
          "xref": "x",
          "y": 0.3566461354494095,
          "yref": "y"
         },
         {
          "arrowhead": 3,
          "arrowsize": 4,
          "arrowwidth": 1,
          "ax": -0.07725435495376587,
          "axref": "x",
          "ay": 0.23776409029960632,
          "ayref": "y",
          "opacity": 1,
          "showarrow": true,
          "x": -0.1158815324306488,
          "xref": "x",
          "y": 0.3566461354494095,
          "yref": "y"
         },
         {
          "arrowhead": 3,
          "arrowsize": 4,
          "arrowwidth": 1,
          "ax": -0.07725435495376587,
          "axref": "x",
          "ay": 0.23776409029960632,
          "ayref": "y",
          "opacity": 1,
          "showarrow": true,
          "x": -0.1158815324306488,
          "xref": "x",
          "y": 0.3566461354494095,
          "yref": "y"
         },
         {
          "arrowhead": 3,
          "arrowsize": 4,
          "arrowwidth": 1,
          "ax": -0.1727457195520401,
          "axref": "x",
          "ay": -0.23776414195762285,
          "ayref": "y",
          "opacity": 1,
          "showarrow": true,
          "x": -0.33637285977602005,
          "xref": "x",
          "y": -0.11888209283450557,
          "yref": "y"
         }
        ],
        "clickmode": "event+select",
        "height": 600,
        "hovermode": "closest",
        "margin": {
         "b": 40,
         "l": 40,
         "r": 40,
         "t": 40
        },
        "showlegend": false,
        "template": {
         "data": {
          "bar": [
           {
            "error_x": {
             "color": "#2a3f5f"
            },
            "error_y": {
             "color": "#2a3f5f"
            },
            "marker": {
             "line": {
              "color": "#E5ECF6",
              "width": 0.5
             },
             "pattern": {
              "fillmode": "overlay",
              "size": 10,
              "solidity": 0.2
             }
            },
            "type": "bar"
           }
          ],
          "barpolar": [
           {
            "marker": {
             "line": {
              "color": "#E5ECF6",
              "width": 0.5
             },
             "pattern": {
              "fillmode": "overlay",
              "size": 10,
              "solidity": 0.2
             }
            },
            "type": "barpolar"
           }
          ],
          "carpet": [
           {
            "aaxis": {
             "endlinecolor": "#2a3f5f",
             "gridcolor": "white",
             "linecolor": "white",
             "minorgridcolor": "white",
             "startlinecolor": "#2a3f5f"
            },
            "baxis": {
             "endlinecolor": "#2a3f5f",
             "gridcolor": "white",
             "linecolor": "white",
             "minorgridcolor": "white",
             "startlinecolor": "#2a3f5f"
            },
            "type": "carpet"
           }
          ],
          "choropleth": [
           {
            "colorbar": {
             "outlinewidth": 0,
             "ticks": ""
            },
            "type": "choropleth"
           }
          ],
          "contour": [
           {
            "colorbar": {
             "outlinewidth": 0,
             "ticks": ""
            },
            "colorscale": [
             [
              0,
              "#0d0887"
             ],
             [
              0.1111111111111111,
              "#46039f"
             ],
             [
              0.2222222222222222,
              "#7201a8"
             ],
             [
              0.3333333333333333,
              "#9c179e"
             ],
             [
              0.4444444444444444,
              "#bd3786"
             ],
             [
              0.5555555555555556,
              "#d8576b"
             ],
             [
              0.6666666666666666,
              "#ed7953"
             ],
             [
              0.7777777777777778,
              "#fb9f3a"
             ],
             [
              0.8888888888888888,
              "#fdca26"
             ],
             [
              1,
              "#f0f921"
             ]
            ],
            "type": "contour"
           }
          ],
          "contourcarpet": [
           {
            "colorbar": {
             "outlinewidth": 0,
             "ticks": ""
            },
            "type": "contourcarpet"
           }
          ],
          "heatmap": [
           {
            "colorbar": {
             "outlinewidth": 0,
             "ticks": ""
            },
            "colorscale": [
             [
              0,
              "#0d0887"
             ],
             [
              0.1111111111111111,
              "#46039f"
             ],
             [
              0.2222222222222222,
              "#7201a8"
             ],
             [
              0.3333333333333333,
              "#9c179e"
             ],
             [
              0.4444444444444444,
              "#bd3786"
             ],
             [
              0.5555555555555556,
              "#d8576b"
             ],
             [
              0.6666666666666666,
              "#ed7953"
             ],
             [
              0.7777777777777778,
              "#fb9f3a"
             ],
             [
              0.8888888888888888,
              "#fdca26"
             ],
             [
              1,
              "#f0f921"
             ]
            ],
            "type": "heatmap"
           }
          ],
          "heatmapgl": [
           {
            "colorbar": {
             "outlinewidth": 0,
             "ticks": ""
            },
            "colorscale": [
             [
              0,
              "#0d0887"
             ],
             [
              0.1111111111111111,
              "#46039f"
             ],
             [
              0.2222222222222222,
              "#7201a8"
             ],
             [
              0.3333333333333333,
              "#9c179e"
             ],
             [
              0.4444444444444444,
              "#bd3786"
             ],
             [
              0.5555555555555556,
              "#d8576b"
             ],
             [
              0.6666666666666666,
              "#ed7953"
             ],
             [
              0.7777777777777778,
              "#fb9f3a"
             ],
             [
              0.8888888888888888,
              "#fdca26"
             ],
             [
              1,
              "#f0f921"
             ]
            ],
            "type": "heatmapgl"
           }
          ],
          "histogram": [
           {
            "marker": {
             "pattern": {
              "fillmode": "overlay",
              "size": 10,
              "solidity": 0.2
             }
            },
            "type": "histogram"
           }
          ],
          "histogram2d": [
           {
            "colorbar": {
             "outlinewidth": 0,
             "ticks": ""
            },
            "colorscale": [
             [
              0,
              "#0d0887"
             ],
             [
              0.1111111111111111,
              "#46039f"
             ],
             [
              0.2222222222222222,
              "#7201a8"
             ],
             [
              0.3333333333333333,
              "#9c179e"
             ],
             [
              0.4444444444444444,
              "#bd3786"
             ],
             [
              0.5555555555555556,
              "#d8576b"
             ],
             [
              0.6666666666666666,
              "#ed7953"
             ],
             [
              0.7777777777777778,
              "#fb9f3a"
             ],
             [
              0.8888888888888888,
              "#fdca26"
             ],
             [
              1,
              "#f0f921"
             ]
            ],
            "type": "histogram2d"
           }
          ],
          "histogram2dcontour": [
           {
            "colorbar": {
             "outlinewidth": 0,
             "ticks": ""
            },
            "colorscale": [
             [
              0,
              "#0d0887"
             ],
             [
              0.1111111111111111,
              "#46039f"
             ],
             [
              0.2222222222222222,
              "#7201a8"
             ],
             [
              0.3333333333333333,
              "#9c179e"
             ],
             [
              0.4444444444444444,
              "#bd3786"
             ],
             [
              0.5555555555555556,
              "#d8576b"
             ],
             [
              0.6666666666666666,
              "#ed7953"
             ],
             [
              0.7777777777777778,
              "#fb9f3a"
             ],
             [
              0.8888888888888888,
              "#fdca26"
             ],
             [
              1,
              "#f0f921"
             ]
            ],
            "type": "histogram2dcontour"
           }
          ],
          "mesh3d": [
           {
            "colorbar": {
             "outlinewidth": 0,
             "ticks": ""
            },
            "type": "mesh3d"
           }
          ],
          "parcoords": [
           {
            "line": {
             "colorbar": {
              "outlinewidth": 0,
              "ticks": ""
             }
            },
            "type": "parcoords"
           }
          ],
          "pie": [
           {
            "automargin": true,
            "type": "pie"
           }
          ],
          "scatter": [
           {
            "fillpattern": {
             "fillmode": "overlay",
             "size": 10,
             "solidity": 0.2
            },
            "type": "scatter"
           }
          ],
          "scatter3d": [
           {
            "line": {
             "colorbar": {
              "outlinewidth": 0,
              "ticks": ""
             }
            },
            "marker": {
             "colorbar": {
              "outlinewidth": 0,
              "ticks": ""
             }
            },
            "type": "scatter3d"
           }
          ],
          "scattercarpet": [
           {
            "marker": {
             "colorbar": {
              "outlinewidth": 0,
              "ticks": ""
             }
            },
            "type": "scattercarpet"
           }
          ],
          "scattergeo": [
           {
            "marker": {
             "colorbar": {
              "outlinewidth": 0,
              "ticks": ""
             }
            },
            "type": "scattergeo"
           }
          ],
          "scattergl": [
           {
            "marker": {
             "colorbar": {
              "outlinewidth": 0,
              "ticks": ""
             }
            },
            "type": "scattergl"
           }
          ],
          "scattermapbox": [
           {
            "marker": {
             "colorbar": {
              "outlinewidth": 0,
              "ticks": ""
             }
            },
            "type": "scattermapbox"
           }
          ],
          "scatterpolar": [
           {
            "marker": {
             "colorbar": {
              "outlinewidth": 0,
              "ticks": ""
             }
            },
            "type": "scatterpolar"
           }
          ],
          "scatterpolargl": [
           {
            "marker": {
             "colorbar": {
              "outlinewidth": 0,
              "ticks": ""
             }
            },
            "type": "scatterpolargl"
           }
          ],
          "scatterternary": [
           {
            "marker": {
             "colorbar": {
              "outlinewidth": 0,
              "ticks": ""
             }
            },
            "type": "scatterternary"
           }
          ],
          "surface": [
           {
            "colorbar": {
             "outlinewidth": 0,
             "ticks": ""
            },
            "colorscale": [
             [
              0,
              "#0d0887"
             ],
             [
              0.1111111111111111,
              "#46039f"
             ],
             [
              0.2222222222222222,
              "#7201a8"
             ],
             [
              0.3333333333333333,
              "#9c179e"
             ],
             [
              0.4444444444444444,
              "#bd3786"
             ],
             [
              0.5555555555555556,
              "#d8576b"
             ],
             [
              0.6666666666666666,
              "#ed7953"
             ],
             [
              0.7777777777777778,
              "#fb9f3a"
             ],
             [
              0.8888888888888888,
              "#fdca26"
             ],
             [
              1,
              "#f0f921"
             ]
            ],
            "type": "surface"
           }
          ],
          "table": [
           {
            "cells": {
             "fill": {
              "color": "#EBF0F8"
             },
             "line": {
              "color": "white"
             }
            },
            "header": {
             "fill": {
              "color": "#C8D4E3"
             },
             "line": {
              "color": "white"
             }
            },
            "type": "table"
           }
          ]
         },
         "layout": {
          "annotationdefaults": {
           "arrowcolor": "#2a3f5f",
           "arrowhead": 0,
           "arrowwidth": 1
          },
          "autotypenumbers": "strict",
          "coloraxis": {
           "colorbar": {
            "outlinewidth": 0,
            "ticks": ""
           }
          },
          "colorscale": {
           "diverging": [
            [
             0,
             "#8e0152"
            ],
            [
             0.1,
             "#c51b7d"
            ],
            [
             0.2,
             "#de77ae"
            ],
            [
             0.3,
             "#f1b6da"
            ],
            [
             0.4,
             "#fde0ef"
            ],
            [
             0.5,
             "#f7f7f7"
            ],
            [
             0.6,
             "#e6f5d0"
            ],
            [
             0.7,
             "#b8e186"
            ],
            [
             0.8,
             "#7fbc41"
            ],
            [
             0.9,
             "#4d9221"
            ],
            [
             1,
             "#276419"
            ]
           ],
           "sequential": [
            [
             0,
             "#0d0887"
            ],
            [
             0.1111111111111111,
             "#46039f"
            ],
            [
             0.2222222222222222,
             "#7201a8"
            ],
            [
             0.3333333333333333,
             "#9c179e"
            ],
            [
             0.4444444444444444,
             "#bd3786"
            ],
            [
             0.5555555555555556,
             "#d8576b"
            ],
            [
             0.6666666666666666,
             "#ed7953"
            ],
            [
             0.7777777777777778,
             "#fb9f3a"
            ],
            [
             0.8888888888888888,
             "#fdca26"
            ],
            [
             1,
             "#f0f921"
            ]
           ],
           "sequentialminus": [
            [
             0,
             "#0d0887"
            ],
            [
             0.1111111111111111,
             "#46039f"
            ],
            [
             0.2222222222222222,
             "#7201a8"
            ],
            [
             0.3333333333333333,
             "#9c179e"
            ],
            [
             0.4444444444444444,
             "#bd3786"
            ],
            [
             0.5555555555555556,
             "#d8576b"
            ],
            [
             0.6666666666666666,
             "#ed7953"
            ],
            [
             0.7777777777777778,
             "#fb9f3a"
            ],
            [
             0.8888888888888888,
             "#fdca26"
            ],
            [
             1,
             "#f0f921"
            ]
           ]
          },
          "colorway": [
           "#636efa",
           "#EF553B",
           "#00cc96",
           "#ab63fa",
           "#FFA15A",
           "#19d3f3",
           "#FF6692",
           "#B6E880",
           "#FF97FF",
           "#FECB52"
          ],
          "font": {
           "color": "#2a3f5f"
          },
          "geo": {
           "bgcolor": "white",
           "lakecolor": "white",
           "landcolor": "#E5ECF6",
           "showlakes": true,
           "showland": true,
           "subunitcolor": "white"
          },
          "hoverlabel": {
           "align": "left"
          },
          "hovermode": "closest",
          "mapbox": {
           "style": "light"
          },
          "paper_bgcolor": "white",
          "plot_bgcolor": "#E5ECF6",
          "polar": {
           "angularaxis": {
            "gridcolor": "white",
            "linecolor": "white",
            "ticks": ""
           },
           "bgcolor": "#E5ECF6",
           "radialaxis": {
            "gridcolor": "white",
            "linecolor": "white",
            "ticks": ""
           }
          },
          "scene": {
           "xaxis": {
            "backgroundcolor": "#E5ECF6",
            "gridcolor": "white",
            "gridwidth": 2,
            "linecolor": "white",
            "showbackground": true,
            "ticks": "",
            "zerolinecolor": "white"
           },
           "yaxis": {
            "backgroundcolor": "#E5ECF6",
            "gridcolor": "white",
            "gridwidth": 2,
            "linecolor": "white",
            "showbackground": true,
            "ticks": "",
            "zerolinecolor": "white"
           },
           "zaxis": {
            "backgroundcolor": "#E5ECF6",
            "gridcolor": "white",
            "gridwidth": 2,
            "linecolor": "white",
            "showbackground": true,
            "ticks": "",
            "zerolinecolor": "white"
           }
          },
          "shapedefaults": {
           "line": {
            "color": "#2a3f5f"
           }
          },
          "ternary": {
           "aaxis": {
            "gridcolor": "white",
            "linecolor": "white",
            "ticks": ""
           },
           "baxis": {
            "gridcolor": "white",
            "linecolor": "white",
            "ticks": ""
           },
           "bgcolor": "#E5ECF6",
           "caxis": {
            "gridcolor": "white",
            "linecolor": "white",
            "ticks": ""
           }
          },
          "title": {
           "x": 0.05
          },
          "xaxis": {
           "automargin": true,
           "gridcolor": "white",
           "linecolor": "white",
           "ticks": "",
           "title": {
            "standoff": 15
           },
           "zerolinecolor": "white",
           "zerolinewidth": 2
          },
          "yaxis": {
           "automargin": true,
           "gridcolor": "white",
           "linecolor": "white",
           "ticks": "",
           "title": {
            "standoff": 15
           },
           "zerolinecolor": "white",
           "zerolinewidth": 2
          }
         }
        },
        "title": {
         "text": "Interactive Transaction Visualization"
        },
        "xaxis": {
         "showgrid": false,
         "showticklabels": false,
         "zeroline": false
        },
        "yaxis": {
         "showgrid": false,
         "showticklabels": false,
         "zeroline": false
        }
       }
      }
     },
     "metadata": {},
     "output_type": "display_data"
    }
   ],
   "source": [
    "go.Figure(figure)"
   ]
  },
  {
   "cell_type": "code",
   "execution_count": null,
   "metadata": {},
   "outputs": [],
   "source": []
  }
 ],
 "metadata": {
  "kernelspec": {
   "display_name": "Python 3.9.12 ('teampai')",
   "language": "python",
   "name": "python3"
  },
  "language_info": {
   "codemirror_mode": {
    "name": "ipython",
    "version": 3
   },
   "file_extension": ".py",
   "mimetype": "text/x-python",
   "name": "python",
   "nbconvert_exporter": "python",
   "pygments_lexer": "ipython3",
   "version": "3.9.12"
  },
  "orig_nbformat": 4,
  "vscode": {
   "interpreter": {
    "hash": "fb8b73107ff42e6e5ac348881d566a03211f06326dca1edeb2f1de8c35955c7b"
   }
  }
 },
 "nbformat": 4,
 "nbformat_minor": 2
}
