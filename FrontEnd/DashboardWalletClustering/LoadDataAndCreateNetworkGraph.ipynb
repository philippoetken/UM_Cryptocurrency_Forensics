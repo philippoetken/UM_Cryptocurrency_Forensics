{
 "cells": [
  {
   "cell_type": "code",
   "execution_count": 1,
   "metadata": {},
   "outputs": [
    {
     "name": "stderr",
     "output_type": "stream",
     "text": [
      "C:\\Users\\tobi1\\AppData\\Local\\Temp\\ipykernel_35580\\3859846655.py:5: UserWarning: \n",
      "The dash_core_components package is deprecated. Please replace\n",
      "`import dash_core_components as dcc` with `from dash import dcc`\n",
      "  import dash_core_components as dcc\n",
      "C:\\Users\\tobi1\\AppData\\Local\\Temp\\ipykernel_35580\\3859846655.py:6: UserWarning: \n",
      "The dash_html_components package is deprecated. Please replace\n",
      "`import dash_html_components as html` with `from dash import html`\n",
      "  import dash_html_components as html\n"
     ]
    }
   ],
   "source": [
    "import pandas as pd\n",
    "import pickle as pkl\n",
    "\n",
    "import dash\n",
    "import dash_core_components as dcc\n",
    "import dash_html_components as html\n",
    "import networkx as nx\n",
    "import plotly.graph_objs as go\n",
    "\n",
    "import numpy as np\n",
    "import pandas as pd\n",
    "from colour import Color\n",
    "from datetime import datetime\n",
    "from textwrap import dedent as d\n",
    "import json"
   ]
  },
  {
   "cell_type": "code",
   "execution_count": 2,
   "metadata": {},
   "outputs": [],
   "source": [
    "# with open(r'C:\\Users\\tobi1\\OneDrive\\S2_Uni_Mannheim\\Team_Project_BitcoinFlorensics\\Git_code_teamp\\UM_Cryptocurrency_Forensics\\WalletClustering\\output\\flowGraph_Center.pickle', 'rb') as f:\n",
    "#     flowGraph_Center = pkl.load(f)\n",
    "\n",
    "# with open(r'C:\\Users\\tobi1\\OneDrive\\S2_Uni_Mannheim\\Team_Project_BitcoinFlorensics\\Git_code_teamp\\UM_Cryptocurrency_Forensics\\WalletClustering\\output\\flowGraph_Input.pickle', 'rb') as f:\n",
    "#     flowGraph_Input = pkl.load(f)\n",
    "\n",
    "# with open(r'C:\\Users\\tobi1\\OneDrive\\S2_Uni_Mannheim\\Team_Project_BitcoinFlorensics\\Git_code_teamp\\UM_Cryptocurrency_Forensics\\WalletClustering\\output\\flowGraph_Output.pickle', 'rb') as f:\n",
    "#     flowGraph_Output = pkl.load(f)\n",
    "\n"
   ]
  },
  {
   "cell_type": "code",
   "execution_count": 3,
   "metadata": {},
   "outputs": [],
   "source": [
    "# list([flowGraph_Input,flowGraph_Center, flowGraph_Output])\n",
    "# flat_list = [item for sublist in l for item in sublist]"
   ]
  },
  {
   "cell_type": "code",
   "execution_count": 4,
   "metadata": {},
   "outputs": [],
   "source": [
    "# list_a = ['test1', 'test2', 'test3']\n",
    "# list_b = ['test1_2', 'test2_2', 'test3_2']\n",
    "\n",
    "# list_of_rows = []\n",
    "# for i in range(len(list_a)):\n",
    "#     row = {}\n",
    "\n",
    "#     row['Account']=list_a[i]\n",
    "#     row['Amount']=list_b[i]\n",
    "\n",
    "#     list_of_rows.append(row)\n",
    "\n",
    "# pd.DataFrame(list_of_rows)"
   ]
  },
  {
   "cell_type": "code",
   "execution_count": 5,
   "metadata": {},
   "outputs": [],
   "source": [
    "# list_of_rows = []\n",
    "# for i in range(len(list_a)):\n",
    "#     row = {}\n",
    "\n",
    "#     row['Account']=list_a[i]\n",
    "#     row['Amount']=list_b[i]\n",
    "\n",
    "#     list_of_rows.append(row)\n",
    "\n",
    "# pd.DataFrame(list_of_rows)"
   ]
  },
  {
   "cell_type": "code",
   "execution_count": 6,
   "metadata": {},
   "outputs": [],
   "source": [
    "with open(r'C:\\Users\\tobi1\\OneDrive\\S2_Uni_Mannheim\\Team_Project_BitcoinFlorensics\\Git_code_teamp\\UM_Cryptocurrency_Forensics\\WalletClustering\\output\\flowGraph_inEdges.pickle', 'rb') as f:\n",
    "    flowGraph_inEdges = pkl.load(f)\n",
    "\n",
    "with open(r'C:\\Users\\tobi1\\OneDrive\\S2_Uni_Mannheim\\Team_Project_BitcoinFlorensics\\Git_code_teamp\\UM_Cryptocurrency_Forensics\\WalletClustering\\output\\flowGraph_nodes.pickle', 'rb') as f:\n",
    "    flowGraph_nodes = pkl.load(f)\n",
    "\n",
    "with open(r'C:\\Users\\tobi1\\OneDrive\\S2_Uni_Mannheim\\Team_Project_BitcoinFlorensics\\Git_code_teamp\\UM_Cryptocurrency_Forensics\\WalletClustering\\output\\flowGraph_outEdges.pickle', 'rb') as f:\n",
    "    flowGraph_outEdges = pkl.load(f)\n",
    "\n"
   ]
  },
  {
   "cell_type": "code",
   "execution_count": 7,
   "metadata": {},
   "outputs": [],
   "source": [
    "# Association = wallet "
   ]
  },
  {
   "cell_type": "code",
   "execution_count": 8,
   "metadata": {},
   "outputs": [
    {
     "data": {
      "text/html": [
       "<div>\n",
       "<style scoped>\n",
       "    .dataframe tbody tr th:only-of-type {\n",
       "        vertical-align: middle;\n",
       "    }\n",
       "\n",
       "    .dataframe tbody tr th {\n",
       "        vertical-align: top;\n",
       "    }\n",
       "\n",
       "    .dataframe thead th {\n",
       "        text-align: right;\n",
       "    }\n",
       "</style>\n",
       "<table border=\"1\" class=\"dataframe\">\n",
       "  <thead>\n",
       "    <tr style=\"text-align: right;\">\n",
       "      <th></th>\n",
       "      <th>Input_Addresses</th>\n",
       "      <th>Value_Received_from_Inp</th>\n",
       "      <th>Value_Send_from_Inp</th>\n",
       "      <th>Transaction_ID</th>\n",
       "      <th>Association</th>\n",
       "    </tr>\n",
       "  </thead>\n",
       "  <tbody>\n",
       "    <tr>\n",
       "      <th>0</th>\n",
       "      <td>1FoWyxwPXuj4C6abqwhjDWdz6D4PZgYRjA</td>\n",
       "      <td>546</td>\n",
       "      <td>1043357</td>\n",
       "      <td>ee083ed94b8239d8694d5cddf2bded70bf26fc9a001ec9...</td>\n",
       "      <td>ze3ws3ckYylbZwpXj6xNRXSBeRkenIzY</td>\n",
       "    </tr>\n",
       "    <tr>\n",
       "      <th>1</th>\n",
       "      <td>1L1WzDvXjMJVXJPijVVZQ2nLDKM5iqCqap</td>\n",
       "      <td>500000</td>\n",
       "      <td>3000</td>\n",
       "      <td>b6eeee4e46b685058783a34479b6e205c675fd2bf691e9...</td>\n",
       "      <td>FMKb71RPmguLvGGijceGfTeZJWIyYdFI</td>\n",
       "    </tr>\n",
       "    <tr>\n",
       "      <th>2</th>\n",
       "      <td>1JwNMGo72d2hxBHQh1XyNr1yB4Gt6fx95U</td>\n",
       "      <td>500000</td>\n",
       "      <td>14042800</td>\n",
       "      <td>b6eeee4e46b685058783a34479b6e205c675fd2bf691e9...</td>\n",
       "      <td>FMKb71RPmguLvGGijceGfTeZJWIyYdFI</td>\n",
       "    </tr>\n",
       "    <tr>\n",
       "      <th>3</th>\n",
       "      <td>1AwzkRiEgnPeRfv9U6uWbuJAF8tMvVxibE</td>\n",
       "      <td>500000</td>\n",
       "      <td>438000</td>\n",
       "      <td>b6eeee4e46b685058783a34479b6e205c675fd2bf691e9...</td>\n",
       "      <td>FMKb71RPmguLvGGijceGfTeZJWIyYdFI</td>\n",
       "    </tr>\n",
       "    <tr>\n",
       "      <th>4</th>\n",
       "      <td>19ZCrdhDBGJBiiriEvknhADpBAWJQYZMcV</td>\n",
       "      <td>500000</td>\n",
       "      <td>43815</td>\n",
       "      <td>b6eeee4e46b685058783a34479b6e205c675fd2bf691e9...</td>\n",
       "      <td>FMKb71RPmguLvGGijceGfTeZJWIyYdFI</td>\n",
       "    </tr>\n",
       "  </tbody>\n",
       "</table>\n",
       "</div>"
      ],
      "text/plain": [
       "                      Input_Addresses  Value_Received_from_Inp  \\\n",
       "0  1FoWyxwPXuj4C6abqwhjDWdz6D4PZgYRjA                      546   \n",
       "1  1L1WzDvXjMJVXJPijVVZQ2nLDKM5iqCqap                   500000   \n",
       "2  1JwNMGo72d2hxBHQh1XyNr1yB4Gt6fx95U                   500000   \n",
       "3  1AwzkRiEgnPeRfv9U6uWbuJAF8tMvVxibE                   500000   \n",
       "4  19ZCrdhDBGJBiiriEvknhADpBAWJQYZMcV                   500000   \n",
       "\n",
       "   Value_Send_from_Inp                                     Transaction_ID  \\\n",
       "0              1043357  ee083ed94b8239d8694d5cddf2bded70bf26fc9a001ec9...   \n",
       "1                 3000  b6eeee4e46b685058783a34479b6e205c675fd2bf691e9...   \n",
       "2             14042800  b6eeee4e46b685058783a34479b6e205c675fd2bf691e9...   \n",
       "3               438000  b6eeee4e46b685058783a34479b6e205c675fd2bf691e9...   \n",
       "4                43815  b6eeee4e46b685058783a34479b6e205c675fd2bf691e9...   \n",
       "\n",
       "                        Association  \n",
       "0  ze3ws3ckYylbZwpXj6xNRXSBeRkenIzY  \n",
       "1  FMKb71RPmguLvGGijceGfTeZJWIyYdFI  \n",
       "2  FMKb71RPmguLvGGijceGfTeZJWIyYdFI  \n",
       "3  FMKb71RPmguLvGGijceGfTeZJWIyYdFI  \n",
       "4  FMKb71RPmguLvGGijceGfTeZJWIyYdFI  "
      ]
     },
     "execution_count": 8,
     "metadata": {},
     "output_type": "execute_result"
    }
   ],
   "source": [
    "flowGraph_inEdges.head(5)\n",
    "# Association is important #   \n",
    "\n",
    "# Send from address to center (Value_Send_from_Inp)\n",
    "# center Value_Received_from_Inp got from transaction (can be more)"
   ]
  },
  {
   "cell_type": "code",
   "execution_count": 9,
   "metadata": {},
   "outputs": [
    {
     "data": {
      "text/html": [
       "<div>\n",
       "<style scoped>\n",
       "    .dataframe tbody tr th:only-of-type {\n",
       "        vertical-align: middle;\n",
       "    }\n",
       "\n",
       "    .dataframe tbody tr th {\n",
       "        vertical-align: top;\n",
       "    }\n",
       "\n",
       "    .dataframe thead th {\n",
       "        text-align: right;\n",
       "    }\n",
       "</style>\n",
       "<table border=\"1\" class=\"dataframe\">\n",
       "  <thead>\n",
       "    <tr style=\"text-align: right;\">\n",
       "      <th></th>\n",
       "      <th>Output_Addresses</th>\n",
       "      <th>Value_send_to_Outp</th>\n",
       "      <th>Value_rec_from_Outp</th>\n",
       "      <th>Transaction_ID</th>\n",
       "      <th>Association</th>\n",
       "    </tr>\n",
       "  </thead>\n",
       "  <tbody>\n",
       "    <tr>\n",
       "      <th>0</th>\n",
       "      <td>1FoWyxwPXuj4C6abqwhjDWdz6D4PZgYRjA</td>\n",
       "      <td>500000</td>\n",
       "      <td>546</td>\n",
       "      <td>3a785a153bfd7d77bdf7b8dcce6ba24feeb9b1bffdb723...</td>\n",
       "      <td>ze3ws3ckYylbZwpXj6xNRXSBeRkenIzY</td>\n",
       "    </tr>\n",
       "    <tr>\n",
       "      <th>1</th>\n",
       "      <td>12sDU3FyYJXc2oRzE6XXuuhVHCBJvaoCC8</td>\n",
       "      <td>500000</td>\n",
       "      <td>494281</td>\n",
       "      <td>3a785a153bfd7d77bdf7b8dcce6ba24feeb9b1bffdb723...</td>\n",
       "      <td>yYiOdGN2a2TGR8GBwrMtk1CkMAFUcaan</td>\n",
       "    </tr>\n",
       "    <tr>\n",
       "      <th>2</th>\n",
       "      <td>1FoWyxwPXuj4C6abqwhjDWdz6D4PZgYRjA</td>\n",
       "      <td>494281</td>\n",
       "      <td>546</td>\n",
       "      <td>1b1be7bab9f905ffcf083e3483705f0e621a9518930b69...</td>\n",
       "      <td>ze3ws3ckYylbZwpXj6xNRXSBeRkenIzY</td>\n",
       "    </tr>\n",
       "    <tr>\n",
       "      <th>3</th>\n",
       "      <td>12sDU3FyYJXc2oRzE6XXuuhVHCBJvaoCC8</td>\n",
       "      <td>494281</td>\n",
       "      <td>489847</td>\n",
       "      <td>1b1be7bab9f905ffcf083e3483705f0e621a9518930b69...</td>\n",
       "      <td>yYiOdGN2a2TGR8GBwrMtk1CkMAFUcaan</td>\n",
       "    </tr>\n",
       "    <tr>\n",
       "      <th>4</th>\n",
       "      <td>1FoWyxwPXuj4C6abqwhjDWdz6D4PZgYRjA</td>\n",
       "      <td>489847</td>\n",
       "      <td>546</td>\n",
       "      <td>6da7a5d3797a1457a7910804128b53b82640a621d848ce...</td>\n",
       "      <td>ze3ws3ckYylbZwpXj6xNRXSBeRkenIzY</td>\n",
       "    </tr>\n",
       "  </tbody>\n",
       "</table>\n",
       "</div>"
      ],
      "text/plain": [
       "                     Output_Addresses  Value_send_to_Outp  \\\n",
       "0  1FoWyxwPXuj4C6abqwhjDWdz6D4PZgYRjA              500000   \n",
       "1  12sDU3FyYJXc2oRzE6XXuuhVHCBJvaoCC8              500000   \n",
       "2  1FoWyxwPXuj4C6abqwhjDWdz6D4PZgYRjA              494281   \n",
       "3  12sDU3FyYJXc2oRzE6XXuuhVHCBJvaoCC8              494281   \n",
       "4  1FoWyxwPXuj4C6abqwhjDWdz6D4PZgYRjA              489847   \n",
       "\n",
       "   Value_rec_from_Outp                                     Transaction_ID  \\\n",
       "0                  546  3a785a153bfd7d77bdf7b8dcce6ba24feeb9b1bffdb723...   \n",
       "1               494281  3a785a153bfd7d77bdf7b8dcce6ba24feeb9b1bffdb723...   \n",
       "2                  546  1b1be7bab9f905ffcf083e3483705f0e621a9518930b69...   \n",
       "3               489847  1b1be7bab9f905ffcf083e3483705f0e621a9518930b69...   \n",
       "4                  546  6da7a5d3797a1457a7910804128b53b82640a621d848ce...   \n",
       "\n",
       "                        Association  \n",
       "0  ze3ws3ckYylbZwpXj6xNRXSBeRkenIzY  \n",
       "1  yYiOdGN2a2TGR8GBwrMtk1CkMAFUcaan  \n",
       "2  ze3ws3ckYylbZwpXj6xNRXSBeRkenIzY  \n",
       "3  yYiOdGN2a2TGR8GBwrMtk1CkMAFUcaan  \n",
       "4  ze3ws3ckYylbZwpXj6xNRXSBeRkenIzY  "
      ]
     },
     "execution_count": 9,
     "metadata": {},
     "output_type": "execute_result"
    }
   ],
   "source": [
    "flowGraph_outEdges.head(5)\n",
    "# Value_rec_from_Outp: reveived node got from center\n",
    "# Value_send_to_Outp send by transaction "
   ]
  },
  {
   "cell_type": "code",
   "execution_count": 10,
   "metadata": {},
   "outputs": [
    {
     "data": {
      "text/plain": [
       "['yYiOdGN2a2TGR8GBwrMtk1CkMAFUcaan',\n",
       " ['ze3ws3ckYylbZwpXj6xNRXSBeRkenIzY', 'yYiOdGN2a2TGR8GBwrMtk1CkMAFUcaan'],\n",
       " ['ze3ws3ckYylbZwpXj6xNRXSBeRkenIzY',\n",
       "  'yYiOdGN2a2TGR8GBwrMtk1CkMAFUcaan',\n",
       "  '6LjxlCvzxnVaAMo3QuvCyAuyG3fyCyHD',\n",
       "  'FMKb71RPmguLvGGijceGfTeZJWIyYdFI']]"
      ]
     },
     "execution_count": 10,
     "metadata": {},
     "output_type": "execute_result"
    }
   ],
   "source": [
    "#yYiOdGN2a2TGR8GBwrMtk1CkMAFUcaan is center \n",
    "# output addresses/wallets = ['ze3ws3ckYylbZwpXj6xNRXSBeRkenIzY', 'yYiOdGN2a2TGR8GBwrMtk1CkMAFUcaan'],\n",
    "# input addresses/wallets = ['ze3ws3ckYylbZwpXj6xNRXSBeRkenIzY',  'yYiOdGN2a2TGR8GBwrMtk1CkMAFUcaan', '6LjxlCvzxnVaAMo3QuvCyAuyG3fyCyHD',  'FMKb71RPmguLvGGijceGfTeZJWIyYdFI']\n",
    "\n",
    "flowGraph_nodes"
   ]
  },
  {
   "cell_type": "code",
   "execution_count": 56,
   "metadata": {},
   "outputs": [],
   "source": [
    "flowGraph_centerNode =  flowGraph_nodes[0]\n",
    "flowGraph_outputNodes = flowGraph_nodes[1]\t\n",
    "flowGraph_inputNodes = flowGraph_nodes[2]"
   ]
  },
  {
   "cell_type": "markdown",
   "metadata": {},
   "source": [
    "# Fill node1 Dataframe"
   ]
  },
  {
   "cell_type": "code",
   "execution_count": 58,
   "metadata": {},
   "outputs": [
    {
     "data": {
      "text/html": [
       "<div>\n",
       "<style scoped>\n",
       "    .dataframe tbody tr th:only-of-type {\n",
       "        vertical-align: middle;\n",
       "    }\n",
       "\n",
       "    .dataframe tbody tr th {\n",
       "        vertical-align: top;\n",
       "    }\n",
       "\n",
       "    .dataframe thead th {\n",
       "        text-align: right;\n",
       "    }\n",
       "</style>\n",
       "<table border=\"1\" class=\"dataframe\">\n",
       "  <thead>\n",
       "    <tr style=\"text-align: right;\">\n",
       "      <th></th>\n",
       "      <th>Account</th>\n",
       "      <th>CustomerName</th>\n",
       "      <th>Type</th>\n",
       "    </tr>\n",
       "  </thead>\n",
       "  <tbody>\n",
       "    <tr>\n",
       "      <th>0</th>\n",
       "      <td>yYiOdGN2a2TGR8GBwrMtk1CkMAFUcaan</td>\n",
       "      <td>test</td>\n",
       "      <td>CenterNode</td>\n",
       "    </tr>\n",
       "    <tr>\n",
       "      <th>1</th>\n",
       "      <td>ze3ws3ckYylbZwpXj6xNRXSBeRkenIzY</td>\n",
       "      <td>test</td>\n",
       "      <td>OutputAssociation</td>\n",
       "    </tr>\n",
       "    <tr>\n",
       "      <th>2</th>\n",
       "      <td>yYiOdGN2a2TGR8GBwrMtk1CkMAFUcaan</td>\n",
       "      <td>test</td>\n",
       "      <td>OutputAssociation</td>\n",
       "    </tr>\n",
       "    <tr>\n",
       "      <th>3</th>\n",
       "      <td>ze3ws3ckYylbZwpXj6xNRXSBeRkenIzY</td>\n",
       "      <td>test</td>\n",
       "      <td>InputAssociation</td>\n",
       "    </tr>\n",
       "    <tr>\n",
       "      <th>4</th>\n",
       "      <td>yYiOdGN2a2TGR8GBwrMtk1CkMAFUcaan</td>\n",
       "      <td>test</td>\n",
       "      <td>InputAssociation</td>\n",
       "    </tr>\n",
       "    <tr>\n",
       "      <th>5</th>\n",
       "      <td>6LjxlCvzxnVaAMo3QuvCyAuyG3fyCyHD</td>\n",
       "      <td>test</td>\n",
       "      <td>InputAssociation</td>\n",
       "    </tr>\n",
       "    <tr>\n",
       "      <th>6</th>\n",
       "      <td>FMKb71RPmguLvGGijceGfTeZJWIyYdFI</td>\n",
       "      <td>test</td>\n",
       "      <td>InputAssociation</td>\n",
       "    </tr>\n",
       "  </tbody>\n",
       "</table>\n",
       "</div>"
      ],
      "text/plain": [
       "                            Account CustomerName               Type\n",
       "0  yYiOdGN2a2TGR8GBwrMtk1CkMAFUcaan         test         CenterNode\n",
       "1  ze3ws3ckYylbZwpXj6xNRXSBeRkenIzY         test  OutputAssociation\n",
       "2  yYiOdGN2a2TGR8GBwrMtk1CkMAFUcaan         test  OutputAssociation\n",
       "3  ze3ws3ckYylbZwpXj6xNRXSBeRkenIzY         test   InputAssociation\n",
       "4  yYiOdGN2a2TGR8GBwrMtk1CkMAFUcaan         test   InputAssociation\n",
       "5  6LjxlCvzxnVaAMo3QuvCyAuyG3fyCyHD         test   InputAssociation\n",
       "6  FMKb71RPmguLvGGijceGfTeZJWIyYdFI         test   InputAssociation"
      ]
     },
     "execution_count": 58,
     "metadata": {},
     "output_type": "execute_result"
    }
   ],
   "source": [
    "node1 = []\n",
    "\n",
    "# fill node data\n",
    "row = {}\n",
    "row['Account'] = flowGraph_centerNode\n",
    "row['CustomerName'] = 'test'\n",
    "row['Type'] = 'CenterNode'\n",
    "\n",
    "node1.append(row)\n",
    "\n",
    "for node in flowGraph_outputNodes:\n",
    "    row = {}\n",
    "    row['Account'] = node\n",
    "    row['CustomerName'] = 'test'\n",
    "    row['Type'] = 'OutputAssociation'\n",
    "    node1.append(row)\n",
    "\n",
    "for node in flowGraph_inputNodes:\n",
    "    row = {}\n",
    "    row['Account'] = node\n",
    "    row['CustomerName'] = 'test'\n",
    "    row['Type'] = 'InputAssociation'\n",
    "    node1.append(row)\n",
    "\n",
    "node1 = pd.DataFrame(node1)\n",
    "node1"
   ]
  },
  {
   "cell_type": "code",
   "execution_count": 59,
   "metadata": {},
   "outputs": [
    {
     "name": "stderr",
     "output_type": "stream",
     "text": [
      "C:\\Users\\tobi1\\AppData\\Local\\Temp\\ipykernel_35580\\3619233322.py:5: FutureWarning:\n",
      "\n",
      "The frame.append method is deprecated and will be removed from pandas in a future version. Use pandas.concat instead.\n",
      "\n",
      "C:\\Users\\tobi1\\AppData\\Local\\Temp\\ipykernel_35580\\3619233322.py:5: FutureWarning:\n",
      "\n",
      "The frame.append method is deprecated and will be removed from pandas in a future version. Use pandas.concat instead.\n",
      "\n",
      "C:\\Users\\tobi1\\AppData\\Local\\Temp\\ipykernel_35580\\3619233322.py:5: FutureWarning:\n",
      "\n",
      "The frame.append method is deprecated and will be removed from pandas in a future version. Use pandas.concat instead.\n",
      "\n",
      "C:\\Users\\tobi1\\AppData\\Local\\Temp\\ipykernel_35580\\3619233322.py:5: FutureWarning:\n",
      "\n",
      "The frame.append method is deprecated and will be removed from pandas in a future version. Use pandas.concat instead.\n",
      "\n"
     ]
    }
   ],
   "source": [
    "used_Accounts = []\n",
    "node1_new = pd.DataFrame(columns=node1.columns)\n",
    "for i, row in node1.iterrows():\n",
    "    if row['Account'] not in used_Accounts:\n",
    "        node1_new = node1_new.append(row)\n",
    "        used_Accounts.append(row['Account'])\n",
    "node1 = node1_new"
   ]
  },
  {
   "cell_type": "code",
   "execution_count": 60,
   "metadata": {},
   "outputs": [
    {
     "data": {
      "text/html": [
       "<div>\n",
       "<style scoped>\n",
       "    .dataframe tbody tr th:only-of-type {\n",
       "        vertical-align: middle;\n",
       "    }\n",
       "\n",
       "    .dataframe tbody tr th {\n",
       "        vertical-align: top;\n",
       "    }\n",
       "\n",
       "    .dataframe thead th {\n",
       "        text-align: right;\n",
       "    }\n",
       "</style>\n",
       "<table border=\"1\" class=\"dataframe\">\n",
       "  <thead>\n",
       "    <tr style=\"text-align: right;\">\n",
       "      <th></th>\n",
       "      <th>Account</th>\n",
       "      <th>CustomerName</th>\n",
       "      <th>Type</th>\n",
       "    </tr>\n",
       "  </thead>\n",
       "  <tbody>\n",
       "    <tr>\n",
       "      <th>0</th>\n",
       "      <td>yYiOdGN2a2TGR8GBwrMtk1CkMAFUcaan</td>\n",
       "      <td>test</td>\n",
       "      <td>CenterNode</td>\n",
       "    </tr>\n",
       "    <tr>\n",
       "      <th>1</th>\n",
       "      <td>ze3ws3ckYylbZwpXj6xNRXSBeRkenIzY</td>\n",
       "      <td>test</td>\n",
       "      <td>OutputAssociation</td>\n",
       "    </tr>\n",
       "    <tr>\n",
       "      <th>5</th>\n",
       "      <td>6LjxlCvzxnVaAMo3QuvCyAuyG3fyCyHD</td>\n",
       "      <td>test</td>\n",
       "      <td>InputAssociation</td>\n",
       "    </tr>\n",
       "    <tr>\n",
       "      <th>6</th>\n",
       "      <td>FMKb71RPmguLvGGijceGfTeZJWIyYdFI</td>\n",
       "      <td>test</td>\n",
       "      <td>InputAssociation</td>\n",
       "    </tr>\n",
       "  </tbody>\n",
       "</table>\n",
       "</div>"
      ],
      "text/plain": [
       "                            Account CustomerName               Type\n",
       "0  yYiOdGN2a2TGR8GBwrMtk1CkMAFUcaan         test         CenterNode\n",
       "1  ze3ws3ckYylbZwpXj6xNRXSBeRkenIzY         test  OutputAssociation\n",
       "5  6LjxlCvzxnVaAMo3QuvCyAuyG3fyCyHD         test   InputAssociation\n",
       "6  FMKb71RPmguLvGGijceGfTeZJWIyYdFI         test   InputAssociation"
      ]
     },
     "execution_count": 60,
     "metadata": {},
     "output_type": "execute_result"
    }
   ],
   "source": [
    "node1_new"
   ]
  },
  {
   "cell_type": "markdown",
   "metadata": {},
   "source": [
    "# Create Edge1 dataframe"
   ]
  },
  {
   "cell_type": "code",
   "execution_count": 62,
   "metadata": {},
   "outputs": [
    {
     "data": {
      "text/html": [
       "<div>\n",
       "<style scoped>\n",
       "    .dataframe tbody tr th:only-of-type {\n",
       "        vertical-align: middle;\n",
       "    }\n",
       "\n",
       "    .dataframe tbody tr th {\n",
       "        vertical-align: top;\n",
       "    }\n",
       "\n",
       "    .dataframe thead th {\n",
       "        text-align: right;\n",
       "    }\n",
       "</style>\n",
       "<table border=\"1\" class=\"dataframe\">\n",
       "  <thead>\n",
       "    <tr style=\"text-align: right;\">\n",
       "      <th></th>\n",
       "      <th>TransactionAmt</th>\n",
       "      <th>Source</th>\n",
       "      <th>Target</th>\n",
       "      <th>Date</th>\n",
       "    </tr>\n",
       "  </thead>\n",
       "  <tbody>\n",
       "    <tr>\n",
       "      <th>0</th>\n",
       "      <td>0.000005</td>\n",
       "      <td>ze3ws3ckYylbZwpXj6xNRXSBeRkenIzY</td>\n",
       "      <td>yYiOdGN2a2TGR8GBwrMtk1CkMAFUcaan</td>\n",
       "      <td>None</td>\n",
       "    </tr>\n",
       "    <tr>\n",
       "      <th>1</th>\n",
       "      <td>0.005000</td>\n",
       "      <td>FMKb71RPmguLvGGijceGfTeZJWIyYdFI</td>\n",
       "      <td>yYiOdGN2a2TGR8GBwrMtk1CkMAFUcaan</td>\n",
       "      <td>None</td>\n",
       "    </tr>\n",
       "    <tr>\n",
       "      <th>2</th>\n",
       "      <td>0.005000</td>\n",
       "      <td>FMKb71RPmguLvGGijceGfTeZJWIyYdFI</td>\n",
       "      <td>yYiOdGN2a2TGR8GBwrMtk1CkMAFUcaan</td>\n",
       "      <td>None</td>\n",
       "    </tr>\n",
       "    <tr>\n",
       "      <th>3</th>\n",
       "      <td>0.005000</td>\n",
       "      <td>FMKb71RPmguLvGGijceGfTeZJWIyYdFI</td>\n",
       "      <td>yYiOdGN2a2TGR8GBwrMtk1CkMAFUcaan</td>\n",
       "      <td>None</td>\n",
       "    </tr>\n",
       "    <tr>\n",
       "      <th>4</th>\n",
       "      <td>0.005000</td>\n",
       "      <td>FMKb71RPmguLvGGijceGfTeZJWIyYdFI</td>\n",
       "      <td>yYiOdGN2a2TGR8GBwrMtk1CkMAFUcaan</td>\n",
       "      <td>None</td>\n",
       "    </tr>\n",
       "    <tr>\n",
       "      <th>5</th>\n",
       "      <td>0.000005</td>\n",
       "      <td>ze3ws3ckYylbZwpXj6xNRXSBeRkenIzY</td>\n",
       "      <td>yYiOdGN2a2TGR8GBwrMtk1CkMAFUcaan</td>\n",
       "      <td>None</td>\n",
       "    </tr>\n",
       "    <tr>\n",
       "      <th>6</th>\n",
       "      <td>0.004706</td>\n",
       "      <td>yYiOdGN2a2TGR8GBwrMtk1CkMAFUcaan</td>\n",
       "      <td>yYiOdGN2a2TGR8GBwrMtk1CkMAFUcaan</td>\n",
       "      <td>None</td>\n",
       "    </tr>\n",
       "    <tr>\n",
       "      <th>7</th>\n",
       "      <td>0.000005</td>\n",
       "      <td>ze3ws3ckYylbZwpXj6xNRXSBeRkenIzY</td>\n",
       "      <td>yYiOdGN2a2TGR8GBwrMtk1CkMAFUcaan</td>\n",
       "      <td>None</td>\n",
       "    </tr>\n",
       "    <tr>\n",
       "      <th>8</th>\n",
       "      <td>0.004854</td>\n",
       "      <td>yYiOdGN2a2TGR8GBwrMtk1CkMAFUcaan</td>\n",
       "      <td>yYiOdGN2a2TGR8GBwrMtk1CkMAFUcaan</td>\n",
       "      <td>None</td>\n",
       "    </tr>\n",
       "    <tr>\n",
       "      <th>9</th>\n",
       "      <td>0.000005</td>\n",
       "      <td>6LjxlCvzxnVaAMo3QuvCyAuyG3fyCyHD</td>\n",
       "      <td>yYiOdGN2a2TGR8GBwrMtk1CkMAFUcaan</td>\n",
       "      <td>None</td>\n",
       "    </tr>\n",
       "    <tr>\n",
       "      <th>10</th>\n",
       "      <td>0.004780</td>\n",
       "      <td>yYiOdGN2a2TGR8GBwrMtk1CkMAFUcaan</td>\n",
       "      <td>yYiOdGN2a2TGR8GBwrMtk1CkMAFUcaan</td>\n",
       "      <td>None</td>\n",
       "    </tr>\n",
       "    <tr>\n",
       "      <th>11</th>\n",
       "      <td>0.004943</td>\n",
       "      <td>yYiOdGN2a2TGR8GBwrMtk1CkMAFUcaan</td>\n",
       "      <td>yYiOdGN2a2TGR8GBwrMtk1CkMAFUcaan</td>\n",
       "      <td>None</td>\n",
       "    </tr>\n",
       "    <tr>\n",
       "      <th>12</th>\n",
       "      <td>0.000005</td>\n",
       "      <td>ze3ws3ckYylbZwpXj6xNRXSBeRkenIzY</td>\n",
       "      <td>yYiOdGN2a2TGR8GBwrMtk1CkMAFUcaan</td>\n",
       "      <td>None</td>\n",
       "    </tr>\n",
       "    <tr>\n",
       "      <th>13</th>\n",
       "      <td>0.000005</td>\n",
       "      <td>ze3ws3ckYylbZwpXj6xNRXSBeRkenIzY</td>\n",
       "      <td>yYiOdGN2a2TGR8GBwrMtk1CkMAFUcaan</td>\n",
       "      <td>None</td>\n",
       "    </tr>\n",
       "    <tr>\n",
       "      <th>14</th>\n",
       "      <td>0.004898</td>\n",
       "      <td>yYiOdGN2a2TGR8GBwrMtk1CkMAFUcaan</td>\n",
       "      <td>yYiOdGN2a2TGR8GBwrMtk1CkMAFUcaan</td>\n",
       "      <td>None</td>\n",
       "    </tr>\n",
       "    <tr>\n",
       "      <th>15</th>\n",
       "      <td>0.000005</td>\n",
       "      <td>yYiOdGN2a2TGR8GBwrMtk1CkMAFUcaan</td>\n",
       "      <td>ze3ws3ckYylbZwpXj6xNRXSBeRkenIzY</td>\n",
       "      <td>None</td>\n",
       "    </tr>\n",
       "    <tr>\n",
       "      <th>16</th>\n",
       "      <td>0.004943</td>\n",
       "      <td>yYiOdGN2a2TGR8GBwrMtk1CkMAFUcaan</td>\n",
       "      <td>yYiOdGN2a2TGR8GBwrMtk1CkMAFUcaan</td>\n",
       "      <td>None</td>\n",
       "    </tr>\n",
       "    <tr>\n",
       "      <th>17</th>\n",
       "      <td>0.000005</td>\n",
       "      <td>yYiOdGN2a2TGR8GBwrMtk1CkMAFUcaan</td>\n",
       "      <td>ze3ws3ckYylbZwpXj6xNRXSBeRkenIzY</td>\n",
       "      <td>None</td>\n",
       "    </tr>\n",
       "    <tr>\n",
       "      <th>18</th>\n",
       "      <td>0.004898</td>\n",
       "      <td>yYiOdGN2a2TGR8GBwrMtk1CkMAFUcaan</td>\n",
       "      <td>yYiOdGN2a2TGR8GBwrMtk1CkMAFUcaan</td>\n",
       "      <td>None</td>\n",
       "    </tr>\n",
       "    <tr>\n",
       "      <th>19</th>\n",
       "      <td>0.000005</td>\n",
       "      <td>yYiOdGN2a2TGR8GBwrMtk1CkMAFUcaan</td>\n",
       "      <td>ze3ws3ckYylbZwpXj6xNRXSBeRkenIzY</td>\n",
       "      <td>None</td>\n",
       "    </tr>\n",
       "    <tr>\n",
       "      <th>20</th>\n",
       "      <td>0.004854</td>\n",
       "      <td>yYiOdGN2a2TGR8GBwrMtk1CkMAFUcaan</td>\n",
       "      <td>yYiOdGN2a2TGR8GBwrMtk1CkMAFUcaan</td>\n",
       "      <td>None</td>\n",
       "    </tr>\n",
       "    <tr>\n",
       "      <th>21</th>\n",
       "      <td>0.000005</td>\n",
       "      <td>yYiOdGN2a2TGR8GBwrMtk1CkMAFUcaan</td>\n",
       "      <td>ze3ws3ckYylbZwpXj6xNRXSBeRkenIzY</td>\n",
       "      <td>None</td>\n",
       "    </tr>\n",
       "    <tr>\n",
       "      <th>22</th>\n",
       "      <td>0.004780</td>\n",
       "      <td>yYiOdGN2a2TGR8GBwrMtk1CkMAFUcaan</td>\n",
       "      <td>yYiOdGN2a2TGR8GBwrMtk1CkMAFUcaan</td>\n",
       "      <td>None</td>\n",
       "    </tr>\n",
       "    <tr>\n",
       "      <th>23</th>\n",
       "      <td>0.000005</td>\n",
       "      <td>yYiOdGN2a2TGR8GBwrMtk1CkMAFUcaan</td>\n",
       "      <td>ze3ws3ckYylbZwpXj6xNRXSBeRkenIzY</td>\n",
       "      <td>None</td>\n",
       "    </tr>\n",
       "    <tr>\n",
       "      <th>24</th>\n",
       "      <td>0.004706</td>\n",
       "      <td>yYiOdGN2a2TGR8GBwrMtk1CkMAFUcaan</td>\n",
       "      <td>yYiOdGN2a2TGR8GBwrMtk1CkMAFUcaan</td>\n",
       "      <td>None</td>\n",
       "    </tr>\n",
       "  </tbody>\n",
       "</table>\n",
       "</div>"
      ],
      "text/plain": [
       "    TransactionAmt                            Source  \\\n",
       "0         0.000005  ze3ws3ckYylbZwpXj6xNRXSBeRkenIzY   \n",
       "1         0.005000  FMKb71RPmguLvGGijceGfTeZJWIyYdFI   \n",
       "2         0.005000  FMKb71RPmguLvGGijceGfTeZJWIyYdFI   \n",
       "3         0.005000  FMKb71RPmguLvGGijceGfTeZJWIyYdFI   \n",
       "4         0.005000  FMKb71RPmguLvGGijceGfTeZJWIyYdFI   \n",
       "5         0.000005  ze3ws3ckYylbZwpXj6xNRXSBeRkenIzY   \n",
       "6         0.004706  yYiOdGN2a2TGR8GBwrMtk1CkMAFUcaan   \n",
       "7         0.000005  ze3ws3ckYylbZwpXj6xNRXSBeRkenIzY   \n",
       "8         0.004854  yYiOdGN2a2TGR8GBwrMtk1CkMAFUcaan   \n",
       "9         0.000005  6LjxlCvzxnVaAMo3QuvCyAuyG3fyCyHD   \n",
       "10        0.004780  yYiOdGN2a2TGR8GBwrMtk1CkMAFUcaan   \n",
       "11        0.004943  yYiOdGN2a2TGR8GBwrMtk1CkMAFUcaan   \n",
       "12        0.000005  ze3ws3ckYylbZwpXj6xNRXSBeRkenIzY   \n",
       "13        0.000005  ze3ws3ckYylbZwpXj6xNRXSBeRkenIzY   \n",
       "14        0.004898  yYiOdGN2a2TGR8GBwrMtk1CkMAFUcaan   \n",
       "15        0.000005  yYiOdGN2a2TGR8GBwrMtk1CkMAFUcaan   \n",
       "16        0.004943  yYiOdGN2a2TGR8GBwrMtk1CkMAFUcaan   \n",
       "17        0.000005  yYiOdGN2a2TGR8GBwrMtk1CkMAFUcaan   \n",
       "18        0.004898  yYiOdGN2a2TGR8GBwrMtk1CkMAFUcaan   \n",
       "19        0.000005  yYiOdGN2a2TGR8GBwrMtk1CkMAFUcaan   \n",
       "20        0.004854  yYiOdGN2a2TGR8GBwrMtk1CkMAFUcaan   \n",
       "21        0.000005  yYiOdGN2a2TGR8GBwrMtk1CkMAFUcaan   \n",
       "22        0.004780  yYiOdGN2a2TGR8GBwrMtk1CkMAFUcaan   \n",
       "23        0.000005  yYiOdGN2a2TGR8GBwrMtk1CkMAFUcaan   \n",
       "24        0.004706  yYiOdGN2a2TGR8GBwrMtk1CkMAFUcaan   \n",
       "\n",
       "                              Target  Date  \n",
       "0   yYiOdGN2a2TGR8GBwrMtk1CkMAFUcaan  None  \n",
       "1   yYiOdGN2a2TGR8GBwrMtk1CkMAFUcaan  None  \n",
       "2   yYiOdGN2a2TGR8GBwrMtk1CkMAFUcaan  None  \n",
       "3   yYiOdGN2a2TGR8GBwrMtk1CkMAFUcaan  None  \n",
       "4   yYiOdGN2a2TGR8GBwrMtk1CkMAFUcaan  None  \n",
       "5   yYiOdGN2a2TGR8GBwrMtk1CkMAFUcaan  None  \n",
       "6   yYiOdGN2a2TGR8GBwrMtk1CkMAFUcaan  None  \n",
       "7   yYiOdGN2a2TGR8GBwrMtk1CkMAFUcaan  None  \n",
       "8   yYiOdGN2a2TGR8GBwrMtk1CkMAFUcaan  None  \n",
       "9   yYiOdGN2a2TGR8GBwrMtk1CkMAFUcaan  None  \n",
       "10  yYiOdGN2a2TGR8GBwrMtk1CkMAFUcaan  None  \n",
       "11  yYiOdGN2a2TGR8GBwrMtk1CkMAFUcaan  None  \n",
       "12  yYiOdGN2a2TGR8GBwrMtk1CkMAFUcaan  None  \n",
       "13  yYiOdGN2a2TGR8GBwrMtk1CkMAFUcaan  None  \n",
       "14  yYiOdGN2a2TGR8GBwrMtk1CkMAFUcaan  None  \n",
       "15  ze3ws3ckYylbZwpXj6xNRXSBeRkenIzY  None  \n",
       "16  yYiOdGN2a2TGR8GBwrMtk1CkMAFUcaan  None  \n",
       "17  ze3ws3ckYylbZwpXj6xNRXSBeRkenIzY  None  \n",
       "18  yYiOdGN2a2TGR8GBwrMtk1CkMAFUcaan  None  \n",
       "19  ze3ws3ckYylbZwpXj6xNRXSBeRkenIzY  None  \n",
       "20  yYiOdGN2a2TGR8GBwrMtk1CkMAFUcaan  None  \n",
       "21  ze3ws3ckYylbZwpXj6xNRXSBeRkenIzY  None  \n",
       "22  yYiOdGN2a2TGR8GBwrMtk1CkMAFUcaan  None  \n",
       "23  ze3ws3ckYylbZwpXj6xNRXSBeRkenIzY  None  \n",
       "24  yYiOdGN2a2TGR8GBwrMtk1CkMAFUcaan  None  "
      ]
     },
     "execution_count": 62,
     "metadata": {},
     "output_type": "execute_result"
    }
   ],
   "source": [
    "edge1 = []\n",
    "\n",
    "for i, transaction in flowGraph_inEdges.iterrows():\n",
    "    row = {}\n",
    "    row['TransactionAmt'] = transaction.Value_Received_from_Inp * 0.00000001\n",
    "    row['Source'] = transaction.Association\n",
    "    row['Target'] = flowGraph_centerNode\n",
    "    row['Date'] = None\n",
    "\n",
    "    edge1.append(row)\n",
    "\n",
    "for i, transaction in flowGraph_outEdges.iterrows():\n",
    "    row = {}\n",
    "    row['TransactionAmt'] = transaction.Value_rec_from_Outp * 0.00000001\n",
    "    row['Source'] = flowGraph_centerNode\n",
    "    row['Target'] = transaction.Association\n",
    "    row['Date'] = None\n",
    "\n",
    "    edge1.append(row)\n",
    "\n",
    "edge1 = pd.DataFrame(edge1)\n",
    "edge1"
   ]
  },
  {
   "cell_type": "code",
   "execution_count": 63,
   "metadata": {},
   "outputs": [
    {
     "data": {
      "text/html": [
       "<div>\n",
       "<style scoped>\n",
       "    .dataframe tbody tr th:only-of-type {\n",
       "        vertical-align: middle;\n",
       "    }\n",
       "\n",
       "    .dataframe tbody tr th {\n",
       "        vertical-align: top;\n",
       "    }\n",
       "\n",
       "    .dataframe thead th {\n",
       "        text-align: right;\n",
       "    }\n",
       "</style>\n",
       "<table border=\"1\" class=\"dataframe\">\n",
       "  <thead>\n",
       "    <tr style=\"text-align: right;\">\n",
       "      <th></th>\n",
       "      <th>Source</th>\n",
       "      <th>Target</th>\n",
       "      <th>TransactionAmt</th>\n",
       "    </tr>\n",
       "  </thead>\n",
       "  <tbody>\n",
       "    <tr>\n",
       "      <th>0</th>\n",
       "      <td>6LjxlCvzxnVaAMo3QuvCyAuyG3fyCyHD</td>\n",
       "      <td>yYiOdGN2a2TGR8GBwrMtk1CkMAFUcaan</td>\n",
       "      <td>0.000005</td>\n",
       "    </tr>\n",
       "    <tr>\n",
       "      <th>1</th>\n",
       "      <td>FMKb71RPmguLvGGijceGfTeZJWIyYdFI</td>\n",
       "      <td>yYiOdGN2a2TGR8GBwrMtk1CkMAFUcaan</td>\n",
       "      <td>0.020000</td>\n",
       "    </tr>\n",
       "    <tr>\n",
       "      <th>2</th>\n",
       "      <td>yYiOdGN2a2TGR8GBwrMtk1CkMAFUcaan</td>\n",
       "      <td>yYiOdGN2a2TGR8GBwrMtk1CkMAFUcaan</td>\n",
       "      <td>0.048364</td>\n",
       "    </tr>\n",
       "    <tr>\n",
       "      <th>3</th>\n",
       "      <td>yYiOdGN2a2TGR8GBwrMtk1CkMAFUcaan</td>\n",
       "      <td>ze3ws3ckYylbZwpXj6xNRXSBeRkenIzY</td>\n",
       "      <td>0.000027</td>\n",
       "    </tr>\n",
       "    <tr>\n",
       "      <th>4</th>\n",
       "      <td>ze3ws3ckYylbZwpXj6xNRXSBeRkenIzY</td>\n",
       "      <td>yYiOdGN2a2TGR8GBwrMtk1CkMAFUcaan</td>\n",
       "      <td>0.000027</td>\n",
       "    </tr>\n",
       "  </tbody>\n",
       "</table>\n",
       "</div>"
      ],
      "text/plain": [
       "                             Source                            Target  \\\n",
       "0  6LjxlCvzxnVaAMo3QuvCyAuyG3fyCyHD  yYiOdGN2a2TGR8GBwrMtk1CkMAFUcaan   \n",
       "1  FMKb71RPmguLvGGijceGfTeZJWIyYdFI  yYiOdGN2a2TGR8GBwrMtk1CkMAFUcaan   \n",
       "2  yYiOdGN2a2TGR8GBwrMtk1CkMAFUcaan  yYiOdGN2a2TGR8GBwrMtk1CkMAFUcaan   \n",
       "3  yYiOdGN2a2TGR8GBwrMtk1CkMAFUcaan  ze3ws3ckYylbZwpXj6xNRXSBeRkenIzY   \n",
       "4  ze3ws3ckYylbZwpXj6xNRXSBeRkenIzY  yYiOdGN2a2TGR8GBwrMtk1CkMAFUcaan   \n",
       "\n",
       "   TransactionAmt  \n",
       "0        0.000005  \n",
       "1        0.020000  \n",
       "2        0.048364  \n",
       "3        0.000027  \n",
       "4        0.000027  "
      ]
     },
     "execution_count": 63,
     "metadata": {},
     "output_type": "execute_result"
    }
   ],
   "source": [
    "edge1.groupby(['Source', 'Target']).sum().reset_index()"
   ]
  },
  {
   "cell_type": "code",
   "execution_count": 64,
   "metadata": {},
   "outputs": [
    {
     "data": {
      "text/html": [
       "<div>\n",
       "<style scoped>\n",
       "    .dataframe tbody tr th:only-of-type {\n",
       "        vertical-align: middle;\n",
       "    }\n",
       "\n",
       "    .dataframe tbody tr th {\n",
       "        vertical-align: top;\n",
       "    }\n",
       "\n",
       "    .dataframe thead th {\n",
       "        text-align: right;\n",
       "    }\n",
       "</style>\n",
       "<table border=\"1\" class=\"dataframe\">\n",
       "  <thead>\n",
       "    <tr style=\"text-align: right;\">\n",
       "      <th></th>\n",
       "      <th>Source</th>\n",
       "      <th>Target</th>\n",
       "      <th>TransactionAmt</th>\n",
       "      <th>Date</th>\n",
       "    </tr>\n",
       "  </thead>\n",
       "  <tbody>\n",
       "    <tr>\n",
       "      <th>0</th>\n",
       "      <td>6LjxlCvzxnVaAMo3QuvCyAuyG3fyCyHD</td>\n",
       "      <td>yYiOdGN2a2TGR8GBwrMtk1CkMAFUcaan</td>\n",
       "      <td>0.000005</td>\n",
       "      <td>None</td>\n",
       "    </tr>\n",
       "    <tr>\n",
       "      <th>1</th>\n",
       "      <td>FMKb71RPmguLvGGijceGfTeZJWIyYdFI</td>\n",
       "      <td>yYiOdGN2a2TGR8GBwrMtk1CkMAFUcaan</td>\n",
       "      <td>0.020000</td>\n",
       "      <td>None</td>\n",
       "    </tr>\n",
       "    <tr>\n",
       "      <th>2</th>\n",
       "      <td>yYiOdGN2a2TGR8GBwrMtk1CkMAFUcaan</td>\n",
       "      <td>yYiOdGN2a2TGR8GBwrMtk1CkMAFUcaan</td>\n",
       "      <td>0.048364</td>\n",
       "      <td>None</td>\n",
       "    </tr>\n",
       "    <tr>\n",
       "      <th>3</th>\n",
       "      <td>yYiOdGN2a2TGR8GBwrMtk1CkMAFUcaan</td>\n",
       "      <td>ze3ws3ckYylbZwpXj6xNRXSBeRkenIzY</td>\n",
       "      <td>0.000027</td>\n",
       "      <td>None</td>\n",
       "    </tr>\n",
       "    <tr>\n",
       "      <th>4</th>\n",
       "      <td>ze3ws3ckYylbZwpXj6xNRXSBeRkenIzY</td>\n",
       "      <td>yYiOdGN2a2TGR8GBwrMtk1CkMAFUcaan</td>\n",
       "      <td>0.000027</td>\n",
       "      <td>None</td>\n",
       "    </tr>\n",
       "  </tbody>\n",
       "</table>\n",
       "</div>"
      ],
      "text/plain": [
       "                             Source                            Target  \\\n",
       "0  6LjxlCvzxnVaAMo3QuvCyAuyG3fyCyHD  yYiOdGN2a2TGR8GBwrMtk1CkMAFUcaan   \n",
       "1  FMKb71RPmguLvGGijceGfTeZJWIyYdFI  yYiOdGN2a2TGR8GBwrMtk1CkMAFUcaan   \n",
       "2  yYiOdGN2a2TGR8GBwrMtk1CkMAFUcaan  yYiOdGN2a2TGR8GBwrMtk1CkMAFUcaan   \n",
       "3  yYiOdGN2a2TGR8GBwrMtk1CkMAFUcaan  ze3ws3ckYylbZwpXj6xNRXSBeRkenIzY   \n",
       "4  ze3ws3ckYylbZwpXj6xNRXSBeRkenIzY  yYiOdGN2a2TGR8GBwrMtk1CkMAFUcaan   \n",
       "\n",
       "   TransactionAmt  Date  \n",
       "0        0.000005  None  \n",
       "1        0.020000  None  \n",
       "2        0.048364  None  \n",
       "3        0.000027  None  \n",
       "4        0.000027  None  "
      ]
     },
     "execution_count": 64,
     "metadata": {},
     "output_type": "execute_result"
    }
   ],
   "source": [
    "edge1 = edge1.groupby(['Source', 'Target']).sum().reset_index()\n",
    "edge1['Date'] = None\n",
    "edge1"
   ]
  },
  {
   "cell_type": "code",
   "execution_count": 65,
   "metadata": {},
   "outputs": [
    {
     "data": {
      "text/html": [
       "<div>\n",
       "<style scoped>\n",
       "    .dataframe tbody tr th:only-of-type {\n",
       "        vertical-align: middle;\n",
       "    }\n",
       "\n",
       "    .dataframe tbody tr th {\n",
       "        vertical-align: top;\n",
       "    }\n",
       "\n",
       "    .dataframe thead th {\n",
       "        text-align: right;\n",
       "    }\n",
       "</style>\n",
       "<table border=\"1\" class=\"dataframe\">\n",
       "  <thead>\n",
       "    <tr style=\"text-align: right;\">\n",
       "      <th></th>\n",
       "      <th>Account</th>\n",
       "      <th>CustomerName</th>\n",
       "      <th>Type</th>\n",
       "    </tr>\n",
       "  </thead>\n",
       "  <tbody>\n",
       "    <tr>\n",
       "      <th>0</th>\n",
       "      <td>yYiOdGN2a2TGR8GBwrMtk1CkMAFUcaan</td>\n",
       "      <td>test</td>\n",
       "      <td>CenterNode</td>\n",
       "    </tr>\n",
       "    <tr>\n",
       "      <th>1</th>\n",
       "      <td>ze3ws3ckYylbZwpXj6xNRXSBeRkenIzY</td>\n",
       "      <td>test</td>\n",
       "      <td>OutputAssociation</td>\n",
       "    </tr>\n",
       "    <tr>\n",
       "      <th>5</th>\n",
       "      <td>6LjxlCvzxnVaAMo3QuvCyAuyG3fyCyHD</td>\n",
       "      <td>test</td>\n",
       "      <td>InputAssociation</td>\n",
       "    </tr>\n",
       "    <tr>\n",
       "      <th>6</th>\n",
       "      <td>FMKb71RPmguLvGGijceGfTeZJWIyYdFI</td>\n",
       "      <td>test</td>\n",
       "      <td>InputAssociation</td>\n",
       "    </tr>\n",
       "  </tbody>\n",
       "</table>\n",
       "</div>"
      ],
      "text/plain": [
       "                            Account CustomerName               Type\n",
       "0  yYiOdGN2a2TGR8GBwrMtk1CkMAFUcaan         test         CenterNode\n",
       "1  ze3ws3ckYylbZwpXj6xNRXSBeRkenIzY         test  OutputAssociation\n",
       "5  6LjxlCvzxnVaAMo3QuvCyAuyG3fyCyHD         test   InputAssociation\n",
       "6  FMKb71RPmguLvGGijceGfTeZJWIyYdFI         test   InputAssociation"
      ]
     },
     "execution_count": 65,
     "metadata": {},
     "output_type": "execute_result"
    }
   ],
   "source": [
    "node1"
   ]
  },
  {
   "cell_type": "code",
   "execution_count": 66,
   "metadata": {},
   "outputs": [
    {
     "data": {
      "text/plain": [
       "array(['6LjxlCvzxnVaAMo3QuvCyAuyG3fyCyHD',\n",
       "       'FMKb71RPmguLvGGijceGfTeZJWIyYdFI',\n",
       "       'yYiOdGN2a2TGR8GBwrMtk1CkMAFUcaan',\n",
       "       'ze3ws3ckYylbZwpXj6xNRXSBeRkenIzY'], dtype=object)"
      ]
     },
     "execution_count": 66,
     "metadata": {},
     "output_type": "execute_result"
    }
   ],
   "source": [
    "np.unique(flowGraph_inEdges['Association'])"
   ]
  },
  {
   "cell_type": "code",
   "execution_count": 67,
   "metadata": {},
   "outputs": [
    {
     "data": {
      "text/plain": [
       "array(['yYiOdGN2a2TGR8GBwrMtk1CkMAFUcaan',\n",
       "       'ze3ws3ckYylbZwpXj6xNRXSBeRkenIzY'], dtype=object)"
      ]
     },
     "execution_count": 67,
     "metadata": {},
     "output_type": "execute_result"
    }
   ],
   "source": [
    "np.unique(flowGraph_outEdges['Association'])"
   ]
  },
  {
   "cell_type": "markdown",
   "metadata": {},
   "source": [
    "# Built the Graph"
   ]
  },
  {
   "cell_type": "code",
   "execution_count": 68,
   "metadata": {},
   "outputs": [],
   "source": [
    "edge1['Datetime'] = \"\" # add empty Datetime column to edge1 dataframe\n",
    "accountSet=set() # contain unique account\n",
    "\n",
    "# for index in range(0,len(edge1)):\n",
    "#         edge1['Datetime'][index] = datetime.strptime(edge1['Date'][index], '%d/%m/%Y')\n",
    "#         if edge1['Datetime'][index].year<yearRange[0] or edge1['Datetime'][index].year>yearRange[1]:\n",
    "#             edge1.drop(axis=0, index=index, inplace=True)\n",
    "#             continue\n",
    "#         accountSet.add(edge1['Source'][index])\n",
    "#         accountSet.add(edge1['Target'][index])\n",
    "accountSet = set(np.unique(edge1['Target']))\n",
    "set_Source = set(np.unique(edge1['Source']))\n",
    "accountSet.update(set_Source)"
   ]
  },
  {
   "cell_type": "code",
   "execution_count": 82,
   "metadata": {},
   "outputs": [
    {
     "name": "stdout",
     "output_type": "stream",
     "text": [
      "MultiDiGraph with 4 nodes and 5 edges\n",
      "MultiDiGraph with 4 nodes and 5 edges\n",
      "MultiDiGraph with 4 nodes and 5 edges\n",
      "MultiDiGraph with 4 nodes and 5 edges\n"
     ]
    },
    {
     "data": {
      "application/vnd.plotly.v1+json": {
       "config": {
        "plotlyServerURL": "https://plot.ly"
       },
       "data": [
        {
         "line": {
          "shape": "spline",
          "width": 0.0011289332779756281
         },
         "marker": {
          "color": "rgb(0.9411764705882353, 0.5019607843137255, 0.5019607843137255)"
         },
         "mode": "lines",
         "opacity": 1,
         "type": "scatter",
         "x": [
          -0.5,
          0,
          null
         ],
         "y": [
          -4.371138828673793e-8,
          0,
          null
         ]
        },
        {
         "line": {
          "shape": "spline",
          "width": 10
         },
         "marker": {
          "color": "rgb(0.9380954846727423, 0.28053196630764976, 0.28053196630764976)"
         },
         "mode": "lines",
         "opacity": 1,
         "type": "scatter",
         "x": [
          0,
          0,
          null
         ],
         "y": [
          0,
          0,
          null
         ]
        },
        {
         "line": {
          "shape": "spline",
          "width": 0.005644666389878141
         },
         "marker": {
          "color": "rgb(0.9416114333057166, 0.052506213753106934, 0.052506213753106934)"
         },
         "mode": "lines",
         "opacity": 1,
         "type": "scatter",
         "x": [
          0,
          0.24999980628490448,
          null
         ],
         "y": [
          0,
          0.43301281332969666,
          null
         ]
        },
        {
         "line": {
          "shape": "spline",
          "width": 4.135286732511459
         },
         "marker": {
          "color": "rgb(0.7492836923501794, 0.02032415078707539, 0.02032415078707539)"
         },
         "mode": "lines",
         "opacity": 1,
         "type": "scatter",
         "x": [
          0.24999995529651642,
          0,
          null
         ],
         "y": [
          -0.4330127239227295,
          0,
          null
         ]
        },
        {
         "line": {
          "shape": "spline",
          "width": 0.005644666389878141
         },
         "marker": {
          "color": "rgb(0.5450980392156862, 0.0, 0.0)"
         },
         "mode": "lines",
         "opacity": 1,
         "type": "scatter",
         "x": [
          0.24999980628490448,
          0,
          null
         ],
         "y": [
          0.43301281332969666,
          0,
          null
         ]
        },
        {
         "hoverinfo": "text",
         "hovertext": [
          "6LjxlCvzxnVaAMo3QuvCyAuyG3fyCyHD",
          "yYiOdGN2a2TGR8GBwrMtk1CkMAFUcaan",
          "FMKb71RPmguLvGGijceGfTeZJWIyYdFI",
          "ze3ws3ckYylbZwpXj6xNRXSBeRkenIzY"
         ],
         "marker": {
          "color": "LightSkyBlue",
          "size": 50
         },
         "mode": "markers+text",
         "text": [
          "6LjxlCvzxnVaAMo3QuvCyAuyG3fyCyHD",
          "yYiOdGN2a2TGR8GBwrMtk1CkMAFUcaan",
          "FMKb71RPmguLvGGijceGfTeZJWIyYdFI",
          "ze3ws3ckYylbZwpXj6xNRXSBeRkenIzY"
         ],
         "textposition": "bottom center",
         "type": "scatter",
         "x": [
          -0.5,
          0,
          0.24999995529651642,
          0.24999980628490448
         ],
         "y": [
          -4.371138828673793e-8,
          0,
          -0.4330127239227295,
          0.43301281332969666
         ]
        },
        {
         "hoverinfo": "text",
         "hovertext": [
          "From: 6LjxlCvzxnVaAMo3QuvCyAuyG3fyCyHD<br>To: yYiOdGN2a2TGR8GBwrMtk1CkMAFUcaan<br>TransactionAmt: 5.46e-06<br>TransactionDate: None",
          "From: yYiOdGN2a2TGR8GBwrMtk1CkMAFUcaan<br>To: yYiOdGN2a2TGR8GBwrMtk1CkMAFUcaan<br>TransactionAmt: 0.04836424<br>TransactionDate: None",
          "From: yYiOdGN2a2TGR8GBwrMtk1CkMAFUcaan<br>To: ze3ws3ckYylbZwpXj6xNRXSBeRkenIzY<br>TransactionAmt: 2.73e-05<br>TransactionDate: None",
          "From: FMKb71RPmguLvGGijceGfTeZJWIyYdFI<br>To: yYiOdGN2a2TGR8GBwrMtk1CkMAFUcaan<br>TransactionAmt: 0.02<br>TransactionDate: None",
          "From: ze3ws3ckYylbZwpXj6xNRXSBeRkenIzY<br>To: yYiOdGN2a2TGR8GBwrMtk1CkMAFUcaan<br>TransactionAmt: 2.73e-05<br>TransactionDate: None"
         ],
         "marker": {
          "color": "LightSkyBlue",
          "size": 20
         },
         "mode": "markers",
         "opacity": 0,
         "type": "scatter",
         "x": [
          -0.25,
          0,
          0.12499990314245224,
          0.12499997764825821,
          0.12499990314245224
         ],
         "y": [
          -2.1855694143368964e-8,
          0,
          0.21650640666484833,
          -0.21650636196136475,
          0.21650640666484833
         ]
        }
       ],
       "layout": {
        "annotations": [
         {
          "arrowhead": 1,
          "arrowsize": 3,
          "arrowwidth": 2,
          "ax": -0.25,
          "axref": "x",
          "ay": -2.1855694143368964e-8,
          "ayref": "y",
          "opacity": 0.5,
          "showarrow": true,
          "x": -0.125,
          "xref": "x",
          "y": -1.0927847071684482e-8,
          "yref": "y"
         },
         {
          "arrowhead": 1,
          "arrowsize": 3,
          "arrowwidth": 2,
          "ax": 0,
          "axref": "x",
          "ay": 0,
          "ayref": "y",
          "opacity": 0.5,
          "showarrow": true,
          "x": 0,
          "xref": "x",
          "y": 0,
          "yref": "y"
         },
         {
          "arrowhead": 1,
          "arrowsize": 3,
          "arrowwidth": 2,
          "ax": 0.12499990314245224,
          "axref": "x",
          "ay": 0.21650640666484833,
          "ayref": "y",
          "opacity": 0.5,
          "showarrow": true,
          "x": 0.18749985471367836,
          "xref": "x",
          "y": 0.3247596099972725,
          "yref": "y"
         },
         {
          "arrowhead": 1,
          "arrowsize": 3,
          "arrowwidth": 2,
          "ax": 0.12499997764825821,
          "axref": "x",
          "ay": -0.21650636196136475,
          "ayref": "y",
          "opacity": 0.5,
          "showarrow": true,
          "x": 0.062499988824129105,
          "xref": "x",
          "y": -0.10825318098068237,
          "yref": "y"
         },
         {
          "arrowhead": 1,
          "arrowsize": 3,
          "arrowwidth": 2,
          "ax": 0.12499990314245224,
          "axref": "x",
          "ay": 0.21650640666484833,
          "ayref": "y",
          "opacity": 0.5,
          "showarrow": true,
          "x": 0.06249995157122612,
          "xref": "x",
          "y": 0.10825320333242416,
          "yref": "y"
         }
        ],
        "autosize": false,
        "clickmode": "event+select",
        "height": 800,
        "hovermode": "closest",
        "margin": {
         "b": 3,
         "l": 3,
         "pad": 4,
         "r": 3,
         "t": 60
        },
        "paper_bgcolor": "LightSteelBlue",
        "showlegend": false,
        "template": {
         "data": {
          "bar": [
           {
            "error_x": {
             "color": "#2a3f5f"
            },
            "error_y": {
             "color": "#2a3f5f"
            },
            "marker": {
             "line": {
              "color": "#E5ECF6",
              "width": 0.5
             },
             "pattern": {
              "fillmode": "overlay",
              "size": 10,
              "solidity": 0.2
             }
            },
            "type": "bar"
           }
          ],
          "barpolar": [
           {
            "marker": {
             "line": {
              "color": "#E5ECF6",
              "width": 0.5
             },
             "pattern": {
              "fillmode": "overlay",
              "size": 10,
              "solidity": 0.2
             }
            },
            "type": "barpolar"
           }
          ],
          "carpet": [
           {
            "aaxis": {
             "endlinecolor": "#2a3f5f",
             "gridcolor": "white",
             "linecolor": "white",
             "minorgridcolor": "white",
             "startlinecolor": "#2a3f5f"
            },
            "baxis": {
             "endlinecolor": "#2a3f5f",
             "gridcolor": "white",
             "linecolor": "white",
             "minorgridcolor": "white",
             "startlinecolor": "#2a3f5f"
            },
            "type": "carpet"
           }
          ],
          "choropleth": [
           {
            "colorbar": {
             "outlinewidth": 0,
             "ticks": ""
            },
            "type": "choropleth"
           }
          ],
          "contour": [
           {
            "colorbar": {
             "outlinewidth": 0,
             "ticks": ""
            },
            "colorscale": [
             [
              0,
              "#0d0887"
             ],
             [
              0.1111111111111111,
              "#46039f"
             ],
             [
              0.2222222222222222,
              "#7201a8"
             ],
             [
              0.3333333333333333,
              "#9c179e"
             ],
             [
              0.4444444444444444,
              "#bd3786"
             ],
             [
              0.5555555555555556,
              "#d8576b"
             ],
             [
              0.6666666666666666,
              "#ed7953"
             ],
             [
              0.7777777777777778,
              "#fb9f3a"
             ],
             [
              0.8888888888888888,
              "#fdca26"
             ],
             [
              1,
              "#f0f921"
             ]
            ],
            "type": "contour"
           }
          ],
          "contourcarpet": [
           {
            "colorbar": {
             "outlinewidth": 0,
             "ticks": ""
            },
            "type": "contourcarpet"
           }
          ],
          "heatmap": [
           {
            "colorbar": {
             "outlinewidth": 0,
             "ticks": ""
            },
            "colorscale": [
             [
              0,
              "#0d0887"
             ],
             [
              0.1111111111111111,
              "#46039f"
             ],
             [
              0.2222222222222222,
              "#7201a8"
             ],
             [
              0.3333333333333333,
              "#9c179e"
             ],
             [
              0.4444444444444444,
              "#bd3786"
             ],
             [
              0.5555555555555556,
              "#d8576b"
             ],
             [
              0.6666666666666666,
              "#ed7953"
             ],
             [
              0.7777777777777778,
              "#fb9f3a"
             ],
             [
              0.8888888888888888,
              "#fdca26"
             ],
             [
              1,
              "#f0f921"
             ]
            ],
            "type": "heatmap"
           }
          ],
          "heatmapgl": [
           {
            "colorbar": {
             "outlinewidth": 0,
             "ticks": ""
            },
            "colorscale": [
             [
              0,
              "#0d0887"
             ],
             [
              0.1111111111111111,
              "#46039f"
             ],
             [
              0.2222222222222222,
              "#7201a8"
             ],
             [
              0.3333333333333333,
              "#9c179e"
             ],
             [
              0.4444444444444444,
              "#bd3786"
             ],
             [
              0.5555555555555556,
              "#d8576b"
             ],
             [
              0.6666666666666666,
              "#ed7953"
             ],
             [
              0.7777777777777778,
              "#fb9f3a"
             ],
             [
              0.8888888888888888,
              "#fdca26"
             ],
             [
              1,
              "#f0f921"
             ]
            ],
            "type": "heatmapgl"
           }
          ],
          "histogram": [
           {
            "marker": {
             "pattern": {
              "fillmode": "overlay",
              "size": 10,
              "solidity": 0.2
             }
            },
            "type": "histogram"
           }
          ],
          "histogram2d": [
           {
            "colorbar": {
             "outlinewidth": 0,
             "ticks": ""
            },
            "colorscale": [
             [
              0,
              "#0d0887"
             ],
             [
              0.1111111111111111,
              "#46039f"
             ],
             [
              0.2222222222222222,
              "#7201a8"
             ],
             [
              0.3333333333333333,
              "#9c179e"
             ],
             [
              0.4444444444444444,
              "#bd3786"
             ],
             [
              0.5555555555555556,
              "#d8576b"
             ],
             [
              0.6666666666666666,
              "#ed7953"
             ],
             [
              0.7777777777777778,
              "#fb9f3a"
             ],
             [
              0.8888888888888888,
              "#fdca26"
             ],
             [
              1,
              "#f0f921"
             ]
            ],
            "type": "histogram2d"
           }
          ],
          "histogram2dcontour": [
           {
            "colorbar": {
             "outlinewidth": 0,
             "ticks": ""
            },
            "colorscale": [
             [
              0,
              "#0d0887"
             ],
             [
              0.1111111111111111,
              "#46039f"
             ],
             [
              0.2222222222222222,
              "#7201a8"
             ],
             [
              0.3333333333333333,
              "#9c179e"
             ],
             [
              0.4444444444444444,
              "#bd3786"
             ],
             [
              0.5555555555555556,
              "#d8576b"
             ],
             [
              0.6666666666666666,
              "#ed7953"
             ],
             [
              0.7777777777777778,
              "#fb9f3a"
             ],
             [
              0.8888888888888888,
              "#fdca26"
             ],
             [
              1,
              "#f0f921"
             ]
            ],
            "type": "histogram2dcontour"
           }
          ],
          "mesh3d": [
           {
            "colorbar": {
             "outlinewidth": 0,
             "ticks": ""
            },
            "type": "mesh3d"
           }
          ],
          "parcoords": [
           {
            "line": {
             "colorbar": {
              "outlinewidth": 0,
              "ticks": ""
             }
            },
            "type": "parcoords"
           }
          ],
          "pie": [
           {
            "automargin": true,
            "type": "pie"
           }
          ],
          "scatter": [
           {
            "fillpattern": {
             "fillmode": "overlay",
             "size": 10,
             "solidity": 0.2
            },
            "type": "scatter"
           }
          ],
          "scatter3d": [
           {
            "line": {
             "colorbar": {
              "outlinewidth": 0,
              "ticks": ""
             }
            },
            "marker": {
             "colorbar": {
              "outlinewidth": 0,
              "ticks": ""
             }
            },
            "type": "scatter3d"
           }
          ],
          "scattercarpet": [
           {
            "marker": {
             "colorbar": {
              "outlinewidth": 0,
              "ticks": ""
             }
            },
            "type": "scattercarpet"
           }
          ],
          "scattergeo": [
           {
            "marker": {
             "colorbar": {
              "outlinewidth": 0,
              "ticks": ""
             }
            },
            "type": "scattergeo"
           }
          ],
          "scattergl": [
           {
            "marker": {
             "colorbar": {
              "outlinewidth": 0,
              "ticks": ""
             }
            },
            "type": "scattergl"
           }
          ],
          "scattermapbox": [
           {
            "marker": {
             "colorbar": {
              "outlinewidth": 0,
              "ticks": ""
             }
            },
            "type": "scattermapbox"
           }
          ],
          "scatterpolar": [
           {
            "marker": {
             "colorbar": {
              "outlinewidth": 0,
              "ticks": ""
             }
            },
            "type": "scatterpolar"
           }
          ],
          "scatterpolargl": [
           {
            "marker": {
             "colorbar": {
              "outlinewidth": 0,
              "ticks": ""
             }
            },
            "type": "scatterpolargl"
           }
          ],
          "scatterternary": [
           {
            "marker": {
             "colorbar": {
              "outlinewidth": 0,
              "ticks": ""
             }
            },
            "type": "scatterternary"
           }
          ],
          "surface": [
           {
            "colorbar": {
             "outlinewidth": 0,
             "ticks": ""
            },
            "colorscale": [
             [
              0,
              "#0d0887"
             ],
             [
              0.1111111111111111,
              "#46039f"
             ],
             [
              0.2222222222222222,
              "#7201a8"
             ],
             [
              0.3333333333333333,
              "#9c179e"
             ],
             [
              0.4444444444444444,
              "#bd3786"
             ],
             [
              0.5555555555555556,
              "#d8576b"
             ],
             [
              0.6666666666666666,
              "#ed7953"
             ],
             [
              0.7777777777777778,
              "#fb9f3a"
             ],
             [
              0.8888888888888888,
              "#fdca26"
             ],
             [
              1,
              "#f0f921"
             ]
            ],
            "type": "surface"
           }
          ],
          "table": [
           {
            "cells": {
             "fill": {
              "color": "#EBF0F8"
             },
             "line": {
              "color": "white"
             }
            },
            "header": {
             "fill": {
              "color": "#C8D4E3"
             },
             "line": {
              "color": "white"
             }
            },
            "type": "table"
           }
          ]
         },
         "layout": {
          "annotationdefaults": {
           "arrowcolor": "#2a3f5f",
           "arrowhead": 0,
           "arrowwidth": 1
          },
          "autotypenumbers": "strict",
          "coloraxis": {
           "colorbar": {
            "outlinewidth": 0,
            "ticks": ""
           }
          },
          "colorscale": {
           "diverging": [
            [
             0,
             "#8e0152"
            ],
            [
             0.1,
             "#c51b7d"
            ],
            [
             0.2,
             "#de77ae"
            ],
            [
             0.3,
             "#f1b6da"
            ],
            [
             0.4,
             "#fde0ef"
            ],
            [
             0.5,
             "#f7f7f7"
            ],
            [
             0.6,
             "#e6f5d0"
            ],
            [
             0.7,
             "#b8e186"
            ],
            [
             0.8,
             "#7fbc41"
            ],
            [
             0.9,
             "#4d9221"
            ],
            [
             1,
             "#276419"
            ]
           ],
           "sequential": [
            [
             0,
             "#0d0887"
            ],
            [
             0.1111111111111111,
             "#46039f"
            ],
            [
             0.2222222222222222,
             "#7201a8"
            ],
            [
             0.3333333333333333,
             "#9c179e"
            ],
            [
             0.4444444444444444,
             "#bd3786"
            ],
            [
             0.5555555555555556,
             "#d8576b"
            ],
            [
             0.6666666666666666,
             "#ed7953"
            ],
            [
             0.7777777777777778,
             "#fb9f3a"
            ],
            [
             0.8888888888888888,
             "#fdca26"
            ],
            [
             1,
             "#f0f921"
            ]
           ],
           "sequentialminus": [
            [
             0,
             "#0d0887"
            ],
            [
             0.1111111111111111,
             "#46039f"
            ],
            [
             0.2222222222222222,
             "#7201a8"
            ],
            [
             0.3333333333333333,
             "#9c179e"
            ],
            [
             0.4444444444444444,
             "#bd3786"
            ],
            [
             0.5555555555555556,
             "#d8576b"
            ],
            [
             0.6666666666666666,
             "#ed7953"
            ],
            [
             0.7777777777777778,
             "#fb9f3a"
            ],
            [
             0.8888888888888888,
             "#fdca26"
            ],
            [
             1,
             "#f0f921"
            ]
           ]
          },
          "colorway": [
           "#636efa",
           "#EF553B",
           "#00cc96",
           "#ab63fa",
           "#FFA15A",
           "#19d3f3",
           "#FF6692",
           "#B6E880",
           "#FF97FF",
           "#FECB52"
          ],
          "font": {
           "color": "#2a3f5f"
          },
          "geo": {
           "bgcolor": "white",
           "lakecolor": "white",
           "landcolor": "#E5ECF6",
           "showlakes": true,
           "showland": true,
           "subunitcolor": "white"
          },
          "hoverlabel": {
           "align": "left"
          },
          "hovermode": "closest",
          "mapbox": {
           "style": "light"
          },
          "paper_bgcolor": "white",
          "plot_bgcolor": "#E5ECF6",
          "polar": {
           "angularaxis": {
            "gridcolor": "white",
            "linecolor": "white",
            "ticks": ""
           },
           "bgcolor": "#E5ECF6",
           "radialaxis": {
            "gridcolor": "white",
            "linecolor": "white",
            "ticks": ""
           }
          },
          "scene": {
           "xaxis": {
            "backgroundcolor": "#E5ECF6",
            "gridcolor": "white",
            "gridwidth": 2,
            "linecolor": "white",
            "showbackground": true,
            "ticks": "",
            "zerolinecolor": "white"
           },
           "yaxis": {
            "backgroundcolor": "#E5ECF6",
            "gridcolor": "white",
            "gridwidth": 2,
            "linecolor": "white",
            "showbackground": true,
            "ticks": "",
            "zerolinecolor": "white"
           },
           "zaxis": {
            "backgroundcolor": "#E5ECF6",
            "gridcolor": "white",
            "gridwidth": 2,
            "linecolor": "white",
            "showbackground": true,
            "ticks": "",
            "zerolinecolor": "white"
           }
          },
          "shapedefaults": {
           "line": {
            "color": "#2a3f5f"
           }
          },
          "ternary": {
           "aaxis": {
            "gridcolor": "white",
            "linecolor": "white",
            "ticks": ""
           },
           "baxis": {
            "gridcolor": "white",
            "linecolor": "white",
            "ticks": ""
           },
           "bgcolor": "#E5ECF6",
           "caxis": {
            "gridcolor": "white",
            "linecolor": "white",
            "ticks": ""
           }
          },
          "title": {
           "x": 0.05
          },
          "xaxis": {
           "automargin": true,
           "gridcolor": "white",
           "linecolor": "white",
           "ticks": "",
           "title": {
            "standoff": 15
           },
           "zerolinecolor": "white",
           "zerolinewidth": 2
          },
          "yaxis": {
           "automargin": true,
           "gridcolor": "white",
           "linecolor": "white",
           "ticks": "",
           "title": {
            "standoff": 15
           },
           "zerolinecolor": "white",
           "zerolinewidth": 2
          }
         }
        },
        "title": {
         "text": "Interactive Transaction Visualization"
        },
        "width": 1000,
        "xaxis": {
         "showgrid": false,
         "showticklabels": false,
         "zeroline": false
        },
        "yaxis": {
         "showgrid": false,
         "showticklabels": false,
         "zeroline": false
        }
       }
      }
     },
     "metadata": {},
     "output_type": "display_data"
    }
   ],
   "source": [
    "\n",
    "AccountToSearch = flowGraph_centerNode\n",
    "\n",
    "\n",
    "\n",
    "# edge1 = pd.read_csv('edge1.csv')\n",
    "# node1 = pd.read_csv('node1.csv')\n",
    "\n",
    "# filter the record by datetime, to enable interactive control through the input box\n",
    "# edge1['Datetime'] = \"\" # add empty Datetime column to edge1 dataframe\n",
    "# accountSet=set() # contain unique account\n",
    "# for index in range(0,len(edge1)):\n",
    "#     edge1['Datetime'][index] = datetime.strptime(edge1['Date'][index], '%d/%m/%Y')\n",
    "#     if edge1['Datetime'][index].year<yearRange[0] or edge1['Datetime'][index].year>yearRange[1]:\n",
    "#         edge1.drop(axis=0, index=index, inplace=True)\n",
    "#         continue\n",
    "#     accountSet.add(edge1['Source'][index])\n",
    "#     accountSet.add(edge1['Target'][index])\n",
    "\n",
    "# to define the centric point of the networkx layout\n",
    "shells=[]\n",
    "shell1=[]\n",
    "shell1.append(AccountToSearch)\n",
    "shells.append(shell1)\n",
    "shell2=[]\n",
    "for ele in accountSet:\n",
    "    if ele!=AccountToSearch:\n",
    "        shell2.append(ele)\n",
    "shells.append(shell2)\n",
    "\n",
    "\n",
    "G = nx.from_pandas_edgelist(edge1, 'Source', 'Target', ['Source', 'Target', 'TransactionAmt', 'Date'], create_using=nx.MultiDiGraph())\n",
    "nx.set_node_attributes(G, node1.set_index('Account')['CustomerName'].to_dict(), 'CustomerName')\n",
    "nx.set_node_attributes(G, node1.set_index('Account')['Type'].to_dict(), 'Type')\n",
    "# pos = nx.layout.spring_layout(G)\n",
    "# pos = nx.layout.circular_layout(G)\n",
    "# nx.layout.shell_layout only works for more than 3 nodes\n",
    "if len(shell2)>1:\n",
    "    pos = nx.drawing.layout.shell_layout(G, shells)\n",
    "else:\n",
    "    pos = nx.drawing.layout.spring_layout(G)\n",
    "for node in G.nodes:\n",
    "    G.nodes[node]['pos'] = list(pos[node])\n",
    "\n",
    "\n",
    "if len(shell2)==0:\n",
    "    traceRecode = []  # contains edge_trace, node_trace, middle_node_trace\n",
    "\n",
    "    node_trace = go.Scatter(x=tuple([1]), y=tuple([1]), text=tuple([str(AccountToSearch)]), textposition=\"bottom center\",\n",
    "                            mode='markers+text',\n",
    "                            marker={'size': 50, 'color': 'LightSkyBlue'})\n",
    "    traceRecode.append(node_trace)\n",
    "\n",
    "    node_trace1 = go.Scatter(x=tuple([1]), y=tuple([1]),\n",
    "                            mode='markers',\n",
    "                            marker={'size': 50, 'color': 'LightSkyBlue'},\n",
    "                            opacity=0)\n",
    "    traceRecode.append(node_trace1)\n",
    "\n",
    "    figure = {\n",
    "        \"data\": traceRecode,\n",
    "        \"layout\": go.Layout(title='Interactive Transaction Visualization', showlegend=False,\n",
    "                            margin={'b': 40, 'l': 40, 'r': 40, 't': 40},\n",
    "                            xaxis={'showgrid': False, 'zeroline': False, 'showticklabels': False},\n",
    "                            yaxis={'showgrid': False, 'zeroline': False, 'showticklabels': False},\n",
    "                            height=600\n",
    "                            )}\n",
    "    # return figure\n",
    "\n",
    "\n",
    "traceRecode = []  # contains edge_trace, node_trace, middle_node_trace\n",
    "############################################################################################################################################################\n",
    "colors = list(Color('lightcoral').range_to(Color('darkred'), len(G.edges())))\n",
    "colors = ['rgb' + str(x.rgb) for x in colors]\n",
    "\n",
    "index = 0\n",
    "for edge in G.edges:\n",
    "    x0, y0 = G.nodes[edge[0]]['pos']\n",
    "    x1, y1 = G.nodes[edge[1]]['pos']\n",
    "    weight = float(G.edges[edge]['TransactionAmt']) / max(edge1['TransactionAmt']) * 10\n",
    "    trace = go.Scatter(x=tuple([x0, x1, None]), y=tuple([y0, y1, None]),\n",
    "                        mode='lines',\n",
    "                        line={'width': weight},\n",
    "                        marker=dict(color=colors[index]),\n",
    "                        line_shape='spline',\n",
    "                        opacity=1)\n",
    "    traceRecode.append(trace)\n",
    "    index = index + 1\n",
    "###############################################################################################################################################################\n",
    "node_trace = go.Scatter(x=[], y=[], hovertext=[], text=[], mode='markers+text', textposition=\"bottom center\",\n",
    "                        hoverinfo=\"text\", marker={'size': 50, 'color': 'LightSkyBlue'})\n",
    "\n",
    "index = 0\n",
    "for node in G.nodes():\n",
    "    x, y = G.nodes[node]['pos']\n",
    "    print(G)\n",
    "    hovertext = node # not working to add more information to the node\n",
    "    text = node # not working to add more information to the node\n",
    "    # hovertext = \"CustomerName: \" + str(G.nodes[node]['CustomerName']) + \"<br>\" + \"AccountType: \" + str(\n",
    "    #     G.nodes[node]['Type'])\n",
    "    #text = node1['Account'][index]\n",
    "\n",
    "    node_trace['x'] += tuple([x])\n",
    "    node_trace['y'] += tuple([y])\n",
    "    node_trace['hovertext'] += tuple([hovertext])\n",
    "    node_trace['text'] += tuple([text])\n",
    "    index = index + 1\n",
    "\n",
    "traceRecode.append(node_trace)\n",
    "################################################################################################################################################################\n",
    "middle_hover_trace = go.Scatter(x=[], y=[], hovertext=[], mode='markers', hoverinfo=\"text\",\n",
    "                                marker={'size': 20, 'color': 'LightSkyBlue'},\n",
    "                                opacity=0)\n",
    "\n",
    "index = 0\n",
    "for edge in G.edges:\n",
    "    x0, y0 = G.nodes[edge[0]]['pos']\n",
    "    x1, y1 = G.nodes[edge[1]]['pos']\n",
    "    hovertext = \"From: \" + str(G.edges[edge]['Source']) + \"<br>\" + \"To: \" + str(\n",
    "        G.edges[edge]['Target']) + \"<br>\" + \"TransactionAmt: \" + str(\n",
    "        G.edges[edge]['TransactionAmt']) + \"<br>\" + \"TransactionDate: \" + str(G.edges[edge]['Date'])\n",
    "    middle_hover_trace['x'] += tuple([(x0 + x1) / 2])\n",
    "    middle_hover_trace['y'] += tuple([(y0 + y1) / 2])\n",
    "    middle_hover_trace['hovertext'] += tuple([hovertext])\n",
    "    index = index + 1\n",
    "\n",
    "traceRecode.append(middle_hover_trace)\n",
    "#################################################################################################################################################################\n",
    "figure = {\n",
    "    \"data\": traceRecode,\n",
    "    \"layout\": go.Layout(title='Interactive Transaction Visualization', showlegend=False, hovermode='closest',\n",
    "                        margin={'b': 40, 'l': 40, 'r': 40, 't': 40},\n",
    "                        xaxis={'showgrid': False, 'zeroline': False, 'showticklabels': False},\n",
    "                        yaxis={'showgrid': False, 'zeroline': False, 'showticklabels': False},\n",
    "                        height=600,\n",
    "                        clickmode='event+select',\n",
    "                        annotations=[\n",
    "                            dict(\n",
    "                                ax=(G.nodes[edge[0]]['pos'][0] + G.nodes[edge[1]]['pos'][0]) / 2,\n",
    "                                ay=(G.nodes[edge[0]]['pos'][1] + G.nodes[edge[1]]['pos'][1]) / 2, axref='x', ayref='y',\n",
    "                                x=(G.nodes[edge[1]]['pos'][0] * 3 + G.nodes[edge[0]]['pos'][0]) / 4,\n",
    "                                y=(G.nodes[edge[1]]['pos'][1] * 3 + G.nodes[edge[0]]['pos'][1]) / 4, xref='x', yref='y',\n",
    "                                showarrow=True,\n",
    "                                arrowhead=1,\n",
    "                                arrowsize=3,\n",
    "                                arrowwidth=2,\n",
    "                                opacity=0.5\n",
    "                            ) for edge in G.edges]\n",
    "                        )}\n",
    "fig = go.Figure(figure)\n",
    "fig.update_layout(\n",
    "    autosize=False,\n",
    "    width=1000,\n",
    "    height=800,\n",
    "    margin=dict(\n",
    "        l=3,\n",
    "        r=3,\n",
    "        b=3,\n",
    "        t=60,\n",
    "        pad=4\n",
    "    ),\n",
    "    paper_bgcolor=\"LightSteelBlue\",\n",
    ")\n",
    "fig.show()"
   ]
  },
  {
   "cell_type": "code",
   "execution_count": 41,
   "metadata": {},
   "outputs": [],
   "source": [
    "\n",
    "\n",
    "##############################################################################################################################################################\n",
    "def network_graph(node1,edge1,accountSet, AccountToSearch):\n",
    "\n",
    "    # edge1 = pd.read_csv('edge1.csv')\n",
    "    # node1 = pd.read_csv('node1.csv')\n",
    "\n",
    "    # filter the record by datetime, to enable interactive control through the input box\n",
    "    # edge1['Datetime'] = \"\" # add empty Datetime column to edge1 dataframe\n",
    "    # accountSet=set() # contain unique account\n",
    "    # for index in range(0,len(edge1)):\n",
    "    #     edge1['Datetime'][index] = datetime.strptime(edge1['Date'][index], '%d/%m/%Y')\n",
    "    #     if edge1['Datetime'][index].year<yearRange[0] or edge1['Datetime'][index].year>yearRange[1]:\n",
    "    #         edge1.drop(axis=0, index=index, inplace=True)\n",
    "    #         continue\n",
    "    #     accountSet.add(edge1['Source'][index])\n",
    "    #     accountSet.add(edge1['Target'][index])\n",
    "\n",
    "    # to define the centric point of the networkx layout\n",
    "    shells=[]\n",
    "    shell1=[]\n",
    "    shell1.append(AccountToSearch)\n",
    "    shells.append(shell1)\n",
    "    shell2=[]\n",
    "    for ele in accountSet:\n",
    "        if ele!=AccountToSearch:\n",
    "            shell2.append(ele)\n",
    "    shells.append(shell2)\n",
    "\n",
    "\n",
    "    G = nx.from_pandas_edgelist(edge1, 'Source', 'Target', ['Source', 'Target', 'TransactionAmt', 'Date'], create_using=nx.MultiDiGraph())\n",
    "    nx.set_node_attributes(G, node1.set_index('Account')['CustomerName'].to_dict(), 'CustomerName')\n",
    "    nx.set_node_attributes(G, node1.set_index('Account')['Type'].to_dict(), 'Type')\n",
    "    # pos = nx.layout.spring_layout(G)\n",
    "    # pos = nx.layout.circular_layout(G)\n",
    "    # nx.layout.shell_layout only works for more than 3 nodes\n",
    "    if len(shell2)>1:\n",
    "        pos = nx.drawing.layout.shell_layout(G, shells)\n",
    "    else:\n",
    "        pos = nx.drawing.layout.spring_layout(G)\n",
    "    for node in G.nodes:\n",
    "        G.nodes[node]['pos'] = list(pos[node])\n",
    "\n",
    "\n",
    "    if len(shell2)==0:\n",
    "        traceRecode = []  # contains edge_trace, node_trace, middle_node_trace\n",
    "\n",
    "        node_trace = go.Scatter(x=tuple([1]), y=tuple([1]), text=tuple([str(AccountToSearch)]), textposition=\"bottom center\",\n",
    "                                mode='markers+text',\n",
    "                                marker={'size': 50, 'color': 'LightSkyBlue'})\n",
    "        traceRecode.append(node_trace)\n",
    "\n",
    "        node_trace1 = go.Scatter(x=tuple([1]), y=tuple([1]),\n",
    "                                mode='markers',\n",
    "                                marker={'size': 50, 'color': 'LightSkyBlue'},\n",
    "                                opacity=0)\n",
    "        traceRecode.append(node_trace1)\n",
    "\n",
    "        figure = {\n",
    "            \"data\": traceRecode,\n",
    "            \"layout\": go.Layout(title='Interactive Transaction Visualization', showlegend=False,\n",
    "                                margin={'b': 40, 'l': 40, 'r': 40, 't': 40},\n",
    "                                xaxis={'showgrid': False, 'zeroline': False, 'showticklabels': False},\n",
    "                                yaxis={'showgrid': False, 'zeroline': False, 'showticklabels': False},\n",
    "                                height=600\n",
    "                                )}\n",
    "        return figure\n",
    "\n",
    "\n",
    "    traceRecode = []  # contains edge_trace, node_trace, middle_node_trace\n",
    "    ############################################################################################################################################################\n",
    "    colors = list(Color('lightcoral').range_to(Color('darkred'), len(G.edges())))\n",
    "    colors = ['rgb' + str(x.rgb) for x in colors]\n",
    "\n",
    "    index = 0\n",
    "    for edge in G.edges:\n",
    "        x0, y0 = G.nodes[edge[0]]['pos']\n",
    "        x1, y1 = G.nodes[edge[1]]['pos']\n",
    "        weight = float(G.edges[edge]['TransactionAmt']) / max(edge1['TransactionAmt']) * 10\n",
    "        trace = go.Scatter(x=tuple([x0, x1, None]), y=tuple([y0, y1, None]),\n",
    "                           mode='lines',\n",
    "                           line={'width': weight},\n",
    "                           marker=dict(color=colors[index]),\n",
    "                           line_shape='spline',\n",
    "                           opacity=1)\n",
    "        traceRecode.append(trace)\n",
    "        index = index + 1\n",
    "    ###############################################################################################################################################################\n",
    "    node_trace = go.Scatter(x=[], y=[], hovertext=[], text=[], mode='markers+text', textposition=\"bottom center\",\n",
    "                            hoverinfo=\"text\", marker={'size': 50, 'color': 'LightSkyBlue'})\n",
    "\n",
    "    index = 0\n",
    "    for node in G.nodes():\n",
    "        x, y = G.nodes[node]['pos']\n",
    "        print(G)\n",
    "        hovertext = node\n",
    "        text = node\n",
    "        # hovertext = \"CustomerName: \" + str(G.nodes[node]['CustomerName']) + \"<br>\" + \"AccountType: \" + str(\n",
    "        #     G.nodes[node]['Type'])\n",
    "        # text = node1['Account'][index]\n",
    "        node_trace['x'] += tuple([x])\n",
    "        node_trace['y'] += tuple([y])\n",
    "        node_trace['hovertext'] += tuple([hovertext])\n",
    "        node_trace['text'] += tuple([text])\n",
    "        index = index + 1\n",
    "\n",
    "    traceRecode.append(node_trace)\n",
    "    ################################################################################################################################################################\n",
    "    middle_hover_trace = go.Scatter(x=[], y=[], hovertext=[], mode='markers', hoverinfo=\"text\",\n",
    "                                    marker={'size': 20, 'color': 'LightSkyBlue'},\n",
    "                                    opacity=0)\n",
    "\n",
    "    index = 0\n",
    "    for edge in G.edges:\n",
    "        x0, y0 = G.nodes[edge[0]]['pos']\n",
    "        x1, y1 = G.nodes[edge[1]]['pos']\n",
    "        hovertext = \"From: \" + str(G.edges[edge]['Source']) + \"<br>\" + \"To: \" + str(\n",
    "            G.edges[edge]['Target']) + \"<br>\" + \"TransactionAmt: \" + str(\n",
    "            G.edges[edge]['TransactionAmt']) + \"<br>\" + \"TransactionDate: \" + str(G.edges[edge]['Date'])\n",
    "        middle_hover_trace['x'] += tuple([(x0 + x1) / 2])\n",
    "        middle_hover_trace['y'] += tuple([(y0 + y1) / 2])\n",
    "        middle_hover_trace['hovertext'] += tuple([hovertext])\n",
    "        index = index + 1\n",
    "\n",
    "    traceRecode.append(middle_hover_trace)\n",
    "    #################################################################################################################################################################\n",
    "    figure = {\n",
    "        \"data\": traceRecode,\n",
    "        \"layout\": go.Layout(title='Interactive Transaction Visualization', showlegend=False, hovermode='closest',\n",
    "                            margin={'b': 40, 'l': 40, 'r': 40, 't': 40},\n",
    "                            xaxis={'showgrid': False, 'zeroline': False, 'showticklabels': False},\n",
    "                            yaxis={'showgrid': False, 'zeroline': False, 'showticklabels': False},\n",
    "                            height=600,\n",
    "                            clickmode='event+select',\n",
    "                            annotations=[\n",
    "                                dict(\n",
    "                                    ax=(G.nodes[edge[0]]['pos'][0] + G.nodes[edge[1]]['pos'][0]) / 2,\n",
    "                                    ay=(G.nodes[edge[0]]['pos'][1] + G.nodes[edge[1]]['pos'][1]) / 2, axref='x', ayref='y',\n",
    "                                    x=(G.nodes[edge[1]]['pos'][0] * 3 + G.nodes[edge[0]]['pos'][0]) / 4,\n",
    "                                    y=(G.nodes[edge[1]]['pos'][1] * 3 + G.nodes[edge[0]]['pos'][1]) / 4, xref='x', yref='y',\n",
    "                                    showarrow=True,\n",
    "                                    arrowhead=3,\n",
    "                                    arrowsize=4,\n",
    "                                    arrowwidth=1,\n",
    "                                    opacity=1\n",
    "                                ) for edge in G.edges]\n",
    "                            )}\n",
    "    fig = go.Figure(figure)\n",
    "    fig.update_layout(\n",
    "        autosize=False,\n",
    "        width=1000,\n",
    "        height=800,\n",
    "        margin=dict(\n",
    "            l=3,\n",
    "            r=3,\n",
    "            b=3,\n",
    "            t=60,\n",
    "            pad=4\n",
    "        ),\n",
    "        paper_bgcolor=\"LightSteelBlue\",\n",
    "    )\n",
    "    \n",
    "    return fig"
   ]
  },
  {
   "cell_type": "code",
   "execution_count": 42,
   "metadata": {},
   "outputs": [
    {
     "name": "stdout",
     "output_type": "stream",
     "text": [
      "MultiDiGraph with 4 nodes and 5 edges\n",
      "MultiDiGraph with 4 nodes and 5 edges\n",
      "MultiDiGraph with 4 nodes and 5 edges\n",
      "MultiDiGraph with 4 nodes and 5 edges\n"
     ]
    },
    {
     "data": {
      "application/vnd.plotly.v1+json": {
       "config": {
        "plotlyServerURL": "https://plot.ly"
       },
       "data": [
        {
         "line": {
          "shape": "spline",
          "width": 0.0011289332779756281
         },
         "marker": {
          "color": "rgb(0.9411764705882353, 0.5019607843137255, 0.5019607843137255)"
         },
         "mode": "lines",
         "opacity": 1,
         "type": "scatter",
         "x": [
          0,
          -0.5,
          null
         ],
         "y": [
          0,
          -4.371138828673793e-8,
          null
         ]
        },
        {
         "line": {
          "shape": "spline",
          "width": 4.135286732511459
         },
         "marker": {
          "color": "rgb(0.9380954846727423, 0.28053196630764976, 0.28053196630764976)"
         },
         "mode": "lines",
         "opacity": 1,
         "type": "scatter",
         "x": [
          0,
          0.24999995529651642,
          null
         ],
         "y": [
          0,
          -0.4330127239227295,
          null
         ]
        },
        {
         "line": {
          "shape": "spline",
          "width": 10
         },
         "marker": {
          "color": "rgb(0.9416114333057166, 0.052506213753106934, 0.052506213753106934)"
         },
         "mode": "lines",
         "opacity": 1,
         "type": "scatter",
         "x": [
          0,
          0,
          null
         ],
         "y": [
          0,
          0,
          null
         ]
        },
        {
         "line": {
          "shape": "spline",
          "width": 0.005644666389878141
         },
         "marker": {
          "color": "rgb(0.7492836923501794, 0.02032415078707539, 0.02032415078707539)"
         },
         "mode": "lines",
         "opacity": 1,
         "type": "scatter",
         "x": [
          0,
          0.24999980628490448,
          null
         ],
         "y": [
          0,
          0.43301281332969666,
          null
         ]
        },
        {
         "line": {
          "shape": "spline",
          "width": 0.005644666389878141
         },
         "marker": {
          "color": "rgb(0.5450980392156862, 0.0, 0.0)"
         },
         "mode": "lines",
         "opacity": 1,
         "type": "scatter",
         "x": [
          0.24999980628490448,
          0,
          null
         ],
         "y": [
          0.43301281332969666,
          0,
          null
         ]
        },
        {
         "hoverinfo": "text",
         "hovertext": [
          "yYiOdGN2a2TGR8GBwrMtk1CkMAFUcaan",
          "6LjxlCvzxnVaAMo3QuvCyAuyG3fyCyHD",
          "FMKb71RPmguLvGGijceGfTeZJWIyYdFI",
          "ze3ws3ckYylbZwpXj6xNRXSBeRkenIzY"
         ],
         "marker": {
          "color": "LightSkyBlue",
          "size": 50
         },
         "mode": "markers+text",
         "text": [
          "yYiOdGN2a2TGR8GBwrMtk1CkMAFUcaan",
          "6LjxlCvzxnVaAMo3QuvCyAuyG3fyCyHD",
          "FMKb71RPmguLvGGijceGfTeZJWIyYdFI",
          "ze3ws3ckYylbZwpXj6xNRXSBeRkenIzY"
         ],
         "textposition": "bottom center",
         "type": "scatter",
         "x": [
          0,
          -0.5,
          0.24999995529651642,
          0.24999980628490448
         ],
         "y": [
          0,
          -4.371138828673793e-8,
          -0.4330127239227295,
          0.43301281332969666
         ]
        },
        {
         "hoverinfo": "text",
         "hovertext": [
          "From: yYiOdGN2a2TGR8GBwrMtk1CkMAFUcaan<br>To: 6LjxlCvzxnVaAMo3QuvCyAuyG3fyCyHD<br>TransactionAmt: 5.46e-06<br>TransactionDate: None",
          "From: yYiOdGN2a2TGR8GBwrMtk1CkMAFUcaan<br>To: FMKb71RPmguLvGGijceGfTeZJWIyYdFI<br>TransactionAmt: 0.02<br>TransactionDate: None",
          "From: yYiOdGN2a2TGR8GBwrMtk1CkMAFUcaan<br>To: yYiOdGN2a2TGR8GBwrMtk1CkMAFUcaan<br>TransactionAmt: 0.04836424<br>TransactionDate: None",
          "From: yYiOdGN2a2TGR8GBwrMtk1CkMAFUcaan<br>To: ze3ws3ckYylbZwpXj6xNRXSBeRkenIzY<br>TransactionAmt: 2.73e-05<br>TransactionDate: None",
          "From: ze3ws3ckYylbZwpXj6xNRXSBeRkenIzY<br>To: yYiOdGN2a2TGR8GBwrMtk1CkMAFUcaan<br>TransactionAmt: 2.73e-05<br>TransactionDate: None"
         ],
         "marker": {
          "color": "LightSkyBlue",
          "size": 20
         },
         "mode": "markers",
         "opacity": 0,
         "type": "scatter",
         "x": [
          -0.25,
          0.12499997764825821,
          0,
          0.12499990314245224,
          0.12499990314245224
         ],
         "y": [
          -2.1855694143368964e-8,
          -0.21650636196136475,
          0,
          0.21650640666484833,
          0.21650640666484833
         ]
        }
       ],
       "layout": {
        "annotations": [
         {
          "arrowhead": 3,
          "arrowsize": 4,
          "arrowwidth": 1,
          "ax": -0.25,
          "axref": "x",
          "ay": -2.1855694143368964e-8,
          "ayref": "y",
          "opacity": 1,
          "showarrow": true,
          "x": -0.375,
          "xref": "x",
          "y": -3.2783541215053447e-8,
          "yref": "y"
         },
         {
          "arrowhead": 3,
          "arrowsize": 4,
          "arrowwidth": 1,
          "ax": 0.12499997764825821,
          "axref": "x",
          "ay": -0.21650636196136475,
          "ayref": "y",
          "opacity": 1,
          "showarrow": true,
          "x": 0.1874999664723873,
          "xref": "x",
          "y": -0.3247595429420471,
          "yref": "y"
         },
         {
          "arrowhead": 3,
          "arrowsize": 4,
          "arrowwidth": 1,
          "ax": 0,
          "axref": "x",
          "ay": 0,
          "ayref": "y",
          "opacity": 1,
          "showarrow": true,
          "x": 0,
          "xref": "x",
          "y": 0,
          "yref": "y"
         },
         {
          "arrowhead": 3,
          "arrowsize": 4,
          "arrowwidth": 1,
          "ax": 0.12499990314245224,
          "axref": "x",
          "ay": 0.21650640666484833,
          "ayref": "y",
          "opacity": 1,
          "showarrow": true,
          "x": 0.18749985471367836,
          "xref": "x",
          "y": 0.3247596099972725,
          "yref": "y"
         },
         {
          "arrowhead": 3,
          "arrowsize": 4,
          "arrowwidth": 1,
          "ax": 0.12499990314245224,
          "axref": "x",
          "ay": 0.21650640666484833,
          "ayref": "y",
          "opacity": 1,
          "showarrow": true,
          "x": 0.06249995157122612,
          "xref": "x",
          "y": 0.10825320333242416,
          "yref": "y"
         }
        ],
        "autosize": false,
        "clickmode": "event+select",
        "height": 800,
        "hovermode": "closest",
        "margin": {
         "b": 3,
         "l": 3,
         "pad": 4,
         "r": 3,
         "t": 60
        },
        "paper_bgcolor": "LightSteelBlue",
        "showlegend": false,
        "template": {
         "data": {
          "bar": [
           {
            "error_x": {
             "color": "#2a3f5f"
            },
            "error_y": {
             "color": "#2a3f5f"
            },
            "marker": {
             "line": {
              "color": "#E5ECF6",
              "width": 0.5
             },
             "pattern": {
              "fillmode": "overlay",
              "size": 10,
              "solidity": 0.2
             }
            },
            "type": "bar"
           }
          ],
          "barpolar": [
           {
            "marker": {
             "line": {
              "color": "#E5ECF6",
              "width": 0.5
             },
             "pattern": {
              "fillmode": "overlay",
              "size": 10,
              "solidity": 0.2
             }
            },
            "type": "barpolar"
           }
          ],
          "carpet": [
           {
            "aaxis": {
             "endlinecolor": "#2a3f5f",
             "gridcolor": "white",
             "linecolor": "white",
             "minorgridcolor": "white",
             "startlinecolor": "#2a3f5f"
            },
            "baxis": {
             "endlinecolor": "#2a3f5f",
             "gridcolor": "white",
             "linecolor": "white",
             "minorgridcolor": "white",
             "startlinecolor": "#2a3f5f"
            },
            "type": "carpet"
           }
          ],
          "choropleth": [
           {
            "colorbar": {
             "outlinewidth": 0,
             "ticks": ""
            },
            "type": "choropleth"
           }
          ],
          "contour": [
           {
            "colorbar": {
             "outlinewidth": 0,
             "ticks": ""
            },
            "colorscale": [
             [
              0,
              "#0d0887"
             ],
             [
              0.1111111111111111,
              "#46039f"
             ],
             [
              0.2222222222222222,
              "#7201a8"
             ],
             [
              0.3333333333333333,
              "#9c179e"
             ],
             [
              0.4444444444444444,
              "#bd3786"
             ],
             [
              0.5555555555555556,
              "#d8576b"
             ],
             [
              0.6666666666666666,
              "#ed7953"
             ],
             [
              0.7777777777777778,
              "#fb9f3a"
             ],
             [
              0.8888888888888888,
              "#fdca26"
             ],
             [
              1,
              "#f0f921"
             ]
            ],
            "type": "contour"
           }
          ],
          "contourcarpet": [
           {
            "colorbar": {
             "outlinewidth": 0,
             "ticks": ""
            },
            "type": "contourcarpet"
           }
          ],
          "heatmap": [
           {
            "colorbar": {
             "outlinewidth": 0,
             "ticks": ""
            },
            "colorscale": [
             [
              0,
              "#0d0887"
             ],
             [
              0.1111111111111111,
              "#46039f"
             ],
             [
              0.2222222222222222,
              "#7201a8"
             ],
             [
              0.3333333333333333,
              "#9c179e"
             ],
             [
              0.4444444444444444,
              "#bd3786"
             ],
             [
              0.5555555555555556,
              "#d8576b"
             ],
             [
              0.6666666666666666,
              "#ed7953"
             ],
             [
              0.7777777777777778,
              "#fb9f3a"
             ],
             [
              0.8888888888888888,
              "#fdca26"
             ],
             [
              1,
              "#f0f921"
             ]
            ],
            "type": "heatmap"
           }
          ],
          "heatmapgl": [
           {
            "colorbar": {
             "outlinewidth": 0,
             "ticks": ""
            },
            "colorscale": [
             [
              0,
              "#0d0887"
             ],
             [
              0.1111111111111111,
              "#46039f"
             ],
             [
              0.2222222222222222,
              "#7201a8"
             ],
             [
              0.3333333333333333,
              "#9c179e"
             ],
             [
              0.4444444444444444,
              "#bd3786"
             ],
             [
              0.5555555555555556,
              "#d8576b"
             ],
             [
              0.6666666666666666,
              "#ed7953"
             ],
             [
              0.7777777777777778,
              "#fb9f3a"
             ],
             [
              0.8888888888888888,
              "#fdca26"
             ],
             [
              1,
              "#f0f921"
             ]
            ],
            "type": "heatmapgl"
           }
          ],
          "histogram": [
           {
            "marker": {
             "pattern": {
              "fillmode": "overlay",
              "size": 10,
              "solidity": 0.2
             }
            },
            "type": "histogram"
           }
          ],
          "histogram2d": [
           {
            "colorbar": {
             "outlinewidth": 0,
             "ticks": ""
            },
            "colorscale": [
             [
              0,
              "#0d0887"
             ],
             [
              0.1111111111111111,
              "#46039f"
             ],
             [
              0.2222222222222222,
              "#7201a8"
             ],
             [
              0.3333333333333333,
              "#9c179e"
             ],
             [
              0.4444444444444444,
              "#bd3786"
             ],
             [
              0.5555555555555556,
              "#d8576b"
             ],
             [
              0.6666666666666666,
              "#ed7953"
             ],
             [
              0.7777777777777778,
              "#fb9f3a"
             ],
             [
              0.8888888888888888,
              "#fdca26"
             ],
             [
              1,
              "#f0f921"
             ]
            ],
            "type": "histogram2d"
           }
          ],
          "histogram2dcontour": [
           {
            "colorbar": {
             "outlinewidth": 0,
             "ticks": ""
            },
            "colorscale": [
             [
              0,
              "#0d0887"
             ],
             [
              0.1111111111111111,
              "#46039f"
             ],
             [
              0.2222222222222222,
              "#7201a8"
             ],
             [
              0.3333333333333333,
              "#9c179e"
             ],
             [
              0.4444444444444444,
              "#bd3786"
             ],
             [
              0.5555555555555556,
              "#d8576b"
             ],
             [
              0.6666666666666666,
              "#ed7953"
             ],
             [
              0.7777777777777778,
              "#fb9f3a"
             ],
             [
              0.8888888888888888,
              "#fdca26"
             ],
             [
              1,
              "#f0f921"
             ]
            ],
            "type": "histogram2dcontour"
           }
          ],
          "mesh3d": [
           {
            "colorbar": {
             "outlinewidth": 0,
             "ticks": ""
            },
            "type": "mesh3d"
           }
          ],
          "parcoords": [
           {
            "line": {
             "colorbar": {
              "outlinewidth": 0,
              "ticks": ""
             }
            },
            "type": "parcoords"
           }
          ],
          "pie": [
           {
            "automargin": true,
            "type": "pie"
           }
          ],
          "scatter": [
           {
            "fillpattern": {
             "fillmode": "overlay",
             "size": 10,
             "solidity": 0.2
            },
            "type": "scatter"
           }
          ],
          "scatter3d": [
           {
            "line": {
             "colorbar": {
              "outlinewidth": 0,
              "ticks": ""
             }
            },
            "marker": {
             "colorbar": {
              "outlinewidth": 0,
              "ticks": ""
             }
            },
            "type": "scatter3d"
           }
          ],
          "scattercarpet": [
           {
            "marker": {
             "colorbar": {
              "outlinewidth": 0,
              "ticks": ""
             }
            },
            "type": "scattercarpet"
           }
          ],
          "scattergeo": [
           {
            "marker": {
             "colorbar": {
              "outlinewidth": 0,
              "ticks": ""
             }
            },
            "type": "scattergeo"
           }
          ],
          "scattergl": [
           {
            "marker": {
             "colorbar": {
              "outlinewidth": 0,
              "ticks": ""
             }
            },
            "type": "scattergl"
           }
          ],
          "scattermapbox": [
           {
            "marker": {
             "colorbar": {
              "outlinewidth": 0,
              "ticks": ""
             }
            },
            "type": "scattermapbox"
           }
          ],
          "scatterpolar": [
           {
            "marker": {
             "colorbar": {
              "outlinewidth": 0,
              "ticks": ""
             }
            },
            "type": "scatterpolar"
           }
          ],
          "scatterpolargl": [
           {
            "marker": {
             "colorbar": {
              "outlinewidth": 0,
              "ticks": ""
             }
            },
            "type": "scatterpolargl"
           }
          ],
          "scatterternary": [
           {
            "marker": {
             "colorbar": {
              "outlinewidth": 0,
              "ticks": ""
             }
            },
            "type": "scatterternary"
           }
          ],
          "surface": [
           {
            "colorbar": {
             "outlinewidth": 0,
             "ticks": ""
            },
            "colorscale": [
             [
              0,
              "#0d0887"
             ],
             [
              0.1111111111111111,
              "#46039f"
             ],
             [
              0.2222222222222222,
              "#7201a8"
             ],
             [
              0.3333333333333333,
              "#9c179e"
             ],
             [
              0.4444444444444444,
              "#bd3786"
             ],
             [
              0.5555555555555556,
              "#d8576b"
             ],
             [
              0.6666666666666666,
              "#ed7953"
             ],
             [
              0.7777777777777778,
              "#fb9f3a"
             ],
             [
              0.8888888888888888,
              "#fdca26"
             ],
             [
              1,
              "#f0f921"
             ]
            ],
            "type": "surface"
           }
          ],
          "table": [
           {
            "cells": {
             "fill": {
              "color": "#EBF0F8"
             },
             "line": {
              "color": "white"
             }
            },
            "header": {
             "fill": {
              "color": "#C8D4E3"
             },
             "line": {
              "color": "white"
             }
            },
            "type": "table"
           }
          ]
         },
         "layout": {
          "annotationdefaults": {
           "arrowcolor": "#2a3f5f",
           "arrowhead": 0,
           "arrowwidth": 1
          },
          "autotypenumbers": "strict",
          "coloraxis": {
           "colorbar": {
            "outlinewidth": 0,
            "ticks": ""
           }
          },
          "colorscale": {
           "diverging": [
            [
             0,
             "#8e0152"
            ],
            [
             0.1,
             "#c51b7d"
            ],
            [
             0.2,
             "#de77ae"
            ],
            [
             0.3,
             "#f1b6da"
            ],
            [
             0.4,
             "#fde0ef"
            ],
            [
             0.5,
             "#f7f7f7"
            ],
            [
             0.6,
             "#e6f5d0"
            ],
            [
             0.7,
             "#b8e186"
            ],
            [
             0.8,
             "#7fbc41"
            ],
            [
             0.9,
             "#4d9221"
            ],
            [
             1,
             "#276419"
            ]
           ],
           "sequential": [
            [
             0,
             "#0d0887"
            ],
            [
             0.1111111111111111,
             "#46039f"
            ],
            [
             0.2222222222222222,
             "#7201a8"
            ],
            [
             0.3333333333333333,
             "#9c179e"
            ],
            [
             0.4444444444444444,
             "#bd3786"
            ],
            [
             0.5555555555555556,
             "#d8576b"
            ],
            [
             0.6666666666666666,
             "#ed7953"
            ],
            [
             0.7777777777777778,
             "#fb9f3a"
            ],
            [
             0.8888888888888888,
             "#fdca26"
            ],
            [
             1,
             "#f0f921"
            ]
           ],
           "sequentialminus": [
            [
             0,
             "#0d0887"
            ],
            [
             0.1111111111111111,
             "#46039f"
            ],
            [
             0.2222222222222222,
             "#7201a8"
            ],
            [
             0.3333333333333333,
             "#9c179e"
            ],
            [
             0.4444444444444444,
             "#bd3786"
            ],
            [
             0.5555555555555556,
             "#d8576b"
            ],
            [
             0.6666666666666666,
             "#ed7953"
            ],
            [
             0.7777777777777778,
             "#fb9f3a"
            ],
            [
             0.8888888888888888,
             "#fdca26"
            ],
            [
             1,
             "#f0f921"
            ]
           ]
          },
          "colorway": [
           "#636efa",
           "#EF553B",
           "#00cc96",
           "#ab63fa",
           "#FFA15A",
           "#19d3f3",
           "#FF6692",
           "#B6E880",
           "#FF97FF",
           "#FECB52"
          ],
          "font": {
           "color": "#2a3f5f"
          },
          "geo": {
           "bgcolor": "white",
           "lakecolor": "white",
           "landcolor": "#E5ECF6",
           "showlakes": true,
           "showland": true,
           "subunitcolor": "white"
          },
          "hoverlabel": {
           "align": "left"
          },
          "hovermode": "closest",
          "mapbox": {
           "style": "light"
          },
          "paper_bgcolor": "white",
          "plot_bgcolor": "#E5ECF6",
          "polar": {
           "angularaxis": {
            "gridcolor": "white",
            "linecolor": "white",
            "ticks": ""
           },
           "bgcolor": "#E5ECF6",
           "radialaxis": {
            "gridcolor": "white",
            "linecolor": "white",
            "ticks": ""
           }
          },
          "scene": {
           "xaxis": {
            "backgroundcolor": "#E5ECF6",
            "gridcolor": "white",
            "gridwidth": 2,
            "linecolor": "white",
            "showbackground": true,
            "ticks": "",
            "zerolinecolor": "white"
           },
           "yaxis": {
            "backgroundcolor": "#E5ECF6",
            "gridcolor": "white",
            "gridwidth": 2,
            "linecolor": "white",
            "showbackground": true,
            "ticks": "",
            "zerolinecolor": "white"
           },
           "zaxis": {
            "backgroundcolor": "#E5ECF6",
            "gridcolor": "white",
            "gridwidth": 2,
            "linecolor": "white",
            "showbackground": true,
            "ticks": "",
            "zerolinecolor": "white"
           }
          },
          "shapedefaults": {
           "line": {
            "color": "#2a3f5f"
           }
          },
          "ternary": {
           "aaxis": {
            "gridcolor": "white",
            "linecolor": "white",
            "ticks": ""
           },
           "baxis": {
            "gridcolor": "white",
            "linecolor": "white",
            "ticks": ""
           },
           "bgcolor": "#E5ECF6",
           "caxis": {
            "gridcolor": "white",
            "linecolor": "white",
            "ticks": ""
           }
          },
          "title": {
           "x": 0.05
          },
          "xaxis": {
           "automargin": true,
           "gridcolor": "white",
           "linecolor": "white",
           "ticks": "",
           "title": {
            "standoff": 15
           },
           "zerolinecolor": "white",
           "zerolinewidth": 2
          },
          "yaxis": {
           "automargin": true,
           "gridcolor": "white",
           "linecolor": "white",
           "ticks": "",
           "title": {
            "standoff": 15
           },
           "zerolinecolor": "white",
           "zerolinewidth": 2
          }
         }
        },
        "title": {
         "text": "Interactive Transaction Visualization"
        },
        "width": 1000,
        "xaxis": {
         "showgrid": false,
         "showticklabels": false,
         "zeroline": false
        },
        "yaxis": {
         "showgrid": false,
         "showticklabels": false,
         "zeroline": false
        }
       }
      }
     },
     "metadata": {},
     "output_type": "display_data"
    }
   ],
   "source": [
    "network_graph(node1,edge1,accountSet, AccountToSearch=flowGraph_centerNode)"
   ]
  },
  {
   "cell_type": "code",
   "execution_count": null,
   "metadata": {},
   "outputs": [],
   "source": []
  }
 ],
 "metadata": {
  "kernelspec": {
   "display_name": "Python 3.9.12 ('teampai')",
   "language": "python",
   "name": "python3"
  },
  "language_info": {
   "codemirror_mode": {
    "name": "ipython",
    "version": 3
   },
   "file_extension": ".py",
   "mimetype": "text/x-python",
   "name": "python",
   "nbconvert_exporter": "python",
   "pygments_lexer": "ipython3",
   "version": "3.9.12"
  },
  "orig_nbformat": 4,
  "vscode": {
   "interpreter": {
    "hash": "fb8b73107ff42e6e5ac348881d566a03211f06326dca1edeb2f1de8c35955c7b"
   }
  }
 },
 "nbformat": 4,
 "nbformat_minor": 2
}
