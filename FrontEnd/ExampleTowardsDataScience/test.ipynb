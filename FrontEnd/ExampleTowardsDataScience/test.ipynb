{
 "cells": [
  {
   "cell_type": "code",
   "execution_count": 1,
   "metadata": {},
   "outputs": [
    {
     "name": "stderr",
     "output_type": "stream",
     "text": [
      "C:\\Users\\tobi1\\AppData\\Local\\Temp\\ipykernel_35700\\2917969711.py:4: UserWarning: \n",
      "The dash_core_components package is deprecated. Please replace\n",
      "`import dash_core_components as dcc` with `from dash import dcc`\n",
      "  import dash_core_components as dcc\n",
      "C:\\Users\\tobi1\\AppData\\Local\\Temp\\ipykernel_35700\\2917969711.py:5: UserWarning: \n",
      "The dash_html_components package is deprecated. Please replace\n",
      "`import dash_html_components as html` with `from dash import html`\n",
      "  import dash_html_components as html\n"
     ]
    }
   ],
   "source": [
    "#!/usr/bin/env python3\n",
    "# -*- coding: utf-8 -*-\n",
    "import dash\n",
    "import dash_core_components as dcc\n",
    "import dash_html_components as html\n",
    "import networkx as nx\n",
    "import plotly.graph_objs as go\n",
    "\n",
    "import pandas as pd\n",
    "from colour import Color\n",
    "from datetime import datetime\n",
    "from textwrap import dedent as d\n",
    "import json"
   ]
  },
  {
   "cell_type": "code",
   "execution_count": 2,
   "metadata": {},
   "outputs": [],
   "source": [
    "edge1 = pd.read_csv('edge1.csv')\n",
    "node1 = pd.read_csv('node1.csv')"
   ]
  },
  {
   "cell_type": "code",
   "execution_count": 3,
   "metadata": {},
   "outputs": [
    {
     "data": {
      "text/html": [
       "<div>\n",
       "<style scoped>\n",
       "    .dataframe tbody tr th:only-of-type {\n",
       "        vertical-align: middle;\n",
       "    }\n",
       "\n",
       "    .dataframe tbody tr th {\n",
       "        vertical-align: top;\n",
       "    }\n",
       "\n",
       "    .dataframe thead th {\n",
       "        text-align: right;\n",
       "    }\n",
       "</style>\n",
       "<table border=\"1\" class=\"dataframe\">\n",
       "  <thead>\n",
       "    <tr style=\"text-align: right;\">\n",
       "      <th></th>\n",
       "      <th>TransactionAmt</th>\n",
       "      <th>Source</th>\n",
       "      <th>Target</th>\n",
       "      <th>Date</th>\n",
       "    </tr>\n",
       "  </thead>\n",
       "  <tbody>\n",
       "    <tr>\n",
       "      <th>0</th>\n",
       "      <td>100</td>\n",
       "      <td>A0001</td>\n",
       "      <td>A0002</td>\n",
       "      <td>1/1/2018</td>\n",
       "    </tr>\n",
       "    <tr>\n",
       "      <th>1</th>\n",
       "      <td>300</td>\n",
       "      <td>A0001</td>\n",
       "      <td>A0003</td>\n",
       "      <td>5/6/2017</td>\n",
       "    </tr>\n",
       "    <tr>\n",
       "      <th>2</th>\n",
       "      <td>500</td>\n",
       "      <td>A0001</td>\n",
       "      <td>A0004</td>\n",
       "      <td>10/3/2018</td>\n",
       "    </tr>\n",
       "    <tr>\n",
       "      <th>3</th>\n",
       "      <td>200</td>\n",
       "      <td>A0005</td>\n",
       "      <td>A0001</td>\n",
       "      <td>12/4/2018</td>\n",
       "    </tr>\n",
       "    <tr>\n",
       "      <th>4</th>\n",
       "      <td>300</td>\n",
       "      <td>A0001</td>\n",
       "      <td>A0006</td>\n",
       "      <td>8/4/2015</td>\n",
       "    </tr>\n",
       "    <tr>\n",
       "      <th>5</th>\n",
       "      <td>420</td>\n",
       "      <td>A0007</td>\n",
       "      <td>A0001</td>\n",
       "      <td>1/9/2016</td>\n",
       "    </tr>\n",
       "    <tr>\n",
       "      <th>6</th>\n",
       "      <td>120</td>\n",
       "      <td>A0001</td>\n",
       "      <td>A0008</td>\n",
       "      <td>7/7/2018</td>\n",
       "    </tr>\n",
       "    <tr>\n",
       "      <th>7</th>\n",
       "      <td>220</td>\n",
       "      <td>A0002</td>\n",
       "      <td>A0001</td>\n",
       "      <td>3/9/2013</td>\n",
       "    </tr>\n",
       "  </tbody>\n",
       "</table>\n",
       "</div>"
      ],
      "text/plain": [
       "   TransactionAmt Source Target       Date\n",
       "0             100  A0001  A0002   1/1/2018\n",
       "1             300  A0001  A0003   5/6/2017\n",
       "2             500  A0001  A0004  10/3/2018\n",
       "3             200  A0005  A0001  12/4/2018\n",
       "4             300  A0001  A0006   8/4/2015\n",
       "5             420  A0007  A0001   1/9/2016\n",
       "6             120  A0001  A0008   7/7/2018\n",
       "7             220  A0002  A0001   3/9/2013"
      ]
     },
     "execution_count": 3,
     "metadata": {},
     "output_type": "execute_result"
    }
   ],
   "source": [
    "edge1"
   ]
  },
  {
   "cell_type": "code",
   "execution_count": 4,
   "metadata": {},
   "outputs": [
    {
     "data": {
      "text/html": [
       "<div>\n",
       "<style scoped>\n",
       "    .dataframe tbody tr th:only-of-type {\n",
       "        vertical-align: middle;\n",
       "    }\n",
       "\n",
       "    .dataframe tbody tr th {\n",
       "        vertical-align: top;\n",
       "    }\n",
       "\n",
       "    .dataframe thead th {\n",
       "        text-align: right;\n",
       "    }\n",
       "</style>\n",
       "<table border=\"1\" class=\"dataframe\">\n",
       "  <thead>\n",
       "    <tr style=\"text-align: right;\">\n",
       "      <th></th>\n",
       "      <th>Account</th>\n",
       "      <th>CustomerName</th>\n",
       "      <th>Type</th>\n",
       "    </tr>\n",
       "  </thead>\n",
       "  <tbody>\n",
       "    <tr>\n",
       "      <th>0</th>\n",
       "      <td>A0001</td>\n",
       "      <td>Alice</td>\n",
       "      <td>Type1</td>\n",
       "    </tr>\n",
       "    <tr>\n",
       "      <th>1</th>\n",
       "      <td>A0002</td>\n",
       "      <td>Bob</td>\n",
       "      <td>Type1</td>\n",
       "    </tr>\n",
       "    <tr>\n",
       "      <th>2</th>\n",
       "      <td>A0003</td>\n",
       "      <td>Cindy</td>\n",
       "      <td>Type2</td>\n",
       "    </tr>\n",
       "    <tr>\n",
       "      <th>3</th>\n",
       "      <td>A0004</td>\n",
       "      <td>David</td>\n",
       "      <td>Type2</td>\n",
       "    </tr>\n",
       "    <tr>\n",
       "      <th>4</th>\n",
       "      <td>A0005</td>\n",
       "      <td>Elle</td>\n",
       "      <td>Type3</td>\n",
       "    </tr>\n",
       "    <tr>\n",
       "      <th>5</th>\n",
       "      <td>A0006</td>\n",
       "      <td>Steve</td>\n",
       "      <td>Type2</td>\n",
       "    </tr>\n",
       "    <tr>\n",
       "      <th>6</th>\n",
       "      <td>A0007</td>\n",
       "      <td>John</td>\n",
       "      <td>Type1</td>\n",
       "    </tr>\n",
       "    <tr>\n",
       "      <th>7</th>\n",
       "      <td>A0008</td>\n",
       "      <td>Stella</td>\n",
       "      <td>Type2</td>\n",
       "    </tr>\n",
       "  </tbody>\n",
       "</table>\n",
       "</div>"
      ],
      "text/plain": [
       "  Account CustomerName   Type\n",
       "0   A0001        Alice  Type1\n",
       "1   A0002          Bob  Type1\n",
       "2   A0003        Cindy  Type2\n",
       "3   A0004        David  Type2\n",
       "4   A0005         Elle  Type3\n",
       "5   A0006        Steve  Type2\n",
       "6   A0007         John  Type1\n",
       "7   A0008       Stella  Type2"
      ]
     },
     "execution_count": 4,
     "metadata": {},
     "output_type": "execute_result"
    }
   ],
   "source": [
    "node1"
   ]
  },
  {
   "cell_type": "code",
   "execution_count": 25,
   "metadata": {},
   "outputs": [
    {
     "data": {
      "text/plain": [
       "Index(['Account', 'CustomerName', 'Type'], dtype='object')"
      ]
     },
     "execution_count": 25,
     "metadata": {},
     "output_type": "execute_result"
    }
   ],
   "source": [
    "node1.columns"
   ]
  },
  {
   "cell_type": "code",
   "execution_count": 5,
   "metadata": {},
   "outputs": [],
   "source": [
    "\n",
    "YEAR=[2010, 2019]\n",
    "ACCOUNT=\"A0001\"\n",
    "\n",
    "##############################################################################################################################################################\n",
    "def network_graph(yearRange, AccountToSearch):\n",
    "\n",
    "    edge1 = pd.read_csv('edge1.csv')\n",
    "    node1 = pd.read_csv('node1.csv')\n",
    "\n",
    "    # filter the record by datetime, to enable interactive control through the input box\n",
    "    edge1['Datetime'] = \"\" # add empty Datetime column to edge1 dataframe\n",
    "    accountSet=set() # contain unique account\n",
    "    for index in range(0,len(edge1)):\n",
    "        edge1['Datetime'][index] = datetime.strptime(edge1['Date'][index], '%d/%m/%Y')\n",
    "        if edge1['Datetime'][index].year<yearRange[0] or edge1['Datetime'][index].year>yearRange[1]:\n",
    "            edge1.drop(axis=0, index=index, inplace=True)\n",
    "            continue\n",
    "        accountSet.add(edge1['Source'][index])\n",
    "        accountSet.add(edge1['Target'][index])\n",
    "\n",
    "    # to define the centric point of the networkx layout\n",
    "    shells=[]\n",
    "    shell1=[]\n",
    "    shell1.append(AccountToSearch)\n",
    "    shells.append(shell1)\n",
    "    shell2=[]\n",
    "    for ele in accountSet:\n",
    "        if ele!=AccountToSearch:\n",
    "            shell2.append(ele)\n",
    "    shells.append(shell2)\n",
    "\n",
    "\n",
    "    G = nx.from_pandas_edgelist(edge1, 'Source', 'Target', ['Source', 'Target', 'TransactionAmt', 'Date'], create_using=nx.MultiDiGraph())\n",
    "    nx.set_node_attributes(G, node1.set_index('Account')['CustomerName'].to_dict(), 'CustomerName')\n",
    "    nx.set_node_attributes(G, node1.set_index('Account')['Type'].to_dict(), 'Type')\n",
    "    # pos = nx.layout.spring_layout(G)\n",
    "    # pos = nx.layout.circular_layout(G)\n",
    "    # nx.layout.shell_layout only works for more than 3 nodes\n",
    "    if len(shell2)>1:\n",
    "        pos = nx.drawing.layout.shell_layout(G, shells)\n",
    "    else:\n",
    "        pos = nx.drawing.layout.spring_layout(G)\n",
    "    for node in G.nodes:\n",
    "        G.nodes[node]['pos'] = list(pos[node])\n",
    "\n",
    "\n",
    "    if len(shell2)==0:\n",
    "        traceRecode = []  # contains edge_trace, node_trace, middle_node_trace\n",
    "\n",
    "        node_trace = go.Scatter(x=tuple([1]), y=tuple([1]), text=tuple([str(AccountToSearch)]), textposition=\"bottom center\",\n",
    "                                mode='markers+text',\n",
    "                                marker={'size': 50, 'color': 'LightSkyBlue'})\n",
    "        traceRecode.append(node_trace)\n",
    "\n",
    "        node_trace1 = go.Scatter(x=tuple([1]), y=tuple([1]),\n",
    "                                mode='markers',\n",
    "                                marker={'size': 50, 'color': 'LightSkyBlue'},\n",
    "                                opacity=0)\n",
    "        traceRecode.append(node_trace1)\n",
    "\n",
    "        figure = {\n",
    "            \"data\": traceRecode,\n",
    "            \"layout\": go.Layout(title='Interactive Transaction Visualization', showlegend=False,\n",
    "                                margin={'b': 40, 'l': 40, 'r': 40, 't': 40},\n",
    "                                xaxis={'showgrid': False, 'zeroline': False, 'showticklabels': False},\n",
    "                                yaxis={'showgrid': False, 'zeroline': False, 'showticklabels': False},\n",
    "                                height=600\n",
    "                                )}\n",
    "        return figure\n",
    "\n",
    "\n",
    "    traceRecode = []  # contains edge_trace, node_trace, middle_node_trace\n",
    "    ############################################################################################################################################################\n",
    "    colors = list(Color('lightcoral').range_to(Color('darkred'), len(G.edges())))\n",
    "    colors = ['rgb' + str(x.rgb) for x in colors]\n",
    "\n",
    "    index = 0\n",
    "    for edge in G.edges:\n",
    "        x0, y0 = G.nodes[edge[0]]['pos']\n",
    "        x1, y1 = G.nodes[edge[1]]['pos']\n",
    "        weight = float(G.edges[edge]['TransactionAmt']) / max(edge1['TransactionAmt']) * 10\n",
    "        trace = go.Scatter(x=tuple([x0, x1, None]), y=tuple([y0, y1, None]),\n",
    "                           mode='lines',\n",
    "                           line={'width': weight},\n",
    "                           marker=dict(color=colors[index]),\n",
    "                           line_shape='spline',\n",
    "                           opacity=1)\n",
    "        traceRecode.append(trace)\n",
    "        index = index + 1\n",
    "    ###############################################################################################################################################################\n",
    "    node_trace = go.Scatter(x=[], y=[], hovertext=[], text=[], mode='markers+text', textposition=\"bottom center\",\n",
    "                            hoverinfo=\"text\", marker={'size': 50, 'color': 'LightSkyBlue'})\n",
    "\n",
    "    index = 0\n",
    "    for node in G.nodes():\n",
    "        x, y = G.nodes[node]['pos']\n",
    "        hovertext = \"CustomerName: \" + str(G.nodes[node]['CustomerName']) + \"<br>\" + \"AccountType: \" + str(\n",
    "            G.nodes[node]['Type'])\n",
    "        text = node1['Account'][index]\n",
    "        node_trace['x'] += tuple([x])\n",
    "        node_trace['y'] += tuple([y])\n",
    "        node_trace['hovertext'] += tuple([hovertext])\n",
    "        node_trace['text'] += tuple([text])\n",
    "        index = index + 1\n",
    "\n",
    "    traceRecode.append(node_trace)\n",
    "    ################################################################################################################################################################\n",
    "    middle_hover_trace = go.Scatter(x=[], y=[], hovertext=[], mode='markers', hoverinfo=\"text\",\n",
    "                                    marker={'size': 20, 'color': 'LightSkyBlue'},\n",
    "                                    opacity=0)\n",
    "\n",
    "    index = 0\n",
    "    for edge in G.edges:\n",
    "        x0, y0 = G.nodes[edge[0]]['pos']\n",
    "        x1, y1 = G.nodes[edge[1]]['pos']\n",
    "        hovertext = \"From: \" + str(G.edges[edge]['Source']) + \"<br>\" + \"To: \" + str(\n",
    "            G.edges[edge]['Target']) + \"<br>\" + \"TransactionAmt: \" + str(\n",
    "            G.edges[edge]['TransactionAmt']) + \"<br>\" + \"TransactionDate: \" + str(G.edges[edge]['Date'])\n",
    "        middle_hover_trace['x'] += tuple([(x0 + x1) / 2])\n",
    "        middle_hover_trace['y'] += tuple([(y0 + y1) / 2])\n",
    "        middle_hover_trace['hovertext'] += tuple([hovertext])\n",
    "        index = index + 1\n",
    "\n",
    "    traceRecode.append(middle_hover_trace)\n",
    "    #################################################################################################################################################################\n",
    "    figure = {\n",
    "        \"data\": traceRecode,\n",
    "        \"layout\": go.Layout(title='Interactive Transaction Visualization', showlegend=False, hovermode='closest',\n",
    "                            margin={'b': 40, 'l': 40, 'r': 40, 't': 40},\n",
    "                            xaxis={'showgrid': False, 'zeroline': False, 'showticklabels': False},\n",
    "                            yaxis={'showgrid': False, 'zeroline': False, 'showticklabels': False},\n",
    "                            height=600,\n",
    "                            clickmode='event+select',\n",
    "                            annotations=[\n",
    "                                dict(\n",
    "                                    ax=(G.nodes[edge[0]]['pos'][0] + G.nodes[edge[1]]['pos'][0]) / 2,\n",
    "                                    ay=(G.nodes[edge[0]]['pos'][1] + G.nodes[edge[1]]['pos'][1]) / 2, axref='x', ayref='y',\n",
    "                                    x=(G.nodes[edge[1]]['pos'][0] * 3 + G.nodes[edge[0]]['pos'][0]) / 4,\n",
    "                                    y=(G.nodes[edge[1]]['pos'][1] * 3 + G.nodes[edge[0]]['pos'][1]) / 4, xref='x', yref='y',\n",
    "                                    showarrow=True,\n",
    "                                    arrowhead=3,\n",
    "                                    arrowsize=4,\n",
    "                                    arrowwidth=1,\n",
    "                                    opacity=1\n",
    "                                ) for edge in G.edges]\n",
    "                            )}\n",
    "    return figure"
   ]
  },
  {
   "cell_type": "code",
   "execution_count": 9,
   "metadata": {},
   "outputs": [
    {
     "name": "stderr",
     "output_type": "stream",
     "text": [
      "C:\\Users\\tobi1\\AppData\\Local\\Temp\\ipykernel_35700\\3105622741.py:14: SettingWithCopyWarning: \n",
      "A value is trying to be set on a copy of a slice from a DataFrame\n",
      "\n",
      "See the caveats in the documentation: https://pandas.pydata.org/pandas-docs/stable/user_guide/indexing.html#returning-a-view-versus-a-copy\n",
      "  edge1['Datetime'][index] = datetime.strptime(edge1['Date'][index], '%d/%m/%Y')\n"
     ]
    }
   ],
   "source": [
    "figure = network_graph([2010,2019],None)"
   ]
  },
  {
   "cell_type": "code",
   "execution_count": 13,
   "metadata": {},
   "outputs": [
    {
     "data": {
      "application/vnd.plotly.v1+json": {
       "config": {
        "plotlyServerURL": "https://plot.ly"
       },
       "data": [
        {
         "line": {
          "shape": "spline",
          "width": 2
         },
         "marker": {
          "color": "rgb(0.9411764705882353, 0.5019607843137255, 0.5019607843137255)"
         },
         "mode": "lines",
         "opacity": 1,
         "type": "scatter",
         "x": [
          0.3535533845424652,
          5.962440319251527e-9,
          null
         ],
         "y": [
          0.3535533845424652,
          -0.5,
          null
         ]
        },
        {
         "line": {
          "shape": "spline",
          "width": 6
         },
         "marker": {
          "color": "rgb(0.9379639179615507, 0.3768820204137995, 0.3768820204137995)"
         },
         "mode": "lines",
         "opacity": 1,
         "type": "scatter",
         "x": [
          0.3535533845424652,
          0.5,
          null
         ],
         "y": [
          0.3535533845424652,
          8.742277657347586e-8,
          null
         ]
        },
        {
         "line": {
          "shape": "spline",
          "width": 10
         },
         "marker": {
          "color": "rgb(0.9386233366586072, 0.2479312851901323, 0.2479312851901323)"
         },
         "mode": "lines",
         "opacity": 1,
         "type": "scatter",
         "x": [
          0.3535533845424652,
          -0.5,
          null
         ],
         "y": [
          0.3535533845424652,
          -4.371138828673793e-8,
          null
         ]
        },
        {
         "line": {
          "shape": "spline",
          "width": 6
         },
         "marker": {
          "color": "rgb(0.9431547266794043, 0.11510857864272439, 0.11510857864272439)"
         },
         "mode": "lines",
         "opacity": 1,
         "type": "scatter",
         "x": [
          0.3535533845424652,
          -0.3535533547401428,
          null
         ],
         "y": [
          0.3535533845424652,
          -0.35355344414711,
          null
         ]
        },
        {
         "line": {
          "shape": "spline",
          "width": 2.4
         },
         "marker": {
          "color": "rgb(0.8878706412142321, 0.04210134758128603, 0.04210134758128603)"
         },
         "mode": "lines",
         "opacity": 1,
         "type": "scatter",
         "x": [
          0.3535533845424652,
          -0.35355329513549805,
          null
         ],
         "y": [
          0.3535533845424652,
          0.35355350375175476,
          null
         ]
        },
        {
         "line": {
          "shape": "spline",
          "width": 4.4
         },
         "marker": {
          "color": "rgb(0.7774850785384576, 0.024195593730449882, 0.024195593730449882)"
         },
         "mode": "lines",
         "opacity": 1,
         "type": "scatter",
         "x": [
          5.962440319251527e-9,
          0.3535533845424652,
          null
         ],
         "y": [
          -0.5,
          0.3535533845424652,
          null
         ]
        },
        {
         "line": {
          "shape": "spline",
          "width": 4
         },
         "marker": {
          "color": "rgb(0.6632275445389422, 0.010161811203354576, 0.010161811203354576)"
         },
         "mode": "lines",
         "opacity": 1,
         "type": "scatter",
         "x": [
          -1.6888311904494913e-7,
          0.3535533845424652,
          null
         ],
         "y": [
          0.5,
          0.3535533845424652,
          null
         ]
        },
        {
         "line": {
          "shape": "spline",
          "width": 8.4
         },
         "marker": {
          "color": "rgb(0.5450980392156861, 0.0, 0.0)"
         },
         "mode": "lines",
         "opacity": 1,
         "type": "scatter",
         "x": [
          0.35355350375175476,
          0.3535533845424652,
          null
         ],
         "y": [
          -0.35355326533317566,
          0.3535533845424652,
          null
         ]
        },
        {
         "hoverinfo": "text",
         "hovertext": [
          "CustomerName: Alice<br>AccountType: Type1",
          "CustomerName: Bob<br>AccountType: Type1",
          "CustomerName: Cindy<br>AccountType: Type2",
          "CustomerName: David<br>AccountType: Type2",
          "CustomerName: Elle<br>AccountType: Type3",
          "CustomerName: Steve<br>AccountType: Type2",
          "CustomerName: John<br>AccountType: Type1",
          "CustomerName: Stella<br>AccountType: Type2"
         ],
         "marker": {
          "color": "LightSkyBlue",
          "size": 50
         },
         "mode": "markers+text",
         "text": [
          "A0001",
          "A0002",
          "A0003",
          "A0004",
          "A0005",
          "A0006",
          "A0007",
          "A0008"
         ],
         "textposition": "bottom center",
         "type": "scatter",
         "x": [
          0.3535533845424652,
          5.962440319251527e-9,
          0.5,
          -0.5,
          -1.6888311904494913e-7,
          -0.3535533547401428,
          0.35355350375175476,
          -0.35355329513549805
         ],
         "y": [
          0.3535533845424652,
          -0.5,
          8.742277657347586e-8,
          -4.371138828673793e-8,
          0.5,
          -0.35355344414711,
          -0.35355326533317566,
          0.35355350375175476
         ]
        },
        {
         "hoverinfo": "text",
         "hovertext": [
          "From: A0001<br>To: A0002<br>TransactionAmt: 100<br>TransactionDate: 1/1/2018",
          "From: A0001<br>To: A0003<br>TransactionAmt: 300<br>TransactionDate: 5/6/2017",
          "From: A0001<br>To: A0004<br>TransactionAmt: 500<br>TransactionDate: 10/3/2018",
          "From: A0001<br>To: A0006<br>TransactionAmt: 300<br>TransactionDate: 8/4/2015",
          "From: A0001<br>To: A0008<br>TransactionAmt: 120<br>TransactionDate: 7/7/2018",
          "From: A0002<br>To: A0001<br>TransactionAmt: 220<br>TransactionDate: 3/9/2013",
          "From: A0005<br>To: A0001<br>TransactionAmt: 200<br>TransactionDate: 12/4/2018",
          "From: A0007<br>To: A0001<br>TransactionAmt: 420<br>TransactionDate: 1/9/2016"
         ],
         "marker": {
          "color": "LightSkyBlue",
          "size": 20
         },
         "mode": "markers",
         "opacity": 0,
         "type": "scatter",
         "x": [
          0.17677669525245276,
          0.4267766922712326,
          -0.0732233077287674,
          1.4901161193847656e-8,
          4.470348358154297e-8,
          0.17677669525245276,
          0.17677660782967308,
          0.35355344414711
         ],
         "y": [
          -0.0732233077287674,
          0.1767767359826209,
          0.17677667041553846,
          -2.9802322387695312e-8,
          0.35355344414711,
          -0.0732233077287674,
          0.4267766922712326,
          5.960464477539063e-8
         ]
        }
       ],
       "layout": {
        "annotations": [
         {
          "arrowhead": 3,
          "arrowsize": 4,
          "arrowwidth": 1,
          "ax": 0.17677669525245276,
          "axref": "x",
          "ay": -0.0732233077287674,
          "ayref": "y",
          "opacity": 1,
          "showarrow": true,
          "x": 0.08838835060744654,
          "xref": "x",
          "y": -0.2866116538643837,
          "yref": "y"
         },
         {
          "arrowhead": 3,
          "arrowsize": 4,
          "arrowwidth": 1,
          "ax": 0.4267766922712326,
          "axref": "x",
          "ay": 0.1767767359826209,
          "ayref": "y",
          "opacity": 1,
          "showarrow": true,
          "x": 0.4633883461356163,
          "xref": "x",
          "y": 0.08838841170269873,
          "yref": "y"
         },
         {
          "arrowhead": 3,
          "arrowsize": 4,
          "arrowwidth": 1,
          "ax": -0.0732233077287674,
          "axref": "x",
          "ay": 0.17677667041553846,
          "ayref": "y",
          "opacity": 1,
          "showarrow": true,
          "x": -0.2866116538643837,
          "xref": "x",
          "y": 0.08838831335207509,
          "yref": "y"
         },
         {
          "arrowhead": 3,
          "arrowsize": 4,
          "arrowwidth": 1,
          "ax": 1.4901161193847656e-8,
          "axref": "x",
          "ay": -2.9802322387695312e-8,
          "ayref": "y",
          "opacity": 1,
          "showarrow": true,
          "x": -0.17677666991949081,
          "xref": "x",
          "y": -0.1767767369747162,
          "yref": "y"
         },
         {
          "arrowhead": 3,
          "arrowsize": 4,
          "arrowwidth": 1,
          "ax": 4.470348358154297e-8,
          "axref": "x",
          "ay": 0.35355344414711,
          "ayref": "y",
          "opacity": 1,
          "showarrow": true,
          "x": -0.17677662521600723,
          "xref": "x",
          "y": 0.3535534739494324,
          "yref": "y"
         },
         {
          "arrowhead": 3,
          "arrowsize": 4,
          "arrowwidth": 1,
          "ax": 0.17677669525245276,
          "axref": "x",
          "ay": -0.0732233077287674,
          "ayref": "y",
          "opacity": 1,
          "showarrow": true,
          "x": 0.265165039897459,
          "xref": "x",
          "y": 0.1401650384068489,
          "yref": "y"
         },
         {
          "arrowhead": 3,
          "arrowsize": 4,
          "arrowwidth": 1,
          "ax": 0.17677660782967308,
          "axref": "x",
          "ay": 0.4267766922712326,
          "ayref": "y",
          "opacity": 1,
          "showarrow": true,
          "x": 0.26516499618606915,
          "xref": "x",
          "y": 0.3901650384068489,
          "yref": "y"
         },
         {
          "arrowhead": 3,
          "arrowsize": 4,
          "arrowwidth": 1,
          "ax": 0.35355344414711,
          "axref": "x",
          "ay": 5.960464477539063e-8,
          "ayref": "y",
          "opacity": 1,
          "showarrow": true,
          "x": 0.3535534143447876,
          "xref": "x",
          "y": 0.176776722073555,
          "yref": "y"
         }
        ],
        "clickmode": "event+select",
        "height": 600,
        "hovermode": "closest",
        "margin": {
         "b": 40,
         "l": 40,
         "r": 40,
         "t": 40
        },
        "showlegend": false,
        "template": {
         "data": {
          "bar": [
           {
            "error_x": {
             "color": "#2a3f5f"
            },
            "error_y": {
             "color": "#2a3f5f"
            },
            "marker": {
             "line": {
              "color": "#E5ECF6",
              "width": 0.5
             },
             "pattern": {
              "fillmode": "overlay",
              "size": 10,
              "solidity": 0.2
             }
            },
            "type": "bar"
           }
          ],
          "barpolar": [
           {
            "marker": {
             "line": {
              "color": "#E5ECF6",
              "width": 0.5
             },
             "pattern": {
              "fillmode": "overlay",
              "size": 10,
              "solidity": 0.2
             }
            },
            "type": "barpolar"
           }
          ],
          "carpet": [
           {
            "aaxis": {
             "endlinecolor": "#2a3f5f",
             "gridcolor": "white",
             "linecolor": "white",
             "minorgridcolor": "white",
             "startlinecolor": "#2a3f5f"
            },
            "baxis": {
             "endlinecolor": "#2a3f5f",
             "gridcolor": "white",
             "linecolor": "white",
             "minorgridcolor": "white",
             "startlinecolor": "#2a3f5f"
            },
            "type": "carpet"
           }
          ],
          "choropleth": [
           {
            "colorbar": {
             "outlinewidth": 0,
             "ticks": ""
            },
            "type": "choropleth"
           }
          ],
          "contour": [
           {
            "colorbar": {
             "outlinewidth": 0,
             "ticks": ""
            },
            "colorscale": [
             [
              0,
              "#0d0887"
             ],
             [
              0.1111111111111111,
              "#46039f"
             ],
             [
              0.2222222222222222,
              "#7201a8"
             ],
             [
              0.3333333333333333,
              "#9c179e"
             ],
             [
              0.4444444444444444,
              "#bd3786"
             ],
             [
              0.5555555555555556,
              "#d8576b"
             ],
             [
              0.6666666666666666,
              "#ed7953"
             ],
             [
              0.7777777777777778,
              "#fb9f3a"
             ],
             [
              0.8888888888888888,
              "#fdca26"
             ],
             [
              1,
              "#f0f921"
             ]
            ],
            "type": "contour"
           }
          ],
          "contourcarpet": [
           {
            "colorbar": {
             "outlinewidth": 0,
             "ticks": ""
            },
            "type": "contourcarpet"
           }
          ],
          "heatmap": [
           {
            "colorbar": {
             "outlinewidth": 0,
             "ticks": ""
            },
            "colorscale": [
             [
              0,
              "#0d0887"
             ],
             [
              0.1111111111111111,
              "#46039f"
             ],
             [
              0.2222222222222222,
              "#7201a8"
             ],
             [
              0.3333333333333333,
              "#9c179e"
             ],
             [
              0.4444444444444444,
              "#bd3786"
             ],
             [
              0.5555555555555556,
              "#d8576b"
             ],
             [
              0.6666666666666666,
              "#ed7953"
             ],
             [
              0.7777777777777778,
              "#fb9f3a"
             ],
             [
              0.8888888888888888,
              "#fdca26"
             ],
             [
              1,
              "#f0f921"
             ]
            ],
            "type": "heatmap"
           }
          ],
          "heatmapgl": [
           {
            "colorbar": {
             "outlinewidth": 0,
             "ticks": ""
            },
            "colorscale": [
             [
              0,
              "#0d0887"
             ],
             [
              0.1111111111111111,
              "#46039f"
             ],
             [
              0.2222222222222222,
              "#7201a8"
             ],
             [
              0.3333333333333333,
              "#9c179e"
             ],
             [
              0.4444444444444444,
              "#bd3786"
             ],
             [
              0.5555555555555556,
              "#d8576b"
             ],
             [
              0.6666666666666666,
              "#ed7953"
             ],
             [
              0.7777777777777778,
              "#fb9f3a"
             ],
             [
              0.8888888888888888,
              "#fdca26"
             ],
             [
              1,
              "#f0f921"
             ]
            ],
            "type": "heatmapgl"
           }
          ],
          "histogram": [
           {
            "marker": {
             "pattern": {
              "fillmode": "overlay",
              "size": 10,
              "solidity": 0.2
             }
            },
            "type": "histogram"
           }
          ],
          "histogram2d": [
           {
            "colorbar": {
             "outlinewidth": 0,
             "ticks": ""
            },
            "colorscale": [
             [
              0,
              "#0d0887"
             ],
             [
              0.1111111111111111,
              "#46039f"
             ],
             [
              0.2222222222222222,
              "#7201a8"
             ],
             [
              0.3333333333333333,
              "#9c179e"
             ],
             [
              0.4444444444444444,
              "#bd3786"
             ],
             [
              0.5555555555555556,
              "#d8576b"
             ],
             [
              0.6666666666666666,
              "#ed7953"
             ],
             [
              0.7777777777777778,
              "#fb9f3a"
             ],
             [
              0.8888888888888888,
              "#fdca26"
             ],
             [
              1,
              "#f0f921"
             ]
            ],
            "type": "histogram2d"
           }
          ],
          "histogram2dcontour": [
           {
            "colorbar": {
             "outlinewidth": 0,
             "ticks": ""
            },
            "colorscale": [
             [
              0,
              "#0d0887"
             ],
             [
              0.1111111111111111,
              "#46039f"
             ],
             [
              0.2222222222222222,
              "#7201a8"
             ],
             [
              0.3333333333333333,
              "#9c179e"
             ],
             [
              0.4444444444444444,
              "#bd3786"
             ],
             [
              0.5555555555555556,
              "#d8576b"
             ],
             [
              0.6666666666666666,
              "#ed7953"
             ],
             [
              0.7777777777777778,
              "#fb9f3a"
             ],
             [
              0.8888888888888888,
              "#fdca26"
             ],
             [
              1,
              "#f0f921"
             ]
            ],
            "type": "histogram2dcontour"
           }
          ],
          "mesh3d": [
           {
            "colorbar": {
             "outlinewidth": 0,
             "ticks": ""
            },
            "type": "mesh3d"
           }
          ],
          "parcoords": [
           {
            "line": {
             "colorbar": {
              "outlinewidth": 0,
              "ticks": ""
             }
            },
            "type": "parcoords"
           }
          ],
          "pie": [
           {
            "automargin": true,
            "type": "pie"
           }
          ],
          "scatter": [
           {
            "fillpattern": {
             "fillmode": "overlay",
             "size": 10,
             "solidity": 0.2
            },
            "type": "scatter"
           }
          ],
          "scatter3d": [
           {
            "line": {
             "colorbar": {
              "outlinewidth": 0,
              "ticks": ""
             }
            },
            "marker": {
             "colorbar": {
              "outlinewidth": 0,
              "ticks": ""
             }
            },
            "type": "scatter3d"
           }
          ],
          "scattercarpet": [
           {
            "marker": {
             "colorbar": {
              "outlinewidth": 0,
              "ticks": ""
             }
            },
            "type": "scattercarpet"
           }
          ],
          "scattergeo": [
           {
            "marker": {
             "colorbar": {
              "outlinewidth": 0,
              "ticks": ""
             }
            },
            "type": "scattergeo"
           }
          ],
          "scattergl": [
           {
            "marker": {
             "colorbar": {
              "outlinewidth": 0,
              "ticks": ""
             }
            },
            "type": "scattergl"
           }
          ],
          "scattermapbox": [
           {
            "marker": {
             "colorbar": {
              "outlinewidth": 0,
              "ticks": ""
             }
            },
            "type": "scattermapbox"
           }
          ],
          "scatterpolar": [
           {
            "marker": {
             "colorbar": {
              "outlinewidth": 0,
              "ticks": ""
             }
            },
            "type": "scatterpolar"
           }
          ],
          "scatterpolargl": [
           {
            "marker": {
             "colorbar": {
              "outlinewidth": 0,
              "ticks": ""
             }
            },
            "type": "scatterpolargl"
           }
          ],
          "scatterternary": [
           {
            "marker": {
             "colorbar": {
              "outlinewidth": 0,
              "ticks": ""
             }
            },
            "type": "scatterternary"
           }
          ],
          "surface": [
           {
            "colorbar": {
             "outlinewidth": 0,
             "ticks": ""
            },
            "colorscale": [
             [
              0,
              "#0d0887"
             ],
             [
              0.1111111111111111,
              "#46039f"
             ],
             [
              0.2222222222222222,
              "#7201a8"
             ],
             [
              0.3333333333333333,
              "#9c179e"
             ],
             [
              0.4444444444444444,
              "#bd3786"
             ],
             [
              0.5555555555555556,
              "#d8576b"
             ],
             [
              0.6666666666666666,
              "#ed7953"
             ],
             [
              0.7777777777777778,
              "#fb9f3a"
             ],
             [
              0.8888888888888888,
              "#fdca26"
             ],
             [
              1,
              "#f0f921"
             ]
            ],
            "type": "surface"
           }
          ],
          "table": [
           {
            "cells": {
             "fill": {
              "color": "#EBF0F8"
             },
             "line": {
              "color": "white"
             }
            },
            "header": {
             "fill": {
              "color": "#C8D4E3"
             },
             "line": {
              "color": "white"
             }
            },
            "type": "table"
           }
          ]
         },
         "layout": {
          "annotationdefaults": {
           "arrowcolor": "#2a3f5f",
           "arrowhead": 0,
           "arrowwidth": 1
          },
          "autotypenumbers": "strict",
          "coloraxis": {
           "colorbar": {
            "outlinewidth": 0,
            "ticks": ""
           }
          },
          "colorscale": {
           "diverging": [
            [
             0,
             "#8e0152"
            ],
            [
             0.1,
             "#c51b7d"
            ],
            [
             0.2,
             "#de77ae"
            ],
            [
             0.3,
             "#f1b6da"
            ],
            [
             0.4,
             "#fde0ef"
            ],
            [
             0.5,
             "#f7f7f7"
            ],
            [
             0.6,
             "#e6f5d0"
            ],
            [
             0.7,
             "#b8e186"
            ],
            [
             0.8,
             "#7fbc41"
            ],
            [
             0.9,
             "#4d9221"
            ],
            [
             1,
             "#276419"
            ]
           ],
           "sequential": [
            [
             0,
             "#0d0887"
            ],
            [
             0.1111111111111111,
             "#46039f"
            ],
            [
             0.2222222222222222,
             "#7201a8"
            ],
            [
             0.3333333333333333,
             "#9c179e"
            ],
            [
             0.4444444444444444,
             "#bd3786"
            ],
            [
             0.5555555555555556,
             "#d8576b"
            ],
            [
             0.6666666666666666,
             "#ed7953"
            ],
            [
             0.7777777777777778,
             "#fb9f3a"
            ],
            [
             0.8888888888888888,
             "#fdca26"
            ],
            [
             1,
             "#f0f921"
            ]
           ],
           "sequentialminus": [
            [
             0,
             "#0d0887"
            ],
            [
             0.1111111111111111,
             "#46039f"
            ],
            [
             0.2222222222222222,
             "#7201a8"
            ],
            [
             0.3333333333333333,
             "#9c179e"
            ],
            [
             0.4444444444444444,
             "#bd3786"
            ],
            [
             0.5555555555555556,
             "#d8576b"
            ],
            [
             0.6666666666666666,
             "#ed7953"
            ],
            [
             0.7777777777777778,
             "#fb9f3a"
            ],
            [
             0.8888888888888888,
             "#fdca26"
            ],
            [
             1,
             "#f0f921"
            ]
           ]
          },
          "colorway": [
           "#636efa",
           "#EF553B",
           "#00cc96",
           "#ab63fa",
           "#FFA15A",
           "#19d3f3",
           "#FF6692",
           "#B6E880",
           "#FF97FF",
           "#FECB52"
          ],
          "font": {
           "color": "#2a3f5f"
          },
          "geo": {
           "bgcolor": "white",
           "lakecolor": "white",
           "landcolor": "#E5ECF6",
           "showlakes": true,
           "showland": true,
           "subunitcolor": "white"
          },
          "hoverlabel": {
           "align": "left"
          },
          "hovermode": "closest",
          "mapbox": {
           "style": "light"
          },
          "paper_bgcolor": "white",
          "plot_bgcolor": "#E5ECF6",
          "polar": {
           "angularaxis": {
            "gridcolor": "white",
            "linecolor": "white",
            "ticks": ""
           },
           "bgcolor": "#E5ECF6",
           "radialaxis": {
            "gridcolor": "white",
            "linecolor": "white",
            "ticks": ""
           }
          },
          "scene": {
           "xaxis": {
            "backgroundcolor": "#E5ECF6",
            "gridcolor": "white",
            "gridwidth": 2,
            "linecolor": "white",
            "showbackground": true,
            "ticks": "",
            "zerolinecolor": "white"
           },
           "yaxis": {
            "backgroundcolor": "#E5ECF6",
            "gridcolor": "white",
            "gridwidth": 2,
            "linecolor": "white",
            "showbackground": true,
            "ticks": "",
            "zerolinecolor": "white"
           },
           "zaxis": {
            "backgroundcolor": "#E5ECF6",
            "gridcolor": "white",
            "gridwidth": 2,
            "linecolor": "white",
            "showbackground": true,
            "ticks": "",
            "zerolinecolor": "white"
           }
          },
          "shapedefaults": {
           "line": {
            "color": "#2a3f5f"
           }
          },
          "ternary": {
           "aaxis": {
            "gridcolor": "white",
            "linecolor": "white",
            "ticks": ""
           },
           "baxis": {
            "gridcolor": "white",
            "linecolor": "white",
            "ticks": ""
           },
           "bgcolor": "#E5ECF6",
           "caxis": {
            "gridcolor": "white",
            "linecolor": "white",
            "ticks": ""
           }
          },
          "title": {
           "x": 0.05
          },
          "xaxis": {
           "automargin": true,
           "gridcolor": "white",
           "linecolor": "white",
           "ticks": "",
           "title": {
            "standoff": 15
           },
           "zerolinecolor": "white",
           "zerolinewidth": 2
          },
          "yaxis": {
           "automargin": true,
           "gridcolor": "white",
           "linecolor": "white",
           "ticks": "",
           "title": {
            "standoff": 15
           },
           "zerolinecolor": "white",
           "zerolinewidth": 2
          }
         }
        },
        "title": {
         "text": "Interactive Transaction Visualization"
        },
        "xaxis": {
         "showgrid": false,
         "showticklabels": false,
         "zeroline": false
        },
        "yaxis": {
         "showgrid": false,
         "showticklabels": false,
         "zeroline": false
        }
       }
      }
     },
     "metadata": {},
     "output_type": "display_data"
    }
   ],
   "source": [
    "go.Figure(figure)"
   ]
  },
  {
   "cell_type": "code",
   "execution_count": null,
   "metadata": {},
   "outputs": [],
   "source": []
  },
  {
   "cell_type": "markdown",
   "metadata": {},
   "source": [
    "# split"
   ]
  },
  {
   "cell_type": "code",
   "execution_count": 14,
   "metadata": {},
   "outputs": [],
   "source": [
    "yearRange=[2010, 2019]\n",
    "AccountToSearch=None\n"
   ]
  },
  {
   "cell_type": "code",
   "execution_count": 15,
   "metadata": {},
   "outputs": [],
   "source": [
    "edge1 = pd.read_csv('edge1.csv')\n",
    "node1 = pd.read_csv('node1.csv')"
   ]
  },
  {
   "cell_type": "code",
   "execution_count": 22,
   "metadata": {},
   "outputs": [
    {
     "data": {
      "text/html": [
       "<div>\n",
       "<style scoped>\n",
       "    .dataframe tbody tr th:only-of-type {\n",
       "        vertical-align: middle;\n",
       "    }\n",
       "\n",
       "    .dataframe tbody tr th {\n",
       "        vertical-align: top;\n",
       "    }\n",
       "\n",
       "    .dataframe thead th {\n",
       "        text-align: right;\n",
       "    }\n",
       "</style>\n",
       "<table border=\"1\" class=\"dataframe\">\n",
       "  <thead>\n",
       "    <tr style=\"text-align: right;\">\n",
       "      <th></th>\n",
       "      <th>Account</th>\n",
       "      <th>CustomerName</th>\n",
       "      <th>Type</th>\n",
       "    </tr>\n",
       "  </thead>\n",
       "  <tbody>\n",
       "    <tr>\n",
       "      <th>0</th>\n",
       "      <td>A0001</td>\n",
       "      <td>Alice</td>\n",
       "      <td>Type1</td>\n",
       "    </tr>\n",
       "    <tr>\n",
       "      <th>1</th>\n",
       "      <td>A0002</td>\n",
       "      <td>Bob</td>\n",
       "      <td>Type1</td>\n",
       "    </tr>\n",
       "    <tr>\n",
       "      <th>2</th>\n",
       "      <td>A0003</td>\n",
       "      <td>Cindy</td>\n",
       "      <td>Type2</td>\n",
       "    </tr>\n",
       "    <tr>\n",
       "      <th>3</th>\n",
       "      <td>A0004</td>\n",
       "      <td>David</td>\n",
       "      <td>Type2</td>\n",
       "    </tr>\n",
       "    <tr>\n",
       "      <th>4</th>\n",
       "      <td>A0005</td>\n",
       "      <td>Elle</td>\n",
       "      <td>Type3</td>\n",
       "    </tr>\n",
       "    <tr>\n",
       "      <th>5</th>\n",
       "      <td>A0006</td>\n",
       "      <td>Steve</td>\n",
       "      <td>Type2</td>\n",
       "    </tr>\n",
       "    <tr>\n",
       "      <th>6</th>\n",
       "      <td>A0007</td>\n",
       "      <td>John</td>\n",
       "      <td>Type1</td>\n",
       "    </tr>\n",
       "    <tr>\n",
       "      <th>7</th>\n",
       "      <td>A0008</td>\n",
       "      <td>Stella</td>\n",
       "      <td>Type2</td>\n",
       "    </tr>\n",
       "  </tbody>\n",
       "</table>\n",
       "</div>"
      ],
      "text/plain": [
       "  Account CustomerName   Type\n",
       "0   A0001        Alice  Type1\n",
       "1   A0002          Bob  Type1\n",
       "2   A0003        Cindy  Type2\n",
       "3   A0004        David  Type2\n",
       "4   A0005         Elle  Type3\n",
       "5   A0006        Steve  Type2\n",
       "6   A0007         John  Type1\n",
       "7   A0008       Stella  Type2"
      ]
     },
     "execution_count": 22,
     "metadata": {},
     "output_type": "execute_result"
    }
   ],
   "source": [
    "node1"
   ]
  },
  {
   "cell_type": "code",
   "execution_count": 23,
   "metadata": {},
   "outputs": [
    {
     "data": {
      "text/html": [
       "<div>\n",
       "<style scoped>\n",
       "    .dataframe tbody tr th:only-of-type {\n",
       "        vertical-align: middle;\n",
       "    }\n",
       "\n",
       "    .dataframe tbody tr th {\n",
       "        vertical-align: top;\n",
       "    }\n",
       "\n",
       "    .dataframe thead th {\n",
       "        text-align: right;\n",
       "    }\n",
       "</style>\n",
       "<table border=\"1\" class=\"dataframe\">\n",
       "  <thead>\n",
       "    <tr style=\"text-align: right;\">\n",
       "      <th></th>\n",
       "      <th>TransactionAmt</th>\n",
       "      <th>Source</th>\n",
       "      <th>Target</th>\n",
       "      <th>Date</th>\n",
       "      <th>Datetime</th>\n",
       "    </tr>\n",
       "  </thead>\n",
       "  <tbody>\n",
       "    <tr>\n",
       "      <th>0</th>\n",
       "      <td>100</td>\n",
       "      <td>A0001</td>\n",
       "      <td>A0002</td>\n",
       "      <td>1/1/2018</td>\n",
       "      <td>2018-01-01 00:00:00</td>\n",
       "    </tr>\n",
       "    <tr>\n",
       "      <th>1</th>\n",
       "      <td>300</td>\n",
       "      <td>A0001</td>\n",
       "      <td>A0003</td>\n",
       "      <td>5/6/2017</td>\n",
       "      <td>2017-06-05 00:00:00</td>\n",
       "    </tr>\n",
       "    <tr>\n",
       "      <th>2</th>\n",
       "      <td>500</td>\n",
       "      <td>A0001</td>\n",
       "      <td>A0004</td>\n",
       "      <td>10/3/2018</td>\n",
       "      <td>2018-03-10 00:00:00</td>\n",
       "    </tr>\n",
       "    <tr>\n",
       "      <th>3</th>\n",
       "      <td>200</td>\n",
       "      <td>A0005</td>\n",
       "      <td>A0001</td>\n",
       "      <td>12/4/2018</td>\n",
       "      <td>2018-04-12 00:00:00</td>\n",
       "    </tr>\n",
       "    <tr>\n",
       "      <th>4</th>\n",
       "      <td>300</td>\n",
       "      <td>A0001</td>\n",
       "      <td>A0006</td>\n",
       "      <td>8/4/2015</td>\n",
       "      <td>2015-04-08 00:00:00</td>\n",
       "    </tr>\n",
       "    <tr>\n",
       "      <th>5</th>\n",
       "      <td>420</td>\n",
       "      <td>A0007</td>\n",
       "      <td>A0001</td>\n",
       "      <td>1/9/2016</td>\n",
       "      <td>2016-09-01 00:00:00</td>\n",
       "    </tr>\n",
       "    <tr>\n",
       "      <th>6</th>\n",
       "      <td>120</td>\n",
       "      <td>A0001</td>\n",
       "      <td>A0008</td>\n",
       "      <td>7/7/2018</td>\n",
       "      <td>2018-07-07 00:00:00</td>\n",
       "    </tr>\n",
       "    <tr>\n",
       "      <th>7</th>\n",
       "      <td>220</td>\n",
       "      <td>A0002</td>\n",
       "      <td>A0001</td>\n",
       "      <td>3/9/2013</td>\n",
       "      <td>2013-09-03 00:00:00</td>\n",
       "    </tr>\n",
       "  </tbody>\n",
       "</table>\n",
       "</div>"
      ],
      "text/plain": [
       "   TransactionAmt Source Target       Date             Datetime\n",
       "0             100  A0001  A0002   1/1/2018  2018-01-01 00:00:00\n",
       "1             300  A0001  A0003   5/6/2017  2017-06-05 00:00:00\n",
       "2             500  A0001  A0004  10/3/2018  2018-03-10 00:00:00\n",
       "3             200  A0005  A0001  12/4/2018  2018-04-12 00:00:00\n",
       "4             300  A0001  A0006   8/4/2015  2015-04-08 00:00:00\n",
       "5             420  A0007  A0001   1/9/2016  2016-09-01 00:00:00\n",
       "6             120  A0001  A0008   7/7/2018  2018-07-07 00:00:00\n",
       "7             220  A0002  A0001   3/9/2013  2013-09-03 00:00:00"
      ]
     },
     "execution_count": 23,
     "metadata": {},
     "output_type": "execute_result"
    }
   ],
   "source": [
    "edge1"
   ]
  },
  {
   "cell_type": "code",
   "execution_count": 17,
   "metadata": {},
   "outputs": [],
   "source": [
    "edge1['Datetime'] = \"\" # add empty Datetime column to edge1 dataframe\n",
    "accountSet=set() # contain unique account"
   ]
  },
  {
   "cell_type": "code",
   "execution_count": null,
   "metadata": {},
   "outputs": [],
   "source": []
  },
  {
   "cell_type": "code",
   "execution_count": 19,
   "metadata": {},
   "outputs": [
    {
     "name": "stderr",
     "output_type": "stream",
     "text": [
      "C:\\Users\\tobi1\\AppData\\Local\\Temp\\ipykernel_35700\\2352155229.py:2: SettingWithCopyWarning:\n",
      "\n",
      "\n",
      "A value is trying to be set on a copy of a slice from a DataFrame\n",
      "\n",
      "See the caveats in the documentation: https://pandas.pydata.org/pandas-docs/stable/user_guide/indexing.html#returning-a-view-versus-a-copy\n",
      "\n"
     ]
    }
   ],
   "source": [
    "for index in range(0,len(edge1)):\n",
    "        edge1['Datetime'][index] = datetime.strptime(edge1['Date'][index], '%d/%m/%Y')\n",
    "        if edge1['Datetime'][index].year<yearRange[0] or edge1['Datetime'][index].year>yearRange[1]:\n",
    "            edge1.drop(axis=0, index=index, inplace=True)\n",
    "            continue\n",
    "        accountSet.add(edge1['Source'][index])\n",
    "        accountSet.add(edge1['Target'][index])\n"
   ]
  },
  {
   "cell_type": "code",
   "execution_count": 24,
   "metadata": {},
   "outputs": [
    {
     "data": {
      "text/plain": [
       "{'A0001', 'A0002', 'A0003', 'A0004', 'A0005', 'A0006', 'A0007', 'A0008'}"
      ]
     },
     "execution_count": 24,
     "metadata": {},
     "output_type": "execute_result"
    }
   ],
   "source": [
    "accountSet"
   ]
  },
  {
   "cell_type": "code",
   "execution_count": 20,
   "metadata": {},
   "outputs": [
    {
     "data": {
      "text/plain": [
       "{'A0001', 'A0002', 'A0003', 'A0004', 'A0005', 'A0006', 'A0007', 'A0008'}"
      ]
     },
     "execution_count": 20,
     "metadata": {},
     "output_type": "execute_result"
    }
   ],
   "source": [
    "accountSet"
   ]
  },
  {
   "cell_type": "code",
   "execution_count": null,
   "metadata": {},
   "outputs": [],
   "source": []
  },
  {
   "cell_type": "code",
   "execution_count": null,
   "metadata": {},
   "outputs": [],
   "source": [
    "\n",
    "\n",
    "##############################################################################################################################################################\n",
    "def network_graph(yearRange, AccountToSearch):\n",
    "\n",
    "    \n",
    "\n",
    "    # filter the record by datetime, to enable interactive control through the input box\n",
    "    e\n",
    "    \n",
    "    # to define the centric point of the networkx layout\n",
    "    shells=[]\n",
    "    shell1=[]\n",
    "    shell1.append(AccountToSearch)\n",
    "    shells.append(shell1)\n",
    "    shell2=[]\n",
    "    for ele in accountSet:\n",
    "        if ele!=AccountToSearch:\n",
    "            shell2.append(ele)\n",
    "    shells.append(shell2)\n",
    "\n",
    "\n",
    "    G = nx.from_pandas_edgelist(edge1, 'Source', 'Target', ['Source', 'Target', 'TransactionAmt', 'Date'], create_using=nx.MultiDiGraph())\n",
    "    nx.set_node_attributes(G, node1.set_index('Account')['CustomerName'].to_dict(), 'CustomerName')\n",
    "    nx.set_node_attributes(G, node1.set_index('Account')['Type'].to_dict(), 'Type')\n",
    "    # pos = nx.layout.spring_layout(G)\n",
    "    # pos = nx.layout.circular_layout(G)\n",
    "    # nx.layout.shell_layout only works for more than 3 nodes\n",
    "    if len(shell2)>1:\n",
    "        pos = nx.drawing.layout.shell_layout(G, shells)\n",
    "    else:\n",
    "        pos = nx.drawing.layout.spring_layout(G)\n",
    "    for node in G.nodes:\n",
    "        G.nodes[node]['pos'] = list(pos[node])\n",
    "\n",
    "\n",
    "    if len(shell2)==0:\n",
    "        traceRecode = []  # contains edge_trace, node_trace, middle_node_trace\n",
    "\n",
    "        node_trace = go.Scatter(x=tuple([1]), y=tuple([1]), text=tuple([str(AccountToSearch)]), textposition=\"bottom center\",\n",
    "                                mode='markers+text',\n",
    "                                marker={'size': 50, 'color': 'LightSkyBlue'})\n",
    "        traceRecode.append(node_trace)\n",
    "\n",
    "        node_trace1 = go.Scatter(x=tuple([1]), y=tuple([1]),\n",
    "                                mode='markers',\n",
    "                                marker={'size': 50, 'color': 'LightSkyBlue'},\n",
    "                                opacity=0)\n",
    "        traceRecode.append(node_trace1)\n",
    "\n",
    "        figure = {\n",
    "            \"data\": traceRecode,\n",
    "            \"layout\": go.Layout(title='Interactive Transaction Visualization', showlegend=False,\n",
    "                                margin={'b': 40, 'l': 40, 'r': 40, 't': 40},\n",
    "                                xaxis={'showgrid': False, 'zeroline': False, 'showticklabels': False},\n",
    "                                yaxis={'showgrid': False, 'zeroline': False, 'showticklabels': False},\n",
    "                                height=600\n",
    "                                )}\n",
    "        return figure\n",
    "\n",
    "\n",
    "    traceRecode = []  # contains edge_trace, node_trace, middle_node_trace\n",
    "    ############################################################################################################################################################\n",
    "    colors = list(Color('lightcoral').range_to(Color('darkred'), len(G.edges())))\n",
    "    colors = ['rgb' + str(x.rgb) for x in colors]\n",
    "\n",
    "    index = 0\n",
    "    for edge in G.edges:\n",
    "        x0, y0 = G.nodes[edge[0]]['pos']\n",
    "        x1, y1 = G.nodes[edge[1]]['pos']\n",
    "        weight = float(G.edges[edge]['TransactionAmt']) / max(edge1['TransactionAmt']) * 10\n",
    "        trace = go.Scatter(x=tuple([x0, x1, None]), y=tuple([y0, y1, None]),\n",
    "                           mode='lines',\n",
    "                           line={'width': weight},\n",
    "                           marker=dict(color=colors[index]),\n",
    "                           line_shape='spline',\n",
    "                           opacity=1)\n",
    "        traceRecode.append(trace)\n",
    "        index = index + 1\n",
    "    ###############################################################################################################################################################\n",
    "    node_trace = go.Scatter(x=[], y=[], hovertext=[], text=[], mode='markers+text', textposition=\"bottom center\",\n",
    "                            hoverinfo=\"text\", marker={'size': 50, 'color': 'LightSkyBlue'})\n",
    "\n",
    "    index = 0\n",
    "    for node in G.nodes():\n",
    "        x, y = G.nodes[node]['pos']\n",
    "        hovertext = \"CustomerName: \" + str(G.nodes[node]['CustomerName']) + \"<br>\" + \"AccountType: \" + str(\n",
    "            G.nodes[node]['Type'])\n",
    "        text = node1['Account'][index]\n",
    "        node_trace['x'] += tuple([x])\n",
    "        node_trace['y'] += tuple([y])\n",
    "        node_trace['hovertext'] += tuple([hovertext])\n",
    "        node_trace['text'] += tuple([text])\n",
    "        index = index + 1\n",
    "\n",
    "    traceRecode.append(node_trace)\n",
    "    ################################################################################################################################################################\n",
    "    middle_hover_trace = go.Scatter(x=[], y=[], hovertext=[], mode='markers', hoverinfo=\"text\",\n",
    "                                    marker={'size': 20, 'color': 'LightSkyBlue'},\n",
    "                                    opacity=0)\n",
    "\n",
    "    index = 0\n",
    "    for edge in G.edges:\n",
    "        x0, y0 = G.nodes[edge[0]]['pos']\n",
    "        x1, y1 = G.nodes[edge[1]]['pos']\n",
    "        hovertext = \"From: \" + str(G.edges[edge]['Source']) + \"<br>\" + \"To: \" + str(\n",
    "            G.edges[edge]['Target']) + \"<br>\" + \"TransactionAmt: \" + str(\n",
    "            G.edges[edge]['TransactionAmt']) + \"<br>\" + \"TransactionDate: \" + str(G.edges[edge]['Date'])\n",
    "        middle_hover_trace['x'] += tuple([(x0 + x1) / 2])\n",
    "        middle_hover_trace['y'] += tuple([(y0 + y1) / 2])\n",
    "        middle_hover_trace['hovertext'] += tuple([hovertext])\n",
    "        index = index + 1\n",
    "\n",
    "    traceRecode.append(middle_hover_trace)\n",
    "    #################################################################################################################################################################\n",
    "    figure = {\n",
    "        \"data\": traceRecode,\n",
    "        \"layout\": go.Layout(title='Interactive Transaction Visualization', showlegend=False, hovermode='closest',\n",
    "                            margin={'b': 40, 'l': 40, 'r': 40, 't': 40},\n",
    "                            xaxis={'showgrid': False, 'zeroline': False, 'showticklabels': False},\n",
    "                            yaxis={'showgrid': False, 'zeroline': False, 'showticklabels': False},\n",
    "                            height=600,\n",
    "                            clickmode='event+select',\n",
    "                            annotations=[\n",
    "                                dict(\n",
    "                                    ax=(G.nodes[edge[0]]['pos'][0] + G.nodes[edge[1]]['pos'][0]) / 2,\n",
    "                                    ay=(G.nodes[edge[0]]['pos'][1] + G.nodes[edge[1]]['pos'][1]) / 2, axref='x', ayref='y',\n",
    "                                    x=(G.nodes[edge[1]]['pos'][0] * 3 + G.nodes[edge[0]]['pos'][0]) / 4,\n",
    "                                    y=(G.nodes[edge[1]]['pos'][1] * 3 + G.nodes[edge[0]]['pos'][1]) / 4, xref='x', yref='y',\n",
    "                                    showarrow=True,\n",
    "                                    arrowhead=3,\n",
    "                                    arrowsize=4,\n",
    "                                    arrowwidth=1,\n",
    "                                    opacity=1\n",
    "                                ) for edge in G.edges]\n",
    "                            )}\n",
    "    return figure"
   ]
  }
 ],
 "metadata": {
  "kernelspec": {
   "display_name": "Python 3.9.12 ('teampai')",
   "language": "python",
   "name": "python3"
  },
  "language_info": {
   "codemirror_mode": {
    "name": "ipython",
    "version": 3
   },
   "file_extension": ".py",
   "mimetype": "text/x-python",
   "name": "python",
   "nbconvert_exporter": "python",
   "pygments_lexer": "ipython3",
   "version": "3.9.12"
  },
  "orig_nbformat": 4,
  "vscode": {
   "interpreter": {
    "hash": "fb8b73107ff42e6e5ac348881d566a03211f06326dca1edeb2f1de8c35955c7b"
   }
  }
 },
 "nbformat": 4,
 "nbformat_minor": 2
}
