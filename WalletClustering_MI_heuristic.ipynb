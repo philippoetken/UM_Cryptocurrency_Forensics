{
 "cells": [
  {
   "cell_type": "markdown",
   "metadata": {},
   "source": [
    "# install packages"
   ]
  },
  {
   "cell_type": "code",
<<<<<<< HEAD
   "execution_count": 2,
=======
   "execution_count": 62,
>>>>>>> 1d71f4ae0d4317fda735de2dc910eb3a65b2e850
   "metadata": {},
   "outputs": [
    {
     "name": "stdout",
     "output_type": "stream",
     "text": [
<<<<<<< HEAD
      "Defaulting to user installation because normal site-packages is not writeable\n",
      "Requirement already satisfied: neo4j in c:\\users\\simon\\appdata\\roaming\\python\\python39\\site-packages (4.4.3)\n",
      "Requirement already satisfied: pytz in c:\\programdata\\anaconda3\\lib\\site-packages (from neo4j) (2021.3)\n",
=======
      "Requirement already satisfied: nbformat in c:\\users\\info\\appdata\\local\\programs\\python\\python310\\lib\\site-packages (5.4.0)\n",
      "Requirement already satisfied: jupyter-core in c:\\users\\info\\appdata\\roaming\\python\\python310\\site-packages (from nbformat) (4.10.0)\n",
      "Requirement already satisfied: fastjsonschema in c:\\users\\info\\appdata\\local\\programs\\python\\python310\\lib\\site-packages (from nbformat) (2.15.3)\n",
      "Requirement already satisfied: traitlets>=5.1 in c:\\users\\info\\appdata\\roaming\\python\\python310\\site-packages (from nbformat) (5.2.1.post0)\n",
      "Requirement already satisfied: jsonschema>=2.6 in c:\\users\\info\\appdata\\local\\programs\\python\\python310\\lib\\site-packages (from nbformat) (4.5.1)\n",
      "Requirement already satisfied: pyrsistent!=0.17.0,!=0.17.1,!=0.17.2,>=0.14.0 in c:\\users\\info\\appdata\\local\\programs\\python\\python310\\lib\\site-packages (from jsonschema>=2.6->nbformat) (0.18.1)\n",
      "Requirement already satisfied: attrs>=17.4.0 in c:\\users\\info\\appdata\\local\\programs\\python\\python310\\lib\\site-packages (from jsonschema>=2.6->nbformat) (21.4.0)\n",
      "Requirement already satisfied: pywin32>=1.0 in c:\\users\\info\\appdata\\roaming\\python\\python310\\site-packages (from jupyter-core->nbformat) (304)\n",
      "Note: you may need to restart the kernel to use updated packages.\n"
     ]
    },
    {
     "name": "stderr",
     "output_type": "stream",
     "text": [
      "WARNING: You are using pip version 22.0.4; however, version 22.1 is available.\n",
      "You should consider upgrading via the 'c:\\Users\\info\\AppData\\Local\\Programs\\Python\\Python310\\python.exe -m pip install --upgrade pip' command.\n"
     ]
    }
   ],
   "source": [
    "pip install nbformat"
   ]
  },
  {
   "cell_type": "markdown",
   "metadata": {},
   "source": [
    "# execute WalletClustering_AddressIdentification notebook"
   ]
  },
  {
   "cell_type": "code",
   "execution_count": 63,
   "metadata": {},
   "outputs": [
    {
     "name": "stdout",
     "output_type": "stream",
     "text": [
      "Requirement already satisfied: nbformat in c:\\users\\info\\appdata\\local\\programs\\python\\python310\\lib\\site-packages (5.4.0)\n",
      "Requirement already satisfied: fastjsonschema in c:\\users\\info\\appdata\\local\\programs\\python\\python310\\lib\\site-packages (from nbformat) (2.15.3)\n",
      "Requirement already satisfied: jupyter-core in c:\\users\\info\\appdata\\roaming\\python\\python310\\site-packages (from nbformat) (4.10.0)\n",
      "Requirement already satisfied: traitlets>=5.1 in c:\\users\\info\\appdata\\roaming\\python\\python310\\site-packages (from nbformat) (5.2.1.post0)\n",
      "Requirement already satisfied: jsonschema>=2.6 in c:\\users\\info\\appdata\\local\\programs\\python\\python310\\lib\\site-packages (from nbformat) (4.5.1)\n",
      "Requirement already satisfied: pyrsistent!=0.17.0,!=0.17.1,!=0.17.2,>=0.14.0 in c:\\users\\info\\appdata\\local\\programs\\python\\python310\\lib\\site-packages (from jsonschema>=2.6->nbformat) (0.18.1)\n",
      "Requirement already satisfied: attrs>=17.4.0 in c:\\users\\info\\appdata\\local\\programs\\python\\python310\\lib\\site-packages (from jsonschema>=2.6->nbformat) (21.4.0)\n",
      "Requirement already satisfied: pywin32>=1.0 in c:\\users\\info\\appdata\\roaming\\python\\python310\\site-packages (from jupyter-core->nbformat) (304)\n",
      "Note: you may need to restart the kernel to use updated packages.\n"
     ]
    },
    {
     "name": "stderr",
     "output_type": "stream",
     "text": [
      "WARNING: You are using pip version 22.0.4; however, version 22.1 is available.\n",
      "You should consider upgrading via the 'c:\\Users\\info\\AppData\\Local\\Programs\\Python\\Python310\\python.exe -m pip install --upgrade pip' command.\n"
     ]
    },
    {
     "name": "stdout",
     "output_type": "stream",
     "text": [
      "Requirement already satisfied: pandas in c:\\users\\info\\appdata\\local\\programs\\python\\python310\\lib\\site-packages (1.4.2)\n",
      "Requirement already satisfied: python-dateutil>=2.8.1 in c:\\users\\info\\appdata\\roaming\\python\\python310\\site-packages (from pandas) (2.8.2)\n",
      "Requirement already satisfied: pytz>=2020.1 in c:\\users\\info\\appdata\\local\\programs\\python\\python310\\lib\\site-packages (from pandas) (2022.1)\n",
      "Requirement already satisfied: numpy>=1.21.0 in c:\\users\\info\\appdata\\local\\programs\\python\\python310\\lib\\site-packages (from pandas) (1.22.3)\n",
      "Requirement already satisfied: six>=1.5 in c:\\users\\info\\appdata\\roaming\\python\\python310\\site-packages (from python-dateutil>=2.8.1->pandas) (1.16.0)\n",
      "Note: you may need to restart the kernel to use updated packages.\n"
     ]
    },
    {
     "name": "stderr",
     "output_type": "stream",
     "text": [
      "WARNING: You are using pip version 22.0.4; however, version 22.1 is available.\n",
      "You should consider upgrading via the 'c:\\Users\\info\\AppData\\Local\\Programs\\Python\\Python310\\python.exe -m pip install --upgrade pip' command.\n"
     ]
    },
    {
     "name": "stdout",
     "output_type": "stream",
     "text": [
      "Requirement already satisfied: neo4j in c:\\users\\info\\appdata\\local\\programs\\python\\python310\\lib\\site-packages (4.4.3)\n",
      "Requirement already satisfied: pytz in c:\\users\\info\\appdata\\local\\programs\\python\\python310\\lib\\site-packages (from neo4j) (2022.1)\n",
>>>>>>> 1d71f4ae0d4317fda735de2dc910eb3a65b2e850
      "Note: you may need to restart the kernel to use updated packages.\n"
     ]
    }
   ],
   "source": [
    "%run ./WalletClustering_AddressIdentification.ipynb # includes list creation of addresses\n",
    "# methods & variables of notebook can be referenced"
   ]
  },
  {
   "cell_type": "code",
<<<<<<< HEAD
   "execution_count": 3,
   "metadata": {},
   "outputs": [
    {
     "name": "stdout",
     "output_type": "stream",
     "text": [
      "Defaulting to user installation because normal site-packages is not writeable\n",
      "Requirement already satisfied: pandas in c:\\programdata\\anaconda3\\lib\\site-packages (1.4.2)\n",
      "Requirement already satisfied: numpy>=1.18.5 in c:\\programdata\\anaconda3\\lib\\site-packages (from pandas) (1.21.5)\n",
      "Requirement already satisfied: python-dateutil>=2.8.1 in c:\\programdata\\anaconda3\\lib\\site-packages (from pandas) (2.8.2)\n",
      "Requirement already satisfied: pytz>=2020.1 in c:\\programdata\\anaconda3\\lib\\site-packages (from pandas) (2021.3)\n",
      "Requirement already satisfied: six>=1.5 in c:\\programdata\\anaconda3\\lib\\site-packages (from python-dateutil>=2.8.1->pandas) (1.16.0)\n",
      "Note: you may need to restart the kernel to use updated packages.\n"
     ]
    }
   ],
   "source": [
    "pip install pandas"
   ]
  },
  {
   "cell_type": "code",
   "execution_count": 1,
   "metadata": {},
   "outputs": [],
   "source": [
    "from neo4j import GraphDatabase\n",
    "import multiprocessing as mp\n",
    "import pandas as pd\n",
    "import os\n",
    "import pickle"
   ]
  },
  {
   "cell_type": "markdown",
   "metadata": {},
   "source": [
    "# define connector"
   ]
  },
  {
   "cell_type": "code",
   "execution_count": 2,
   "metadata": {},
   "outputs": [],
   "source": [
    "class Neo4jConnection:\n",
    "    \n",
    "    def __init__(self, uri, user, pwd):\n",
    "        self.__uri = uri\n",
    "        self.__user = user\n",
    "        self.__pwd = pwd\n",
    "        self.__driver = None\n",
    "        try:\n",
    "            self.__driver = GraphDatabase.driver(self.__uri, auth=(self.__user, self.__pwd))\n",
    "        except Exception as e:\n",
    "            print(\"Failed to create the driver:\", e)\n",
    "        \n",
    "    def close(self):\n",
    "        if self.__driver is not None:\n",
    "            self.__driver.close()\n",
    "        \n",
    "    def query(self, query, db=None):\n",
    "        assert self.__driver is not None, \"Driver not initialized!\"\n",
    "        session = None\n",
    "        response = None\n",
    "        try: \n",
    "            session = self.__driver.session(database=db) if db is not None else self.__driver.session() \n",
    "            response = list(session.run(query))\n",
    "        except Exception as e:\n",
    "            print(\"Query failed:\", e)\n",
    "        finally: \n",
    "            if session is not None:\n",
    "                session.close()\n",
    "        return response\n",
    "\n",
    "conn = Neo4jConnection(uri=\"neo4j://127.0.0.1:7687\", user=\"team\", pwd=\"F0110wTh€M0n€y\")"
   ]
  },
  {
   "cell_type": "markdown",
   "metadata": {},
   "source": [
    "# query terror addresses"
   ]
  },
  {
   "cell_type": "code",
   "execution_count": 3,
   "metadata": {},
   "outputs": [],
   "source": [
    "#The below code is returning a list of all the addresses that are marked as terror addresses.\n",
    "#Query takes around 10 min\n",
    "\n",
    "def returnTerrorAddresses():\n",
    "\n",
    "    query_string = '''\n",
    "    MATCH (a:Address {isTerror: True})\n",
    "    Return a\n",
    "    '''\n",
    "\n",
    "    response = conn.query(query_string, db='neo4j')\n",
    "    terrorAddresses = [r[0] for r in response]\n",
    "    return terrorAddresses"
   ]
  },
  {
   "cell_type": "code",
   "execution_count": 4,
   "metadata": {},
   "outputs": [],
   "source": [
    "# comment out entire block if old terrorAddressList saved as pickle should be used\n",
    "def createTerrorAddressList():\n",
    "    terrorAddressList = returnTerrorAddresses()\n",
    "\n",
    "    # save terrorAddressList to file\n",
    "\n",
    "    with open('terrorAddressList2.pickle', 'wb') as export:\n",
    "        pickle.dump(terrorAddressList, export)"
   ]
  },
  {
   "cell_type": "code",
   "execution_count": 6,
   "metadata": {},
   "outputs": [
    {
     "data": {
      "text/plain": [
       "[<Node id=741207989 labels=frozenset({'Address'}) properties={'terrorWallet': 'Terror-wallet ID40', 'inDegree': 12, 'address': '12sDU3FyYJXc2oRzE6XXuuhVHCBJvaoCC8', 'outDegree': 5, 'isTerror': True, 'isTerrorMultiInput': True}>,\n",
       " <Node id=749051389 labels=frozenset({'Address'}) properties={'terrorWallet': 'Terror-wallet ID2', 'inDegree': 1, 'address': '1348ThkNoDupq1bws95diMiL8haGs61K7M', 'outDegree': 1, 'isTerror': True, 'isTerrorMultiInput': True}>,\n",
       " <Node id=757802404 labels=frozenset({'Address'}) properties={'inDegree': 25, 'address': '13iQsrwBYdrLpnitG5EV79o3PeHjH8XUBc', 'outDegree': 25, 'isTerror': True}>,\n",
       " <Node id=762338639 labels=frozenset({'Address'}) properties={'terrorWallet': 'Terror-wallet ID4', 'inDegree': 4, 'address': '13Pcmh4dKJE8Aqrhq4ZZwmM1sbKFcMQEEV', 'outDegree': 2, 'isTerror': True, 'isTerrorMultiInput': True}>,\n",
       " <Node id=806486536 labels=frozenset({'Address'}) properties={'terrorWallet': 'Terror-wallet ID5', 'inDegree': 19, 'address': '15K9Zj1AU2hjT3ebZMtWqDsMv3fFxTNwpf', 'outDegree': 4, 'isTerror': True, 'isTerrorMultiInput': True}>,\n",
       " <Node id=813449700 labels=frozenset({'Address'}) properties={'inDegree': 2, 'address': '15soXrE3NJBMkkQhrccXonTT9bpjpPvE67', 'outDegree': 2, 'isTerror': True}>,\n",
       " <Node id=820662063 labels=frozenset({'Address'}) properties={'inDegree': 357, 'address': '164fawNZVwsR5SamAJypvCMtkMx4Xv1B3f', 'outDegree': 357, 'isTerror': True}>,\n",
       " <Node id=847020320 labels=frozenset({'Address'}) properties={'terrorWallet': 'Terror-wallet ID41', 'inDegree': 3, 'address': '179bzhS4FY7qLDza9YjuorhWyXVVYZu2YH', 'outDegree': 1, 'isTerror': True, 'isTerrorMultiInput': True}>,\n",
       " <Node id=859032908 labels=frozenset({'Address'}) properties={'terrorWallet': 'Terror-wallet ID9', 'inDegree': 62, 'address': '17QAWGVpFV4gZ25NQug46e5mBho4uDP6MD', 'outDegree': 57, 'isTerror': True, 'isTerrorMultiInput': True}>,\n",
       " <Node id=863058250 labels=frozenset({'Address'}) properties={'terrorWallet': 'Terror-wallet ID15', 'inDegree': 1, 'address': '17UUXDzPGkMwWrabhtk7YCha88tSoua2Vr', 'outDegree': 1, 'isTerror': True, 'isTerrorMultiInput': True}>,\n",
       " <Node id=897491809 labels=frozenset({'Address'}) properties={'terrorWallet': 'Terror-wallet ID11', 'inDegree': 11313, 'address': '19D1iGzDr7FyAdiy3ZZdxMd6ttHj1kj6WW', 'outDegree': 11272, 'isTerror': True, 'isTerrorMultiInput': True}>,\n",
       " <Node id=913549793 labels=frozenset({'Address'}) properties={'terrorWallet': 'Terror-wallet ID42', 'inDegree': 1, 'address': '19XVEDZCGVMA9WCF1qUayxtnjUnyD7zDDQ', 'outDegree': 1, 'isTerror': True, 'isTerrorMultiInput': True}>,\n",
       " <Node id=917900585 labels=frozenset({'Address'}) properties={'inDegree': 260, 'address': '1A7pDH1EdrkH9YZtsPnc8uzirBFnAN9Eay', 'outDegree': 260, 'isTerror': True}>,\n",
       " <Node id=955476873 labels=frozenset({'Address'}) properties={'terrorWallet': 'Terror-wallet ID14', 'inDegree': 215, 'address': '1BPf9qr7M5xUgNHUYtrQtEKvUKcyERzXao', 'outDegree': 108, 'isTerror': True, 'isTerrorMultiInput': True}>,\n",
       " <Node id=966913509 labels=frozenset({'Address'}) properties={'terrorWallet': 'Terror-wallet ID15', 'inDegree': 1, 'address': '1C6hetVWVXZnS6P2BYBNu5Y1ZJ57JyXGac', 'outDegree': 1, 'isTerror': True, 'isTerrorMultiInput': True}>,\n",
       " <Node id=1006921043 labels=frozenset({'Address'}) properties={'inDegree': 22, 'address': '1DrhHEkv42JVwiDQNi28JFdSuiSGgPNXwP', 'outDegree': 22, 'isTerror': True}>,\n",
       " <Node id=1020130235 labels=frozenset({'Address'}) properties={'terrorWallet': 'Terror-wallet ID43', 'inDegree': 5, 'address': '1EDcKCRypUTFoTZbxDWF9MBAT4W7XUGB32', 'outDegree': 5, 'isTerror': True, 'isTerrorMultiInput': True}>,\n",
       " <Node id=1021966230 labels=frozenset({'Address'}) properties={'inDegree': 21, 'address': '1EfmRn6Bp3cjrTBubaH8MzRRc2ikSjNGXw', 'outDegree': 21, 'isTerror': True}>,\n",
       " <Node id=1028365618 labels=frozenset({'Address'}) properties={'terrorWallet': 'Terror-wallet ID19', 'inDegree': 13, 'address': '1EnX6BuJiGWydqXJT9BN5dSvfLg3QW4Mdz', 'outDegree': 8, 'isTerror': True, 'isTerrorMultiInput': True}>,\n",
       " <Node id=1034243096 labels=frozenset({'Address'}) properties={'terrorWallet': 'Terror-wallet ID20', 'inDegree': 1, 'address': '1EVTZmTMqZPMzGxsug9TXBtvPJZH8dXSCK', 'outDegree': 1, 'isTerror': True, 'isTerrorMultiInput': True}>,\n",
       " <Node id=1037666230 labels=frozenset({'Address'}) properties={'terrorWallet': 'Terror-wallet ID21', 'inDegree': 1, 'address': '1EYya5dfNvuYDwpeboGKBtkXzJcEHMCQXR', 'outDegree': 1, 'isTerror': True, 'isTerrorMultiInput': True}>,\n",
       " <Node id=1067093474 labels=frozenset({'Address'}) properties={'inDegree': 195, 'address': '1GALPyvUDDXqA6H2eHQ9Y1yidfQ6T1Drvn', 'outDegree': 195, 'isTerror': True}>,\n",
       " <Node id=1068475371 labels=frozenset({'Address'}) properties={'terrorWallet': 'Terror-wallet ID44', 'inDegree': 1, 'address': '1GC2SjzCyCwxo1uxTi28oqn9L3mJj7bLPs', 'outDegree': 1, 'isTerror': True, 'isTerrorMultiInput': True}>,\n",
       " <Node id=1071758589 labels=frozenset({'Address'}) properties={'terrorWallet': 'Terror-wallet ID24', 'inDegree': 172, 'address': '1Gg25VzQkqCizXHNSNet4RoysLEe19su4s', 'outDegree': 85, 'isTerror': True, 'isTerrorMultiInput': True}>,\n",
       " <Node id=1128302188 labels=frozenset({'Address'}) properties={'inDegree': 1, 'address': '1JpSBaUwrZaEgmsYka7mzm9t3Z4syyaw7A', 'outDegree': 1, 'isTerror': True}>,\n",
       " <Node id=1171428075 labels=frozenset({'Address'}) properties={'terrorWallet': 'Terror-wallet ID45', 'inDegree': 1, 'address': '1LhRW1msre1cFgT7fBY2BRrZ4ANMPwVj9u', 'outDegree': 1, 'isTerror': True, 'isTerrorMultiInput': True}>,\n",
       " <Node id=1175033615 labels=frozenset({'Address'}) properties={'inDegree': 54, 'address': '1Lm9BCDUKoBUk888DCXewM5p8bJyr83cEp', 'outDegree': 54, 'isTerror': True}>,\n",
       " <Node id=1176868595 labels=frozenset({'Address'}) properties={'terrorWallet': 'Terror-wallet ID37', 'inDegree': 2, 'address': '1LPTaRfyoNwvwAtmYzcetZLjBfUxVkJrr4', 'outDegree': 1, 'isTerror': True, 'isTerrorMultiInput': True}>,\n",
       " <Node id=1199388079 labels=frozenset({'Address'}) properties={'terrorWallet': 'Terror-wallet ID29', 'terror': 'yes', 'address': '1MMaU5nTrFdPZotfwdbv1wWnFjLCTFbpPY', 'inDegree': 17, 'outDegree': 5, 'isTerror': True, 'isTerrorMultiInput': True}>,\n",
       " <Node id=1267051807 labels=frozenset({'Address'}) properties={'inDegree': 128, 'address': '1QH9hfeSSb2iftcVpgpQp3NsFD174crFoW', 'outDegree': 128, 'isTerror': True}>,\n",
       " <Node id=1271459113 labels=frozenset({'Address'}) properties={'terrorWallet': 'Terror-wallet ID31', 'inDegree': 1, 'address': '1uLdz4wXrcXjCy2CqLWuJUiE85Y7SJ1ge', 'outDegree': 1, 'isTerror': True, 'isTerrorMultiInput': True}>,\n",
       " <Node id=1271468184 labels=frozenset({'Address'}) properties={'terrorWallet': 'Terror-wallet ID32', 'inDegree': 1, 'address': '1ULEqcd5te8AWqFpH7HD4KvJZ1AKcJPam', 'outDegree': 1, 'isTerror': True, 'isTerrorMultiInput': True}>,\n",
       " <Node id=1279856802 labels=frozenset({'Address'}) properties={'terrorWallet': 'Terror-wallet ID33', 'inDegree': 1, 'address': '31yqH1jVEPDJ7x9L648Ec5umM2G3zNDoe5', 'outDegree': 1, 'isTerror': True, 'isTerrorMultiInput': True}>,\n",
       " <Node id=1304817078 labels=frozenset({'Address'}) properties={'terrorWallet': 'Terror-wallet ID34', 'inDegree': 859423, 'address': '3422VtS7UtCvXYxoXMVp6eZupR252z85oC', 'outDegree': 859359, 'isTerror': True, 'isTerrorMultiInput': True}>,\n",
       " <Node id=1454556865 labels=frozenset({'Address'}) properties={'terrorWallet': 'Terror-wallet ID35', 'inDegree': 1, 'address': '3FWSkG5NmyXF3rqMav7piXiJUDYzKpgFRT', 'outDegree': 1, 'isTerror': True, 'isTerrorMultiInput': True}>,\n",
       " <Node id=1476243456 labels=frozenset({'Address'}) properties={'terrorWallet': 'Terror-wallet ID36', 'inDegree': 1, 'address': '3HQJ9ta7TmYNRjkbY3nbMGdHzNCCiXs3Ui', 'outDegree': 1, 'isTerror': True, 'isTerrorMultiInput': True}>,\n",
       " <Node id=1523214467 labels=frozenset({'Address'}) properties={'terrorWallet': 'Terror-wallet ID38', 'inDegree': 1, 'address': '3MhdvQccMd5zAh92WrW7SpcHXwfW1uiamD', 'outDegree': 1, 'isTerror': True, 'isTerrorMultiInput': True}>,\n",
       " <Node id=1545471759 labels=frozenset({'Address'}) properties={'inDegree': 27, 'address': '3PajPWymUexhewHPczmLQ8CMYatKAGNj3y', 'outDegree': 27, 'isTerror': True}>,\n",
       " <Node id=1618567583 labels=frozenset({'Address'}) properties={'terrorWallet': 'Terror-wallet ID39', 'address': 'bc1qg9h7s7hn4t9m7uw26gnwfm7xfxk77fkj878sg3', 'inDegree': 1, 'outDegree': 1, 'isTerror': True, 'isTerrorMultiInput': True}>]"
      ]
     },
     "execution_count": 6,
     "metadata": {},
     "output_type": "execute_result"
    }
   ],
   "source": [
    "# use existing blacklist if exists\n",
    "if not os.path.exists('terrorAddressList2.pickle'):\n",
    "    createTerrorAddressList()\n",
    "\n",
    "terrorAddressList = pickle.load(open('terrorAddressList2.pickle', 'rb'))\n",
    "terrorAddressList\n"
   ]
  },
  {
   "cell_type": "markdown",
   "metadata": {},
   "source": [
    "# remove unwanted addresses"
   ]
  },
  {
   "cell_type": "code",
   "execution_count": 6,
   "metadata": {},
   "outputs": [],
   "source": [
    "# # allows blacklist of addresses in json format. json file retrieved with https://github.com/nicotom/walletexplorer_scrapy\n",
    "# \n",
    "# def createBlacklist():\n",
    "#   dirname = os.path.dirname(os.path.realpath('__file__'))\n",
    "#   folder = os.path.join(dirname, 'exchange_addresses\\\\json\\\\')\n",
    "#   \n",
    "#   def flatten(t):\n",
    "#       return [item for sublist in t for item in sublist]\n",
    "#   \n",
    "#   blacklistAddresses = []\n",
    "#   \n",
    "#   # iterate over collection of exchange addresses in csv format to create blacklist\n",
    "#   # attention, lists are not complete yet!\n",
    "#   \n",
    "#   for file in os.listdir(folder):\n",
    "#       df = pd.read_json(os.path.join(folder, file))\n",
    "#       blacklistAddresses.append(df['addresses'].tolist())\n",
    "#       continue\n",
    "#   \n",
    "#   flatten(flatten(blacklistAddresses))"
   ]
  },
  {
   "cell_type": "code",
   "execution_count": 39,
   "metadata": {},
   "outputs": [],
   "source": [
    "# allows blacklist of addresses in csv format\n",
    "blacklistAddresses = []\n",
    "def createBlacklist():\n",
    "    dirname = os.path.dirname(os.path.realpath('__file__'))\n",
    "    folder = os.path.join(dirname, 'exchange_addresses\\\\csv\\\\')\n",
    "    \n",
    "    def flatten(t):\n",
    "        return [item for sublist in t for item in sublist]\n",
    "      \n",
    "    # iterate over collection of exchange addresses in csv format to create blacklist\n",
    "    # attention, lists are not complete yet!\n",
    "    \n",
    "    for file in os.listdir(folder):\n",
    "        df = pd.read_csv(os.path.join(folder, file), header=0)\n",
    "        blacklistAddresses.append(df['hashAdd'].tolist())\n",
    "        continue\n",
    "    \n",
    "    flatten(blacklistAddresses)\n",
    "    \n",
    "    #export blacklistAddresses to file\n",
    "    \n",
    "    with open('blacklistAddresses.pickle', 'wb') as export:\n",
    "        pickle.dump(blacklistAddresses, export)"
   ]
  },
  {
   "cell_type": "code",
   "execution_count": 40,
   "metadata": {},
   "outputs": [],
   "source": [
    "# use existing blacklist if exists\n",
    "if not os.path.exists('blacklistAddresses.pickle'):\n",
    "    createBlacklist()\n",
    "\n",
    "blacklistAddresses = pickle.load(open('blacklistAddresses.pickle', 'rb'))"
   ]
  },
  {
   "cell_type": "code",
   "execution_count": 41,
   "metadata": {},
   "outputs": [],
   "source": [
    "# to be used for removal of exchange addresses\n",
    "interestingAddresses = []\n",
    "def addressCleanUp(addressList, blacklist):\n",
    "    for address in addressList:\n",
    "        if address not in blacklist:\n",
    "            interestingAddresses.append(address)\n",
    "    return interestingAddresses"
   ]
  },
  {
   "cell_type": "code",
   "execution_count": 42,
   "metadata": {},
   "outputs": [],
   "source": [
    "def createAddressesToClusterList():\n",
    "    addressesToCluster = addressCleanUp(terrorAddressList, blacklistAddresses)\n",
    "\n",
    "    # save addressesToCluster to file\n",
    "\n",
    "    with open('addressesToCluster.pickle', 'wb') as export:\n",
    "        pickle.dump(addressesToCluster, export)\n"
   ]
  },
  {
   "cell_type": "code",
   "execution_count": 43,
   "metadata": {},
   "outputs": [],
   "source": [
    "# load addressesToCluster if exists\n",
    "if not os.path.exists('addressesToCluster.pickle'):\n",
    "    createAddressesToClusterList()\n",
    "\n",
    "addressesToCluster = pickle.load(open('addressesToCluster.pickle', 'rb'))\n"
=======
   "execution_count": 66,
   "metadata": {},
   "outputs": [
    {
     "data": {
      "text/plain": [
       "['12sDU3FyYJXc2oRzE6XXuuhVHCBJvaoCC8',\n",
       " '1348ThkNoDupq1bws95diMiL8haGs61K7M',\n",
       " '13Pcmh4dKJE8Aqrhq4ZZwmM1sbKFcMQEEV',\n",
       " '15K9Zj1AU2hjT3ebZMtWqDsMv3fFxTNwpf',\n",
       " '15soXrE3NJBMkkQhrccXonTT9bpjpPvE67',\n",
       " '164fawNZVwsR5SamAJypvCMtkMx4Xv1B3f',\n",
       " '179bzhS4FY7qLDza9YjuorhWyXVVYZu2YH',\n",
       " '17QAWGVpFV4gZ25NQug46e5mBho4uDP6MD',\n",
       " '17UUXDzPGkMwWrabhtk7YCha88tSoua2Vr',\n",
       " '19D1iGzDr7FyAdiy3ZZdxMd6ttHj1kj6WW',\n",
       " '19XVEDZCGVMA9WCF1qUayxtnjUnyD7zDDQ',\n",
       " '1A7pDH1EdrkH9YZtsPnc8uzirBFnAN9Eay',\n",
       " '1BPf9qr7M5xUgNHUYtrQtEKvUKcyERzXao',\n",
       " '1C6hetVWVXZnS6P2BYBNu5Y1ZJ57JyXGac',\n",
       " '1DrhHEkv42JVwiDQNi28JFdSuiSGgPNXwP',\n",
       " '1EDcKCRypUTFoTZbxDWF9MBAT4W7XUGB32',\n",
       " '1EfmRn6Bp3cjrTBubaH8MzRRc2ikSjNGXw',\n",
       " '1EnX6BuJiGWydqXJT9BN5dSvfLg3QW4Mdz',\n",
       " '1EVTZmTMqZPMzGxsug9TXBtvPJZH8dXSCK',\n",
       " '1EYya5dfNvuYDwpeboGKBtkXzJcEHMCQXR',\n",
       " '1GALPyvUDDXqA6H2eHQ9Y1yidfQ6T1Drvn',\n",
       " '1GC2SjzCyCwxo1uxTi28oqn9L3mJj7bLPs',\n",
       " '1Gg25VzQkqCizXHNSNet4RoysLEe19su4s',\n",
       " '1JpSBaUwrZaEgmsYka7mzm9t3Z4syyaw7A',\n",
       " '1LhRW1msre1cFgT7fBY2BRrZ4ANMPwVj9u',\n",
       " '1Lm9BCDUKoBUk888DCXewM5p8bJyr83cEp',\n",
       " '1LPTaRfyoNwvwAtmYzcetZLjBfUxVkJrr4',\n",
       " '1MMaU5nTrFdPZotfwdbv1wWnFjLCTFbpPY',\n",
       " '1QH9hfeSSb2iftcVpgpQp3NsFD174crFoW',\n",
       " '1uLdz4wXrcXjCy2CqLWuJUiE85Y7SJ1ge',\n",
       " '1ULEqcd5te8AWqFpH7HD4KvJZ1AKcJPam',\n",
       " '31yqH1jVEPDJ7x9L648Ec5umM2G3zNDoe5',\n",
       " '3422VtS7UtCvXYxoXMVp6eZupR252z85oC',\n",
       " '3FWSkG5NmyXF3rqMav7piXiJUDYzKpgFRT',\n",
       " '3HQJ9ta7TmYNRjkbY3nbMGdHzNCCiXs3Ui',\n",
       " '3MhdvQccMd5zAh92WrW7SpcHXwfW1uiamD',\n",
       " '3PajPWymUexhewHPczmLQ8CMYatKAGNj3y',\n",
       " 'bc1qg9h7s7hn4t9m7uw26gnwfm7xfxk77fkj878sg3']"
      ]
     },
     "execution_count": 66,
     "metadata": {},
     "output_type": "execute_result"
    }
   ],
   "source": [
    "# only to remember lists\n",
    "terrorAddressList = pickle.load(open('terrorAddressList.pickle', 'rb'))# list of extracted flagged terror addresses\n",
    "blacklistAddresses = pickle.load(open('blacklistAddresses.pickle', 'rb')) # list of exchange wallet addresses\n",
    "addressesToCluster = pickle.load(open('addressesToCluster.pickle', 'rb')) # list of flagged terror addresses without blacklist addresses"
>>>>>>> 1d71f4ae0d4317fda735de2dc910eb3a65b2e850
   ]
  },
  {
   "cell_type": "markdown",
   "metadata": {},
   "source": [
    "# cluster wallets"
   ]
  },
  {
   "cell_type": "code",
   "execution_count": 5,
   "metadata": {},
   "outputs": [],
   "source": [
    "mihTemplate = '''\n",
    "MATCH (:Address{address:\"%s\"})-[:SENDS]->(t:Transaction),\n",
    "(walletMember:Address)-[:SENDS]->(t:Transaction)\n",
    "//where t.outDegree <= 1\n",
    "RETURN DISTINCT walletMember.address\n",
    "'''"
   ]
  },
  {
   "cell_type": "code",
   "execution_count": 6,
   "metadata": {},
   "outputs": [],
   "source": [
    "def multiInputClustering(address, walletAddresses):\n",
    "    response = conn.query(mihTemplate % address, db='neo4j')\n",
    "    newAddresses = [r[0] for r in response]\n",
    "    newAddresses = [a for a in newAddresses if a not in walletAddresses]\n",
    "    walletAddresses += newAddresses\n",
    "    for a in newAddresses:\n",
    "        walletAddresses += multiInputClustering(a, walletAddresses)\n",
    "    return list(set(walletAddresses))"
   ]
  },
  {
   "cell_type": "code",
<<<<<<< HEAD
   "execution_count": 7,
=======
   "execution_count": 67,
>>>>>>> 1d71f4ae0d4317fda735de2dc910eb3a65b2e850
   "metadata": {},
   "outputs": [],
   "source": [
    "#same logic as Jochen's code; However, extremly large bitcoin wallets get excluded sofar because\n",
    "#they take too long to be clustered. Example address: 13iQsrwBYdrLpnitG5EV79o3PeHjH8XUBc has more than 137k\n",
    "#addresses in the wallet according to walletexplorer.com\n",
    "#What should we do with them? I tried to solve it with multiprocessing but didn't help\n",
    "\n",
    "def iterMultiInputClustering(address, walletIndex):\n",
    "    walletString = \"Terror-wallet ID\"\n",
    "    walletAddresses = []\n",
    "    response = conn.query(mihTemplate % address, db='neo4j')\n",
    "    newAddresses = [r[0] for r in response]\n",
    "    walletAddresses = [newAddresses, walletString +str(walletIndex)]\n",
    "    walletAddresses.append(address)\n",
    "    for walletAddress in walletAddresses[0]:\n",
    "        if(len(walletAddresses[0])) >1000:\n",
    "            return [address , \"Too many results\"];\n",
    "        response = conn.query(mihTemplate % walletAddress, db='neo4j')\n",
    "        newAddresses = [r[0] for r in response]\n",
    "        newAddresses = [a for a in newAddresses if a not in walletAddresses[0]]\n",
    "        walletAddresses[0] += newAddresses\n",
    "    return walletAddresses\n",
    "\n",
    "#walletIndex = 1\n",
    "#wallets = iterMultiInputClustering(\"13iQsrwBYdrLpnitG5EV79o3PeHjH8XUBc\", walletIndex)\n",
    "#1EYya5dfNvuYDwpeboGKBtkXzJcEHMCQXR\n",
    "#wallets\n"
   ]
  },
  {
   "cell_type": "code",
   "execution_count": 65,
   "metadata": {},
   "outputs": [],
   "source": [
    "def callInputClustering():\n",
    "    index = 0\n",
    "    walletIndex = 1\n",
    "    #[\"1EYya5dfNvuYDwpeboGKBtkXzJcEHMCQXR\", \"13iQsrwBYdrLpnitG5EV79o3PeHjH8XUBc\", \"1MMaU5nTrFdPZotfwdbv1wWnFjLCTFbpPY\", \"17QAWGVpFV4gZ25NQug46e5mBho4uDP6MD\"]\n",
    "    \n",
    "    terrorCluster = []\n",
    "    while index < len(addressesToCluster):\n",
    "        terrorCluster +=iterMultiInputClustering(addressesToCluster[index], walletIndex)\n",
    "        index +=1 \n",
    "        walletIndex +=1\n",
    "    return terrorCluster"
   ]
  },
  {
   "cell_type": "code",
   "execution_count": 13,
   "metadata": {},
   "outputs": [],
   "source": [
    "input = callInputClustering()\n",
    "\n",
    "def flagAdditionalTerrorAdresses(input):\n",
    "    query = \"\"\"\n",
    "    MATCH (a:Address {address: \"%s\"})\n",
    "    set a.isTerrorMultiInput = True,\n",
    "    a.terrorWallet = \"%s\"\n",
    "    Return a.address\n",
    "    \"\"\"\n",
    "    indexWallets = 0\n",
    "    while indexWallets < len(input):\n",
    "        for address in input[indexWallets]:\n",
    "            walletID = input[indexWallets+1]\n",
    "            conn.query(query % (address, walletID), db='neo4j')\n",
    "        indexWallets += 2\n",
    "\n",
    "# flagAdditionalTerrorAdresses(input)\n",
    "\n"
   ]
  }
 ],
 "metadata": {
  "interpreter": {
   "hash": "1d06fc9ed4b774328ae1669b976a7de461f6c6282277a8a3bb34b5a87421f7ca"
  },
  "kernelspec": {
   "display_name": "Python 3 (ipykernel)",
   "language": "python",
   "name": "python3"
  },
  "language_info": {
   "codemirror_mode": {
    "name": "ipython",
    "version": 3
   },
   "file_extension": ".py",
   "mimetype": "text/x-python",
   "name": "python",
   "nbconvert_exporter": "python",
   "pygments_lexer": "ipython3",
   "version": "3.9.12"
  }
 },
 "nbformat": 4,
 "nbformat_minor": 2
}
